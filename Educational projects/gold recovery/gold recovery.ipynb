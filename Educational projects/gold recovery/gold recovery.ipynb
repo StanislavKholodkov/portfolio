{
 "cells": [
  {
   "cell_type": "markdown",
   "metadata": {
    "toc": true
   },
   "source": [
    "<h1>Содержание<span class=\"tocSkip\"></span></h1>\n",
    "<div class=\"toc\"><ul class=\"toc-item\"><li><span><a href=\"#Подготовка-данных\" data-toc-modified-id=\"Подготовка-данных-1\"><span class=\"toc-item-num\">1&nbsp;&nbsp;</span>Подготовка данных</a></span></li><li><span><a href=\"#Анализ-данных\" data-toc-modified-id=\"Анализ-данных-2\"><span class=\"toc-item-num\">2&nbsp;&nbsp;</span>Анализ данных</a></span></li><li><span><a href=\"#Модель\" data-toc-modified-id=\"Модель-3\"><span class=\"toc-item-num\">3&nbsp;&nbsp;</span>Модель</a></span></li><li><span><a href=\"#Чек-лист-готовности-проекта\" data-toc-modified-id=\"Чек-лист-готовности-проекта-4\"><span class=\"toc-item-num\">4&nbsp;&nbsp;</span>Чек-лист готовности проекта</a></span></li></ul></div>"
   ]
  },
  {
   "cell_type": "markdown",
   "metadata": {},
   "source": [
    "# Восстановление золота из руды"
   ]
  },
  {
   "cell_type": "markdown",
   "metadata": {},
   "source": [
    "Строитстся модель машинного обучения для промышленной компании, разрабатывающая решения для эффективной работы промышленных предприятий. Модель должна предсказать коэффициент восстановления золота из золотосодержащей руды на основе данных с параметрами добычи и очистки. Модель поможет оптимизировать производство, чтобы не запускать предприятие с убыточными характеристиками."
   ]
  },
  {
   "cell_type": "markdown",
   "metadata": {},
   "source": [
    "## Подготовка данных"
   ]
  },
  {
   "cell_type": "code",
   "execution_count": 1,
   "metadata": {},
   "outputs": [],
   "source": [
    "import pandas as pd\n",
    "import numpy as np\n",
    "import seaborn as sns\n",
    "import matplotlib.pyplot as plt\n",
    "from scipy import stats as st\n",
    "pd.set_option('display.max_columns', None)\n",
    "pd.set_option('display.max_rows', None)\n",
    "\n",
    "\n",
    "from sklearn.metrics import mean_absolute_error\n",
    "from sklearn.linear_model import LinearRegression\n",
    "from sklearn.preprocessing import StandardScaler\n",
    "from sklearn.model_selection import cross_val_score\n",
    "from sklearn.pipeline import make_pipeline\n",
    "from sklearn.metrics import fbeta_score, make_scorer\n",
    "from sklearn.ensemble import RandomForestRegressor\n",
    "from sklearn.model_selection import (GridSearchCV, RandomizedSearchCV)\n",
    "from sklearn.dummy import DummyRegressor"
   ]
  },
  {
   "cell_type": "code",
   "execution_count": 2,
   "metadata": {},
   "outputs": [],
   "source": [
    "df_train = pd.read_csv('/datasets/gold_recovery_train_new.csv', index_col=['date'])\n",
    "df_test_features = pd.read_csv('/datasets/gold_recovery_test_new.csv', index_col=['date'])\n",
    "df_full = pd.read_csv('/datasets/gold_recovery_full_new.csv', index_col=['date'])"
   ]
  },
  {
   "cell_type": "code",
   "execution_count": 3,
   "metadata": {},
   "outputs": [],
   "source": [
    "# функция для просмотра общей инфо, пропусков и дубликатов\n",
    "def info(df):\n",
    "    display(df.sample(5))\n",
    "    display(df.info())\n",
    "    display(df.duplicated().sum())\n",
    "    display(df.isna().sum())"
   ]
  },
  {
   "cell_type": "code",
   "execution_count": 4,
   "metadata": {
    "scrolled": true
   },
   "outputs": [
    {
     "data": {
      "text/html": [
       "<div>\n",
       "<style scoped>\n",
       "    .dataframe tbody tr th:only-of-type {\n",
       "        vertical-align: middle;\n",
       "    }\n",
       "\n",
       "    .dataframe tbody tr th {\n",
       "        vertical-align: top;\n",
       "    }\n",
       "\n",
       "    .dataframe thead th {\n",
       "        text-align: right;\n",
       "    }\n",
       "</style>\n",
       "<table border=\"1\" class=\"dataframe\">\n",
       "  <thead>\n",
       "    <tr style=\"text-align: right;\">\n",
       "      <th></th>\n",
       "      <th>final.output.concentrate_ag</th>\n",
       "      <th>final.output.concentrate_pb</th>\n",
       "      <th>final.output.concentrate_sol</th>\n",
       "      <th>final.output.concentrate_au</th>\n",
       "      <th>final.output.recovery</th>\n",
       "      <th>final.output.tail_ag</th>\n",
       "      <th>final.output.tail_pb</th>\n",
       "      <th>final.output.tail_sol</th>\n",
       "      <th>final.output.tail_au</th>\n",
       "      <th>primary_cleaner.input.sulfate</th>\n",
       "      <th>primary_cleaner.input.depressant</th>\n",
       "      <th>primary_cleaner.input.feed_size</th>\n",
       "      <th>primary_cleaner.input.xanthate</th>\n",
       "      <th>primary_cleaner.output.concentrate_ag</th>\n",
       "      <th>primary_cleaner.output.concentrate_pb</th>\n",
       "      <th>primary_cleaner.output.concentrate_sol</th>\n",
       "      <th>primary_cleaner.output.concentrate_au</th>\n",
       "      <th>primary_cleaner.output.tail_ag</th>\n",
       "      <th>primary_cleaner.output.tail_pb</th>\n",
       "      <th>primary_cleaner.output.tail_sol</th>\n",
       "      <th>primary_cleaner.output.tail_au</th>\n",
       "      <th>primary_cleaner.state.floatbank8_a_air</th>\n",
       "      <th>primary_cleaner.state.floatbank8_a_level</th>\n",
       "      <th>primary_cleaner.state.floatbank8_b_air</th>\n",
       "      <th>primary_cleaner.state.floatbank8_b_level</th>\n",
       "      <th>primary_cleaner.state.floatbank8_c_air</th>\n",
       "      <th>primary_cleaner.state.floatbank8_c_level</th>\n",
       "      <th>primary_cleaner.state.floatbank8_d_air</th>\n",
       "      <th>primary_cleaner.state.floatbank8_d_level</th>\n",
       "      <th>rougher.calculation.sulfate_to_au_concentrate</th>\n",
       "      <th>rougher.calculation.floatbank10_sulfate_to_au_feed</th>\n",
       "      <th>rougher.calculation.floatbank11_sulfate_to_au_feed</th>\n",
       "      <th>rougher.calculation.au_pb_ratio</th>\n",
       "      <th>rougher.input.feed_ag</th>\n",
       "      <th>rougher.input.feed_pb</th>\n",
       "      <th>rougher.input.feed_rate</th>\n",
       "      <th>rougher.input.feed_size</th>\n",
       "      <th>rougher.input.feed_sol</th>\n",
       "      <th>rougher.input.feed_au</th>\n",
       "      <th>rougher.input.floatbank10_sulfate</th>\n",
       "      <th>rougher.input.floatbank10_xanthate</th>\n",
       "      <th>rougher.input.floatbank11_sulfate</th>\n",
       "      <th>rougher.input.floatbank11_xanthate</th>\n",
       "      <th>rougher.output.concentrate_ag</th>\n",
       "      <th>rougher.output.concentrate_pb</th>\n",
       "      <th>rougher.output.concentrate_sol</th>\n",
       "      <th>rougher.output.concentrate_au</th>\n",
       "      <th>rougher.output.recovery</th>\n",
       "      <th>rougher.output.tail_ag</th>\n",
       "      <th>rougher.output.tail_pb</th>\n",
       "      <th>rougher.output.tail_sol</th>\n",
       "      <th>rougher.output.tail_au</th>\n",
       "      <th>rougher.state.floatbank10_a_air</th>\n",
       "      <th>rougher.state.floatbank10_a_level</th>\n",
       "      <th>rougher.state.floatbank10_b_air</th>\n",
       "      <th>rougher.state.floatbank10_b_level</th>\n",
       "      <th>rougher.state.floatbank10_c_air</th>\n",
       "      <th>rougher.state.floatbank10_c_level</th>\n",
       "      <th>rougher.state.floatbank10_d_air</th>\n",
       "      <th>rougher.state.floatbank10_d_level</th>\n",
       "      <th>rougher.state.floatbank10_e_air</th>\n",
       "      <th>rougher.state.floatbank10_e_level</th>\n",
       "      <th>rougher.state.floatbank10_f_air</th>\n",
       "      <th>rougher.state.floatbank10_f_level</th>\n",
       "      <th>secondary_cleaner.output.tail_ag</th>\n",
       "      <th>secondary_cleaner.output.tail_pb</th>\n",
       "      <th>secondary_cleaner.output.tail_sol</th>\n",
       "      <th>secondary_cleaner.output.tail_au</th>\n",
       "      <th>secondary_cleaner.state.floatbank2_a_air</th>\n",
       "      <th>secondary_cleaner.state.floatbank2_a_level</th>\n",
       "      <th>secondary_cleaner.state.floatbank2_b_air</th>\n",
       "      <th>secondary_cleaner.state.floatbank2_b_level</th>\n",
       "      <th>secondary_cleaner.state.floatbank3_a_air</th>\n",
       "      <th>secondary_cleaner.state.floatbank3_a_level</th>\n",
       "      <th>secondary_cleaner.state.floatbank3_b_air</th>\n",
       "      <th>secondary_cleaner.state.floatbank3_b_level</th>\n",
       "      <th>secondary_cleaner.state.floatbank4_a_air</th>\n",
       "      <th>secondary_cleaner.state.floatbank4_a_level</th>\n",
       "      <th>secondary_cleaner.state.floatbank4_b_air</th>\n",
       "      <th>secondary_cleaner.state.floatbank4_b_level</th>\n",
       "      <th>secondary_cleaner.state.floatbank5_a_air</th>\n",
       "      <th>secondary_cleaner.state.floatbank5_a_level</th>\n",
       "      <th>secondary_cleaner.state.floatbank5_b_air</th>\n",
       "      <th>secondary_cleaner.state.floatbank5_b_level</th>\n",
       "      <th>secondary_cleaner.state.floatbank6_a_air</th>\n",
       "      <th>secondary_cleaner.state.floatbank6_a_level</th>\n",
       "    </tr>\n",
       "    <tr>\n",
       "      <th>date</th>\n",
       "      <th></th>\n",
       "      <th></th>\n",
       "      <th></th>\n",
       "      <th></th>\n",
       "      <th></th>\n",
       "      <th></th>\n",
       "      <th></th>\n",
       "      <th></th>\n",
       "      <th></th>\n",
       "      <th></th>\n",
       "      <th></th>\n",
       "      <th></th>\n",
       "      <th></th>\n",
       "      <th></th>\n",
       "      <th></th>\n",
       "      <th></th>\n",
       "      <th></th>\n",
       "      <th></th>\n",
       "      <th></th>\n",
       "      <th></th>\n",
       "      <th></th>\n",
       "      <th></th>\n",
       "      <th></th>\n",
       "      <th></th>\n",
       "      <th></th>\n",
       "      <th></th>\n",
       "      <th></th>\n",
       "      <th></th>\n",
       "      <th></th>\n",
       "      <th></th>\n",
       "      <th></th>\n",
       "      <th></th>\n",
       "      <th></th>\n",
       "      <th></th>\n",
       "      <th></th>\n",
       "      <th></th>\n",
       "      <th></th>\n",
       "      <th></th>\n",
       "      <th></th>\n",
       "      <th></th>\n",
       "      <th></th>\n",
       "      <th></th>\n",
       "      <th></th>\n",
       "      <th></th>\n",
       "      <th></th>\n",
       "      <th></th>\n",
       "      <th></th>\n",
       "      <th></th>\n",
       "      <th></th>\n",
       "      <th></th>\n",
       "      <th></th>\n",
       "      <th></th>\n",
       "      <th></th>\n",
       "      <th></th>\n",
       "      <th></th>\n",
       "      <th></th>\n",
       "      <th></th>\n",
       "      <th></th>\n",
       "      <th></th>\n",
       "      <th></th>\n",
       "      <th></th>\n",
       "      <th></th>\n",
       "      <th></th>\n",
       "      <th></th>\n",
       "      <th></th>\n",
       "      <th></th>\n",
       "      <th></th>\n",
       "      <th></th>\n",
       "      <th></th>\n",
       "      <th></th>\n",
       "      <th></th>\n",
       "      <th></th>\n",
       "      <th></th>\n",
       "      <th></th>\n",
       "      <th></th>\n",
       "      <th></th>\n",
       "      <th></th>\n",
       "      <th></th>\n",
       "      <th></th>\n",
       "      <th></th>\n",
       "      <th></th>\n",
       "      <th></th>\n",
       "      <th></th>\n",
       "      <th></th>\n",
       "      <th></th>\n",
       "      <th></th>\n",
       "    </tr>\n",
       "  </thead>\n",
       "  <tbody>\n",
       "    <tr>\n",
       "      <th>2016-02-22 02:00:00</th>\n",
       "      <td>6.260931</td>\n",
       "      <td>11.496018</td>\n",
       "      <td>11.144682</td>\n",
       "      <td>40.444686</td>\n",
       "      <td>75.452401</td>\n",
       "      <td>13.150998</td>\n",
       "      <td>2.361547</td>\n",
       "      <td>9.399365</td>\n",
       "      <td>3.220474</td>\n",
       "      <td>170.241420</td>\n",
       "      <td>12.414271</td>\n",
       "      <td>7.90</td>\n",
       "      <td>0.730119</td>\n",
       "      <td>10.289249</td>\n",
       "      <td>8.575471</td>\n",
       "      <td>15.980221</td>\n",
       "      <td>32.570584</td>\n",
       "      <td>16.597771</td>\n",
       "      <td>3.667769</td>\n",
       "      <td>8.303999</td>\n",
       "      <td>3.798097</td>\n",
       "      <td>1749.246450</td>\n",
       "      <td>-399.596326</td>\n",
       "      <td>1750.538802</td>\n",
       "      <td>-400.660218</td>\n",
       "      <td>1749.497991</td>\n",
       "      <td>-399.539807</td>\n",
       "      <td>1422.453822</td>\n",
       "      <td>-399.774111</td>\n",
       "      <td>49017.392318</td>\n",
       "      <td>3195.837055</td>\n",
       "      <td>3190.840029</td>\n",
       "      <td>2.272769</td>\n",
       "      <td>12.522556</td>\n",
       "      <td>4.637387</td>\n",
       "      <td>349.926428</td>\n",
       "      <td>41.044682</td>\n",
       "      <td>29.711695</td>\n",
       "      <td>10.539710</td>\n",
       "      <td>12.013361</td>\n",
       "      <td>6.698250</td>\n",
       "      <td>12.034844</td>\n",
       "      <td>6.700693</td>\n",
       "      <td>12.642302</td>\n",
       "      <td>8.193063</td>\n",
       "      <td>28.200364</td>\n",
       "      <td>20.438642</td>\n",
       "      <td>92.490455</td>\n",
       "      <td>5.473868</td>\n",
       "      <td>0.251788</td>\n",
       "      <td>11.991124</td>\n",
       "      <td>1.513212</td>\n",
       "      <td>1099.660927</td>\n",
       "      <td>-500.050203</td>\n",
       "      <td>1650.126200</td>\n",
       "      <td>-500.180512</td>\n",
       "      <td>1650.338471</td>\n",
       "      <td>-501.160592</td>\n",
       "      <td>1650.326596</td>\n",
       "      <td>-500.083136</td>\n",
       "      <td>1601.422507</td>\n",
       "      <td>-500.091458</td>\n",
       "      <td>1599.911200</td>\n",
       "      <td>-501.031698</td>\n",
       "      <td>14.974971</td>\n",
       "      <td>5.141267</td>\n",
       "      <td>10.962387</td>\n",
       "      <td>3.781047</td>\n",
       "      <td>30.980837</td>\n",
       "      <td>-400.087439</td>\n",
       "      <td>28.973111</td>\n",
       "      <td>-400.291169</td>\n",
       "      <td>30.972687</td>\n",
       "      <td>-399.588694</td>\n",
       "      <td>29.026510</td>\n",
       "      <td>-400.258019</td>\n",
       "      <td>14.072282</td>\n",
       "      <td>-400.118030</td>\n",
       "      <td>11.957044</td>\n",
       "      <td>-399.172670</td>\n",
       "      <td>11.961944</td>\n",
       "      <td>-400.081369</td>\n",
       "      <td>10.105059</td>\n",
       "      <td>-399.556166</td>\n",
       "      <td>30.030947</td>\n",
       "      <td>-399.519059</td>\n",
       "    </tr>\n",
       "    <tr>\n",
       "      <th>2017-01-04 11:59:59</th>\n",
       "      <td>7.964490</td>\n",
       "      <td>6.506338</td>\n",
       "      <td>14.350105</td>\n",
       "      <td>43.435587</td>\n",
       "      <td>70.704958</td>\n",
       "      <td>9.215907</td>\n",
       "      <td>1.778300</td>\n",
       "      <td>10.792683</td>\n",
       "      <td>2.559287</td>\n",
       "      <td>108.748531</td>\n",
       "      <td>9.906053</td>\n",
       "      <td>8.01</td>\n",
       "      <td>1.190132</td>\n",
       "      <td>10.188353</td>\n",
       "      <td>6.120947</td>\n",
       "      <td>9.470609</td>\n",
       "      <td>32.648031</td>\n",
       "      <td>15.605214</td>\n",
       "      <td>2.384445</td>\n",
       "      <td>8.347236</td>\n",
       "      <td>2.628677</td>\n",
       "      <td>1597.263919</td>\n",
       "      <td>-500.335114</td>\n",
       "      <td>1599.993443</td>\n",
       "      <td>-499.890162</td>\n",
       "      <td>1601.077790</td>\n",
       "      <td>-500.101003</td>\n",
       "      <td>1597.963735</td>\n",
       "      <td>-500.408411</td>\n",
       "      <td>34060.475919</td>\n",
       "      <td>2798.273480</td>\n",
       "      <td>2798.301866</td>\n",
       "      <td>4.789602</td>\n",
       "      <td>8.746677</td>\n",
       "      <td>1.596907</td>\n",
       "      <td>498.861527</td>\n",
       "      <td>47.563020</td>\n",
       "      <td>37.531584</td>\n",
       "      <td>7.648548</td>\n",
       "      <td>10.714062</td>\n",
       "      <td>6.305640</td>\n",
       "      <td>10.715593</td>\n",
       "      <td>6.303207</td>\n",
       "      <td>15.883369</td>\n",
       "      <td>5.358517</td>\n",
       "      <td>30.709479</td>\n",
       "      <td>20.117728</td>\n",
       "      <td>86.233452</td>\n",
       "      <td>5.962768</td>\n",
       "      <td>0.532576</td>\n",
       "      <td>24.189957</td>\n",
       "      <td>1.566528</td>\n",
       "      <td>908.355974</td>\n",
       "      <td>-500.163533</td>\n",
       "      <td>1497.202074</td>\n",
       "      <td>-499.803828</td>\n",
       "      <td>1499.189109</td>\n",
       "      <td>-499.266856</td>\n",
       "      <td>1398.816346</td>\n",
       "      <td>-500.027783</td>\n",
       "      <td>1098.892992</td>\n",
       "      <td>-500.255804</td>\n",
       "      <td>997.420359</td>\n",
       "      <td>-499.302763</td>\n",
       "      <td>13.703345</td>\n",
       "      <td>1.997877</td>\n",
       "      <td>10.944320</td>\n",
       "      <td>2.227012</td>\n",
       "      <td>29.978192</td>\n",
       "      <td>-499.905122</td>\n",
       "      <td>28.140975</td>\n",
       "      <td>-500.092475</td>\n",
       "      <td>34.989154</td>\n",
       "      <td>-500.019241</td>\n",
       "      <td>32.017337</td>\n",
       "      <td>-499.995753</td>\n",
       "      <td>16.991318</td>\n",
       "      <td>-506.926687</td>\n",
       "      <td>14.957346</td>\n",
       "      <td>-493.084429</td>\n",
       "      <td>15.660796</td>\n",
       "      <td>-502.952922</td>\n",
       "      <td>7.985485</td>\n",
       "      <td>-401.183066</td>\n",
       "      <td>20.002007</td>\n",
       "      <td>-600.075982</td>\n",
       "    </tr>\n",
       "    <tr>\n",
       "      <th>2018-05-06 11:59:59</th>\n",
       "      <td>5.185233</td>\n",
       "      <td>10.647326</td>\n",
       "      <td>6.844256</td>\n",
       "      <td>44.800963</td>\n",
       "      <td>68.277442</td>\n",
       "      <td>7.649384</td>\n",
       "      <td>1.458749</td>\n",
       "      <td>9.683655</td>\n",
       "      <td>1.765490</td>\n",
       "      <td>98.193148</td>\n",
       "      <td>6.986185</td>\n",
       "      <td>5.78</td>\n",
       "      <td>1.191396</td>\n",
       "      <td>9.002648</td>\n",
       "      <td>10.926997</td>\n",
       "      <td>9.853209</td>\n",
       "      <td>30.109248</td>\n",
       "      <td>17.150495</td>\n",
       "      <td>3.561717</td>\n",
       "      <td>5.216402</td>\n",
       "      <td>2.536751</td>\n",
       "      <td>1699.540395</td>\n",
       "      <td>-499.194963</td>\n",
       "      <td>1699.382596</td>\n",
       "      <td>-500.710552</td>\n",
       "      <td>1702.039897</td>\n",
       "      <td>-499.142186</td>\n",
       "      <td>1701.777559</td>\n",
       "      <td>-499.227885</td>\n",
       "      <td>46961.308249</td>\n",
       "      <td>2494.843752</td>\n",
       "      <td>2493.658368</td>\n",
       "      <td>2.181037</td>\n",
       "      <td>6.337438</td>\n",
       "      <td>2.352216</td>\n",
       "      <td>550.836646</td>\n",
       "      <td>77.181825</td>\n",
       "      <td>41.335176</td>\n",
       "      <td>5.130270</td>\n",
       "      <td>6.473832</td>\n",
       "      <td>7.199758</td>\n",
       "      <td>6.471875</td>\n",
       "      <td>7.196009</td>\n",
       "      <td>11.223105</td>\n",
       "      <td>7.592689</td>\n",
       "      <td>25.341335</td>\n",
       "      <td>17.398296</td>\n",
       "      <td>84.217875</td>\n",
       "      <td>3.374451</td>\n",
       "      <td>0.532228</td>\n",
       "      <td>20.181378</td>\n",
       "      <td>1.077163</td>\n",
       "      <td>1198.517912</td>\n",
       "      <td>-299.851868</td>\n",
       "      <td>1296.481914</td>\n",
       "      <td>-498.880524</td>\n",
       "      <td>1197.682111</td>\n",
       "      <td>-500.419324</td>\n",
       "      <td>1206.145993</td>\n",
       "      <td>-498.330434</td>\n",
       "      <td>1100.045459</td>\n",
       "      <td>-499.430924</td>\n",
       "      <td>1100.626380</td>\n",
       "      <td>-500.463107</td>\n",
       "      <td>18.285422</td>\n",
       "      <td>7.384043</td>\n",
       "      <td>NaN</td>\n",
       "      <td>3.485272</td>\n",
       "      <td>NaN</td>\n",
       "      <td>-499.882508</td>\n",
       "      <td>28.037443</td>\n",
       "      <td>-499.836077</td>\n",
       "      <td>35.941423</td>\n",
       "      <td>-499.600848</td>\n",
       "      <td>24.978672</td>\n",
       "      <td>-499.620264</td>\n",
       "      <td>30.007510</td>\n",
       "      <td>-501.431015</td>\n",
       "      <td>20.082548</td>\n",
       "      <td>-500.560696</td>\n",
       "      <td>24.979380</td>\n",
       "      <td>-499.830412</td>\n",
       "      <td>22.702834</td>\n",
       "      <td>-499.910955</td>\n",
       "      <td>24.965239</td>\n",
       "      <td>-499.394632</td>\n",
       "    </tr>\n",
       "    <tr>\n",
       "      <th>2016-06-15 18:59:59</th>\n",
       "      <td>4.894393</td>\n",
       "      <td>10.592428</td>\n",
       "      <td>7.164982</td>\n",
       "      <td>43.553777</td>\n",
       "      <td>71.669707</td>\n",
       "      <td>7.145329</td>\n",
       "      <td>0.816064</td>\n",
       "      <td>10.027493</td>\n",
       "      <td>1.637585</td>\n",
       "      <td>70.436727</td>\n",
       "      <td>5.485128</td>\n",
       "      <td>7.70</td>\n",
       "      <td>0.596086</td>\n",
       "      <td>7.366172</td>\n",
       "      <td>3.523221</td>\n",
       "      <td>2.676559</td>\n",
       "      <td>34.834824</td>\n",
       "      <td>12.696975</td>\n",
       "      <td>1.140283</td>\n",
       "      <td>7.004558</td>\n",
       "      <td>3.359846</td>\n",
       "      <td>1736.872395</td>\n",
       "      <td>-450.556984</td>\n",
       "      <td>1802.751803</td>\n",
       "      <td>-449.090862</td>\n",
       "      <td>1799.085890</td>\n",
       "      <td>-450.803043</td>\n",
       "      <td>1799.314160</td>\n",
       "      <td>-449.795670</td>\n",
       "      <td>33342.728269</td>\n",
       "      <td>3611.384241</td>\n",
       "      <td>3619.243780</td>\n",
       "      <td>3.718251</td>\n",
       "      <td>6.457345</td>\n",
       "      <td>1.419558</td>\n",
       "      <td>513.686832</td>\n",
       "      <td>55.842132</td>\n",
       "      <td>29.150440</td>\n",
       "      <td>5.278272</td>\n",
       "      <td>10.006289</td>\n",
       "      <td>5.001732</td>\n",
       "      <td>9.997658</td>\n",
       "      <td>5.002432</td>\n",
       "      <td>9.966032</td>\n",
       "      <td>5.841089</td>\n",
       "      <td>23.353601</td>\n",
       "      <td>18.193984</td>\n",
       "      <td>78.338375</td>\n",
       "      <td>5.161861</td>\n",
       "      <td>0.411477</td>\n",
       "      <td>16.624693</td>\n",
       "      <td>1.479633</td>\n",
       "      <td>1000.714576</td>\n",
       "      <td>-499.710948</td>\n",
       "      <td>1399.773099</td>\n",
       "      <td>-300.254433</td>\n",
       "      <td>1398.762328</td>\n",
       "      <td>-400.855753</td>\n",
       "      <td>1399.520929</td>\n",
       "      <td>-399.867432</td>\n",
       "      <td>1400.261386</td>\n",
       "      <td>-399.807336</td>\n",
       "      <td>1400.103626</td>\n",
       "      <td>-401.235679</td>\n",
       "      <td>11.354988</td>\n",
       "      <td>2.504699</td>\n",
       "      <td>9.580655</td>\n",
       "      <td>3.122348</td>\n",
       "      <td>30.081161</td>\n",
       "      <td>-500.670244</td>\n",
       "      <td>28.061585</td>\n",
       "      <td>-499.918822</td>\n",
       "      <td>27.932524</td>\n",
       "      <td>-500.722032</td>\n",
       "      <td>27.995813</td>\n",
       "      <td>-499.719725</td>\n",
       "      <td>15.992559</td>\n",
       "      <td>-500.038099</td>\n",
       "      <td>13.939010</td>\n",
       "      <td>-499.215316</td>\n",
       "      <td>13.986066</td>\n",
       "      <td>-499.956984</td>\n",
       "      <td>11.979204</td>\n",
       "      <td>-499.748329</td>\n",
       "      <td>25.024614</td>\n",
       "      <td>-499.157783</td>\n",
       "    </tr>\n",
       "    <tr>\n",
       "      <th>2018-04-10 00:59:59</th>\n",
       "      <td>3.868827</td>\n",
       "      <td>9.635415</td>\n",
       "      <td>8.066815</td>\n",
       "      <td>48.165385</td>\n",
       "      <td>72.732139</td>\n",
       "      <td>10.105962</td>\n",
       "      <td>1.962170</td>\n",
       "      <td>7.777816</td>\n",
       "      <td>1.642444</td>\n",
       "      <td>128.033590</td>\n",
       "      <td>7.981661</td>\n",
       "      <td>6.99</td>\n",
       "      <td>1.151430</td>\n",
       "      <td>6.900627</td>\n",
       "      <td>9.807109</td>\n",
       "      <td>7.179178</td>\n",
       "      <td>32.384292</td>\n",
       "      <td>16.621157</td>\n",
       "      <td>3.633778</td>\n",
       "      <td>5.698270</td>\n",
       "      <td>2.071376</td>\n",
       "      <td>1632.842761</td>\n",
       "      <td>-500.970178</td>\n",
       "      <td>1696.821526</td>\n",
       "      <td>-499.080041</td>\n",
       "      <td>1699.495238</td>\n",
       "      <td>-500.854443</td>\n",
       "      <td>1697.037171</td>\n",
       "      <td>-499.885638</td>\n",
       "      <td>42239.102421</td>\n",
       "      <td>2517.808964</td>\n",
       "      <td>2518.227421</td>\n",
       "      <td>2.641019</td>\n",
       "      <td>6.606485</td>\n",
       "      <td>2.090551</td>\n",
       "      <td>559.731622</td>\n",
       "      <td>66.511494</td>\n",
       "      <td>37.791057</td>\n",
       "      <td>5.521184</td>\n",
       "      <td>7.638270</td>\n",
       "      <td>7.103495</td>\n",
       "      <td>7.640118</td>\n",
       "      <td>7.098917</td>\n",
       "      <td>11.511276</td>\n",
       "      <td>6.965969</td>\n",
       "      <td>23.587561</td>\n",
       "      <td>15.950787</td>\n",
       "      <td>93.123530</td>\n",
       "      <td>4.240774</td>\n",
       "      <td>0.419327</td>\n",
       "      <td>19.781514</td>\n",
       "      <td>0.560252</td>\n",
       "      <td>1399.662639</td>\n",
       "      <td>-299.921440</td>\n",
       "      <td>1202.343721</td>\n",
       "      <td>-499.639209</td>\n",
       "      <td>1099.540183</td>\n",
       "      <td>-500.522524</td>\n",
       "      <td>1059.209567</td>\n",
       "      <td>-499.540312</td>\n",
       "      <td>1050.223551</td>\n",
       "      <td>-499.826559</td>\n",
       "      <td>1002.159459</td>\n",
       "      <td>-500.126645</td>\n",
       "      <td>15.409572</td>\n",
       "      <td>7.067211</td>\n",
       "      <td>NaN</td>\n",
       "      <td>3.221185</td>\n",
       "      <td>29.955714</td>\n",
       "      <td>-500.363475</td>\n",
       "      <td>27.936669</td>\n",
       "      <td>-500.073745</td>\n",
       "      <td>28.005079</td>\n",
       "      <td>-500.217522</td>\n",
       "      <td>19.970113</td>\n",
       "      <td>-499.955863</td>\n",
       "      <td>23.002111</td>\n",
       "      <td>-500.459938</td>\n",
       "      <td>16.013154</td>\n",
       "      <td>-499.790093</td>\n",
       "      <td>18.010505</td>\n",
       "      <td>-500.013009</td>\n",
       "      <td>11.963108</td>\n",
       "      <td>-500.060104</td>\n",
       "      <td>13.011019</td>\n",
       "      <td>-500.047326</td>\n",
       "    </tr>\n",
       "  </tbody>\n",
       "</table>\n",
       "</div>"
      ],
      "text/plain": [
       "                     final.output.concentrate_ag  final.output.concentrate_pb  \\\n",
       "date                                                                            \n",
       "2016-02-22 02:00:00                     6.260931                    11.496018   \n",
       "2017-01-04 11:59:59                     7.964490                     6.506338   \n",
       "2018-05-06 11:59:59                     5.185233                    10.647326   \n",
       "2016-06-15 18:59:59                     4.894393                    10.592428   \n",
       "2018-04-10 00:59:59                     3.868827                     9.635415   \n",
       "\n",
       "                     final.output.concentrate_sol  \\\n",
       "date                                                \n",
       "2016-02-22 02:00:00                     11.144682   \n",
       "2017-01-04 11:59:59                     14.350105   \n",
       "2018-05-06 11:59:59                      6.844256   \n",
       "2016-06-15 18:59:59                      7.164982   \n",
       "2018-04-10 00:59:59                      8.066815   \n",
       "\n",
       "                     final.output.concentrate_au  final.output.recovery  \\\n",
       "date                                                                      \n",
       "2016-02-22 02:00:00                    40.444686              75.452401   \n",
       "2017-01-04 11:59:59                    43.435587              70.704958   \n",
       "2018-05-06 11:59:59                    44.800963              68.277442   \n",
       "2016-06-15 18:59:59                    43.553777              71.669707   \n",
       "2018-04-10 00:59:59                    48.165385              72.732139   \n",
       "\n",
       "                     final.output.tail_ag  final.output.tail_pb  \\\n",
       "date                                                              \n",
       "2016-02-22 02:00:00             13.150998              2.361547   \n",
       "2017-01-04 11:59:59              9.215907              1.778300   \n",
       "2018-05-06 11:59:59              7.649384              1.458749   \n",
       "2016-06-15 18:59:59              7.145329              0.816064   \n",
       "2018-04-10 00:59:59             10.105962              1.962170   \n",
       "\n",
       "                     final.output.tail_sol  final.output.tail_au  \\\n",
       "date                                                               \n",
       "2016-02-22 02:00:00               9.399365              3.220474   \n",
       "2017-01-04 11:59:59              10.792683              2.559287   \n",
       "2018-05-06 11:59:59               9.683655              1.765490   \n",
       "2016-06-15 18:59:59              10.027493              1.637585   \n",
       "2018-04-10 00:59:59               7.777816              1.642444   \n",
       "\n",
       "                     primary_cleaner.input.sulfate  \\\n",
       "date                                                 \n",
       "2016-02-22 02:00:00                     170.241420   \n",
       "2017-01-04 11:59:59                     108.748531   \n",
       "2018-05-06 11:59:59                      98.193148   \n",
       "2016-06-15 18:59:59                      70.436727   \n",
       "2018-04-10 00:59:59                     128.033590   \n",
       "\n",
       "                     primary_cleaner.input.depressant  \\\n",
       "date                                                    \n",
       "2016-02-22 02:00:00                         12.414271   \n",
       "2017-01-04 11:59:59                          9.906053   \n",
       "2018-05-06 11:59:59                          6.986185   \n",
       "2016-06-15 18:59:59                          5.485128   \n",
       "2018-04-10 00:59:59                          7.981661   \n",
       "\n",
       "                     primary_cleaner.input.feed_size  \\\n",
       "date                                                   \n",
       "2016-02-22 02:00:00                             7.90   \n",
       "2017-01-04 11:59:59                             8.01   \n",
       "2018-05-06 11:59:59                             5.78   \n",
       "2016-06-15 18:59:59                             7.70   \n",
       "2018-04-10 00:59:59                             6.99   \n",
       "\n",
       "                     primary_cleaner.input.xanthate  \\\n",
       "date                                                  \n",
       "2016-02-22 02:00:00                        0.730119   \n",
       "2017-01-04 11:59:59                        1.190132   \n",
       "2018-05-06 11:59:59                        1.191396   \n",
       "2016-06-15 18:59:59                        0.596086   \n",
       "2018-04-10 00:59:59                        1.151430   \n",
       "\n",
       "                     primary_cleaner.output.concentrate_ag  \\\n",
       "date                                                         \n",
       "2016-02-22 02:00:00                              10.289249   \n",
       "2017-01-04 11:59:59                              10.188353   \n",
       "2018-05-06 11:59:59                               9.002648   \n",
       "2016-06-15 18:59:59                               7.366172   \n",
       "2018-04-10 00:59:59                               6.900627   \n",
       "\n",
       "                     primary_cleaner.output.concentrate_pb  \\\n",
       "date                                                         \n",
       "2016-02-22 02:00:00                               8.575471   \n",
       "2017-01-04 11:59:59                               6.120947   \n",
       "2018-05-06 11:59:59                              10.926997   \n",
       "2016-06-15 18:59:59                               3.523221   \n",
       "2018-04-10 00:59:59                               9.807109   \n",
       "\n",
       "                     primary_cleaner.output.concentrate_sol  \\\n",
       "date                                                          \n",
       "2016-02-22 02:00:00                               15.980221   \n",
       "2017-01-04 11:59:59                                9.470609   \n",
       "2018-05-06 11:59:59                                9.853209   \n",
       "2016-06-15 18:59:59                                2.676559   \n",
       "2018-04-10 00:59:59                                7.179178   \n",
       "\n",
       "                     primary_cleaner.output.concentrate_au  \\\n",
       "date                                                         \n",
       "2016-02-22 02:00:00                              32.570584   \n",
       "2017-01-04 11:59:59                              32.648031   \n",
       "2018-05-06 11:59:59                              30.109248   \n",
       "2016-06-15 18:59:59                              34.834824   \n",
       "2018-04-10 00:59:59                              32.384292   \n",
       "\n",
       "                     primary_cleaner.output.tail_ag  \\\n",
       "date                                                  \n",
       "2016-02-22 02:00:00                       16.597771   \n",
       "2017-01-04 11:59:59                       15.605214   \n",
       "2018-05-06 11:59:59                       17.150495   \n",
       "2016-06-15 18:59:59                       12.696975   \n",
       "2018-04-10 00:59:59                       16.621157   \n",
       "\n",
       "                     primary_cleaner.output.tail_pb  \\\n",
       "date                                                  \n",
       "2016-02-22 02:00:00                        3.667769   \n",
       "2017-01-04 11:59:59                        2.384445   \n",
       "2018-05-06 11:59:59                        3.561717   \n",
       "2016-06-15 18:59:59                        1.140283   \n",
       "2018-04-10 00:59:59                        3.633778   \n",
       "\n",
       "                     primary_cleaner.output.tail_sol  \\\n",
       "date                                                   \n",
       "2016-02-22 02:00:00                         8.303999   \n",
       "2017-01-04 11:59:59                         8.347236   \n",
       "2018-05-06 11:59:59                         5.216402   \n",
       "2016-06-15 18:59:59                         7.004558   \n",
       "2018-04-10 00:59:59                         5.698270   \n",
       "\n",
       "                     primary_cleaner.output.tail_au  \\\n",
       "date                                                  \n",
       "2016-02-22 02:00:00                        3.798097   \n",
       "2017-01-04 11:59:59                        2.628677   \n",
       "2018-05-06 11:59:59                        2.536751   \n",
       "2016-06-15 18:59:59                        3.359846   \n",
       "2018-04-10 00:59:59                        2.071376   \n",
       "\n",
       "                     primary_cleaner.state.floatbank8_a_air  \\\n",
       "date                                                          \n",
       "2016-02-22 02:00:00                             1749.246450   \n",
       "2017-01-04 11:59:59                             1597.263919   \n",
       "2018-05-06 11:59:59                             1699.540395   \n",
       "2016-06-15 18:59:59                             1736.872395   \n",
       "2018-04-10 00:59:59                             1632.842761   \n",
       "\n",
       "                     primary_cleaner.state.floatbank8_a_level  \\\n",
       "date                                                            \n",
       "2016-02-22 02:00:00                               -399.596326   \n",
       "2017-01-04 11:59:59                               -500.335114   \n",
       "2018-05-06 11:59:59                               -499.194963   \n",
       "2016-06-15 18:59:59                               -450.556984   \n",
       "2018-04-10 00:59:59                               -500.970178   \n",
       "\n",
       "                     primary_cleaner.state.floatbank8_b_air  \\\n",
       "date                                                          \n",
       "2016-02-22 02:00:00                             1750.538802   \n",
       "2017-01-04 11:59:59                             1599.993443   \n",
       "2018-05-06 11:59:59                             1699.382596   \n",
       "2016-06-15 18:59:59                             1802.751803   \n",
       "2018-04-10 00:59:59                             1696.821526   \n",
       "\n",
       "                     primary_cleaner.state.floatbank8_b_level  \\\n",
       "date                                                            \n",
       "2016-02-22 02:00:00                               -400.660218   \n",
       "2017-01-04 11:59:59                               -499.890162   \n",
       "2018-05-06 11:59:59                               -500.710552   \n",
       "2016-06-15 18:59:59                               -449.090862   \n",
       "2018-04-10 00:59:59                               -499.080041   \n",
       "\n",
       "                     primary_cleaner.state.floatbank8_c_air  \\\n",
       "date                                                          \n",
       "2016-02-22 02:00:00                             1749.497991   \n",
       "2017-01-04 11:59:59                             1601.077790   \n",
       "2018-05-06 11:59:59                             1702.039897   \n",
       "2016-06-15 18:59:59                             1799.085890   \n",
       "2018-04-10 00:59:59                             1699.495238   \n",
       "\n",
       "                     primary_cleaner.state.floatbank8_c_level  \\\n",
       "date                                                            \n",
       "2016-02-22 02:00:00                               -399.539807   \n",
       "2017-01-04 11:59:59                               -500.101003   \n",
       "2018-05-06 11:59:59                               -499.142186   \n",
       "2016-06-15 18:59:59                               -450.803043   \n",
       "2018-04-10 00:59:59                               -500.854443   \n",
       "\n",
       "                     primary_cleaner.state.floatbank8_d_air  \\\n",
       "date                                                          \n",
       "2016-02-22 02:00:00                             1422.453822   \n",
       "2017-01-04 11:59:59                             1597.963735   \n",
       "2018-05-06 11:59:59                             1701.777559   \n",
       "2016-06-15 18:59:59                             1799.314160   \n",
       "2018-04-10 00:59:59                             1697.037171   \n",
       "\n",
       "                     primary_cleaner.state.floatbank8_d_level  \\\n",
       "date                                                            \n",
       "2016-02-22 02:00:00                               -399.774111   \n",
       "2017-01-04 11:59:59                               -500.408411   \n",
       "2018-05-06 11:59:59                               -499.227885   \n",
       "2016-06-15 18:59:59                               -449.795670   \n",
       "2018-04-10 00:59:59                               -499.885638   \n",
       "\n",
       "                     rougher.calculation.sulfate_to_au_concentrate  \\\n",
       "date                                                                 \n",
       "2016-02-22 02:00:00                                   49017.392318   \n",
       "2017-01-04 11:59:59                                   34060.475919   \n",
       "2018-05-06 11:59:59                                   46961.308249   \n",
       "2016-06-15 18:59:59                                   33342.728269   \n",
       "2018-04-10 00:59:59                                   42239.102421   \n",
       "\n",
       "                     rougher.calculation.floatbank10_sulfate_to_au_feed  \\\n",
       "date                                                                      \n",
       "2016-02-22 02:00:00                                        3195.837055    \n",
       "2017-01-04 11:59:59                                        2798.273480    \n",
       "2018-05-06 11:59:59                                        2494.843752    \n",
       "2016-06-15 18:59:59                                        3611.384241    \n",
       "2018-04-10 00:59:59                                        2517.808964    \n",
       "\n",
       "                     rougher.calculation.floatbank11_sulfate_to_au_feed  \\\n",
       "date                                                                      \n",
       "2016-02-22 02:00:00                                        3190.840029    \n",
       "2017-01-04 11:59:59                                        2798.301866    \n",
       "2018-05-06 11:59:59                                        2493.658368    \n",
       "2016-06-15 18:59:59                                        3619.243780    \n",
       "2018-04-10 00:59:59                                        2518.227421    \n",
       "\n",
       "                     rougher.calculation.au_pb_ratio  rougher.input.feed_ag  \\\n",
       "date                                                                          \n",
       "2016-02-22 02:00:00                         2.272769              12.522556   \n",
       "2017-01-04 11:59:59                         4.789602               8.746677   \n",
       "2018-05-06 11:59:59                         2.181037               6.337438   \n",
       "2016-06-15 18:59:59                         3.718251               6.457345   \n",
       "2018-04-10 00:59:59                         2.641019               6.606485   \n",
       "\n",
       "                     rougher.input.feed_pb  rougher.input.feed_rate  \\\n",
       "date                                                                  \n",
       "2016-02-22 02:00:00               4.637387               349.926428   \n",
       "2017-01-04 11:59:59               1.596907               498.861527   \n",
       "2018-05-06 11:59:59               2.352216               550.836646   \n",
       "2016-06-15 18:59:59               1.419558               513.686832   \n",
       "2018-04-10 00:59:59               2.090551               559.731622   \n",
       "\n",
       "                     rougher.input.feed_size  rougher.input.feed_sol  \\\n",
       "date                                                                   \n",
       "2016-02-22 02:00:00                41.044682               29.711695   \n",
       "2017-01-04 11:59:59                47.563020               37.531584   \n",
       "2018-05-06 11:59:59                77.181825               41.335176   \n",
       "2016-06-15 18:59:59                55.842132               29.150440   \n",
       "2018-04-10 00:59:59                66.511494               37.791057   \n",
       "\n",
       "                     rougher.input.feed_au  rougher.input.floatbank10_sulfate  \\\n",
       "date                                                                            \n",
       "2016-02-22 02:00:00              10.539710                          12.013361   \n",
       "2017-01-04 11:59:59               7.648548                          10.714062   \n",
       "2018-05-06 11:59:59               5.130270                           6.473832   \n",
       "2016-06-15 18:59:59               5.278272                          10.006289   \n",
       "2018-04-10 00:59:59               5.521184                           7.638270   \n",
       "\n",
       "                     rougher.input.floatbank10_xanthate  \\\n",
       "date                                                      \n",
       "2016-02-22 02:00:00                            6.698250   \n",
       "2017-01-04 11:59:59                            6.305640   \n",
       "2018-05-06 11:59:59                            7.199758   \n",
       "2016-06-15 18:59:59                            5.001732   \n",
       "2018-04-10 00:59:59                            7.103495   \n",
       "\n",
       "                     rougher.input.floatbank11_sulfate  \\\n",
       "date                                                     \n",
       "2016-02-22 02:00:00                          12.034844   \n",
       "2017-01-04 11:59:59                          10.715593   \n",
       "2018-05-06 11:59:59                           6.471875   \n",
       "2016-06-15 18:59:59                           9.997658   \n",
       "2018-04-10 00:59:59                           7.640118   \n",
       "\n",
       "                     rougher.input.floatbank11_xanthate  \\\n",
       "date                                                      \n",
       "2016-02-22 02:00:00                            6.700693   \n",
       "2017-01-04 11:59:59                            6.303207   \n",
       "2018-05-06 11:59:59                            7.196009   \n",
       "2016-06-15 18:59:59                            5.002432   \n",
       "2018-04-10 00:59:59                            7.098917   \n",
       "\n",
       "                     rougher.output.concentrate_ag  \\\n",
       "date                                                 \n",
       "2016-02-22 02:00:00                      12.642302   \n",
       "2017-01-04 11:59:59                      15.883369   \n",
       "2018-05-06 11:59:59                      11.223105   \n",
       "2016-06-15 18:59:59                       9.966032   \n",
       "2018-04-10 00:59:59                      11.511276   \n",
       "\n",
       "                     rougher.output.concentrate_pb  \\\n",
       "date                                                 \n",
       "2016-02-22 02:00:00                       8.193063   \n",
       "2017-01-04 11:59:59                       5.358517   \n",
       "2018-05-06 11:59:59                       7.592689   \n",
       "2016-06-15 18:59:59                       5.841089   \n",
       "2018-04-10 00:59:59                       6.965969   \n",
       "\n",
       "                     rougher.output.concentrate_sol  \\\n",
       "date                                                  \n",
       "2016-02-22 02:00:00                       28.200364   \n",
       "2017-01-04 11:59:59                       30.709479   \n",
       "2018-05-06 11:59:59                       25.341335   \n",
       "2016-06-15 18:59:59                       23.353601   \n",
       "2018-04-10 00:59:59                       23.587561   \n",
       "\n",
       "                     rougher.output.concentrate_au  rougher.output.recovery  \\\n",
       "date                                                                          \n",
       "2016-02-22 02:00:00                      20.438642                92.490455   \n",
       "2017-01-04 11:59:59                      20.117728                86.233452   \n",
       "2018-05-06 11:59:59                      17.398296                84.217875   \n",
       "2016-06-15 18:59:59                      18.193984                78.338375   \n",
       "2018-04-10 00:59:59                      15.950787                93.123530   \n",
       "\n",
       "                     rougher.output.tail_ag  rougher.output.tail_pb  \\\n",
       "date                                                                  \n",
       "2016-02-22 02:00:00                5.473868                0.251788   \n",
       "2017-01-04 11:59:59                5.962768                0.532576   \n",
       "2018-05-06 11:59:59                3.374451                0.532228   \n",
       "2016-06-15 18:59:59                5.161861                0.411477   \n",
       "2018-04-10 00:59:59                4.240774                0.419327   \n",
       "\n",
       "                     rougher.output.tail_sol  rougher.output.tail_au  \\\n",
       "date                                                                   \n",
       "2016-02-22 02:00:00                11.991124                1.513212   \n",
       "2017-01-04 11:59:59                24.189957                1.566528   \n",
       "2018-05-06 11:59:59                20.181378                1.077163   \n",
       "2016-06-15 18:59:59                16.624693                1.479633   \n",
       "2018-04-10 00:59:59                19.781514                0.560252   \n",
       "\n",
       "                     rougher.state.floatbank10_a_air  \\\n",
       "date                                                   \n",
       "2016-02-22 02:00:00                      1099.660927   \n",
       "2017-01-04 11:59:59                       908.355974   \n",
       "2018-05-06 11:59:59                      1198.517912   \n",
       "2016-06-15 18:59:59                      1000.714576   \n",
       "2018-04-10 00:59:59                      1399.662639   \n",
       "\n",
       "                     rougher.state.floatbank10_a_level  \\\n",
       "date                                                     \n",
       "2016-02-22 02:00:00                        -500.050203   \n",
       "2017-01-04 11:59:59                        -500.163533   \n",
       "2018-05-06 11:59:59                        -299.851868   \n",
       "2016-06-15 18:59:59                        -499.710948   \n",
       "2018-04-10 00:59:59                        -299.921440   \n",
       "\n",
       "                     rougher.state.floatbank10_b_air  \\\n",
       "date                                                   \n",
       "2016-02-22 02:00:00                      1650.126200   \n",
       "2017-01-04 11:59:59                      1497.202074   \n",
       "2018-05-06 11:59:59                      1296.481914   \n",
       "2016-06-15 18:59:59                      1399.773099   \n",
       "2018-04-10 00:59:59                      1202.343721   \n",
       "\n",
       "                     rougher.state.floatbank10_b_level  \\\n",
       "date                                                     \n",
       "2016-02-22 02:00:00                        -500.180512   \n",
       "2017-01-04 11:59:59                        -499.803828   \n",
       "2018-05-06 11:59:59                        -498.880524   \n",
       "2016-06-15 18:59:59                        -300.254433   \n",
       "2018-04-10 00:59:59                        -499.639209   \n",
       "\n",
       "                     rougher.state.floatbank10_c_air  \\\n",
       "date                                                   \n",
       "2016-02-22 02:00:00                      1650.338471   \n",
       "2017-01-04 11:59:59                      1499.189109   \n",
       "2018-05-06 11:59:59                      1197.682111   \n",
       "2016-06-15 18:59:59                      1398.762328   \n",
       "2018-04-10 00:59:59                      1099.540183   \n",
       "\n",
       "                     rougher.state.floatbank10_c_level  \\\n",
       "date                                                     \n",
       "2016-02-22 02:00:00                        -501.160592   \n",
       "2017-01-04 11:59:59                        -499.266856   \n",
       "2018-05-06 11:59:59                        -500.419324   \n",
       "2016-06-15 18:59:59                        -400.855753   \n",
       "2018-04-10 00:59:59                        -500.522524   \n",
       "\n",
       "                     rougher.state.floatbank10_d_air  \\\n",
       "date                                                   \n",
       "2016-02-22 02:00:00                      1650.326596   \n",
       "2017-01-04 11:59:59                      1398.816346   \n",
       "2018-05-06 11:59:59                      1206.145993   \n",
       "2016-06-15 18:59:59                      1399.520929   \n",
       "2018-04-10 00:59:59                      1059.209567   \n",
       "\n",
       "                     rougher.state.floatbank10_d_level  \\\n",
       "date                                                     \n",
       "2016-02-22 02:00:00                        -500.083136   \n",
       "2017-01-04 11:59:59                        -500.027783   \n",
       "2018-05-06 11:59:59                        -498.330434   \n",
       "2016-06-15 18:59:59                        -399.867432   \n",
       "2018-04-10 00:59:59                        -499.540312   \n",
       "\n",
       "                     rougher.state.floatbank10_e_air  \\\n",
       "date                                                   \n",
       "2016-02-22 02:00:00                      1601.422507   \n",
       "2017-01-04 11:59:59                      1098.892992   \n",
       "2018-05-06 11:59:59                      1100.045459   \n",
       "2016-06-15 18:59:59                      1400.261386   \n",
       "2018-04-10 00:59:59                      1050.223551   \n",
       "\n",
       "                     rougher.state.floatbank10_e_level  \\\n",
       "date                                                     \n",
       "2016-02-22 02:00:00                        -500.091458   \n",
       "2017-01-04 11:59:59                        -500.255804   \n",
       "2018-05-06 11:59:59                        -499.430924   \n",
       "2016-06-15 18:59:59                        -399.807336   \n",
       "2018-04-10 00:59:59                        -499.826559   \n",
       "\n",
       "                     rougher.state.floatbank10_f_air  \\\n",
       "date                                                   \n",
       "2016-02-22 02:00:00                      1599.911200   \n",
       "2017-01-04 11:59:59                       997.420359   \n",
       "2018-05-06 11:59:59                      1100.626380   \n",
       "2016-06-15 18:59:59                      1400.103626   \n",
       "2018-04-10 00:59:59                      1002.159459   \n",
       "\n",
       "                     rougher.state.floatbank10_f_level  \\\n",
       "date                                                     \n",
       "2016-02-22 02:00:00                        -501.031698   \n",
       "2017-01-04 11:59:59                        -499.302763   \n",
       "2018-05-06 11:59:59                        -500.463107   \n",
       "2016-06-15 18:59:59                        -401.235679   \n",
       "2018-04-10 00:59:59                        -500.126645   \n",
       "\n",
       "                     secondary_cleaner.output.tail_ag  \\\n",
       "date                                                    \n",
       "2016-02-22 02:00:00                         14.974971   \n",
       "2017-01-04 11:59:59                         13.703345   \n",
       "2018-05-06 11:59:59                         18.285422   \n",
       "2016-06-15 18:59:59                         11.354988   \n",
       "2018-04-10 00:59:59                         15.409572   \n",
       "\n",
       "                     secondary_cleaner.output.tail_pb  \\\n",
       "date                                                    \n",
       "2016-02-22 02:00:00                          5.141267   \n",
       "2017-01-04 11:59:59                          1.997877   \n",
       "2018-05-06 11:59:59                          7.384043   \n",
       "2016-06-15 18:59:59                          2.504699   \n",
       "2018-04-10 00:59:59                          7.067211   \n",
       "\n",
       "                     secondary_cleaner.output.tail_sol  \\\n",
       "date                                                     \n",
       "2016-02-22 02:00:00                          10.962387   \n",
       "2017-01-04 11:59:59                          10.944320   \n",
       "2018-05-06 11:59:59                                NaN   \n",
       "2016-06-15 18:59:59                           9.580655   \n",
       "2018-04-10 00:59:59                                NaN   \n",
       "\n",
       "                     secondary_cleaner.output.tail_au  \\\n",
       "date                                                    \n",
       "2016-02-22 02:00:00                          3.781047   \n",
       "2017-01-04 11:59:59                          2.227012   \n",
       "2018-05-06 11:59:59                          3.485272   \n",
       "2016-06-15 18:59:59                          3.122348   \n",
       "2018-04-10 00:59:59                          3.221185   \n",
       "\n",
       "                     secondary_cleaner.state.floatbank2_a_air  \\\n",
       "date                                                            \n",
       "2016-02-22 02:00:00                                 30.980837   \n",
       "2017-01-04 11:59:59                                 29.978192   \n",
       "2018-05-06 11:59:59                                       NaN   \n",
       "2016-06-15 18:59:59                                 30.081161   \n",
       "2018-04-10 00:59:59                                 29.955714   \n",
       "\n",
       "                     secondary_cleaner.state.floatbank2_a_level  \\\n",
       "date                                                              \n",
       "2016-02-22 02:00:00                                 -400.087439   \n",
       "2017-01-04 11:59:59                                 -499.905122   \n",
       "2018-05-06 11:59:59                                 -499.882508   \n",
       "2016-06-15 18:59:59                                 -500.670244   \n",
       "2018-04-10 00:59:59                                 -500.363475   \n",
       "\n",
       "                     secondary_cleaner.state.floatbank2_b_air  \\\n",
       "date                                                            \n",
       "2016-02-22 02:00:00                                 28.973111   \n",
       "2017-01-04 11:59:59                                 28.140975   \n",
       "2018-05-06 11:59:59                                 28.037443   \n",
       "2016-06-15 18:59:59                                 28.061585   \n",
       "2018-04-10 00:59:59                                 27.936669   \n",
       "\n",
       "                     secondary_cleaner.state.floatbank2_b_level  \\\n",
       "date                                                              \n",
       "2016-02-22 02:00:00                                 -400.291169   \n",
       "2017-01-04 11:59:59                                 -500.092475   \n",
       "2018-05-06 11:59:59                                 -499.836077   \n",
       "2016-06-15 18:59:59                                 -499.918822   \n",
       "2018-04-10 00:59:59                                 -500.073745   \n",
       "\n",
       "                     secondary_cleaner.state.floatbank3_a_air  \\\n",
       "date                                                            \n",
       "2016-02-22 02:00:00                                 30.972687   \n",
       "2017-01-04 11:59:59                                 34.989154   \n",
       "2018-05-06 11:59:59                                 35.941423   \n",
       "2016-06-15 18:59:59                                 27.932524   \n",
       "2018-04-10 00:59:59                                 28.005079   \n",
       "\n",
       "                     secondary_cleaner.state.floatbank3_a_level  \\\n",
       "date                                                              \n",
       "2016-02-22 02:00:00                                 -399.588694   \n",
       "2017-01-04 11:59:59                                 -500.019241   \n",
       "2018-05-06 11:59:59                                 -499.600848   \n",
       "2016-06-15 18:59:59                                 -500.722032   \n",
       "2018-04-10 00:59:59                                 -500.217522   \n",
       "\n",
       "                     secondary_cleaner.state.floatbank3_b_air  \\\n",
       "date                                                            \n",
       "2016-02-22 02:00:00                                 29.026510   \n",
       "2017-01-04 11:59:59                                 32.017337   \n",
       "2018-05-06 11:59:59                                 24.978672   \n",
       "2016-06-15 18:59:59                                 27.995813   \n",
       "2018-04-10 00:59:59                                 19.970113   \n",
       "\n",
       "                     secondary_cleaner.state.floatbank3_b_level  \\\n",
       "date                                                              \n",
       "2016-02-22 02:00:00                                 -400.258019   \n",
       "2017-01-04 11:59:59                                 -499.995753   \n",
       "2018-05-06 11:59:59                                 -499.620264   \n",
       "2016-06-15 18:59:59                                 -499.719725   \n",
       "2018-04-10 00:59:59                                 -499.955863   \n",
       "\n",
       "                     secondary_cleaner.state.floatbank4_a_air  \\\n",
       "date                                                            \n",
       "2016-02-22 02:00:00                                 14.072282   \n",
       "2017-01-04 11:59:59                                 16.991318   \n",
       "2018-05-06 11:59:59                                 30.007510   \n",
       "2016-06-15 18:59:59                                 15.992559   \n",
       "2018-04-10 00:59:59                                 23.002111   \n",
       "\n",
       "                     secondary_cleaner.state.floatbank4_a_level  \\\n",
       "date                                                              \n",
       "2016-02-22 02:00:00                                 -400.118030   \n",
       "2017-01-04 11:59:59                                 -506.926687   \n",
       "2018-05-06 11:59:59                                 -501.431015   \n",
       "2016-06-15 18:59:59                                 -500.038099   \n",
       "2018-04-10 00:59:59                                 -500.459938   \n",
       "\n",
       "                     secondary_cleaner.state.floatbank4_b_air  \\\n",
       "date                                                            \n",
       "2016-02-22 02:00:00                                 11.957044   \n",
       "2017-01-04 11:59:59                                 14.957346   \n",
       "2018-05-06 11:59:59                                 20.082548   \n",
       "2016-06-15 18:59:59                                 13.939010   \n",
       "2018-04-10 00:59:59                                 16.013154   \n",
       "\n",
       "                     secondary_cleaner.state.floatbank4_b_level  \\\n",
       "date                                                              \n",
       "2016-02-22 02:00:00                                 -399.172670   \n",
       "2017-01-04 11:59:59                                 -493.084429   \n",
       "2018-05-06 11:59:59                                 -500.560696   \n",
       "2016-06-15 18:59:59                                 -499.215316   \n",
       "2018-04-10 00:59:59                                 -499.790093   \n",
       "\n",
       "                     secondary_cleaner.state.floatbank5_a_air  \\\n",
       "date                                                            \n",
       "2016-02-22 02:00:00                                 11.961944   \n",
       "2017-01-04 11:59:59                                 15.660796   \n",
       "2018-05-06 11:59:59                                 24.979380   \n",
       "2016-06-15 18:59:59                                 13.986066   \n",
       "2018-04-10 00:59:59                                 18.010505   \n",
       "\n",
       "                     secondary_cleaner.state.floatbank5_a_level  \\\n",
       "date                                                              \n",
       "2016-02-22 02:00:00                                 -400.081369   \n",
       "2017-01-04 11:59:59                                 -502.952922   \n",
       "2018-05-06 11:59:59                                 -499.830412   \n",
       "2016-06-15 18:59:59                                 -499.956984   \n",
       "2018-04-10 00:59:59                                 -500.013009   \n",
       "\n",
       "                     secondary_cleaner.state.floatbank5_b_air  \\\n",
       "date                                                            \n",
       "2016-02-22 02:00:00                                 10.105059   \n",
       "2017-01-04 11:59:59                                  7.985485   \n",
       "2018-05-06 11:59:59                                 22.702834   \n",
       "2016-06-15 18:59:59                                 11.979204   \n",
       "2018-04-10 00:59:59                                 11.963108   \n",
       "\n",
       "                     secondary_cleaner.state.floatbank5_b_level  \\\n",
       "date                                                              \n",
       "2016-02-22 02:00:00                                 -399.556166   \n",
       "2017-01-04 11:59:59                                 -401.183066   \n",
       "2018-05-06 11:59:59                                 -499.910955   \n",
       "2016-06-15 18:59:59                                 -499.748329   \n",
       "2018-04-10 00:59:59                                 -500.060104   \n",
       "\n",
       "                     secondary_cleaner.state.floatbank6_a_air  \\\n",
       "date                                                            \n",
       "2016-02-22 02:00:00                                 30.030947   \n",
       "2017-01-04 11:59:59                                 20.002007   \n",
       "2018-05-06 11:59:59                                 24.965239   \n",
       "2016-06-15 18:59:59                                 25.024614   \n",
       "2018-04-10 00:59:59                                 13.011019   \n",
       "\n",
       "                     secondary_cleaner.state.floatbank6_a_level  \n",
       "date                                                             \n",
       "2016-02-22 02:00:00                                 -399.519059  \n",
       "2017-01-04 11:59:59                                 -600.075982  \n",
       "2018-05-06 11:59:59                                 -499.394632  \n",
       "2016-06-15 18:59:59                                 -499.157783  \n",
       "2018-04-10 00:59:59                                 -500.047326  "
      ]
     },
     "metadata": {},
     "output_type": "display_data"
    },
    {
     "name": "stdout",
     "output_type": "stream",
     "text": [
      "<class 'pandas.core.frame.DataFrame'>\n",
      "Index: 14149 entries, 2016-01-15 00:00:00 to 2018-08-18 10:59:59\n",
      "Data columns (total 86 columns):\n",
      " #   Column                                              Non-Null Count  Dtype  \n",
      "---  ------                                              --------------  -----  \n",
      " 0   final.output.concentrate_ag                         14148 non-null  float64\n",
      " 1   final.output.concentrate_pb                         14148 non-null  float64\n",
      " 2   final.output.concentrate_sol                        13938 non-null  float64\n",
      " 3   final.output.concentrate_au                         14149 non-null  float64\n",
      " 4   final.output.recovery                               14149 non-null  float64\n",
      " 5   final.output.tail_ag                                14149 non-null  float64\n",
      " 6   final.output.tail_pb                                14049 non-null  float64\n",
      " 7   final.output.tail_sol                               14144 non-null  float64\n",
      " 8   final.output.tail_au                                14149 non-null  float64\n",
      " 9   primary_cleaner.input.sulfate                       14129 non-null  float64\n",
      " 10  primary_cleaner.input.depressant                    14117 non-null  float64\n",
      " 11  primary_cleaner.input.feed_size                     14149 non-null  float64\n",
      " 12  primary_cleaner.input.xanthate                      14049 non-null  float64\n",
      " 13  primary_cleaner.output.concentrate_ag               14149 non-null  float64\n",
      " 14  primary_cleaner.output.concentrate_pb               14063 non-null  float64\n",
      " 15  primary_cleaner.output.concentrate_sol              13863 non-null  float64\n",
      " 16  primary_cleaner.output.concentrate_au               14149 non-null  float64\n",
      " 17  primary_cleaner.output.tail_ag                      14148 non-null  float64\n",
      " 18  primary_cleaner.output.tail_pb                      14134 non-null  float64\n",
      " 19  primary_cleaner.output.tail_sol                     14103 non-null  float64\n",
      " 20  primary_cleaner.output.tail_au                      14149 non-null  float64\n",
      " 21  primary_cleaner.state.floatbank8_a_air              14145 non-null  float64\n",
      " 22  primary_cleaner.state.floatbank8_a_level            14148 non-null  float64\n",
      " 23  primary_cleaner.state.floatbank8_b_air              14145 non-null  float64\n",
      " 24  primary_cleaner.state.floatbank8_b_level            14148 non-null  float64\n",
      " 25  primary_cleaner.state.floatbank8_c_air              14147 non-null  float64\n",
      " 26  primary_cleaner.state.floatbank8_c_level            14148 non-null  float64\n",
      " 27  primary_cleaner.state.floatbank8_d_air              14146 non-null  float64\n",
      " 28  primary_cleaner.state.floatbank8_d_level            14148 non-null  float64\n",
      " 29  rougher.calculation.sulfate_to_au_concentrate       14148 non-null  float64\n",
      " 30  rougher.calculation.floatbank10_sulfate_to_au_feed  14148 non-null  float64\n",
      " 31  rougher.calculation.floatbank11_sulfate_to_au_feed  14148 non-null  float64\n",
      " 32  rougher.calculation.au_pb_ratio                     14149 non-null  float64\n",
      " 33  rougher.input.feed_ag                               14149 non-null  float64\n",
      " 34  rougher.input.feed_pb                               14049 non-null  float64\n",
      " 35  rougher.input.feed_rate                             14141 non-null  float64\n",
      " 36  rougher.input.feed_size                             14005 non-null  float64\n",
      " 37  rougher.input.feed_sol                              14071 non-null  float64\n",
      " 38  rougher.input.feed_au                               14149 non-null  float64\n",
      " 39  rougher.input.floatbank10_sulfate                   14120 non-null  float64\n",
      " 40  rougher.input.floatbank10_xanthate                  14141 non-null  float64\n",
      " 41  rougher.input.floatbank11_sulfate                   14113 non-null  float64\n",
      " 42  rougher.input.floatbank11_xanthate                  13721 non-null  float64\n",
      " 43  rougher.output.concentrate_ag                       14149 non-null  float64\n",
      " 44  rougher.output.concentrate_pb                       14149 non-null  float64\n",
      " 45  rougher.output.concentrate_sol                      14127 non-null  float64\n",
      " 46  rougher.output.concentrate_au                       14149 non-null  float64\n",
      " 47  rougher.output.recovery                             14149 non-null  float64\n",
      " 48  rougher.output.tail_ag                              14148 non-null  float64\n",
      " 49  rougher.output.tail_pb                              14149 non-null  float64\n",
      " 50  rougher.output.tail_sol                             14149 non-null  float64\n",
      " 51  rougher.output.tail_au                              14149 non-null  float64\n",
      " 52  rougher.state.floatbank10_a_air                     14148 non-null  float64\n",
      " 53  rougher.state.floatbank10_a_level                   14148 non-null  float64\n",
      " 54  rougher.state.floatbank10_b_air                     14148 non-null  float64\n",
      " 55  rougher.state.floatbank10_b_level                   14148 non-null  float64\n",
      " 56  rougher.state.floatbank10_c_air                     14148 non-null  float64\n",
      " 57  rougher.state.floatbank10_c_level                   14148 non-null  float64\n",
      " 58  rougher.state.floatbank10_d_air                     14149 non-null  float64\n",
      " 59  rougher.state.floatbank10_d_level                   14149 non-null  float64\n",
      " 60  rougher.state.floatbank10_e_air                     13713 non-null  float64\n",
      " 61  rougher.state.floatbank10_e_level                   14149 non-null  float64\n",
      " 62  rougher.state.floatbank10_f_air                     14149 non-null  float64\n",
      " 63  rougher.state.floatbank10_f_level                   14149 non-null  float64\n",
      " 64  secondary_cleaner.output.tail_ag                    14147 non-null  float64\n",
      " 65  secondary_cleaner.output.tail_pb                    14139 non-null  float64\n",
      " 66  secondary_cleaner.output.tail_sol                   12544 non-null  float64\n",
      " 67  secondary_cleaner.output.tail_au                    14149 non-null  float64\n",
      " 68  secondary_cleaner.state.floatbank2_a_air            13932 non-null  float64\n",
      " 69  secondary_cleaner.state.floatbank2_a_level          14148 non-null  float64\n",
      " 70  secondary_cleaner.state.floatbank2_b_air            14128 non-null  float64\n",
      " 71  secondary_cleaner.state.floatbank2_b_level          14148 non-null  float64\n",
      " 72  secondary_cleaner.state.floatbank3_a_air            14145 non-null  float64\n",
      " 73  secondary_cleaner.state.floatbank3_a_level          14148 non-null  float64\n",
      " 74  secondary_cleaner.state.floatbank3_b_air            14148 non-null  float64\n",
      " 75  secondary_cleaner.state.floatbank3_b_level          14148 non-null  float64\n",
      " 76  secondary_cleaner.state.floatbank4_a_air            14143 non-null  float64\n",
      " 77  secondary_cleaner.state.floatbank4_a_level          14148 non-null  float64\n",
      " 78  secondary_cleaner.state.floatbank4_b_air            14148 non-null  float64\n",
      " 79  secondary_cleaner.state.floatbank4_b_level          14148 non-null  float64\n",
      " 80  secondary_cleaner.state.floatbank5_a_air            14148 non-null  float64\n",
      " 81  secondary_cleaner.state.floatbank5_a_level          14148 non-null  float64\n",
      " 82  secondary_cleaner.state.floatbank5_b_air            14148 non-null  float64\n",
      " 83  secondary_cleaner.state.floatbank5_b_level          14148 non-null  float64\n",
      " 84  secondary_cleaner.state.floatbank6_a_air            14147 non-null  float64\n",
      " 85  secondary_cleaner.state.floatbank6_a_level          14148 non-null  float64\n",
      "dtypes: float64(86)\n",
      "memory usage: 9.4+ MB\n"
     ]
    },
    {
     "data": {
      "text/plain": [
       "None"
      ]
     },
     "metadata": {},
     "output_type": "display_data"
    },
    {
     "data": {
      "text/plain": [
       "0"
      ]
     },
     "metadata": {},
     "output_type": "display_data"
    },
    {
     "data": {
      "text/plain": [
       "final.output.concentrate_ag                              1\n",
       "final.output.concentrate_pb                              1\n",
       "final.output.concentrate_sol                           211\n",
       "final.output.concentrate_au                              0\n",
       "final.output.recovery                                    0\n",
       "final.output.tail_ag                                     0\n",
       "final.output.tail_pb                                   100\n",
       "final.output.tail_sol                                    5\n",
       "final.output.tail_au                                     0\n",
       "primary_cleaner.input.sulfate                           20\n",
       "primary_cleaner.input.depressant                        32\n",
       "primary_cleaner.input.feed_size                          0\n",
       "primary_cleaner.input.xanthate                         100\n",
       "primary_cleaner.output.concentrate_ag                    0\n",
       "primary_cleaner.output.concentrate_pb                   86\n",
       "primary_cleaner.output.concentrate_sol                 286\n",
       "primary_cleaner.output.concentrate_au                    0\n",
       "primary_cleaner.output.tail_ag                           1\n",
       "primary_cleaner.output.tail_pb                          15\n",
       "primary_cleaner.output.tail_sol                         46\n",
       "primary_cleaner.output.tail_au                           0\n",
       "primary_cleaner.state.floatbank8_a_air                   4\n",
       "primary_cleaner.state.floatbank8_a_level                 1\n",
       "primary_cleaner.state.floatbank8_b_air                   4\n",
       "primary_cleaner.state.floatbank8_b_level                 1\n",
       "primary_cleaner.state.floatbank8_c_air                   2\n",
       "primary_cleaner.state.floatbank8_c_level                 1\n",
       "primary_cleaner.state.floatbank8_d_air                   3\n",
       "primary_cleaner.state.floatbank8_d_level                 1\n",
       "rougher.calculation.sulfate_to_au_concentrate            1\n",
       "rougher.calculation.floatbank10_sulfate_to_au_feed       1\n",
       "rougher.calculation.floatbank11_sulfate_to_au_feed       1\n",
       "rougher.calculation.au_pb_ratio                          0\n",
       "rougher.input.feed_ag                                    0\n",
       "rougher.input.feed_pb                                  100\n",
       "rougher.input.feed_rate                                  8\n",
       "rougher.input.feed_size                                144\n",
       "rougher.input.feed_sol                                  78\n",
       "rougher.input.feed_au                                    0\n",
       "rougher.input.floatbank10_sulfate                       29\n",
       "rougher.input.floatbank10_xanthate                       8\n",
       "rougher.input.floatbank11_sulfate                       36\n",
       "rougher.input.floatbank11_xanthate                     428\n",
       "rougher.output.concentrate_ag                            0\n",
       "rougher.output.concentrate_pb                            0\n",
       "rougher.output.concentrate_sol                          22\n",
       "rougher.output.concentrate_au                            0\n",
       "rougher.output.recovery                                  0\n",
       "rougher.output.tail_ag                                   1\n",
       "rougher.output.tail_pb                                   0\n",
       "rougher.output.tail_sol                                  0\n",
       "rougher.output.tail_au                                   0\n",
       "rougher.state.floatbank10_a_air                          1\n",
       "rougher.state.floatbank10_a_level                        1\n",
       "rougher.state.floatbank10_b_air                          1\n",
       "rougher.state.floatbank10_b_level                        1\n",
       "rougher.state.floatbank10_c_air                          1\n",
       "rougher.state.floatbank10_c_level                        1\n",
       "rougher.state.floatbank10_d_air                          0\n",
       "rougher.state.floatbank10_d_level                        0\n",
       "rougher.state.floatbank10_e_air                        436\n",
       "rougher.state.floatbank10_e_level                        0\n",
       "rougher.state.floatbank10_f_air                          0\n",
       "rougher.state.floatbank10_f_level                        0\n",
       "secondary_cleaner.output.tail_ag                         2\n",
       "secondary_cleaner.output.tail_pb                        10\n",
       "secondary_cleaner.output.tail_sol                     1605\n",
       "secondary_cleaner.output.tail_au                         0\n",
       "secondary_cleaner.state.floatbank2_a_air               217\n",
       "secondary_cleaner.state.floatbank2_a_level               1\n",
       "secondary_cleaner.state.floatbank2_b_air                21\n",
       "secondary_cleaner.state.floatbank2_b_level               1\n",
       "secondary_cleaner.state.floatbank3_a_air                 4\n",
       "secondary_cleaner.state.floatbank3_a_level               1\n",
       "secondary_cleaner.state.floatbank3_b_air                 1\n",
       "secondary_cleaner.state.floatbank3_b_level               1\n",
       "secondary_cleaner.state.floatbank4_a_air                 6\n",
       "secondary_cleaner.state.floatbank4_a_level               1\n",
       "secondary_cleaner.state.floatbank4_b_air                 1\n",
       "secondary_cleaner.state.floatbank4_b_level               1\n",
       "secondary_cleaner.state.floatbank5_a_air                 1\n",
       "secondary_cleaner.state.floatbank5_a_level               1\n",
       "secondary_cleaner.state.floatbank5_b_air                 1\n",
       "secondary_cleaner.state.floatbank5_b_level               1\n",
       "secondary_cleaner.state.floatbank6_a_air                 2\n",
       "secondary_cleaner.state.floatbank6_a_level               1\n",
       "dtype: int64"
      ]
     },
     "metadata": {},
     "output_type": "display_data"
    }
   ],
   "source": [
    "info(df_train)"
   ]
  },
  {
   "cell_type": "code",
   "execution_count": 5,
   "metadata": {
    "scrolled": true
   },
   "outputs": [
    {
     "data": {
      "text/html": [
       "<div>\n",
       "<style scoped>\n",
       "    .dataframe tbody tr th:only-of-type {\n",
       "        vertical-align: middle;\n",
       "    }\n",
       "\n",
       "    .dataframe tbody tr th {\n",
       "        vertical-align: top;\n",
       "    }\n",
       "\n",
       "    .dataframe thead th {\n",
       "        text-align: right;\n",
       "    }\n",
       "</style>\n",
       "<table border=\"1\" class=\"dataframe\">\n",
       "  <thead>\n",
       "    <tr style=\"text-align: right;\">\n",
       "      <th></th>\n",
       "      <th>primary_cleaner.input.sulfate</th>\n",
       "      <th>primary_cleaner.input.depressant</th>\n",
       "      <th>primary_cleaner.input.feed_size</th>\n",
       "      <th>primary_cleaner.input.xanthate</th>\n",
       "      <th>primary_cleaner.state.floatbank8_a_air</th>\n",
       "      <th>primary_cleaner.state.floatbank8_a_level</th>\n",
       "      <th>primary_cleaner.state.floatbank8_b_air</th>\n",
       "      <th>primary_cleaner.state.floatbank8_b_level</th>\n",
       "      <th>primary_cleaner.state.floatbank8_c_air</th>\n",
       "      <th>primary_cleaner.state.floatbank8_c_level</th>\n",
       "      <th>primary_cleaner.state.floatbank8_d_air</th>\n",
       "      <th>primary_cleaner.state.floatbank8_d_level</th>\n",
       "      <th>rougher.input.feed_ag</th>\n",
       "      <th>rougher.input.feed_pb</th>\n",
       "      <th>rougher.input.feed_rate</th>\n",
       "      <th>rougher.input.feed_size</th>\n",
       "      <th>rougher.input.feed_sol</th>\n",
       "      <th>rougher.input.feed_au</th>\n",
       "      <th>rougher.input.floatbank10_sulfate</th>\n",
       "      <th>rougher.input.floatbank10_xanthate</th>\n",
       "      <th>rougher.input.floatbank11_sulfate</th>\n",
       "      <th>rougher.input.floatbank11_xanthate</th>\n",
       "      <th>rougher.state.floatbank10_a_air</th>\n",
       "      <th>rougher.state.floatbank10_a_level</th>\n",
       "      <th>rougher.state.floatbank10_b_air</th>\n",
       "      <th>rougher.state.floatbank10_b_level</th>\n",
       "      <th>rougher.state.floatbank10_c_air</th>\n",
       "      <th>rougher.state.floatbank10_c_level</th>\n",
       "      <th>rougher.state.floatbank10_d_air</th>\n",
       "      <th>rougher.state.floatbank10_d_level</th>\n",
       "      <th>rougher.state.floatbank10_e_air</th>\n",
       "      <th>rougher.state.floatbank10_e_level</th>\n",
       "      <th>rougher.state.floatbank10_f_air</th>\n",
       "      <th>rougher.state.floatbank10_f_level</th>\n",
       "      <th>secondary_cleaner.state.floatbank2_a_air</th>\n",
       "      <th>secondary_cleaner.state.floatbank2_a_level</th>\n",
       "      <th>secondary_cleaner.state.floatbank2_b_air</th>\n",
       "      <th>secondary_cleaner.state.floatbank2_b_level</th>\n",
       "      <th>secondary_cleaner.state.floatbank3_a_air</th>\n",
       "      <th>secondary_cleaner.state.floatbank3_a_level</th>\n",
       "      <th>secondary_cleaner.state.floatbank3_b_air</th>\n",
       "      <th>secondary_cleaner.state.floatbank3_b_level</th>\n",
       "      <th>secondary_cleaner.state.floatbank4_a_air</th>\n",
       "      <th>secondary_cleaner.state.floatbank4_a_level</th>\n",
       "      <th>secondary_cleaner.state.floatbank4_b_air</th>\n",
       "      <th>secondary_cleaner.state.floatbank4_b_level</th>\n",
       "      <th>secondary_cleaner.state.floatbank5_a_air</th>\n",
       "      <th>secondary_cleaner.state.floatbank5_a_level</th>\n",
       "      <th>secondary_cleaner.state.floatbank5_b_air</th>\n",
       "      <th>secondary_cleaner.state.floatbank5_b_level</th>\n",
       "      <th>secondary_cleaner.state.floatbank6_a_air</th>\n",
       "      <th>secondary_cleaner.state.floatbank6_a_level</th>\n",
       "    </tr>\n",
       "    <tr>\n",
       "      <th>date</th>\n",
       "      <th></th>\n",
       "      <th></th>\n",
       "      <th></th>\n",
       "      <th></th>\n",
       "      <th></th>\n",
       "      <th></th>\n",
       "      <th></th>\n",
       "      <th></th>\n",
       "      <th></th>\n",
       "      <th></th>\n",
       "      <th></th>\n",
       "      <th></th>\n",
       "      <th></th>\n",
       "      <th></th>\n",
       "      <th></th>\n",
       "      <th></th>\n",
       "      <th></th>\n",
       "      <th></th>\n",
       "      <th></th>\n",
       "      <th></th>\n",
       "      <th></th>\n",
       "      <th></th>\n",
       "      <th></th>\n",
       "      <th></th>\n",
       "      <th></th>\n",
       "      <th></th>\n",
       "      <th></th>\n",
       "      <th></th>\n",
       "      <th></th>\n",
       "      <th></th>\n",
       "      <th></th>\n",
       "      <th></th>\n",
       "      <th></th>\n",
       "      <th></th>\n",
       "      <th></th>\n",
       "      <th></th>\n",
       "      <th></th>\n",
       "      <th></th>\n",
       "      <th></th>\n",
       "      <th></th>\n",
       "      <th></th>\n",
       "      <th></th>\n",
       "      <th></th>\n",
       "      <th></th>\n",
       "      <th></th>\n",
       "      <th></th>\n",
       "      <th></th>\n",
       "      <th></th>\n",
       "      <th></th>\n",
       "      <th></th>\n",
       "      <th></th>\n",
       "      <th></th>\n",
       "    </tr>\n",
       "  </thead>\n",
       "  <tbody>\n",
       "    <tr>\n",
       "      <th>2017-11-19 06:59:59</th>\n",
       "      <td>233.558412</td>\n",
       "      <td>11.016358</td>\n",
       "      <td>6.480000</td>\n",
       "      <td>4.012052</td>\n",
       "      <td>1649.537165</td>\n",
       "      <td>-500.250153</td>\n",
       "      <td>1635.778486</td>\n",
       "      <td>-508.481735</td>\n",
       "      <td>1566.724061</td>\n",
       "      <td>-491.298486</td>\n",
       "      <td>1649.307725</td>\n",
       "      <td>-500.980640</td>\n",
       "      <td>11.376031</td>\n",
       "      <td>4.850528</td>\n",
       "      <td>518.917913</td>\n",
       "      <td>56.232167</td>\n",
       "      <td>37.441219</td>\n",
       "      <td>11.716934</td>\n",
       "      <td>18.452760</td>\n",
       "      <td>6.690639</td>\n",
       "      <td>18.451534</td>\n",
       "      <td>6.694852</td>\n",
       "      <td>1201.329326</td>\n",
       "      <td>-299.898524</td>\n",
       "      <td>1301.365550</td>\n",
       "      <td>-500.787829</td>\n",
       "      <td>1299.681191</td>\n",
       "      <td>-500.166795</td>\n",
       "      <td>1200.267883</td>\n",
       "      <td>-500.199229</td>\n",
       "      <td>1099.185001</td>\n",
       "      <td>-499.791260</td>\n",
       "      <td>998.959591</td>\n",
       "      <td>-499.837064</td>\n",
       "      <td>21.887509</td>\n",
       "      <td>-499.784110</td>\n",
       "      <td>19.915967</td>\n",
       "      <td>-499.811095</td>\n",
       "      <td>24.984392</td>\n",
       "      <td>-499.569134</td>\n",
       "      <td>21.997889</td>\n",
       "      <td>-500.114443</td>\n",
       "      <td>16.988208</td>\n",
       "      <td>-502.009137</td>\n",
       "      <td>14.959560</td>\n",
       "      <td>-508.136707</td>\n",
       "      <td>10.940890</td>\n",
       "      <td>-501.567806</td>\n",
       "      <td>9.007690</td>\n",
       "      <td>-436.488316</td>\n",
       "      <td>16.004253</td>\n",
       "      <td>-500.088476</td>\n",
       "    </tr>\n",
       "    <tr>\n",
       "      <th>2016-10-14 00:59:59</th>\n",
       "      <td>177.366752</td>\n",
       "      <td>11.937329</td>\n",
       "      <td>7.743334</td>\n",
       "      <td>0.848520</td>\n",
       "      <td>1639.747479</td>\n",
       "      <td>-499.150963</td>\n",
       "      <td>1699.028517</td>\n",
       "      <td>-500.102853</td>\n",
       "      <td>1697.881204</td>\n",
       "      <td>-500.246506</td>\n",
       "      <td>1701.036785</td>\n",
       "      <td>-500.518024</td>\n",
       "      <td>10.654057</td>\n",
       "      <td>4.223969</td>\n",
       "      <td>418.356313</td>\n",
       "      <td>42.342514</td>\n",
       "      <td>35.103522</td>\n",
       "      <td>11.873050</td>\n",
       "      <td>13.999449</td>\n",
       "      <td>7.163446</td>\n",
       "      <td>14.008600</td>\n",
       "      <td>7.200799</td>\n",
       "      <td>999.971024</td>\n",
       "      <td>-499.952365</td>\n",
       "      <td>1449.624569</td>\n",
       "      <td>-399.516367</td>\n",
       "      <td>1399.239703</td>\n",
       "      <td>-399.467209</td>\n",
       "      <td>1300.271917</td>\n",
       "      <td>-399.637613</td>\n",
       "      <td>1050.338328</td>\n",
       "      <td>-399.760237</td>\n",
       "      <td>950.432917</td>\n",
       "      <td>-399.526459</td>\n",
       "      <td>30.053405</td>\n",
       "      <td>-499.777779</td>\n",
       "      <td>24.947242</td>\n",
       "      <td>-500.706015</td>\n",
       "      <td>32.968579</td>\n",
       "      <td>-500.314425</td>\n",
       "      <td>31.018272</td>\n",
       "      <td>-499.955141</td>\n",
       "      <td>16.007696</td>\n",
       "      <td>-500.785370</td>\n",
       "      <td>11.964814</td>\n",
       "      <td>-502.727346</td>\n",
       "      <td>9.618442</td>\n",
       "      <td>-499.799398</td>\n",
       "      <td>8.007930</td>\n",
       "      <td>-499.276235</td>\n",
       "      <td>17.011526</td>\n",
       "      <td>-500.705532</td>\n",
       "    </tr>\n",
       "    <tr>\n",
       "      <th>2017-10-22 15:59:59</th>\n",
       "      <td>229.602936</td>\n",
       "      <td>13.989760</td>\n",
       "      <td>7.050000</td>\n",
       "      <td>2.513841</td>\n",
       "      <td>1700.907850</td>\n",
       "      <td>-480.622079</td>\n",
       "      <td>1699.590429</td>\n",
       "      <td>-557.399023</td>\n",
       "      <td>1583.137364</td>\n",
       "      <td>-489.137555</td>\n",
       "      <td>1696.994501</td>\n",
       "      <td>-501.040705</td>\n",
       "      <td>10.039821</td>\n",
       "      <td>5.564557</td>\n",
       "      <td>618.271034</td>\n",
       "      <td>67.312761</td>\n",
       "      <td>45.535336</td>\n",
       "      <td>10.083718</td>\n",
       "      <td>22.998109</td>\n",
       "      <td>7.101339</td>\n",
       "      <td>22.995689</td>\n",
       "      <td>7.100803</td>\n",
       "      <td>1300.230194</td>\n",
       "      <td>-299.500480</td>\n",
       "      <td>1000.423391</td>\n",
       "      <td>-500.578677</td>\n",
       "      <td>949.547668</td>\n",
       "      <td>-499.957721</td>\n",
       "      <td>900.864886</td>\n",
       "      <td>-501.496683</td>\n",
       "      <td>847.359932</td>\n",
       "      <td>-500.751842</td>\n",
       "      <td>847.222546</td>\n",
       "      <td>-499.333770</td>\n",
       "      <td>31.168231</td>\n",
       "      <td>-500.053256</td>\n",
       "      <td>28.039734</td>\n",
       "      <td>-500.127632</td>\n",
       "      <td>25.012157</td>\n",
       "      <td>-500.618402</td>\n",
       "      <td>23.022836</td>\n",
       "      <td>-500.174962</td>\n",
       "      <td>21.017396</td>\n",
       "      <td>-501.396368</td>\n",
       "      <td>19.068860</td>\n",
       "      <td>-399.876622</td>\n",
       "      <td>14.960667</td>\n",
       "      <td>-501.558474</td>\n",
       "      <td>11.005344</td>\n",
       "      <td>-500.153014</td>\n",
       "      <td>15.997183</td>\n",
       "      <td>-500.826263</td>\n",
       "    </tr>\n",
       "    <tr>\n",
       "      <th>2016-12-16 03:59:59</th>\n",
       "      <td>172.345363</td>\n",
       "      <td>12.478845</td>\n",
       "      <td>7.360000</td>\n",
       "      <td>1.324675</td>\n",
       "      <td>1500.905514</td>\n",
       "      <td>-499.725080</td>\n",
       "      <td>1499.291720</td>\n",
       "      <td>-499.188276</td>\n",
       "      <td>1501.084925</td>\n",
       "      <td>-499.348957</td>\n",
       "      <td>1499.652603</td>\n",
       "      <td>-499.946572</td>\n",
       "      <td>10.789890</td>\n",
       "      <td>3.228997</td>\n",
       "      <td>392.805010</td>\n",
       "      <td>42.074808</td>\n",
       "      <td>33.456903</td>\n",
       "      <td>9.739778</td>\n",
       "      <td>11.999662</td>\n",
       "      <td>6.101322</td>\n",
       "      <td>12.005726</td>\n",
       "      <td>6.099686</td>\n",
       "      <td>999.988008</td>\n",
       "      <td>-500.131036</td>\n",
       "      <td>1399.783917</td>\n",
       "      <td>-499.887446</td>\n",
       "      <td>1399.784038</td>\n",
       "      <td>-500.025925</td>\n",
       "      <td>1400.865788</td>\n",
       "      <td>-502.157623</td>\n",
       "      <td>1048.709752</td>\n",
       "      <td>-500.215435</td>\n",
       "      <td>949.727742</td>\n",
       "      <td>-501.000225</td>\n",
       "      <td>26.871670</td>\n",
       "      <td>-500.135869</td>\n",
       "      <td>22.904835</td>\n",
       "      <td>-500.086946</td>\n",
       "      <td>29.998121</td>\n",
       "      <td>-499.962099</td>\n",
       "      <td>26.941423</td>\n",
       "      <td>-499.886047</td>\n",
       "      <td>17.000626</td>\n",
       "      <td>-500.050683</td>\n",
       "      <td>14.983732</td>\n",
       "      <td>-500.702014</td>\n",
       "      <td>17.855982</td>\n",
       "      <td>-500.470544</td>\n",
       "      <td>12.049782</td>\n",
       "      <td>-500.197351</td>\n",
       "      <td>21.012058</td>\n",
       "      <td>-500.676502</td>\n",
       "    </tr>\n",
       "    <tr>\n",
       "      <th>2016-12-03 11:59:59</th>\n",
       "      <td>261.928410</td>\n",
       "      <td>10.924853</td>\n",
       "      <td>7.550000</td>\n",
       "      <td>1.383548</td>\n",
       "      <td>1502.208726</td>\n",
       "      <td>-500.285222</td>\n",
       "      <td>1498.184976</td>\n",
       "      <td>-499.678261</td>\n",
       "      <td>1503.466308</td>\n",
       "      <td>-500.609289</td>\n",
       "      <td>1499.165380</td>\n",
       "      <td>-500.099668</td>\n",
       "      <td>11.590349</td>\n",
       "      <td>4.722717</td>\n",
       "      <td>447.357657</td>\n",
       "      <td>44.553925</td>\n",
       "      <td>36.772760</td>\n",
       "      <td>11.399582</td>\n",
       "      <td>14.499797</td>\n",
       "      <td>6.698594</td>\n",
       "      <td>14.500284</td>\n",
       "      <td>6.699318</td>\n",
       "      <td>997.309807</td>\n",
       "      <td>-500.049430</td>\n",
       "      <td>1448.965680</td>\n",
       "      <td>-500.328882</td>\n",
       "      <td>1448.410104</td>\n",
       "      <td>-498.727548</td>\n",
       "      <td>1399.284894</td>\n",
       "      <td>-500.738023</td>\n",
       "      <td>1099.748194</td>\n",
       "      <td>-499.961968</td>\n",
       "      <td>999.050365</td>\n",
       "      <td>-500.109174</td>\n",
       "      <td>27.085305</td>\n",
       "      <td>-499.760306</td>\n",
       "      <td>23.036256</td>\n",
       "      <td>-500.333426</td>\n",
       "      <td>30.004920</td>\n",
       "      <td>-499.881604</td>\n",
       "      <td>27.021901</td>\n",
       "      <td>-499.899262</td>\n",
       "      <td>18.017003</td>\n",
       "      <td>-499.752508</td>\n",
       "      <td>16.092394</td>\n",
       "      <td>-499.102339</td>\n",
       "      <td>14.888865</td>\n",
       "      <td>-500.102039</td>\n",
       "      <td>11.993722</td>\n",
       "      <td>-500.345943</td>\n",
       "      <td>22.005175</td>\n",
       "      <td>-500.076659</td>\n",
       "    </tr>\n",
       "  </tbody>\n",
       "</table>\n",
       "</div>"
      ],
      "text/plain": [
       "                     primary_cleaner.input.sulfate  \\\n",
       "date                                                 \n",
       "2017-11-19 06:59:59                     233.558412   \n",
       "2016-10-14 00:59:59                     177.366752   \n",
       "2017-10-22 15:59:59                     229.602936   \n",
       "2016-12-16 03:59:59                     172.345363   \n",
       "2016-12-03 11:59:59                     261.928410   \n",
       "\n",
       "                     primary_cleaner.input.depressant  \\\n",
       "date                                                    \n",
       "2017-11-19 06:59:59                         11.016358   \n",
       "2016-10-14 00:59:59                         11.937329   \n",
       "2017-10-22 15:59:59                         13.989760   \n",
       "2016-12-16 03:59:59                         12.478845   \n",
       "2016-12-03 11:59:59                         10.924853   \n",
       "\n",
       "                     primary_cleaner.input.feed_size  \\\n",
       "date                                                   \n",
       "2017-11-19 06:59:59                         6.480000   \n",
       "2016-10-14 00:59:59                         7.743334   \n",
       "2017-10-22 15:59:59                         7.050000   \n",
       "2016-12-16 03:59:59                         7.360000   \n",
       "2016-12-03 11:59:59                         7.550000   \n",
       "\n",
       "                     primary_cleaner.input.xanthate  \\\n",
       "date                                                  \n",
       "2017-11-19 06:59:59                        4.012052   \n",
       "2016-10-14 00:59:59                        0.848520   \n",
       "2017-10-22 15:59:59                        2.513841   \n",
       "2016-12-16 03:59:59                        1.324675   \n",
       "2016-12-03 11:59:59                        1.383548   \n",
       "\n",
       "                     primary_cleaner.state.floatbank8_a_air  \\\n",
       "date                                                          \n",
       "2017-11-19 06:59:59                             1649.537165   \n",
       "2016-10-14 00:59:59                             1639.747479   \n",
       "2017-10-22 15:59:59                             1700.907850   \n",
       "2016-12-16 03:59:59                             1500.905514   \n",
       "2016-12-03 11:59:59                             1502.208726   \n",
       "\n",
       "                     primary_cleaner.state.floatbank8_a_level  \\\n",
       "date                                                            \n",
       "2017-11-19 06:59:59                               -500.250153   \n",
       "2016-10-14 00:59:59                               -499.150963   \n",
       "2017-10-22 15:59:59                               -480.622079   \n",
       "2016-12-16 03:59:59                               -499.725080   \n",
       "2016-12-03 11:59:59                               -500.285222   \n",
       "\n",
       "                     primary_cleaner.state.floatbank8_b_air  \\\n",
       "date                                                          \n",
       "2017-11-19 06:59:59                             1635.778486   \n",
       "2016-10-14 00:59:59                             1699.028517   \n",
       "2017-10-22 15:59:59                             1699.590429   \n",
       "2016-12-16 03:59:59                             1499.291720   \n",
       "2016-12-03 11:59:59                             1498.184976   \n",
       "\n",
       "                     primary_cleaner.state.floatbank8_b_level  \\\n",
       "date                                                            \n",
       "2017-11-19 06:59:59                               -508.481735   \n",
       "2016-10-14 00:59:59                               -500.102853   \n",
       "2017-10-22 15:59:59                               -557.399023   \n",
       "2016-12-16 03:59:59                               -499.188276   \n",
       "2016-12-03 11:59:59                               -499.678261   \n",
       "\n",
       "                     primary_cleaner.state.floatbank8_c_air  \\\n",
       "date                                                          \n",
       "2017-11-19 06:59:59                             1566.724061   \n",
       "2016-10-14 00:59:59                             1697.881204   \n",
       "2017-10-22 15:59:59                             1583.137364   \n",
       "2016-12-16 03:59:59                             1501.084925   \n",
       "2016-12-03 11:59:59                             1503.466308   \n",
       "\n",
       "                     primary_cleaner.state.floatbank8_c_level  \\\n",
       "date                                                            \n",
       "2017-11-19 06:59:59                               -491.298486   \n",
       "2016-10-14 00:59:59                               -500.246506   \n",
       "2017-10-22 15:59:59                               -489.137555   \n",
       "2016-12-16 03:59:59                               -499.348957   \n",
       "2016-12-03 11:59:59                               -500.609289   \n",
       "\n",
       "                     primary_cleaner.state.floatbank8_d_air  \\\n",
       "date                                                          \n",
       "2017-11-19 06:59:59                             1649.307725   \n",
       "2016-10-14 00:59:59                             1701.036785   \n",
       "2017-10-22 15:59:59                             1696.994501   \n",
       "2016-12-16 03:59:59                             1499.652603   \n",
       "2016-12-03 11:59:59                             1499.165380   \n",
       "\n",
       "                     primary_cleaner.state.floatbank8_d_level  \\\n",
       "date                                                            \n",
       "2017-11-19 06:59:59                               -500.980640   \n",
       "2016-10-14 00:59:59                               -500.518024   \n",
       "2017-10-22 15:59:59                               -501.040705   \n",
       "2016-12-16 03:59:59                               -499.946572   \n",
       "2016-12-03 11:59:59                               -500.099668   \n",
       "\n",
       "                     rougher.input.feed_ag  rougher.input.feed_pb  \\\n",
       "date                                                                \n",
       "2017-11-19 06:59:59              11.376031               4.850528   \n",
       "2016-10-14 00:59:59              10.654057               4.223969   \n",
       "2017-10-22 15:59:59              10.039821               5.564557   \n",
       "2016-12-16 03:59:59              10.789890               3.228997   \n",
       "2016-12-03 11:59:59              11.590349               4.722717   \n",
       "\n",
       "                     rougher.input.feed_rate  rougher.input.feed_size  \\\n",
       "date                                                                    \n",
       "2017-11-19 06:59:59               518.917913                56.232167   \n",
       "2016-10-14 00:59:59               418.356313                42.342514   \n",
       "2017-10-22 15:59:59               618.271034                67.312761   \n",
       "2016-12-16 03:59:59               392.805010                42.074808   \n",
       "2016-12-03 11:59:59               447.357657                44.553925   \n",
       "\n",
       "                     rougher.input.feed_sol  rougher.input.feed_au  \\\n",
       "date                                                                 \n",
       "2017-11-19 06:59:59               37.441219              11.716934   \n",
       "2016-10-14 00:59:59               35.103522              11.873050   \n",
       "2017-10-22 15:59:59               45.535336              10.083718   \n",
       "2016-12-16 03:59:59               33.456903               9.739778   \n",
       "2016-12-03 11:59:59               36.772760              11.399582   \n",
       "\n",
       "                     rougher.input.floatbank10_sulfate  \\\n",
       "date                                                     \n",
       "2017-11-19 06:59:59                          18.452760   \n",
       "2016-10-14 00:59:59                          13.999449   \n",
       "2017-10-22 15:59:59                          22.998109   \n",
       "2016-12-16 03:59:59                          11.999662   \n",
       "2016-12-03 11:59:59                          14.499797   \n",
       "\n",
       "                     rougher.input.floatbank10_xanthate  \\\n",
       "date                                                      \n",
       "2017-11-19 06:59:59                            6.690639   \n",
       "2016-10-14 00:59:59                            7.163446   \n",
       "2017-10-22 15:59:59                            7.101339   \n",
       "2016-12-16 03:59:59                            6.101322   \n",
       "2016-12-03 11:59:59                            6.698594   \n",
       "\n",
       "                     rougher.input.floatbank11_sulfate  \\\n",
       "date                                                     \n",
       "2017-11-19 06:59:59                          18.451534   \n",
       "2016-10-14 00:59:59                          14.008600   \n",
       "2017-10-22 15:59:59                          22.995689   \n",
       "2016-12-16 03:59:59                          12.005726   \n",
       "2016-12-03 11:59:59                          14.500284   \n",
       "\n",
       "                     rougher.input.floatbank11_xanthate  \\\n",
       "date                                                      \n",
       "2017-11-19 06:59:59                            6.694852   \n",
       "2016-10-14 00:59:59                            7.200799   \n",
       "2017-10-22 15:59:59                            7.100803   \n",
       "2016-12-16 03:59:59                            6.099686   \n",
       "2016-12-03 11:59:59                            6.699318   \n",
       "\n",
       "                     rougher.state.floatbank10_a_air  \\\n",
       "date                                                   \n",
       "2017-11-19 06:59:59                      1201.329326   \n",
       "2016-10-14 00:59:59                       999.971024   \n",
       "2017-10-22 15:59:59                      1300.230194   \n",
       "2016-12-16 03:59:59                       999.988008   \n",
       "2016-12-03 11:59:59                       997.309807   \n",
       "\n",
       "                     rougher.state.floatbank10_a_level  \\\n",
       "date                                                     \n",
       "2017-11-19 06:59:59                        -299.898524   \n",
       "2016-10-14 00:59:59                        -499.952365   \n",
       "2017-10-22 15:59:59                        -299.500480   \n",
       "2016-12-16 03:59:59                        -500.131036   \n",
       "2016-12-03 11:59:59                        -500.049430   \n",
       "\n",
       "                     rougher.state.floatbank10_b_air  \\\n",
       "date                                                   \n",
       "2017-11-19 06:59:59                      1301.365550   \n",
       "2016-10-14 00:59:59                      1449.624569   \n",
       "2017-10-22 15:59:59                      1000.423391   \n",
       "2016-12-16 03:59:59                      1399.783917   \n",
       "2016-12-03 11:59:59                      1448.965680   \n",
       "\n",
       "                     rougher.state.floatbank10_b_level  \\\n",
       "date                                                     \n",
       "2017-11-19 06:59:59                        -500.787829   \n",
       "2016-10-14 00:59:59                        -399.516367   \n",
       "2017-10-22 15:59:59                        -500.578677   \n",
       "2016-12-16 03:59:59                        -499.887446   \n",
       "2016-12-03 11:59:59                        -500.328882   \n",
       "\n",
       "                     rougher.state.floatbank10_c_air  \\\n",
       "date                                                   \n",
       "2017-11-19 06:59:59                      1299.681191   \n",
       "2016-10-14 00:59:59                      1399.239703   \n",
       "2017-10-22 15:59:59                       949.547668   \n",
       "2016-12-16 03:59:59                      1399.784038   \n",
       "2016-12-03 11:59:59                      1448.410104   \n",
       "\n",
       "                     rougher.state.floatbank10_c_level  \\\n",
       "date                                                     \n",
       "2017-11-19 06:59:59                        -500.166795   \n",
       "2016-10-14 00:59:59                        -399.467209   \n",
       "2017-10-22 15:59:59                        -499.957721   \n",
       "2016-12-16 03:59:59                        -500.025925   \n",
       "2016-12-03 11:59:59                        -498.727548   \n",
       "\n",
       "                     rougher.state.floatbank10_d_air  \\\n",
       "date                                                   \n",
       "2017-11-19 06:59:59                      1200.267883   \n",
       "2016-10-14 00:59:59                      1300.271917   \n",
       "2017-10-22 15:59:59                       900.864886   \n",
       "2016-12-16 03:59:59                      1400.865788   \n",
       "2016-12-03 11:59:59                      1399.284894   \n",
       "\n",
       "                     rougher.state.floatbank10_d_level  \\\n",
       "date                                                     \n",
       "2017-11-19 06:59:59                        -500.199229   \n",
       "2016-10-14 00:59:59                        -399.637613   \n",
       "2017-10-22 15:59:59                        -501.496683   \n",
       "2016-12-16 03:59:59                        -502.157623   \n",
       "2016-12-03 11:59:59                        -500.738023   \n",
       "\n",
       "                     rougher.state.floatbank10_e_air  \\\n",
       "date                                                   \n",
       "2017-11-19 06:59:59                      1099.185001   \n",
       "2016-10-14 00:59:59                      1050.338328   \n",
       "2017-10-22 15:59:59                       847.359932   \n",
       "2016-12-16 03:59:59                      1048.709752   \n",
       "2016-12-03 11:59:59                      1099.748194   \n",
       "\n",
       "                     rougher.state.floatbank10_e_level  \\\n",
       "date                                                     \n",
       "2017-11-19 06:59:59                        -499.791260   \n",
       "2016-10-14 00:59:59                        -399.760237   \n",
       "2017-10-22 15:59:59                        -500.751842   \n",
       "2016-12-16 03:59:59                        -500.215435   \n",
       "2016-12-03 11:59:59                        -499.961968   \n",
       "\n",
       "                     rougher.state.floatbank10_f_air  \\\n",
       "date                                                   \n",
       "2017-11-19 06:59:59                       998.959591   \n",
       "2016-10-14 00:59:59                       950.432917   \n",
       "2017-10-22 15:59:59                       847.222546   \n",
       "2016-12-16 03:59:59                       949.727742   \n",
       "2016-12-03 11:59:59                       999.050365   \n",
       "\n",
       "                     rougher.state.floatbank10_f_level  \\\n",
       "date                                                     \n",
       "2017-11-19 06:59:59                        -499.837064   \n",
       "2016-10-14 00:59:59                        -399.526459   \n",
       "2017-10-22 15:59:59                        -499.333770   \n",
       "2016-12-16 03:59:59                        -501.000225   \n",
       "2016-12-03 11:59:59                        -500.109174   \n",
       "\n",
       "                     secondary_cleaner.state.floatbank2_a_air  \\\n",
       "date                                                            \n",
       "2017-11-19 06:59:59                                 21.887509   \n",
       "2016-10-14 00:59:59                                 30.053405   \n",
       "2017-10-22 15:59:59                                 31.168231   \n",
       "2016-12-16 03:59:59                                 26.871670   \n",
       "2016-12-03 11:59:59                                 27.085305   \n",
       "\n",
       "                     secondary_cleaner.state.floatbank2_a_level  \\\n",
       "date                                                              \n",
       "2017-11-19 06:59:59                                 -499.784110   \n",
       "2016-10-14 00:59:59                                 -499.777779   \n",
       "2017-10-22 15:59:59                                 -500.053256   \n",
       "2016-12-16 03:59:59                                 -500.135869   \n",
       "2016-12-03 11:59:59                                 -499.760306   \n",
       "\n",
       "                     secondary_cleaner.state.floatbank2_b_air  \\\n",
       "date                                                            \n",
       "2017-11-19 06:59:59                                 19.915967   \n",
       "2016-10-14 00:59:59                                 24.947242   \n",
       "2017-10-22 15:59:59                                 28.039734   \n",
       "2016-12-16 03:59:59                                 22.904835   \n",
       "2016-12-03 11:59:59                                 23.036256   \n",
       "\n",
       "                     secondary_cleaner.state.floatbank2_b_level  \\\n",
       "date                                                              \n",
       "2017-11-19 06:59:59                                 -499.811095   \n",
       "2016-10-14 00:59:59                                 -500.706015   \n",
       "2017-10-22 15:59:59                                 -500.127632   \n",
       "2016-12-16 03:59:59                                 -500.086946   \n",
       "2016-12-03 11:59:59                                 -500.333426   \n",
       "\n",
       "                     secondary_cleaner.state.floatbank3_a_air  \\\n",
       "date                                                            \n",
       "2017-11-19 06:59:59                                 24.984392   \n",
       "2016-10-14 00:59:59                                 32.968579   \n",
       "2017-10-22 15:59:59                                 25.012157   \n",
       "2016-12-16 03:59:59                                 29.998121   \n",
       "2016-12-03 11:59:59                                 30.004920   \n",
       "\n",
       "                     secondary_cleaner.state.floatbank3_a_level  \\\n",
       "date                                                              \n",
       "2017-11-19 06:59:59                                 -499.569134   \n",
       "2016-10-14 00:59:59                                 -500.314425   \n",
       "2017-10-22 15:59:59                                 -500.618402   \n",
       "2016-12-16 03:59:59                                 -499.962099   \n",
       "2016-12-03 11:59:59                                 -499.881604   \n",
       "\n",
       "                     secondary_cleaner.state.floatbank3_b_air  \\\n",
       "date                                                            \n",
       "2017-11-19 06:59:59                                 21.997889   \n",
       "2016-10-14 00:59:59                                 31.018272   \n",
       "2017-10-22 15:59:59                                 23.022836   \n",
       "2016-12-16 03:59:59                                 26.941423   \n",
       "2016-12-03 11:59:59                                 27.021901   \n",
       "\n",
       "                     secondary_cleaner.state.floatbank3_b_level  \\\n",
       "date                                                              \n",
       "2017-11-19 06:59:59                                 -500.114443   \n",
       "2016-10-14 00:59:59                                 -499.955141   \n",
       "2017-10-22 15:59:59                                 -500.174962   \n",
       "2016-12-16 03:59:59                                 -499.886047   \n",
       "2016-12-03 11:59:59                                 -499.899262   \n",
       "\n",
       "                     secondary_cleaner.state.floatbank4_a_air  \\\n",
       "date                                                            \n",
       "2017-11-19 06:59:59                                 16.988208   \n",
       "2016-10-14 00:59:59                                 16.007696   \n",
       "2017-10-22 15:59:59                                 21.017396   \n",
       "2016-12-16 03:59:59                                 17.000626   \n",
       "2016-12-03 11:59:59                                 18.017003   \n",
       "\n",
       "                     secondary_cleaner.state.floatbank4_a_level  \\\n",
       "date                                                              \n",
       "2017-11-19 06:59:59                                 -502.009137   \n",
       "2016-10-14 00:59:59                                 -500.785370   \n",
       "2017-10-22 15:59:59                                 -501.396368   \n",
       "2016-12-16 03:59:59                                 -500.050683   \n",
       "2016-12-03 11:59:59                                 -499.752508   \n",
       "\n",
       "                     secondary_cleaner.state.floatbank4_b_air  \\\n",
       "date                                                            \n",
       "2017-11-19 06:59:59                                 14.959560   \n",
       "2016-10-14 00:59:59                                 11.964814   \n",
       "2017-10-22 15:59:59                                 19.068860   \n",
       "2016-12-16 03:59:59                                 14.983732   \n",
       "2016-12-03 11:59:59                                 16.092394   \n",
       "\n",
       "                     secondary_cleaner.state.floatbank4_b_level  \\\n",
       "date                                                              \n",
       "2017-11-19 06:59:59                                 -508.136707   \n",
       "2016-10-14 00:59:59                                 -502.727346   \n",
       "2017-10-22 15:59:59                                 -399.876622   \n",
       "2016-12-16 03:59:59                                 -500.702014   \n",
       "2016-12-03 11:59:59                                 -499.102339   \n",
       "\n",
       "                     secondary_cleaner.state.floatbank5_a_air  \\\n",
       "date                                                            \n",
       "2017-11-19 06:59:59                                 10.940890   \n",
       "2016-10-14 00:59:59                                  9.618442   \n",
       "2017-10-22 15:59:59                                 14.960667   \n",
       "2016-12-16 03:59:59                                 17.855982   \n",
       "2016-12-03 11:59:59                                 14.888865   \n",
       "\n",
       "                     secondary_cleaner.state.floatbank5_a_level  \\\n",
       "date                                                              \n",
       "2017-11-19 06:59:59                                 -501.567806   \n",
       "2016-10-14 00:59:59                                 -499.799398   \n",
       "2017-10-22 15:59:59                                 -501.558474   \n",
       "2016-12-16 03:59:59                                 -500.470544   \n",
       "2016-12-03 11:59:59                                 -500.102039   \n",
       "\n",
       "                     secondary_cleaner.state.floatbank5_b_air  \\\n",
       "date                                                            \n",
       "2017-11-19 06:59:59                                  9.007690   \n",
       "2016-10-14 00:59:59                                  8.007930   \n",
       "2017-10-22 15:59:59                                 11.005344   \n",
       "2016-12-16 03:59:59                                 12.049782   \n",
       "2016-12-03 11:59:59                                 11.993722   \n",
       "\n",
       "                     secondary_cleaner.state.floatbank5_b_level  \\\n",
       "date                                                              \n",
       "2017-11-19 06:59:59                                 -436.488316   \n",
       "2016-10-14 00:59:59                                 -499.276235   \n",
       "2017-10-22 15:59:59                                 -500.153014   \n",
       "2016-12-16 03:59:59                                 -500.197351   \n",
       "2016-12-03 11:59:59                                 -500.345943   \n",
       "\n",
       "                     secondary_cleaner.state.floatbank6_a_air  \\\n",
       "date                                                            \n",
       "2017-11-19 06:59:59                                 16.004253   \n",
       "2016-10-14 00:59:59                                 17.011526   \n",
       "2017-10-22 15:59:59                                 15.997183   \n",
       "2016-12-16 03:59:59                                 21.012058   \n",
       "2016-12-03 11:59:59                                 22.005175   \n",
       "\n",
       "                     secondary_cleaner.state.floatbank6_a_level  \n",
       "date                                                             \n",
       "2017-11-19 06:59:59                                 -500.088476  \n",
       "2016-10-14 00:59:59                                 -500.705532  \n",
       "2017-10-22 15:59:59                                 -500.826263  \n",
       "2016-12-16 03:59:59                                 -500.676502  \n",
       "2016-12-03 11:59:59                                 -500.076659  "
      ]
     },
     "metadata": {},
     "output_type": "display_data"
    },
    {
     "name": "stdout",
     "output_type": "stream",
     "text": [
      "<class 'pandas.core.frame.DataFrame'>\n",
      "Index: 5290 entries, 2016-09-01 00:59:59 to 2017-12-31 23:59:59\n",
      "Data columns (total 52 columns):\n",
      " #   Column                                      Non-Null Count  Dtype  \n",
      "---  ------                                      --------------  -----  \n",
      " 0   primary_cleaner.input.sulfate               5286 non-null   float64\n",
      " 1   primary_cleaner.input.depressant            5285 non-null   float64\n",
      " 2   primary_cleaner.input.feed_size             5290 non-null   float64\n",
      " 3   primary_cleaner.input.xanthate              5286 non-null   float64\n",
      " 4   primary_cleaner.state.floatbank8_a_air      5290 non-null   float64\n",
      " 5   primary_cleaner.state.floatbank8_a_level    5290 non-null   float64\n",
      " 6   primary_cleaner.state.floatbank8_b_air      5290 non-null   float64\n",
      " 7   primary_cleaner.state.floatbank8_b_level    5290 non-null   float64\n",
      " 8   primary_cleaner.state.floatbank8_c_air      5290 non-null   float64\n",
      " 9   primary_cleaner.state.floatbank8_c_level    5290 non-null   float64\n",
      " 10  primary_cleaner.state.floatbank8_d_air      5290 non-null   float64\n",
      " 11  primary_cleaner.state.floatbank8_d_level    5290 non-null   float64\n",
      " 12  rougher.input.feed_ag                       5290 non-null   float64\n",
      " 13  rougher.input.feed_pb                       5290 non-null   float64\n",
      " 14  rougher.input.feed_rate                     5287 non-null   float64\n",
      " 15  rougher.input.feed_size                     5289 non-null   float64\n",
      " 16  rougher.input.feed_sol                      5269 non-null   float64\n",
      " 17  rougher.input.feed_au                       5290 non-null   float64\n",
      " 18  rougher.input.floatbank10_sulfate           5285 non-null   float64\n",
      " 19  rougher.input.floatbank10_xanthate          5290 non-null   float64\n",
      " 20  rougher.input.floatbank11_sulfate           5282 non-null   float64\n",
      " 21  rougher.input.floatbank11_xanthate          5265 non-null   float64\n",
      " 22  rougher.state.floatbank10_a_air             5290 non-null   float64\n",
      " 23  rougher.state.floatbank10_a_level           5290 non-null   float64\n",
      " 24  rougher.state.floatbank10_b_air             5290 non-null   float64\n",
      " 25  rougher.state.floatbank10_b_level           5290 non-null   float64\n",
      " 26  rougher.state.floatbank10_c_air             5290 non-null   float64\n",
      " 27  rougher.state.floatbank10_c_level           5290 non-null   float64\n",
      " 28  rougher.state.floatbank10_d_air             5290 non-null   float64\n",
      " 29  rougher.state.floatbank10_d_level           5290 non-null   float64\n",
      " 30  rougher.state.floatbank10_e_air             5290 non-null   float64\n",
      " 31  rougher.state.floatbank10_e_level           5290 non-null   float64\n",
      " 32  rougher.state.floatbank10_f_air             5290 non-null   float64\n",
      " 33  rougher.state.floatbank10_f_level           5290 non-null   float64\n",
      " 34  secondary_cleaner.state.floatbank2_a_air    5287 non-null   float64\n",
      " 35  secondary_cleaner.state.floatbank2_a_level  5290 non-null   float64\n",
      " 36  secondary_cleaner.state.floatbank2_b_air    5288 non-null   float64\n",
      " 37  secondary_cleaner.state.floatbank2_b_level  5290 non-null   float64\n",
      " 38  secondary_cleaner.state.floatbank3_a_air    5281 non-null   float64\n",
      " 39  secondary_cleaner.state.floatbank3_a_level  5290 non-null   float64\n",
      " 40  secondary_cleaner.state.floatbank3_b_air    5290 non-null   float64\n",
      " 41  secondary_cleaner.state.floatbank3_b_level  5290 non-null   float64\n",
      " 42  secondary_cleaner.state.floatbank4_a_air    5290 non-null   float64\n",
      " 43  secondary_cleaner.state.floatbank4_a_level  5290 non-null   float64\n",
      " 44  secondary_cleaner.state.floatbank4_b_air    5290 non-null   float64\n",
      " 45  secondary_cleaner.state.floatbank4_b_level  5290 non-null   float64\n",
      " 46  secondary_cleaner.state.floatbank5_a_air    5290 non-null   float64\n",
      " 47  secondary_cleaner.state.floatbank5_a_level  5290 non-null   float64\n",
      " 48  secondary_cleaner.state.floatbank5_b_air    5290 non-null   float64\n",
      " 49  secondary_cleaner.state.floatbank5_b_level  5290 non-null   float64\n",
      " 50  secondary_cleaner.state.floatbank6_a_air    5290 non-null   float64\n",
      " 51  secondary_cleaner.state.floatbank6_a_level  5290 non-null   float64\n",
      "dtypes: float64(52)\n",
      "memory usage: 2.1+ MB\n"
     ]
    },
    {
     "data": {
      "text/plain": [
       "None"
      ]
     },
     "metadata": {},
     "output_type": "display_data"
    },
    {
     "data": {
      "text/plain": [
       "0"
      ]
     },
     "metadata": {},
     "output_type": "display_data"
    },
    {
     "data": {
      "text/plain": [
       "primary_cleaner.input.sulfate                  4\n",
       "primary_cleaner.input.depressant               5\n",
       "primary_cleaner.input.feed_size                0\n",
       "primary_cleaner.input.xanthate                 4\n",
       "primary_cleaner.state.floatbank8_a_air         0\n",
       "primary_cleaner.state.floatbank8_a_level       0\n",
       "primary_cleaner.state.floatbank8_b_air         0\n",
       "primary_cleaner.state.floatbank8_b_level       0\n",
       "primary_cleaner.state.floatbank8_c_air         0\n",
       "primary_cleaner.state.floatbank8_c_level       0\n",
       "primary_cleaner.state.floatbank8_d_air         0\n",
       "primary_cleaner.state.floatbank8_d_level       0\n",
       "rougher.input.feed_ag                          0\n",
       "rougher.input.feed_pb                          0\n",
       "rougher.input.feed_rate                        3\n",
       "rougher.input.feed_size                        1\n",
       "rougher.input.feed_sol                        21\n",
       "rougher.input.feed_au                          0\n",
       "rougher.input.floatbank10_sulfate              5\n",
       "rougher.input.floatbank10_xanthate             0\n",
       "rougher.input.floatbank11_sulfate              8\n",
       "rougher.input.floatbank11_xanthate            25\n",
       "rougher.state.floatbank10_a_air                0\n",
       "rougher.state.floatbank10_a_level              0\n",
       "rougher.state.floatbank10_b_air                0\n",
       "rougher.state.floatbank10_b_level              0\n",
       "rougher.state.floatbank10_c_air                0\n",
       "rougher.state.floatbank10_c_level              0\n",
       "rougher.state.floatbank10_d_air                0\n",
       "rougher.state.floatbank10_d_level              0\n",
       "rougher.state.floatbank10_e_air                0\n",
       "rougher.state.floatbank10_e_level              0\n",
       "rougher.state.floatbank10_f_air                0\n",
       "rougher.state.floatbank10_f_level              0\n",
       "secondary_cleaner.state.floatbank2_a_air       3\n",
       "secondary_cleaner.state.floatbank2_a_level     0\n",
       "secondary_cleaner.state.floatbank2_b_air       2\n",
       "secondary_cleaner.state.floatbank2_b_level     0\n",
       "secondary_cleaner.state.floatbank3_a_air       9\n",
       "secondary_cleaner.state.floatbank3_a_level     0\n",
       "secondary_cleaner.state.floatbank3_b_air       0\n",
       "secondary_cleaner.state.floatbank3_b_level     0\n",
       "secondary_cleaner.state.floatbank4_a_air       0\n",
       "secondary_cleaner.state.floatbank4_a_level     0\n",
       "secondary_cleaner.state.floatbank4_b_air       0\n",
       "secondary_cleaner.state.floatbank4_b_level     0\n",
       "secondary_cleaner.state.floatbank5_a_air       0\n",
       "secondary_cleaner.state.floatbank5_a_level     0\n",
       "secondary_cleaner.state.floatbank5_b_air       0\n",
       "secondary_cleaner.state.floatbank5_b_level     0\n",
       "secondary_cleaner.state.floatbank6_a_air       0\n",
       "secondary_cleaner.state.floatbank6_a_level     0\n",
       "dtype: int64"
      ]
     },
     "metadata": {},
     "output_type": "display_data"
    }
   ],
   "source": [
    "info(df_test_features)"
   ]
  },
  {
   "cell_type": "code",
   "execution_count": 6,
   "metadata": {},
   "outputs": [
    {
     "data": {
      "text/html": [
       "<div>\n",
       "<style scoped>\n",
       "    .dataframe tbody tr th:only-of-type {\n",
       "        vertical-align: middle;\n",
       "    }\n",
       "\n",
       "    .dataframe tbody tr th {\n",
       "        vertical-align: top;\n",
       "    }\n",
       "\n",
       "    .dataframe thead th {\n",
       "        text-align: right;\n",
       "    }\n",
       "</style>\n",
       "<table border=\"1\" class=\"dataframe\">\n",
       "  <thead>\n",
       "    <tr style=\"text-align: right;\">\n",
       "      <th></th>\n",
       "      <th>final.output.concentrate_ag</th>\n",
       "      <th>final.output.concentrate_pb</th>\n",
       "      <th>final.output.concentrate_sol</th>\n",
       "      <th>final.output.concentrate_au</th>\n",
       "      <th>final.output.recovery</th>\n",
       "      <th>final.output.tail_ag</th>\n",
       "      <th>final.output.tail_pb</th>\n",
       "      <th>final.output.tail_sol</th>\n",
       "      <th>final.output.tail_au</th>\n",
       "      <th>primary_cleaner.input.sulfate</th>\n",
       "      <th>primary_cleaner.input.depressant</th>\n",
       "      <th>primary_cleaner.input.feed_size</th>\n",
       "      <th>primary_cleaner.input.xanthate</th>\n",
       "      <th>primary_cleaner.output.concentrate_ag</th>\n",
       "      <th>primary_cleaner.output.concentrate_pb</th>\n",
       "      <th>primary_cleaner.output.concentrate_sol</th>\n",
       "      <th>primary_cleaner.output.concentrate_au</th>\n",
       "      <th>primary_cleaner.output.tail_ag</th>\n",
       "      <th>primary_cleaner.output.tail_pb</th>\n",
       "      <th>primary_cleaner.output.tail_sol</th>\n",
       "      <th>primary_cleaner.output.tail_au</th>\n",
       "      <th>primary_cleaner.state.floatbank8_a_air</th>\n",
       "      <th>primary_cleaner.state.floatbank8_a_level</th>\n",
       "      <th>primary_cleaner.state.floatbank8_b_air</th>\n",
       "      <th>primary_cleaner.state.floatbank8_b_level</th>\n",
       "      <th>primary_cleaner.state.floatbank8_c_air</th>\n",
       "      <th>primary_cleaner.state.floatbank8_c_level</th>\n",
       "      <th>primary_cleaner.state.floatbank8_d_air</th>\n",
       "      <th>primary_cleaner.state.floatbank8_d_level</th>\n",
       "      <th>rougher.calculation.sulfate_to_au_concentrate</th>\n",
       "      <th>rougher.calculation.floatbank10_sulfate_to_au_feed</th>\n",
       "      <th>rougher.calculation.floatbank11_sulfate_to_au_feed</th>\n",
       "      <th>rougher.calculation.au_pb_ratio</th>\n",
       "      <th>rougher.input.feed_ag</th>\n",
       "      <th>rougher.input.feed_pb</th>\n",
       "      <th>rougher.input.feed_rate</th>\n",
       "      <th>rougher.input.feed_size</th>\n",
       "      <th>rougher.input.feed_sol</th>\n",
       "      <th>rougher.input.feed_au</th>\n",
       "      <th>rougher.input.floatbank10_sulfate</th>\n",
       "      <th>rougher.input.floatbank10_xanthate</th>\n",
       "      <th>rougher.input.floatbank11_sulfate</th>\n",
       "      <th>rougher.input.floatbank11_xanthate</th>\n",
       "      <th>rougher.output.concentrate_ag</th>\n",
       "      <th>rougher.output.concentrate_pb</th>\n",
       "      <th>rougher.output.concentrate_sol</th>\n",
       "      <th>rougher.output.concentrate_au</th>\n",
       "      <th>rougher.output.recovery</th>\n",
       "      <th>rougher.output.tail_ag</th>\n",
       "      <th>rougher.output.tail_pb</th>\n",
       "      <th>rougher.output.tail_sol</th>\n",
       "      <th>rougher.output.tail_au</th>\n",
       "      <th>rougher.state.floatbank10_a_air</th>\n",
       "      <th>rougher.state.floatbank10_a_level</th>\n",
       "      <th>rougher.state.floatbank10_b_air</th>\n",
       "      <th>rougher.state.floatbank10_b_level</th>\n",
       "      <th>rougher.state.floatbank10_c_air</th>\n",
       "      <th>rougher.state.floatbank10_c_level</th>\n",
       "      <th>rougher.state.floatbank10_d_air</th>\n",
       "      <th>rougher.state.floatbank10_d_level</th>\n",
       "      <th>rougher.state.floatbank10_e_air</th>\n",
       "      <th>rougher.state.floatbank10_e_level</th>\n",
       "      <th>rougher.state.floatbank10_f_air</th>\n",
       "      <th>rougher.state.floatbank10_f_level</th>\n",
       "      <th>secondary_cleaner.output.tail_ag</th>\n",
       "      <th>secondary_cleaner.output.tail_pb</th>\n",
       "      <th>secondary_cleaner.output.tail_sol</th>\n",
       "      <th>secondary_cleaner.output.tail_au</th>\n",
       "      <th>secondary_cleaner.state.floatbank2_a_air</th>\n",
       "      <th>secondary_cleaner.state.floatbank2_a_level</th>\n",
       "      <th>secondary_cleaner.state.floatbank2_b_air</th>\n",
       "      <th>secondary_cleaner.state.floatbank2_b_level</th>\n",
       "      <th>secondary_cleaner.state.floatbank3_a_air</th>\n",
       "      <th>secondary_cleaner.state.floatbank3_a_level</th>\n",
       "      <th>secondary_cleaner.state.floatbank3_b_air</th>\n",
       "      <th>secondary_cleaner.state.floatbank3_b_level</th>\n",
       "      <th>secondary_cleaner.state.floatbank4_a_air</th>\n",
       "      <th>secondary_cleaner.state.floatbank4_a_level</th>\n",
       "      <th>secondary_cleaner.state.floatbank4_b_air</th>\n",
       "      <th>secondary_cleaner.state.floatbank4_b_level</th>\n",
       "      <th>secondary_cleaner.state.floatbank5_a_air</th>\n",
       "      <th>secondary_cleaner.state.floatbank5_a_level</th>\n",
       "      <th>secondary_cleaner.state.floatbank5_b_air</th>\n",
       "      <th>secondary_cleaner.state.floatbank5_b_level</th>\n",
       "      <th>secondary_cleaner.state.floatbank6_a_air</th>\n",
       "      <th>secondary_cleaner.state.floatbank6_a_level</th>\n",
       "    </tr>\n",
       "    <tr>\n",
       "      <th>date</th>\n",
       "      <th></th>\n",
       "      <th></th>\n",
       "      <th></th>\n",
       "      <th></th>\n",
       "      <th></th>\n",
       "      <th></th>\n",
       "      <th></th>\n",
       "      <th></th>\n",
       "      <th></th>\n",
       "      <th></th>\n",
       "      <th></th>\n",
       "      <th></th>\n",
       "      <th></th>\n",
       "      <th></th>\n",
       "      <th></th>\n",
       "      <th></th>\n",
       "      <th></th>\n",
       "      <th></th>\n",
       "      <th></th>\n",
       "      <th></th>\n",
       "      <th></th>\n",
       "      <th></th>\n",
       "      <th></th>\n",
       "      <th></th>\n",
       "      <th></th>\n",
       "      <th></th>\n",
       "      <th></th>\n",
       "      <th></th>\n",
       "      <th></th>\n",
       "      <th></th>\n",
       "      <th></th>\n",
       "      <th></th>\n",
       "      <th></th>\n",
       "      <th></th>\n",
       "      <th></th>\n",
       "      <th></th>\n",
       "      <th></th>\n",
       "      <th></th>\n",
       "      <th></th>\n",
       "      <th></th>\n",
       "      <th></th>\n",
       "      <th></th>\n",
       "      <th></th>\n",
       "      <th></th>\n",
       "      <th></th>\n",
       "      <th></th>\n",
       "      <th></th>\n",
       "      <th></th>\n",
       "      <th></th>\n",
       "      <th></th>\n",
       "      <th></th>\n",
       "      <th></th>\n",
       "      <th></th>\n",
       "      <th></th>\n",
       "      <th></th>\n",
       "      <th></th>\n",
       "      <th></th>\n",
       "      <th></th>\n",
       "      <th></th>\n",
       "      <th></th>\n",
       "      <th></th>\n",
       "      <th></th>\n",
       "      <th></th>\n",
       "      <th></th>\n",
       "      <th></th>\n",
       "      <th></th>\n",
       "      <th></th>\n",
       "      <th></th>\n",
       "      <th></th>\n",
       "      <th></th>\n",
       "      <th></th>\n",
       "      <th></th>\n",
       "      <th></th>\n",
       "      <th></th>\n",
       "      <th></th>\n",
       "      <th></th>\n",
       "      <th></th>\n",
       "      <th></th>\n",
       "      <th></th>\n",
       "      <th></th>\n",
       "      <th></th>\n",
       "      <th></th>\n",
       "      <th></th>\n",
       "      <th></th>\n",
       "      <th></th>\n",
       "      <th></th>\n",
       "    </tr>\n",
       "  </thead>\n",
       "  <tbody>\n",
       "    <tr>\n",
       "      <th>2016-02-24 14:00:00</th>\n",
       "      <td>4.313079</td>\n",
       "      <td>12.514828</td>\n",
       "      <td>11.377263</td>\n",
       "      <td>43.578747</td>\n",
       "      <td>70.314169</td>\n",
       "      <td>12.934959</td>\n",
       "      <td>2.742259</td>\n",
       "      <td>11.707530</td>\n",
       "      <td>3.372015</td>\n",
       "      <td>148.929844</td>\n",
       "      <td>10.980669</td>\n",
       "      <td>8.22</td>\n",
       "      <td>0.710541</td>\n",
       "      <td>8.946256</td>\n",
       "      <td>10.281315</td>\n",
       "      <td>15.531315</td>\n",
       "      <td>34.115938</td>\n",
       "      <td>17.323574</td>\n",
       "      <td>3.977528</td>\n",
       "      <td>7.914417</td>\n",
       "      <td>3.638079</td>\n",
       "      <td>1546.279766</td>\n",
       "      <td>-450.030311</td>\n",
       "      <td>1553.692647</td>\n",
       "      <td>-450.081673</td>\n",
       "      <td>1553.552018</td>\n",
       "      <td>-449.991649</td>\n",
       "      <td>1244.124005</td>\n",
       "      <td>-450.001403</td>\n",
       "      <td>48892.865702</td>\n",
       "      <td>3096.306773</td>\n",
       "      <td>3104.044380</td>\n",
       "      <td>2.100013</td>\n",
       "      <td>11.398907</td>\n",
       "      <td>4.571216</td>\n",
       "      <td>351.281889</td>\n",
       "      <td>41.096924</td>\n",
       "      <td>30.225805</td>\n",
       "      <td>9.599615</td>\n",
       "      <td>10.295676</td>\n",
       "      <td>5.706480</td>\n",
       "      <td>10.313436</td>\n",
       "      <td>5.697617</td>\n",
       "      <td>12.456583</td>\n",
       "      <td>9.036817</td>\n",
       "      <td>29.575227</td>\n",
       "      <td>20.740149</td>\n",
       "      <td>91.689037</td>\n",
       "      <td>5.247344</td>\n",
       "      <td>0.301369</td>\n",
       "      <td>12.912565</td>\n",
       "      <td>1.386030</td>\n",
       "      <td>1099.400121</td>\n",
       "      <td>-499.874203</td>\n",
       "      <td>1649.803289</td>\n",
       "      <td>-499.693861</td>\n",
       "      <td>1648.646146</td>\n",
       "      <td>-501.999727</td>\n",
       "      <td>1650.757788</td>\n",
       "      <td>-499.220255</td>\n",
       "      <td>1599.508794</td>\n",
       "      <td>-500.212139</td>\n",
       "      <td>1601.142745</td>\n",
       "      <td>-500.418107</td>\n",
       "      <td>15.817175</td>\n",
       "      <td>5.584611</td>\n",
       "      <td>11.398665</td>\n",
       "      <td>4.004858</td>\n",
       "      <td>31.021713</td>\n",
       "      <td>-499.343478</td>\n",
       "      <td>28.981013</td>\n",
       "      <td>-499.627304</td>\n",
       "      <td>28.037090</td>\n",
       "      <td>-500.299927</td>\n",
       "      <td>26.022034</td>\n",
       "      <td>-500.014219</td>\n",
       "      <td>14.021794</td>\n",
       "      <td>-497.414274</td>\n",
       "      <td>12.012708</td>\n",
       "      <td>-499.954051</td>\n",
       "      <td>12.011052</td>\n",
       "      <td>-499.751127</td>\n",
       "      <td>10.040341</td>\n",
       "      <td>-499.402553</td>\n",
       "      <td>19.982461</td>\n",
       "      <td>-500.540918</td>\n",
       "    </tr>\n",
       "    <tr>\n",
       "      <th>2017-07-12 07:59:59</th>\n",
       "      <td>6.479581</td>\n",
       "      <td>11.547810</td>\n",
       "      <td>12.010130</td>\n",
       "      <td>40.984069</td>\n",
       "      <td>61.902775</td>\n",
       "      <td>6.672270</td>\n",
       "      <td>2.164376</td>\n",
       "      <td>11.053715</td>\n",
       "      <td>2.358899</td>\n",
       "      <td>130.852676</td>\n",
       "      <td>4.870356</td>\n",
       "      <td>7.04</td>\n",
       "      <td>0.386634</td>\n",
       "      <td>8.761834</td>\n",
       "      <td>10.298206</td>\n",
       "      <td>8.014238</td>\n",
       "      <td>31.747554</td>\n",
       "      <td>10.933228</td>\n",
       "      <td>0.856895</td>\n",
       "      <td>7.953633</td>\n",
       "      <td>2.870370</td>\n",
       "      <td>1753.794075</td>\n",
       "      <td>-499.760343</td>\n",
       "      <td>1701.592208</td>\n",
       "      <td>-499.755226</td>\n",
       "      <td>1754.423800</td>\n",
       "      <td>-499.136218</td>\n",
       "      <td>1750.628355</td>\n",
       "      <td>-493.149948</td>\n",
       "      <td>56763.464251</td>\n",
       "      <td>5180.601963</td>\n",
       "      <td>5180.355810</td>\n",
       "      <td>2.273838</td>\n",
       "      <td>6.785455</td>\n",
       "      <td>2.490171</td>\n",
       "      <td>542.889397</td>\n",
       "      <td>51.650533</td>\n",
       "      <td>36.343674</td>\n",
       "      <td>5.662245</td>\n",
       "      <td>16.001217</td>\n",
       "      <td>5.197573</td>\n",
       "      <td>15.996809</td>\n",
       "      <td>5.199181</td>\n",
       "      <td>11.358774</td>\n",
       "      <td>7.935929</td>\n",
       "      <td>31.510237</td>\n",
       "      <td>20.501499</td>\n",
       "      <td>74.570992</td>\n",
       "      <td>5.229915</td>\n",
       "      <td>0.674773</td>\n",
       "      <td>15.774999</td>\n",
       "      <td>1.813314</td>\n",
       "      <td>1004.018124</td>\n",
       "      <td>-300.008241</td>\n",
       "      <td>1502.219327</td>\n",
       "      <td>-400.010665</td>\n",
       "      <td>1501.415557</td>\n",
       "      <td>-399.756006</td>\n",
       "      <td>1499.767058</td>\n",
       "      <td>-401.051549</td>\n",
       "      <td>1299.942343</td>\n",
       "      <td>-401.787667</td>\n",
       "      <td>1200.311577</td>\n",
       "      <td>-401.580114</td>\n",
       "      <td>16.207388</td>\n",
       "      <td>6.329304</td>\n",
       "      <td>3.124715</td>\n",
       "      <td>4.175302</td>\n",
       "      <td>34.947107</td>\n",
       "      <td>-500.118424</td>\n",
       "      <td>27.015741</td>\n",
       "      <td>-507.483457</td>\n",
       "      <td>24.983900</td>\n",
       "      <td>-500.872530</td>\n",
       "      <td>19.938106</td>\n",
       "      <td>-504.653544</td>\n",
       "      <td>22.043888</td>\n",
       "      <td>-498.098681</td>\n",
       "      <td>15.006619</td>\n",
       "      <td>-382.915969</td>\n",
       "      <td>18.020612</td>\n",
       "      <td>-501.496463</td>\n",
       "      <td>12.987173</td>\n",
       "      <td>-500.064845</td>\n",
       "      <td>15.005274</td>\n",
       "      <td>-500.258666</td>\n",
       "    </tr>\n",
       "    <tr>\n",
       "      <th>2018-02-18 00:59:59</th>\n",
       "      <td>5.763447</td>\n",
       "      <td>9.495226</td>\n",
       "      <td>8.520560</td>\n",
       "      <td>45.223275</td>\n",
       "      <td>82.380880</td>\n",
       "      <td>9.725897</td>\n",
       "      <td>0.708326</td>\n",
       "      <td>12.883346</td>\n",
       "      <td>1.432423</td>\n",
       "      <td>129.002745</td>\n",
       "      <td>8.000270</td>\n",
       "      <td>7.50</td>\n",
       "      <td>1.814472</td>\n",
       "      <td>9.923524</td>\n",
       "      <td>9.317648</td>\n",
       "      <td>11.402917</td>\n",
       "      <td>31.733692</td>\n",
       "      <td>20.017657</td>\n",
       "      <td>4.326194</td>\n",
       "      <td>7.288545</td>\n",
       "      <td>2.425490</td>\n",
       "      <td>1698.568675</td>\n",
       "      <td>-499.171504</td>\n",
       "      <td>1695.930752</td>\n",
       "      <td>-498.785078</td>\n",
       "      <td>1699.552407</td>\n",
       "      <td>-498.798543</td>\n",
       "      <td>1699.683436</td>\n",
       "      <td>-499.624962</td>\n",
       "      <td>42096.418762</td>\n",
       "      <td>2507.623185</td>\n",
       "      <td>2507.418299</td>\n",
       "      <td>3.013921</td>\n",
       "      <td>8.965948</td>\n",
       "      <td>2.349503</td>\n",
       "      <td>593.926500</td>\n",
       "      <td>85.362048</td>\n",
       "      <td>38.829749</td>\n",
       "      <td>7.081217</td>\n",
       "      <td>8.119479</td>\n",
       "      <td>7.598976</td>\n",
       "      <td>8.118960</td>\n",
       "      <td>7.597402</td>\n",
       "      <td>14.183064</td>\n",
       "      <td>6.210736</td>\n",
       "      <td>31.812252</td>\n",
       "      <td>20.255209</td>\n",
       "      <td>93.865336</td>\n",
       "      <td>4.551430</td>\n",
       "      <td>0.394185</td>\n",
       "      <td>21.266727</td>\n",
       "      <td>0.646589</td>\n",
       "      <td>1399.393944</td>\n",
       "      <td>-299.953052</td>\n",
       "      <td>998.536417</td>\n",
       "      <td>-499.726721</td>\n",
       "      <td>898.309152</td>\n",
       "      <td>-499.676432</td>\n",
       "      <td>797.161773</td>\n",
       "      <td>-499.902971</td>\n",
       "      <td>855.630225</td>\n",
       "      <td>-499.542719</td>\n",
       "      <td>850.720596</td>\n",
       "      <td>-498.843485</td>\n",
       "      <td>19.614973</td>\n",
       "      <td>6.413175</td>\n",
       "      <td>2.757192</td>\n",
       "      <td>3.457925</td>\n",
       "      <td>32.878792</td>\n",
       "      <td>-499.859069</td>\n",
       "      <td>30.043990</td>\n",
       "      <td>-500.026119</td>\n",
       "      <td>32.966763</td>\n",
       "      <td>-499.897962</td>\n",
       "      <td>22.993405</td>\n",
       "      <td>-499.841346</td>\n",
       "      <td>20.011525</td>\n",
       "      <td>-499.622745</td>\n",
       "      <td>14.962774</td>\n",
       "      <td>-499.820880</td>\n",
       "      <td>10.991023</td>\n",
       "      <td>-499.336568</td>\n",
       "      <td>8.972357</td>\n",
       "      <td>-500.075382</td>\n",
       "      <td>11.001470</td>\n",
       "      <td>-500.155051</td>\n",
       "    </tr>\n",
       "    <tr>\n",
       "      <th>2017-02-26 22:59:59</th>\n",
       "      <td>4.732147</td>\n",
       "      <td>10.567808</td>\n",
       "      <td>14.315186</td>\n",
       "      <td>46.158305</td>\n",
       "      <td>75.765950</td>\n",
       "      <td>11.821479</td>\n",
       "      <td>4.206361</td>\n",
       "      <td>9.516314</td>\n",
       "      <td>3.464667</td>\n",
       "      <td>156.891163</td>\n",
       "      <td>10.017118</td>\n",
       "      <td>7.46</td>\n",
       "      <td>0.778642</td>\n",
       "      <td>8.906205</td>\n",
       "      <td>10.554144</td>\n",
       "      <td>8.841679</td>\n",
       "      <td>31.630661</td>\n",
       "      <td>17.096375</td>\n",
       "      <td>3.697565</td>\n",
       "      <td>8.822529</td>\n",
       "      <td>2.829757</td>\n",
       "      <td>1697.513910</td>\n",
       "      <td>-499.894949</td>\n",
       "      <td>1701.166682</td>\n",
       "      <td>-499.476333</td>\n",
       "      <td>1695.378999</td>\n",
       "      <td>-499.896437</td>\n",
       "      <td>1699.743679</td>\n",
       "      <td>-500.086021</td>\n",
       "      <td>45921.389142</td>\n",
       "      <td>3211.512736</td>\n",
       "      <td>3211.903376</td>\n",
       "      <td>2.143987</td>\n",
       "      <td>11.256310</td>\n",
       "      <td>5.400849</td>\n",
       "      <td>318.904779</td>\n",
       "      <td>45.462718</td>\n",
       "      <td>36.278120</td>\n",
       "      <td>11.579349</td>\n",
       "      <td>11.997697</td>\n",
       "      <td>4.500931</td>\n",
       "      <td>12.000285</td>\n",
       "      <td>4.497861</td>\n",
       "      <td>13.546504</td>\n",
       "      <td>9.038694</td>\n",
       "      <td>33.817969</td>\n",
       "      <td>22.021184</td>\n",
       "      <td>92.796633</td>\n",
       "      <td>6.327382</td>\n",
       "      <td>0.494401</td>\n",
       "      <td>15.867386</td>\n",
       "      <td>1.628950</td>\n",
       "      <td>1300.661495</td>\n",
       "      <td>-300.122093</td>\n",
       "      <td>1200.465319</td>\n",
       "      <td>-499.808676</td>\n",
       "      <td>1200.135250</td>\n",
       "      <td>-499.511422</td>\n",
       "      <td>1100.508807</td>\n",
       "      <td>-498.710901</td>\n",
       "      <td>901.120009</td>\n",
       "      <td>-500.557497</td>\n",
       "      <td>899.699978</td>\n",
       "      <td>-499.250250</td>\n",
       "      <td>17.230963</td>\n",
       "      <td>5.144703</td>\n",
       "      <td>11.884388</td>\n",
       "      <td>2.031895</td>\n",
       "      <td>35.063645</td>\n",
       "      <td>-500.047123</td>\n",
       "      <td>31.990237</td>\n",
       "      <td>-499.874610</td>\n",
       "      <td>34.976156</td>\n",
       "      <td>-399.438970</td>\n",
       "      <td>25.983772</td>\n",
       "      <td>-499.706764</td>\n",
       "      <td>25.012647</td>\n",
       "      <td>-399.387362</td>\n",
       "      <td>22.974378</td>\n",
       "      <td>-399.920189</td>\n",
       "      <td>22.989683</td>\n",
       "      <td>-449.307188</td>\n",
       "      <td>20.013531</td>\n",
       "      <td>-449.669418</td>\n",
       "      <td>24.991808</td>\n",
       "      <td>-499.574484</td>\n",
       "    </tr>\n",
       "    <tr>\n",
       "      <th>2017-02-01 09:59:59</th>\n",
       "      <td>5.577913</td>\n",
       "      <td>11.739984</td>\n",
       "      <td>15.472114</td>\n",
       "      <td>42.414451</td>\n",
       "      <td>69.330108</td>\n",
       "      <td>10.410824</td>\n",
       "      <td>4.222700</td>\n",
       "      <td>8.773422</td>\n",
       "      <td>3.531300</td>\n",
       "      <td>144.971640</td>\n",
       "      <td>9.912706</td>\n",
       "      <td>7.33</td>\n",
       "      <td>1.497649</td>\n",
       "      <td>9.854764</td>\n",
       "      <td>13.615824</td>\n",
       "      <td>14.937351</td>\n",
       "      <td>30.011317</td>\n",
       "      <td>19.107188</td>\n",
       "      <td>5.313872</td>\n",
       "      <td>9.875869</td>\n",
       "      <td>3.615663</td>\n",
       "      <td>1600.705486</td>\n",
       "      <td>-500.161005</td>\n",
       "      <td>1604.588203</td>\n",
       "      <td>-499.490331</td>\n",
       "      <td>1601.743019</td>\n",
       "      <td>-499.171275</td>\n",
       "      <td>1599.471149</td>\n",
       "      <td>-500.164684</td>\n",
       "      <td>46689.865641</td>\n",
       "      <td>3119.387618</td>\n",
       "      <td>3118.918425</td>\n",
       "      <td>2.068226</td>\n",
       "      <td>9.883500</td>\n",
       "      <td>4.685253</td>\n",
       "      <td>359.812693</td>\n",
       "      <td>42.286699</td>\n",
       "      <td>32.138273</td>\n",
       "      <td>9.690163</td>\n",
       "      <td>10.999943</td>\n",
       "      <td>5.065439</td>\n",
       "      <td>10.999859</td>\n",
       "      <td>5.066123</td>\n",
       "      <td>14.869646</td>\n",
       "      <td>9.934429</td>\n",
       "      <td>36.588131</td>\n",
       "      <td>23.549647</td>\n",
       "      <td>88.234526</td>\n",
       "      <td>5.882384</td>\n",
       "      <td>0.394223</td>\n",
       "      <td>11.869335</td>\n",
       "      <td>1.789971</td>\n",
       "      <td>998.981481</td>\n",
       "      <td>-499.916513</td>\n",
       "      <td>898.475590</td>\n",
       "      <td>-499.649032</td>\n",
       "      <td>896.402554</td>\n",
       "      <td>-499.898212</td>\n",
       "      <td>841.695817</td>\n",
       "      <td>-499.777184</td>\n",
       "      <td>749.701877</td>\n",
       "      <td>-499.552961</td>\n",
       "      <td>749.979283</td>\n",
       "      <td>-498.598159</td>\n",
       "      <td>14.703542</td>\n",
       "      <td>7.822572</td>\n",
       "      <td>10.353358</td>\n",
       "      <td>8.701067</td>\n",
       "      <td>32.059374</td>\n",
       "      <td>-500.579255</td>\n",
       "      <td>27.909007</td>\n",
       "      <td>-499.950759</td>\n",
       "      <td>20.011490</td>\n",
       "      <td>-798.707450</td>\n",
       "      <td>20.030268</td>\n",
       "      <td>-755.164296</td>\n",
       "      <td>24.953209</td>\n",
       "      <td>-500.757992</td>\n",
       "      <td>23.060369</td>\n",
       "      <td>-499.949825</td>\n",
       "      <td>23.005665</td>\n",
       "      <td>-499.316101</td>\n",
       "      <td>19.957288</td>\n",
       "      <td>-499.864941</td>\n",
       "      <td>25.010897</td>\n",
       "      <td>-599.951505</td>\n",
       "    </tr>\n",
       "  </tbody>\n",
       "</table>\n",
       "</div>"
      ],
      "text/plain": [
       "                     final.output.concentrate_ag  final.output.concentrate_pb  \\\n",
       "date                                                                            \n",
       "2016-02-24 14:00:00                     4.313079                    12.514828   \n",
       "2017-07-12 07:59:59                     6.479581                    11.547810   \n",
       "2018-02-18 00:59:59                     5.763447                     9.495226   \n",
       "2017-02-26 22:59:59                     4.732147                    10.567808   \n",
       "2017-02-01 09:59:59                     5.577913                    11.739984   \n",
       "\n",
       "                     final.output.concentrate_sol  \\\n",
       "date                                                \n",
       "2016-02-24 14:00:00                     11.377263   \n",
       "2017-07-12 07:59:59                     12.010130   \n",
       "2018-02-18 00:59:59                      8.520560   \n",
       "2017-02-26 22:59:59                     14.315186   \n",
       "2017-02-01 09:59:59                     15.472114   \n",
       "\n",
       "                     final.output.concentrate_au  final.output.recovery  \\\n",
       "date                                                                      \n",
       "2016-02-24 14:00:00                    43.578747              70.314169   \n",
       "2017-07-12 07:59:59                    40.984069              61.902775   \n",
       "2018-02-18 00:59:59                    45.223275              82.380880   \n",
       "2017-02-26 22:59:59                    46.158305              75.765950   \n",
       "2017-02-01 09:59:59                    42.414451              69.330108   \n",
       "\n",
       "                     final.output.tail_ag  final.output.tail_pb  \\\n",
       "date                                                              \n",
       "2016-02-24 14:00:00             12.934959              2.742259   \n",
       "2017-07-12 07:59:59              6.672270              2.164376   \n",
       "2018-02-18 00:59:59              9.725897              0.708326   \n",
       "2017-02-26 22:59:59             11.821479              4.206361   \n",
       "2017-02-01 09:59:59             10.410824              4.222700   \n",
       "\n",
       "                     final.output.tail_sol  final.output.tail_au  \\\n",
       "date                                                               \n",
       "2016-02-24 14:00:00              11.707530              3.372015   \n",
       "2017-07-12 07:59:59              11.053715              2.358899   \n",
       "2018-02-18 00:59:59              12.883346              1.432423   \n",
       "2017-02-26 22:59:59               9.516314              3.464667   \n",
       "2017-02-01 09:59:59               8.773422              3.531300   \n",
       "\n",
       "                     primary_cleaner.input.sulfate  \\\n",
       "date                                                 \n",
       "2016-02-24 14:00:00                     148.929844   \n",
       "2017-07-12 07:59:59                     130.852676   \n",
       "2018-02-18 00:59:59                     129.002745   \n",
       "2017-02-26 22:59:59                     156.891163   \n",
       "2017-02-01 09:59:59                     144.971640   \n",
       "\n",
       "                     primary_cleaner.input.depressant  \\\n",
       "date                                                    \n",
       "2016-02-24 14:00:00                         10.980669   \n",
       "2017-07-12 07:59:59                          4.870356   \n",
       "2018-02-18 00:59:59                          8.000270   \n",
       "2017-02-26 22:59:59                         10.017118   \n",
       "2017-02-01 09:59:59                          9.912706   \n",
       "\n",
       "                     primary_cleaner.input.feed_size  \\\n",
       "date                                                   \n",
       "2016-02-24 14:00:00                             8.22   \n",
       "2017-07-12 07:59:59                             7.04   \n",
       "2018-02-18 00:59:59                             7.50   \n",
       "2017-02-26 22:59:59                             7.46   \n",
       "2017-02-01 09:59:59                             7.33   \n",
       "\n",
       "                     primary_cleaner.input.xanthate  \\\n",
       "date                                                  \n",
       "2016-02-24 14:00:00                        0.710541   \n",
       "2017-07-12 07:59:59                        0.386634   \n",
       "2018-02-18 00:59:59                        1.814472   \n",
       "2017-02-26 22:59:59                        0.778642   \n",
       "2017-02-01 09:59:59                        1.497649   \n",
       "\n",
       "                     primary_cleaner.output.concentrate_ag  \\\n",
       "date                                                         \n",
       "2016-02-24 14:00:00                               8.946256   \n",
       "2017-07-12 07:59:59                               8.761834   \n",
       "2018-02-18 00:59:59                               9.923524   \n",
       "2017-02-26 22:59:59                               8.906205   \n",
       "2017-02-01 09:59:59                               9.854764   \n",
       "\n",
       "                     primary_cleaner.output.concentrate_pb  \\\n",
       "date                                                         \n",
       "2016-02-24 14:00:00                              10.281315   \n",
       "2017-07-12 07:59:59                              10.298206   \n",
       "2018-02-18 00:59:59                               9.317648   \n",
       "2017-02-26 22:59:59                              10.554144   \n",
       "2017-02-01 09:59:59                              13.615824   \n",
       "\n",
       "                     primary_cleaner.output.concentrate_sol  \\\n",
       "date                                                          \n",
       "2016-02-24 14:00:00                               15.531315   \n",
       "2017-07-12 07:59:59                                8.014238   \n",
       "2018-02-18 00:59:59                               11.402917   \n",
       "2017-02-26 22:59:59                                8.841679   \n",
       "2017-02-01 09:59:59                               14.937351   \n",
       "\n",
       "                     primary_cleaner.output.concentrate_au  \\\n",
       "date                                                         \n",
       "2016-02-24 14:00:00                              34.115938   \n",
       "2017-07-12 07:59:59                              31.747554   \n",
       "2018-02-18 00:59:59                              31.733692   \n",
       "2017-02-26 22:59:59                              31.630661   \n",
       "2017-02-01 09:59:59                              30.011317   \n",
       "\n",
       "                     primary_cleaner.output.tail_ag  \\\n",
       "date                                                  \n",
       "2016-02-24 14:00:00                       17.323574   \n",
       "2017-07-12 07:59:59                       10.933228   \n",
       "2018-02-18 00:59:59                       20.017657   \n",
       "2017-02-26 22:59:59                       17.096375   \n",
       "2017-02-01 09:59:59                       19.107188   \n",
       "\n",
       "                     primary_cleaner.output.tail_pb  \\\n",
       "date                                                  \n",
       "2016-02-24 14:00:00                        3.977528   \n",
       "2017-07-12 07:59:59                        0.856895   \n",
       "2018-02-18 00:59:59                        4.326194   \n",
       "2017-02-26 22:59:59                        3.697565   \n",
       "2017-02-01 09:59:59                        5.313872   \n",
       "\n",
       "                     primary_cleaner.output.tail_sol  \\\n",
       "date                                                   \n",
       "2016-02-24 14:00:00                         7.914417   \n",
       "2017-07-12 07:59:59                         7.953633   \n",
       "2018-02-18 00:59:59                         7.288545   \n",
       "2017-02-26 22:59:59                         8.822529   \n",
       "2017-02-01 09:59:59                         9.875869   \n",
       "\n",
       "                     primary_cleaner.output.tail_au  \\\n",
       "date                                                  \n",
       "2016-02-24 14:00:00                        3.638079   \n",
       "2017-07-12 07:59:59                        2.870370   \n",
       "2018-02-18 00:59:59                        2.425490   \n",
       "2017-02-26 22:59:59                        2.829757   \n",
       "2017-02-01 09:59:59                        3.615663   \n",
       "\n",
       "                     primary_cleaner.state.floatbank8_a_air  \\\n",
       "date                                                          \n",
       "2016-02-24 14:00:00                             1546.279766   \n",
       "2017-07-12 07:59:59                             1753.794075   \n",
       "2018-02-18 00:59:59                             1698.568675   \n",
       "2017-02-26 22:59:59                             1697.513910   \n",
       "2017-02-01 09:59:59                             1600.705486   \n",
       "\n",
       "                     primary_cleaner.state.floatbank8_a_level  \\\n",
       "date                                                            \n",
       "2016-02-24 14:00:00                               -450.030311   \n",
       "2017-07-12 07:59:59                               -499.760343   \n",
       "2018-02-18 00:59:59                               -499.171504   \n",
       "2017-02-26 22:59:59                               -499.894949   \n",
       "2017-02-01 09:59:59                               -500.161005   \n",
       "\n",
       "                     primary_cleaner.state.floatbank8_b_air  \\\n",
       "date                                                          \n",
       "2016-02-24 14:00:00                             1553.692647   \n",
       "2017-07-12 07:59:59                             1701.592208   \n",
       "2018-02-18 00:59:59                             1695.930752   \n",
       "2017-02-26 22:59:59                             1701.166682   \n",
       "2017-02-01 09:59:59                             1604.588203   \n",
       "\n",
       "                     primary_cleaner.state.floatbank8_b_level  \\\n",
       "date                                                            \n",
       "2016-02-24 14:00:00                               -450.081673   \n",
       "2017-07-12 07:59:59                               -499.755226   \n",
       "2018-02-18 00:59:59                               -498.785078   \n",
       "2017-02-26 22:59:59                               -499.476333   \n",
       "2017-02-01 09:59:59                               -499.490331   \n",
       "\n",
       "                     primary_cleaner.state.floatbank8_c_air  \\\n",
       "date                                                          \n",
       "2016-02-24 14:00:00                             1553.552018   \n",
       "2017-07-12 07:59:59                             1754.423800   \n",
       "2018-02-18 00:59:59                             1699.552407   \n",
       "2017-02-26 22:59:59                             1695.378999   \n",
       "2017-02-01 09:59:59                             1601.743019   \n",
       "\n",
       "                     primary_cleaner.state.floatbank8_c_level  \\\n",
       "date                                                            \n",
       "2016-02-24 14:00:00                               -449.991649   \n",
       "2017-07-12 07:59:59                               -499.136218   \n",
       "2018-02-18 00:59:59                               -498.798543   \n",
       "2017-02-26 22:59:59                               -499.896437   \n",
       "2017-02-01 09:59:59                               -499.171275   \n",
       "\n",
       "                     primary_cleaner.state.floatbank8_d_air  \\\n",
       "date                                                          \n",
       "2016-02-24 14:00:00                             1244.124005   \n",
       "2017-07-12 07:59:59                             1750.628355   \n",
       "2018-02-18 00:59:59                             1699.683436   \n",
       "2017-02-26 22:59:59                             1699.743679   \n",
       "2017-02-01 09:59:59                             1599.471149   \n",
       "\n",
       "                     primary_cleaner.state.floatbank8_d_level  \\\n",
       "date                                                            \n",
       "2016-02-24 14:00:00                               -450.001403   \n",
       "2017-07-12 07:59:59                               -493.149948   \n",
       "2018-02-18 00:59:59                               -499.624962   \n",
       "2017-02-26 22:59:59                               -500.086021   \n",
       "2017-02-01 09:59:59                               -500.164684   \n",
       "\n",
       "                     rougher.calculation.sulfate_to_au_concentrate  \\\n",
       "date                                                                 \n",
       "2016-02-24 14:00:00                                   48892.865702   \n",
       "2017-07-12 07:59:59                                   56763.464251   \n",
       "2018-02-18 00:59:59                                   42096.418762   \n",
       "2017-02-26 22:59:59                                   45921.389142   \n",
       "2017-02-01 09:59:59                                   46689.865641   \n",
       "\n",
       "                     rougher.calculation.floatbank10_sulfate_to_au_feed  \\\n",
       "date                                                                      \n",
       "2016-02-24 14:00:00                                        3096.306773    \n",
       "2017-07-12 07:59:59                                        5180.601963    \n",
       "2018-02-18 00:59:59                                        2507.623185    \n",
       "2017-02-26 22:59:59                                        3211.512736    \n",
       "2017-02-01 09:59:59                                        3119.387618    \n",
       "\n",
       "                     rougher.calculation.floatbank11_sulfate_to_au_feed  \\\n",
       "date                                                                      \n",
       "2016-02-24 14:00:00                                        3104.044380    \n",
       "2017-07-12 07:59:59                                        5180.355810    \n",
       "2018-02-18 00:59:59                                        2507.418299    \n",
       "2017-02-26 22:59:59                                        3211.903376    \n",
       "2017-02-01 09:59:59                                        3118.918425    \n",
       "\n",
       "                     rougher.calculation.au_pb_ratio  rougher.input.feed_ag  \\\n",
       "date                                                                          \n",
       "2016-02-24 14:00:00                         2.100013              11.398907   \n",
       "2017-07-12 07:59:59                         2.273838               6.785455   \n",
       "2018-02-18 00:59:59                         3.013921               8.965948   \n",
       "2017-02-26 22:59:59                         2.143987              11.256310   \n",
       "2017-02-01 09:59:59                         2.068226               9.883500   \n",
       "\n",
       "                     rougher.input.feed_pb  rougher.input.feed_rate  \\\n",
       "date                                                                  \n",
       "2016-02-24 14:00:00               4.571216               351.281889   \n",
       "2017-07-12 07:59:59               2.490171               542.889397   \n",
       "2018-02-18 00:59:59               2.349503               593.926500   \n",
       "2017-02-26 22:59:59               5.400849               318.904779   \n",
       "2017-02-01 09:59:59               4.685253               359.812693   \n",
       "\n",
       "                     rougher.input.feed_size  rougher.input.feed_sol  \\\n",
       "date                                                                   \n",
       "2016-02-24 14:00:00                41.096924               30.225805   \n",
       "2017-07-12 07:59:59                51.650533               36.343674   \n",
       "2018-02-18 00:59:59                85.362048               38.829749   \n",
       "2017-02-26 22:59:59                45.462718               36.278120   \n",
       "2017-02-01 09:59:59                42.286699               32.138273   \n",
       "\n",
       "                     rougher.input.feed_au  rougher.input.floatbank10_sulfate  \\\n",
       "date                                                                            \n",
       "2016-02-24 14:00:00               9.599615                          10.295676   \n",
       "2017-07-12 07:59:59               5.662245                          16.001217   \n",
       "2018-02-18 00:59:59               7.081217                           8.119479   \n",
       "2017-02-26 22:59:59              11.579349                          11.997697   \n",
       "2017-02-01 09:59:59               9.690163                          10.999943   \n",
       "\n",
       "                     rougher.input.floatbank10_xanthate  \\\n",
       "date                                                      \n",
       "2016-02-24 14:00:00                            5.706480   \n",
       "2017-07-12 07:59:59                            5.197573   \n",
       "2018-02-18 00:59:59                            7.598976   \n",
       "2017-02-26 22:59:59                            4.500931   \n",
       "2017-02-01 09:59:59                            5.065439   \n",
       "\n",
       "                     rougher.input.floatbank11_sulfate  \\\n",
       "date                                                     \n",
       "2016-02-24 14:00:00                          10.313436   \n",
       "2017-07-12 07:59:59                          15.996809   \n",
       "2018-02-18 00:59:59                           8.118960   \n",
       "2017-02-26 22:59:59                          12.000285   \n",
       "2017-02-01 09:59:59                          10.999859   \n",
       "\n",
       "                     rougher.input.floatbank11_xanthate  \\\n",
       "date                                                      \n",
       "2016-02-24 14:00:00                            5.697617   \n",
       "2017-07-12 07:59:59                            5.199181   \n",
       "2018-02-18 00:59:59                            7.597402   \n",
       "2017-02-26 22:59:59                            4.497861   \n",
       "2017-02-01 09:59:59                            5.066123   \n",
       "\n",
       "                     rougher.output.concentrate_ag  \\\n",
       "date                                                 \n",
       "2016-02-24 14:00:00                      12.456583   \n",
       "2017-07-12 07:59:59                      11.358774   \n",
       "2018-02-18 00:59:59                      14.183064   \n",
       "2017-02-26 22:59:59                      13.546504   \n",
       "2017-02-01 09:59:59                      14.869646   \n",
       "\n",
       "                     rougher.output.concentrate_pb  \\\n",
       "date                                                 \n",
       "2016-02-24 14:00:00                       9.036817   \n",
       "2017-07-12 07:59:59                       7.935929   \n",
       "2018-02-18 00:59:59                       6.210736   \n",
       "2017-02-26 22:59:59                       9.038694   \n",
       "2017-02-01 09:59:59                       9.934429   \n",
       "\n",
       "                     rougher.output.concentrate_sol  \\\n",
       "date                                                  \n",
       "2016-02-24 14:00:00                       29.575227   \n",
       "2017-07-12 07:59:59                       31.510237   \n",
       "2018-02-18 00:59:59                       31.812252   \n",
       "2017-02-26 22:59:59                       33.817969   \n",
       "2017-02-01 09:59:59                       36.588131   \n",
       "\n",
       "                     rougher.output.concentrate_au  rougher.output.recovery  \\\n",
       "date                                                                          \n",
       "2016-02-24 14:00:00                      20.740149                91.689037   \n",
       "2017-07-12 07:59:59                      20.501499                74.570992   \n",
       "2018-02-18 00:59:59                      20.255209                93.865336   \n",
       "2017-02-26 22:59:59                      22.021184                92.796633   \n",
       "2017-02-01 09:59:59                      23.549647                88.234526   \n",
       "\n",
       "                     rougher.output.tail_ag  rougher.output.tail_pb  \\\n",
       "date                                                                  \n",
       "2016-02-24 14:00:00                5.247344                0.301369   \n",
       "2017-07-12 07:59:59                5.229915                0.674773   \n",
       "2018-02-18 00:59:59                4.551430                0.394185   \n",
       "2017-02-26 22:59:59                6.327382                0.494401   \n",
       "2017-02-01 09:59:59                5.882384                0.394223   \n",
       "\n",
       "                     rougher.output.tail_sol  rougher.output.tail_au  \\\n",
       "date                                                                   \n",
       "2016-02-24 14:00:00                12.912565                1.386030   \n",
       "2017-07-12 07:59:59                15.774999                1.813314   \n",
       "2018-02-18 00:59:59                21.266727                0.646589   \n",
       "2017-02-26 22:59:59                15.867386                1.628950   \n",
       "2017-02-01 09:59:59                11.869335                1.789971   \n",
       "\n",
       "                     rougher.state.floatbank10_a_air  \\\n",
       "date                                                   \n",
       "2016-02-24 14:00:00                      1099.400121   \n",
       "2017-07-12 07:59:59                      1004.018124   \n",
       "2018-02-18 00:59:59                      1399.393944   \n",
       "2017-02-26 22:59:59                      1300.661495   \n",
       "2017-02-01 09:59:59                       998.981481   \n",
       "\n",
       "                     rougher.state.floatbank10_a_level  \\\n",
       "date                                                     \n",
       "2016-02-24 14:00:00                        -499.874203   \n",
       "2017-07-12 07:59:59                        -300.008241   \n",
       "2018-02-18 00:59:59                        -299.953052   \n",
       "2017-02-26 22:59:59                        -300.122093   \n",
       "2017-02-01 09:59:59                        -499.916513   \n",
       "\n",
       "                     rougher.state.floatbank10_b_air  \\\n",
       "date                                                   \n",
       "2016-02-24 14:00:00                      1649.803289   \n",
       "2017-07-12 07:59:59                      1502.219327   \n",
       "2018-02-18 00:59:59                       998.536417   \n",
       "2017-02-26 22:59:59                      1200.465319   \n",
       "2017-02-01 09:59:59                       898.475590   \n",
       "\n",
       "                     rougher.state.floatbank10_b_level  \\\n",
       "date                                                     \n",
       "2016-02-24 14:00:00                        -499.693861   \n",
       "2017-07-12 07:59:59                        -400.010665   \n",
       "2018-02-18 00:59:59                        -499.726721   \n",
       "2017-02-26 22:59:59                        -499.808676   \n",
       "2017-02-01 09:59:59                        -499.649032   \n",
       "\n",
       "                     rougher.state.floatbank10_c_air  \\\n",
       "date                                                   \n",
       "2016-02-24 14:00:00                      1648.646146   \n",
       "2017-07-12 07:59:59                      1501.415557   \n",
       "2018-02-18 00:59:59                       898.309152   \n",
       "2017-02-26 22:59:59                      1200.135250   \n",
       "2017-02-01 09:59:59                       896.402554   \n",
       "\n",
       "                     rougher.state.floatbank10_c_level  \\\n",
       "date                                                     \n",
       "2016-02-24 14:00:00                        -501.999727   \n",
       "2017-07-12 07:59:59                        -399.756006   \n",
       "2018-02-18 00:59:59                        -499.676432   \n",
       "2017-02-26 22:59:59                        -499.511422   \n",
       "2017-02-01 09:59:59                        -499.898212   \n",
       "\n",
       "                     rougher.state.floatbank10_d_air  \\\n",
       "date                                                   \n",
       "2016-02-24 14:00:00                      1650.757788   \n",
       "2017-07-12 07:59:59                      1499.767058   \n",
       "2018-02-18 00:59:59                       797.161773   \n",
       "2017-02-26 22:59:59                      1100.508807   \n",
       "2017-02-01 09:59:59                       841.695817   \n",
       "\n",
       "                     rougher.state.floatbank10_d_level  \\\n",
       "date                                                     \n",
       "2016-02-24 14:00:00                        -499.220255   \n",
       "2017-07-12 07:59:59                        -401.051549   \n",
       "2018-02-18 00:59:59                        -499.902971   \n",
       "2017-02-26 22:59:59                        -498.710901   \n",
       "2017-02-01 09:59:59                        -499.777184   \n",
       "\n",
       "                     rougher.state.floatbank10_e_air  \\\n",
       "date                                                   \n",
       "2016-02-24 14:00:00                      1599.508794   \n",
       "2017-07-12 07:59:59                      1299.942343   \n",
       "2018-02-18 00:59:59                       855.630225   \n",
       "2017-02-26 22:59:59                       901.120009   \n",
       "2017-02-01 09:59:59                       749.701877   \n",
       "\n",
       "                     rougher.state.floatbank10_e_level  \\\n",
       "date                                                     \n",
       "2016-02-24 14:00:00                        -500.212139   \n",
       "2017-07-12 07:59:59                        -401.787667   \n",
       "2018-02-18 00:59:59                        -499.542719   \n",
       "2017-02-26 22:59:59                        -500.557497   \n",
       "2017-02-01 09:59:59                        -499.552961   \n",
       "\n",
       "                     rougher.state.floatbank10_f_air  \\\n",
       "date                                                   \n",
       "2016-02-24 14:00:00                      1601.142745   \n",
       "2017-07-12 07:59:59                      1200.311577   \n",
       "2018-02-18 00:59:59                       850.720596   \n",
       "2017-02-26 22:59:59                       899.699978   \n",
       "2017-02-01 09:59:59                       749.979283   \n",
       "\n",
       "                     rougher.state.floatbank10_f_level  \\\n",
       "date                                                     \n",
       "2016-02-24 14:00:00                        -500.418107   \n",
       "2017-07-12 07:59:59                        -401.580114   \n",
       "2018-02-18 00:59:59                        -498.843485   \n",
       "2017-02-26 22:59:59                        -499.250250   \n",
       "2017-02-01 09:59:59                        -498.598159   \n",
       "\n",
       "                     secondary_cleaner.output.tail_ag  \\\n",
       "date                                                    \n",
       "2016-02-24 14:00:00                         15.817175   \n",
       "2017-07-12 07:59:59                         16.207388   \n",
       "2018-02-18 00:59:59                         19.614973   \n",
       "2017-02-26 22:59:59                         17.230963   \n",
       "2017-02-01 09:59:59                         14.703542   \n",
       "\n",
       "                     secondary_cleaner.output.tail_pb  \\\n",
       "date                                                    \n",
       "2016-02-24 14:00:00                          5.584611   \n",
       "2017-07-12 07:59:59                          6.329304   \n",
       "2018-02-18 00:59:59                          6.413175   \n",
       "2017-02-26 22:59:59                          5.144703   \n",
       "2017-02-01 09:59:59                          7.822572   \n",
       "\n",
       "                     secondary_cleaner.output.tail_sol  \\\n",
       "date                                                     \n",
       "2016-02-24 14:00:00                          11.398665   \n",
       "2017-07-12 07:59:59                           3.124715   \n",
       "2018-02-18 00:59:59                           2.757192   \n",
       "2017-02-26 22:59:59                          11.884388   \n",
       "2017-02-01 09:59:59                          10.353358   \n",
       "\n",
       "                     secondary_cleaner.output.tail_au  \\\n",
       "date                                                    \n",
       "2016-02-24 14:00:00                          4.004858   \n",
       "2017-07-12 07:59:59                          4.175302   \n",
       "2018-02-18 00:59:59                          3.457925   \n",
       "2017-02-26 22:59:59                          2.031895   \n",
       "2017-02-01 09:59:59                          8.701067   \n",
       "\n",
       "                     secondary_cleaner.state.floatbank2_a_air  \\\n",
       "date                                                            \n",
       "2016-02-24 14:00:00                                 31.021713   \n",
       "2017-07-12 07:59:59                                 34.947107   \n",
       "2018-02-18 00:59:59                                 32.878792   \n",
       "2017-02-26 22:59:59                                 35.063645   \n",
       "2017-02-01 09:59:59                                 32.059374   \n",
       "\n",
       "                     secondary_cleaner.state.floatbank2_a_level  \\\n",
       "date                                                              \n",
       "2016-02-24 14:00:00                                 -499.343478   \n",
       "2017-07-12 07:59:59                                 -500.118424   \n",
       "2018-02-18 00:59:59                                 -499.859069   \n",
       "2017-02-26 22:59:59                                 -500.047123   \n",
       "2017-02-01 09:59:59                                 -500.579255   \n",
       "\n",
       "                     secondary_cleaner.state.floatbank2_b_air  \\\n",
       "date                                                            \n",
       "2016-02-24 14:00:00                                 28.981013   \n",
       "2017-07-12 07:59:59                                 27.015741   \n",
       "2018-02-18 00:59:59                                 30.043990   \n",
       "2017-02-26 22:59:59                                 31.990237   \n",
       "2017-02-01 09:59:59                                 27.909007   \n",
       "\n",
       "                     secondary_cleaner.state.floatbank2_b_level  \\\n",
       "date                                                              \n",
       "2016-02-24 14:00:00                                 -499.627304   \n",
       "2017-07-12 07:59:59                                 -507.483457   \n",
       "2018-02-18 00:59:59                                 -500.026119   \n",
       "2017-02-26 22:59:59                                 -499.874610   \n",
       "2017-02-01 09:59:59                                 -499.950759   \n",
       "\n",
       "                     secondary_cleaner.state.floatbank3_a_air  \\\n",
       "date                                                            \n",
       "2016-02-24 14:00:00                                 28.037090   \n",
       "2017-07-12 07:59:59                                 24.983900   \n",
       "2018-02-18 00:59:59                                 32.966763   \n",
       "2017-02-26 22:59:59                                 34.976156   \n",
       "2017-02-01 09:59:59                                 20.011490   \n",
       "\n",
       "                     secondary_cleaner.state.floatbank3_a_level  \\\n",
       "date                                                              \n",
       "2016-02-24 14:00:00                                 -500.299927   \n",
       "2017-07-12 07:59:59                                 -500.872530   \n",
       "2018-02-18 00:59:59                                 -499.897962   \n",
       "2017-02-26 22:59:59                                 -399.438970   \n",
       "2017-02-01 09:59:59                                 -798.707450   \n",
       "\n",
       "                     secondary_cleaner.state.floatbank3_b_air  \\\n",
       "date                                                            \n",
       "2016-02-24 14:00:00                                 26.022034   \n",
       "2017-07-12 07:59:59                                 19.938106   \n",
       "2018-02-18 00:59:59                                 22.993405   \n",
       "2017-02-26 22:59:59                                 25.983772   \n",
       "2017-02-01 09:59:59                                 20.030268   \n",
       "\n",
       "                     secondary_cleaner.state.floatbank3_b_level  \\\n",
       "date                                                              \n",
       "2016-02-24 14:00:00                                 -500.014219   \n",
       "2017-07-12 07:59:59                                 -504.653544   \n",
       "2018-02-18 00:59:59                                 -499.841346   \n",
       "2017-02-26 22:59:59                                 -499.706764   \n",
       "2017-02-01 09:59:59                                 -755.164296   \n",
       "\n",
       "                     secondary_cleaner.state.floatbank4_a_air  \\\n",
       "date                                                            \n",
       "2016-02-24 14:00:00                                 14.021794   \n",
       "2017-07-12 07:59:59                                 22.043888   \n",
       "2018-02-18 00:59:59                                 20.011525   \n",
       "2017-02-26 22:59:59                                 25.012647   \n",
       "2017-02-01 09:59:59                                 24.953209   \n",
       "\n",
       "                     secondary_cleaner.state.floatbank4_a_level  \\\n",
       "date                                                              \n",
       "2016-02-24 14:00:00                                 -497.414274   \n",
       "2017-07-12 07:59:59                                 -498.098681   \n",
       "2018-02-18 00:59:59                                 -499.622745   \n",
       "2017-02-26 22:59:59                                 -399.387362   \n",
       "2017-02-01 09:59:59                                 -500.757992   \n",
       "\n",
       "                     secondary_cleaner.state.floatbank4_b_air  \\\n",
       "date                                                            \n",
       "2016-02-24 14:00:00                                 12.012708   \n",
       "2017-07-12 07:59:59                                 15.006619   \n",
       "2018-02-18 00:59:59                                 14.962774   \n",
       "2017-02-26 22:59:59                                 22.974378   \n",
       "2017-02-01 09:59:59                                 23.060369   \n",
       "\n",
       "                     secondary_cleaner.state.floatbank4_b_level  \\\n",
       "date                                                              \n",
       "2016-02-24 14:00:00                                 -499.954051   \n",
       "2017-07-12 07:59:59                                 -382.915969   \n",
       "2018-02-18 00:59:59                                 -499.820880   \n",
       "2017-02-26 22:59:59                                 -399.920189   \n",
       "2017-02-01 09:59:59                                 -499.949825   \n",
       "\n",
       "                     secondary_cleaner.state.floatbank5_a_air  \\\n",
       "date                                                            \n",
       "2016-02-24 14:00:00                                 12.011052   \n",
       "2017-07-12 07:59:59                                 18.020612   \n",
       "2018-02-18 00:59:59                                 10.991023   \n",
       "2017-02-26 22:59:59                                 22.989683   \n",
       "2017-02-01 09:59:59                                 23.005665   \n",
       "\n",
       "                     secondary_cleaner.state.floatbank5_a_level  \\\n",
       "date                                                              \n",
       "2016-02-24 14:00:00                                 -499.751127   \n",
       "2017-07-12 07:59:59                                 -501.496463   \n",
       "2018-02-18 00:59:59                                 -499.336568   \n",
       "2017-02-26 22:59:59                                 -449.307188   \n",
       "2017-02-01 09:59:59                                 -499.316101   \n",
       "\n",
       "                     secondary_cleaner.state.floatbank5_b_air  \\\n",
       "date                                                            \n",
       "2016-02-24 14:00:00                                 10.040341   \n",
       "2017-07-12 07:59:59                                 12.987173   \n",
       "2018-02-18 00:59:59                                  8.972357   \n",
       "2017-02-26 22:59:59                                 20.013531   \n",
       "2017-02-01 09:59:59                                 19.957288   \n",
       "\n",
       "                     secondary_cleaner.state.floatbank5_b_level  \\\n",
       "date                                                              \n",
       "2016-02-24 14:00:00                                 -499.402553   \n",
       "2017-07-12 07:59:59                                 -500.064845   \n",
       "2018-02-18 00:59:59                                 -500.075382   \n",
       "2017-02-26 22:59:59                                 -449.669418   \n",
       "2017-02-01 09:59:59                                 -499.864941   \n",
       "\n",
       "                     secondary_cleaner.state.floatbank6_a_air  \\\n",
       "date                                                            \n",
       "2016-02-24 14:00:00                                 19.982461   \n",
       "2017-07-12 07:59:59                                 15.005274   \n",
       "2018-02-18 00:59:59                                 11.001470   \n",
       "2017-02-26 22:59:59                                 24.991808   \n",
       "2017-02-01 09:59:59                                 25.010897   \n",
       "\n",
       "                     secondary_cleaner.state.floatbank6_a_level  \n",
       "date                                                             \n",
       "2016-02-24 14:00:00                                 -500.540918  \n",
       "2017-07-12 07:59:59                                 -500.258666  \n",
       "2018-02-18 00:59:59                                 -500.155051  \n",
       "2017-02-26 22:59:59                                 -499.574484  \n",
       "2017-02-01 09:59:59                                 -599.951505  "
      ]
     },
     "metadata": {},
     "output_type": "display_data"
    },
    {
     "name": "stdout",
     "output_type": "stream",
     "text": [
      "<class 'pandas.core.frame.DataFrame'>\n",
      "Index: 19439 entries, 2016-01-15 00:00:00 to 2018-08-18 10:59:59\n",
      "Data columns (total 86 columns):\n",
      " #   Column                                              Non-Null Count  Dtype  \n",
      "---  ------                                              --------------  -----  \n",
      " 0   final.output.concentrate_ag                         19438 non-null  float64\n",
      " 1   final.output.concentrate_pb                         19438 non-null  float64\n",
      " 2   final.output.concentrate_sol                        19228 non-null  float64\n",
      " 3   final.output.concentrate_au                         19439 non-null  float64\n",
      " 4   final.output.recovery                               19439 non-null  float64\n",
      " 5   final.output.tail_ag                                19438 non-null  float64\n",
      " 6   final.output.tail_pb                                19338 non-null  float64\n",
      " 7   final.output.tail_sol                               19433 non-null  float64\n",
      " 8   final.output.tail_au                                19439 non-null  float64\n",
      " 9   primary_cleaner.input.sulfate                       19415 non-null  float64\n",
      " 10  primary_cleaner.input.depressant                    19402 non-null  float64\n",
      " 11  primary_cleaner.input.feed_size                     19439 non-null  float64\n",
      " 12  primary_cleaner.input.xanthate                      19335 non-null  float64\n",
      " 13  primary_cleaner.output.concentrate_ag               19439 non-null  float64\n",
      " 14  primary_cleaner.output.concentrate_pb               19323 non-null  float64\n",
      " 15  primary_cleaner.output.concentrate_sol              19069 non-null  float64\n",
      " 16  primary_cleaner.output.concentrate_au               19439 non-null  float64\n",
      " 17  primary_cleaner.output.tail_ag                      19435 non-null  float64\n",
      " 18  primary_cleaner.output.tail_pb                      19418 non-null  float64\n",
      " 19  primary_cleaner.output.tail_sol                     19377 non-null  float64\n",
      " 20  primary_cleaner.output.tail_au                      19439 non-null  float64\n",
      " 21  primary_cleaner.state.floatbank8_a_air              19435 non-null  float64\n",
      " 22  primary_cleaner.state.floatbank8_a_level            19438 non-null  float64\n",
      " 23  primary_cleaner.state.floatbank8_b_air              19435 non-null  float64\n",
      " 24  primary_cleaner.state.floatbank8_b_level            19438 non-null  float64\n",
      " 25  primary_cleaner.state.floatbank8_c_air              19437 non-null  float64\n",
      " 26  primary_cleaner.state.floatbank8_c_level            19438 non-null  float64\n",
      " 27  primary_cleaner.state.floatbank8_d_air              19436 non-null  float64\n",
      " 28  primary_cleaner.state.floatbank8_d_level            19438 non-null  float64\n",
      " 29  rougher.calculation.sulfate_to_au_concentrate       19437 non-null  float64\n",
      " 30  rougher.calculation.floatbank10_sulfate_to_au_feed  19437 non-null  float64\n",
      " 31  rougher.calculation.floatbank11_sulfate_to_au_feed  19437 non-null  float64\n",
      " 32  rougher.calculation.au_pb_ratio                     19439 non-null  float64\n",
      " 33  rougher.input.feed_ag                               19439 non-null  float64\n",
      " 34  rougher.input.feed_pb                               19339 non-null  float64\n",
      " 35  rougher.input.feed_rate                             19428 non-null  float64\n",
      " 36  rougher.input.feed_size                             19294 non-null  float64\n",
      " 37  rougher.input.feed_sol                              19340 non-null  float64\n",
      " 38  rougher.input.feed_au                               19439 non-null  float64\n",
      " 39  rougher.input.floatbank10_sulfate                   19405 non-null  float64\n",
      " 40  rougher.input.floatbank10_xanthate                  19431 non-null  float64\n",
      " 41  rougher.input.floatbank11_sulfate                   19395 non-null  float64\n",
      " 42  rougher.input.floatbank11_xanthate                  18986 non-null  float64\n",
      " 43  rougher.output.concentrate_ag                       19439 non-null  float64\n",
      " 44  rougher.output.concentrate_pb                       19439 non-null  float64\n",
      " 45  rougher.output.concentrate_sol                      19416 non-null  float64\n",
      " 46  rougher.output.concentrate_au                       19439 non-null  float64\n",
      " 47  rougher.output.recovery                             19439 non-null  float64\n",
      " 48  rougher.output.tail_ag                              19438 non-null  float64\n",
      " 49  rougher.output.tail_pb                              19439 non-null  float64\n",
      " 50  rougher.output.tail_sol                             19439 non-null  float64\n",
      " 51  rougher.output.tail_au                              19439 non-null  float64\n",
      " 52  rougher.state.floatbank10_a_air                     19438 non-null  float64\n",
      " 53  rougher.state.floatbank10_a_level                   19438 non-null  float64\n",
      " 54  rougher.state.floatbank10_b_air                     19438 non-null  float64\n",
      " 55  rougher.state.floatbank10_b_level                   19438 non-null  float64\n",
      " 56  rougher.state.floatbank10_c_air                     19438 non-null  float64\n",
      " 57  rougher.state.floatbank10_c_level                   19438 non-null  float64\n",
      " 58  rougher.state.floatbank10_d_air                     19439 non-null  float64\n",
      " 59  rougher.state.floatbank10_d_level                   19439 non-null  float64\n",
      " 60  rougher.state.floatbank10_e_air                     19003 non-null  float64\n",
      " 61  rougher.state.floatbank10_e_level                   19439 non-null  float64\n",
      " 62  rougher.state.floatbank10_f_air                     19439 non-null  float64\n",
      " 63  rougher.state.floatbank10_f_level                   19439 non-null  float64\n",
      " 64  secondary_cleaner.output.tail_ag                    19437 non-null  float64\n",
      " 65  secondary_cleaner.output.tail_pb                    19427 non-null  float64\n",
      " 66  secondary_cleaner.output.tail_sol                   17691 non-null  float64\n",
      " 67  secondary_cleaner.output.tail_au                    19439 non-null  float64\n",
      " 68  secondary_cleaner.state.floatbank2_a_air            19219 non-null  float64\n",
      " 69  secondary_cleaner.state.floatbank2_a_level          19438 non-null  float64\n",
      " 70  secondary_cleaner.state.floatbank2_b_air            19416 non-null  float64\n",
      " 71  secondary_cleaner.state.floatbank2_b_level          19438 non-null  float64\n",
      " 72  secondary_cleaner.state.floatbank3_a_air            19426 non-null  float64\n",
      " 73  secondary_cleaner.state.floatbank3_a_level          19438 non-null  float64\n",
      " 74  secondary_cleaner.state.floatbank3_b_air            19438 non-null  float64\n",
      " 75  secondary_cleaner.state.floatbank3_b_level          19438 non-null  float64\n",
      " 76  secondary_cleaner.state.floatbank4_a_air            19433 non-null  float64\n",
      " 77  secondary_cleaner.state.floatbank4_a_level          19438 non-null  float64\n",
      " 78  secondary_cleaner.state.floatbank4_b_air            19438 non-null  float64\n",
      " 79  secondary_cleaner.state.floatbank4_b_level          19438 non-null  float64\n",
      " 80  secondary_cleaner.state.floatbank5_a_air            19438 non-null  float64\n",
      " 81  secondary_cleaner.state.floatbank5_a_level          19438 non-null  float64\n",
      " 82  secondary_cleaner.state.floatbank5_b_air            19438 non-null  float64\n",
      " 83  secondary_cleaner.state.floatbank5_b_level          19438 non-null  float64\n",
      " 84  secondary_cleaner.state.floatbank6_a_air            19437 non-null  float64\n",
      " 85  secondary_cleaner.state.floatbank6_a_level          19438 non-null  float64\n",
      "dtypes: float64(86)\n",
      "memory usage: 12.9+ MB\n"
     ]
    },
    {
     "data": {
      "text/plain": [
       "None"
      ]
     },
     "metadata": {},
     "output_type": "display_data"
    },
    {
     "data": {
      "text/plain": [
       "0"
      ]
     },
     "metadata": {},
     "output_type": "display_data"
    },
    {
     "data": {
      "text/plain": [
       "final.output.concentrate_ag                              1\n",
       "final.output.concentrate_pb                              1\n",
       "final.output.concentrate_sol                           211\n",
       "final.output.concentrate_au                              0\n",
       "final.output.recovery                                    0\n",
       "final.output.tail_ag                                     1\n",
       "final.output.tail_pb                                   101\n",
       "final.output.tail_sol                                    6\n",
       "final.output.tail_au                                     0\n",
       "primary_cleaner.input.sulfate                           24\n",
       "primary_cleaner.input.depressant                        37\n",
       "primary_cleaner.input.feed_size                          0\n",
       "primary_cleaner.input.xanthate                         104\n",
       "primary_cleaner.output.concentrate_ag                    0\n",
       "primary_cleaner.output.concentrate_pb                  116\n",
       "primary_cleaner.output.concentrate_sol                 370\n",
       "primary_cleaner.output.concentrate_au                    0\n",
       "primary_cleaner.output.tail_ag                           4\n",
       "primary_cleaner.output.tail_pb                          21\n",
       "primary_cleaner.output.tail_sol                         62\n",
       "primary_cleaner.output.tail_au                           0\n",
       "primary_cleaner.state.floatbank8_a_air                   4\n",
       "primary_cleaner.state.floatbank8_a_level                 1\n",
       "primary_cleaner.state.floatbank8_b_air                   4\n",
       "primary_cleaner.state.floatbank8_b_level                 1\n",
       "primary_cleaner.state.floatbank8_c_air                   2\n",
       "primary_cleaner.state.floatbank8_c_level                 1\n",
       "primary_cleaner.state.floatbank8_d_air                   3\n",
       "primary_cleaner.state.floatbank8_d_level                 1\n",
       "rougher.calculation.sulfate_to_au_concentrate            2\n",
       "rougher.calculation.floatbank10_sulfate_to_au_feed       2\n",
       "rougher.calculation.floatbank11_sulfate_to_au_feed       2\n",
       "rougher.calculation.au_pb_ratio                          0\n",
       "rougher.input.feed_ag                                    0\n",
       "rougher.input.feed_pb                                  100\n",
       "rougher.input.feed_rate                                 11\n",
       "rougher.input.feed_size                                145\n",
       "rougher.input.feed_sol                                  99\n",
       "rougher.input.feed_au                                    0\n",
       "rougher.input.floatbank10_sulfate                       34\n",
       "rougher.input.floatbank10_xanthate                       8\n",
       "rougher.input.floatbank11_sulfate                       44\n",
       "rougher.input.floatbank11_xanthate                     453\n",
       "rougher.output.concentrate_ag                            0\n",
       "rougher.output.concentrate_pb                            0\n",
       "rougher.output.concentrate_sol                          23\n",
       "rougher.output.concentrate_au                            0\n",
       "rougher.output.recovery                                  0\n",
       "rougher.output.tail_ag                                   1\n",
       "rougher.output.tail_pb                                   0\n",
       "rougher.output.tail_sol                                  0\n",
       "rougher.output.tail_au                                   0\n",
       "rougher.state.floatbank10_a_air                          1\n",
       "rougher.state.floatbank10_a_level                        1\n",
       "rougher.state.floatbank10_b_air                          1\n",
       "rougher.state.floatbank10_b_level                        1\n",
       "rougher.state.floatbank10_c_air                          1\n",
       "rougher.state.floatbank10_c_level                        1\n",
       "rougher.state.floatbank10_d_air                          0\n",
       "rougher.state.floatbank10_d_level                        0\n",
       "rougher.state.floatbank10_e_air                        436\n",
       "rougher.state.floatbank10_e_level                        0\n",
       "rougher.state.floatbank10_f_air                          0\n",
       "rougher.state.floatbank10_f_level                        0\n",
       "secondary_cleaner.output.tail_ag                         2\n",
       "secondary_cleaner.output.tail_pb                        12\n",
       "secondary_cleaner.output.tail_sol                     1748\n",
       "secondary_cleaner.output.tail_au                         0\n",
       "secondary_cleaner.state.floatbank2_a_air               220\n",
       "secondary_cleaner.state.floatbank2_a_level               1\n",
       "secondary_cleaner.state.floatbank2_b_air                23\n",
       "secondary_cleaner.state.floatbank2_b_level               1\n",
       "secondary_cleaner.state.floatbank3_a_air                13\n",
       "secondary_cleaner.state.floatbank3_a_level               1\n",
       "secondary_cleaner.state.floatbank3_b_air                 1\n",
       "secondary_cleaner.state.floatbank3_b_level               1\n",
       "secondary_cleaner.state.floatbank4_a_air                 6\n",
       "secondary_cleaner.state.floatbank4_a_level               1\n",
       "secondary_cleaner.state.floatbank4_b_air                 1\n",
       "secondary_cleaner.state.floatbank4_b_level               1\n",
       "secondary_cleaner.state.floatbank5_a_air                 1\n",
       "secondary_cleaner.state.floatbank5_a_level               1\n",
       "secondary_cleaner.state.floatbank5_b_air                 1\n",
       "secondary_cleaner.state.floatbank5_b_level               1\n",
       "secondary_cleaner.state.floatbank6_a_air                 2\n",
       "secondary_cleaner.state.floatbank6_a_level               1\n",
       "dtype: int64"
      ]
     },
     "metadata": {},
     "output_type": "display_data"
    }
   ],
   "source": [
    "info(df_full)"
   ]
  },
  {
   "cell_type": "markdown",
   "metadata": {},
   "source": [
    "Расчёт эфективности на тестовой выборке:"
   ]
  },
  {
   "cell_type": "code",
   "execution_count": 7,
   "metadata": {},
   "outputs": [],
   "source": [
    "# формула расчёта\n",
    "df_train['recovery'] = (df_train['rougher.output.concentrate_au'] * (df_train['rougher.input.feed_au'] - df_train['rougher.output.tail_au'])) \\\n",
    "/(df_train['rougher.input.feed_au'] * (df_train['rougher.output.concentrate_au'] - df_train['rougher.output.tail_au'])) * 100"
   ]
  },
  {
   "cell_type": "code",
   "execution_count": 8,
   "metadata": {},
   "outputs": [
    {
     "data": {
      "text/plain": [
       "9.73512347450521e-15"
      ]
     },
     "metadata": {},
     "output_type": "display_data"
    }
   ],
   "source": [
    "# расчёт MAE \n",
    "df_predicted = df_train['recovery']\n",
    "df_target = df_train['rougher.output.recovery']\n",
    "display(mean_absolute_error(df_target, df_predicted))"
   ]
  },
  {
   "cell_type": "markdown",
   "metadata": {},
   "source": [
    "Вывод: формула эффективности проверена, результаты совпадаю вплоть до пятнадцатого знака после запятой."
   ]
  },
  {
   "cell_type": "markdown",
   "metadata": {},
   "source": [
    "Формируем выборки для обучения и теста, заполняем пропуски, избавляемся от нулевых значений."
   ]
  },
  {
   "cell_type": "code",
   "execution_count": 9,
   "metadata": {},
   "outputs": [],
   "source": [
    "# срез по индексам для целевых признаков для тестовой выборки\n",
    "df_test_target = df_full.loc[df_test_features.index, ['rougher.output.recovery', 'final.output.recovery']]"
   ]
  },
  {
   "cell_type": "code",
   "execution_count": 10,
   "metadata": {},
   "outputs": [],
   "source": [
    "# избавляемся от нулей в целевом признаке для обучающейся выборки\n",
    "df_train = df_train.loc[df_train['rougher.output.recovery'] > 0]"
   ]
  },
  {
   "cell_type": "code",
   "execution_count": 11,
   "metadata": {},
   "outputs": [],
   "source": [
    "# общие концентрации веществ на каждой стадии\n",
    "df_train['input_feed'] = df_train['rougher.input.feed_ag'] + df_train['rougher.input.feed_pb'] + df_train['rougher.input.feed_sol'] + df_train['rougher.input.feed_au']\n",
    "df_train['rougher_concentrate'] = df_train['rougher.output.concentrate_ag'] + df_train['rougher.output.concentrate_pb'] + df_train['rougher.output.concentrate_sol'] + df_train['rougher.output.concentrate_au']\n",
    "df_train['primary_cleaner_concentrate'] = df_train['primary_cleaner.output.concentrate_ag'] + df_train['primary_cleaner.output.concentrate_pb'] + df_train['primary_cleaner.output.concentrate_sol'] + df_train['primary_cleaner.output.tail_au']\n",
    "df_train['final_concentrate'] = df_train['final.output.concentrate_ag'] + df_train['final.output.concentrate_pb'] + df_train['final.output.concentrate_sol'] + df_train['final.output.concentrate_au']"
   ]
  },
  {
   "cell_type": "code",
   "execution_count": 12,
   "metadata": {},
   "outputs": [],
   "source": [
    "# избавляемся от нулевых значений в общих концентрациях\n",
    "df_train = df_train.loc[(df_train['input_feed'] > 0.1) &\n",
    "                       (df_train['rougher_concentrate'] > 0.1) &\n",
    "                       (df_train['primary_cleaner_concentrate'] > 0.1) &\n",
    "                       (df_train['final_concentrate'] > 0.1)\n",
    "                       ]"
   ]
  },
  {
   "cell_type": "code",
   "execution_count": 13,
   "metadata": {},
   "outputs": [],
   "source": [
    "df_train_target = df_train.loc[:, ['rougher.output.recovery', 'final.output.recovery']]"
   ]
  },
  {
   "cell_type": "code",
   "execution_count": 14,
   "metadata": {},
   "outputs": [],
   "source": [
    "# в обучающейся выборке оставляет те признаки, которые присуствуют в тестовой выборке\n",
    "my_list = list(df_test_features)\n",
    "df_train_features =  df_train.loc[:, my_list]"
   ]
  },
  {
   "cell_type": "code",
   "execution_count": 15,
   "metadata": {},
   "outputs": [],
   "source": [
    "df_train_calculation = df_train.drop(columns = my_list)"
   ]
  },
  {
   "cell_type": "code",
   "execution_count": 16,
   "metadata": {
    "scrolled": true
   },
   "outputs": [
    {
     "data": {
      "text/html": [
       "<div>\n",
       "<style scoped>\n",
       "    .dataframe tbody tr th:only-of-type {\n",
       "        vertical-align: middle;\n",
       "    }\n",
       "\n",
       "    .dataframe tbody tr th {\n",
       "        vertical-align: top;\n",
       "    }\n",
       "\n",
       "    .dataframe thead th {\n",
       "        text-align: right;\n",
       "    }\n",
       "</style>\n",
       "<table border=\"1\" class=\"dataframe\">\n",
       "  <thead>\n",
       "    <tr style=\"text-align: right;\">\n",
       "      <th></th>\n",
       "      <th>final.output.concentrate_ag</th>\n",
       "      <th>final.output.concentrate_pb</th>\n",
       "      <th>final.output.concentrate_sol</th>\n",
       "      <th>final.output.concentrate_au</th>\n",
       "      <th>final.output.recovery</th>\n",
       "      <th>final.output.tail_ag</th>\n",
       "      <th>final.output.tail_pb</th>\n",
       "      <th>final.output.tail_sol</th>\n",
       "      <th>final.output.tail_au</th>\n",
       "      <th>primary_cleaner.output.concentrate_ag</th>\n",
       "      <th>primary_cleaner.output.concentrate_pb</th>\n",
       "      <th>primary_cleaner.output.concentrate_sol</th>\n",
       "      <th>primary_cleaner.output.concentrate_au</th>\n",
       "      <th>primary_cleaner.output.tail_ag</th>\n",
       "      <th>primary_cleaner.output.tail_pb</th>\n",
       "      <th>primary_cleaner.output.tail_sol</th>\n",
       "      <th>primary_cleaner.output.tail_au</th>\n",
       "      <th>rougher.calculation.sulfate_to_au_concentrate</th>\n",
       "      <th>rougher.calculation.floatbank10_sulfate_to_au_feed</th>\n",
       "      <th>rougher.calculation.floatbank11_sulfate_to_au_feed</th>\n",
       "      <th>rougher.calculation.au_pb_ratio</th>\n",
       "      <th>rougher.output.concentrate_ag</th>\n",
       "      <th>rougher.output.concentrate_pb</th>\n",
       "      <th>rougher.output.concentrate_sol</th>\n",
       "      <th>rougher.output.concentrate_au</th>\n",
       "      <th>rougher.output.recovery</th>\n",
       "      <th>rougher.output.tail_ag</th>\n",
       "      <th>rougher.output.tail_pb</th>\n",
       "      <th>rougher.output.tail_sol</th>\n",
       "      <th>rougher.output.tail_au</th>\n",
       "      <th>secondary_cleaner.output.tail_ag</th>\n",
       "      <th>secondary_cleaner.output.tail_pb</th>\n",
       "      <th>secondary_cleaner.output.tail_sol</th>\n",
       "      <th>secondary_cleaner.output.tail_au</th>\n",
       "      <th>recovery</th>\n",
       "      <th>input_feed</th>\n",
       "      <th>rougher_concentrate</th>\n",
       "      <th>primary_cleaner_concentrate</th>\n",
       "      <th>final_concentrate</th>\n",
       "    </tr>\n",
       "    <tr>\n",
       "      <th>date</th>\n",
       "      <th></th>\n",
       "      <th></th>\n",
       "      <th></th>\n",
       "      <th></th>\n",
       "      <th></th>\n",
       "      <th></th>\n",
       "      <th></th>\n",
       "      <th></th>\n",
       "      <th></th>\n",
       "      <th></th>\n",
       "      <th></th>\n",
       "      <th></th>\n",
       "      <th></th>\n",
       "      <th></th>\n",
       "      <th></th>\n",
       "      <th></th>\n",
       "      <th></th>\n",
       "      <th></th>\n",
       "      <th></th>\n",
       "      <th></th>\n",
       "      <th></th>\n",
       "      <th></th>\n",
       "      <th></th>\n",
       "      <th></th>\n",
       "      <th></th>\n",
       "      <th></th>\n",
       "      <th></th>\n",
       "      <th></th>\n",
       "      <th></th>\n",
       "      <th></th>\n",
       "      <th></th>\n",
       "      <th></th>\n",
       "      <th></th>\n",
       "      <th></th>\n",
       "      <th></th>\n",
       "      <th></th>\n",
       "      <th></th>\n",
       "      <th></th>\n",
       "      <th></th>\n",
       "    </tr>\n",
       "  </thead>\n",
       "  <tbody>\n",
       "    <tr>\n",
       "      <th>2018-06-21 12:59:59</th>\n",
       "      <td>4.094733</td>\n",
       "      <td>12.345921</td>\n",
       "      <td>6.169018</td>\n",
       "      <td>44.098787</td>\n",
       "      <td>81.500865</td>\n",
       "      <td>6.453219</td>\n",
       "      <td>2.051143</td>\n",
       "      <td>8.153910</td>\n",
       "      <td>1.206987</td>\n",
       "      <td>7.972211</td>\n",
       "      <td>14.210934</td>\n",
       "      <td>8.398902</td>\n",
       "      <td>32.689357</td>\n",
       "      <td>17.267206</td>\n",
       "      <td>4.175484</td>\n",
       "      <td>7.407307</td>\n",
       "      <td>2.447848</td>\n",
       "      <td>45780.942105</td>\n",
       "      <td>2783.836042</td>\n",
       "      <td>2783.252669</td>\n",
       "      <td>1.531995</td>\n",
       "      <td>11.421528</td>\n",
       "      <td>11.009844</td>\n",
       "      <td>27.383421</td>\n",
       "      <td>15.527755</td>\n",
       "      <td>90.866783</td>\n",
       "      <td>3.813650</td>\n",
       "      <td>0.393441</td>\n",
       "      <td>20.579262</td>\n",
       "      <td>0.806611</td>\n",
       "      <td>15.229899</td>\n",
       "      <td>10.967294</td>\n",
       "      <td>0.799346</td>\n",
       "      <td>2.259752</td>\n",
       "      <td>90.866783</td>\n",
       "      <td>62.429009</td>\n",
       "      <td>65.342548</td>\n",
       "      <td>33.029895</td>\n",
       "      <td>66.708460</td>\n",
       "    </tr>\n",
       "    <tr>\n",
       "      <th>2016-04-10 17:00:00</th>\n",
       "      <td>8.519557</td>\n",
       "      <td>9.857180</td>\n",
       "      <td>8.959617</td>\n",
       "      <td>38.730452</td>\n",
       "      <td>59.758162</td>\n",
       "      <td>7.238136</td>\n",
       "      <td>2.033523</td>\n",
       "      <td>10.709712</td>\n",
       "      <td>3.068662</td>\n",
       "      <td>10.029115</td>\n",
       "      <td>7.550792</td>\n",
       "      <td>14.535275</td>\n",
       "      <td>33.543787</td>\n",
       "      <td>12.550407</td>\n",
       "      <td>2.262139</td>\n",
       "      <td>7.580269</td>\n",
       "      <td>5.400104</td>\n",
       "      <td>46012.300683</td>\n",
       "      <td>3054.409935</td>\n",
       "      <td>3055.255638</td>\n",
       "      <td>3.168455</td>\n",
       "      <td>9.977433</td>\n",
       "      <td>7.577566</td>\n",
       "      <td>24.652793</td>\n",
       "      <td>19.833298</td>\n",
       "      <td>75.642405</td>\n",
       "      <td>5.919197</td>\n",
       "      <td>0.854363</td>\n",
       "      <td>16.841871</td>\n",
       "      <td>2.246426</td>\n",
       "      <td>10.497792</td>\n",
       "      <td>4.765988</td>\n",
       "      <td>8.453420</td>\n",
       "      <td>3.789202</td>\n",
       "      <td>75.642405</td>\n",
       "      <td>45.729926</td>\n",
       "      <td>62.041091</td>\n",
       "      <td>37.515286</td>\n",
       "      <td>66.066807</td>\n",
       "    </tr>\n",
       "    <tr>\n",
       "      <th>2017-06-02 12:59:59</th>\n",
       "      <td>5.399137</td>\n",
       "      <td>11.221450</td>\n",
       "      <td>9.193169</td>\n",
       "      <td>42.535936</td>\n",
       "      <td>44.070340</td>\n",
       "      <td>9.411649</td>\n",
       "      <td>4.341046</td>\n",
       "      <td>9.590669</td>\n",
       "      <td>5.900609</td>\n",
       "      <td>8.150827</td>\n",
       "      <td>12.501033</td>\n",
       "      <td>11.623503</td>\n",
       "      <td>33.700860</td>\n",
       "      <td>15.236645</td>\n",
       "      <td>4.295345</td>\n",
       "      <td>9.540816</td>\n",
       "      <td>10.567073</td>\n",
       "      <td>45138.097098</td>\n",
       "      <td>7696.998972</td>\n",
       "      <td>7273.585381</td>\n",
       "      <td>1.969605</td>\n",
       "      <td>11.259115</td>\n",
       "      <td>9.213694</td>\n",
       "      <td>35.089271</td>\n",
       "      <td>22.057904</td>\n",
       "      <td>82.087634</td>\n",
       "      <td>6.917984</td>\n",
       "      <td>0.760983</td>\n",
       "      <td>13.540985</td>\n",
       "      <td>2.636794</td>\n",
       "      <td>13.246129</td>\n",
       "      <td>9.634909</td>\n",
       "      <td>4.768134</td>\n",
       "      <td>18.730907</td>\n",
       "      <td>82.087634</td>\n",
       "      <td>60.460249</td>\n",
       "      <td>77.619984</td>\n",
       "      <td>42.842435</td>\n",
       "      <td>68.349691</td>\n",
       "    </tr>\n",
       "    <tr>\n",
       "      <th>2017-02-17 05:59:59</th>\n",
       "      <td>5.907132</td>\n",
       "      <td>11.485389</td>\n",
       "      <td>15.306424</td>\n",
       "      <td>43.176355</td>\n",
       "      <td>74.102535</td>\n",
       "      <td>12.166590</td>\n",
       "      <td>4.079004</td>\n",
       "      <td>9.011324</td>\n",
       "      <td>3.577430</td>\n",
       "      <td>9.836186</td>\n",
       "      <td>11.787366</td>\n",
       "      <td>11.415254</td>\n",
       "      <td>29.963957</td>\n",
       "      <td>16.476741</td>\n",
       "      <td>3.607105</td>\n",
       "      <td>9.192347</td>\n",
       "      <td>4.273477</td>\n",
       "      <td>46207.260850</td>\n",
       "      <td>3008.446819</td>\n",
       "      <td>3008.796773</td>\n",
       "      <td>2.010159</td>\n",
       "      <td>13.045421</td>\n",
       "      <td>9.415747</td>\n",
       "      <td>32.463026</td>\n",
       "      <td>21.839638</td>\n",
       "      <td>91.142469</td>\n",
       "      <td>6.534797</td>\n",
       "      <td>0.419677</td>\n",
       "      <td>11.377687</td>\n",
       "      <td>1.852210</td>\n",
       "      <td>15.540268</td>\n",
       "      <td>4.390044</td>\n",
       "      <td>12.010108</td>\n",
       "      <td>2.961467</td>\n",
       "      <td>91.142469</td>\n",
       "      <td>53.352343</td>\n",
       "      <td>76.763832</td>\n",
       "      <td>37.312284</td>\n",
       "      <td>75.875299</td>\n",
       "    </tr>\n",
       "    <tr>\n",
       "      <th>2018-03-13 07:59:59</th>\n",
       "      <td>5.989402</td>\n",
       "      <td>9.772776</td>\n",
       "      <td>8.389762</td>\n",
       "      <td>44.066337</td>\n",
       "      <td>81.263958</td>\n",
       "      <td>10.276228</td>\n",
       "      <td>1.794333</td>\n",
       "      <td>6.439588</td>\n",
       "      <td>2.233464</td>\n",
       "      <td>8.145487</td>\n",
       "      <td>8.699002</td>\n",
       "      <td>9.081538</td>\n",
       "      <td>35.072456</td>\n",
       "      <td>20.990639</td>\n",
       "      <td>4.828638</td>\n",
       "      <td>4.997649</td>\n",
       "      <td>3.540759</td>\n",
       "      <td>38547.281836</td>\n",
       "      <td>2482.971611</td>\n",
       "      <td>2482.876340</td>\n",
       "      <td>2.323324</td>\n",
       "      <td>13.310743</td>\n",
       "      <td>7.185605</td>\n",
       "      <td>29.869362</td>\n",
       "      <td>20.203529</td>\n",
       "      <td>92.639452</td>\n",
       "      <td>5.662537</td>\n",
       "      <td>0.495874</td>\n",
       "      <td>18.732283</td>\n",
       "      <td>1.303305</td>\n",
       "      <td>18.611353</td>\n",
       "      <td>7.687020</td>\n",
       "      <td>NaN</td>\n",
       "      <td>4.137337</td>\n",
       "      <td>92.639452</td>\n",
       "      <td>64.681708</td>\n",
       "      <td>70.569238</td>\n",
       "      <td>29.466787</td>\n",
       "      <td>68.218276</td>\n",
       "    </tr>\n",
       "  </tbody>\n",
       "</table>\n",
       "</div>"
      ],
      "text/plain": [
       "                     final.output.concentrate_ag  final.output.concentrate_pb  \\\n",
       "date                                                                            \n",
       "2018-06-21 12:59:59                     4.094733                    12.345921   \n",
       "2016-04-10 17:00:00                     8.519557                     9.857180   \n",
       "2017-06-02 12:59:59                     5.399137                    11.221450   \n",
       "2017-02-17 05:59:59                     5.907132                    11.485389   \n",
       "2018-03-13 07:59:59                     5.989402                     9.772776   \n",
       "\n",
       "                     final.output.concentrate_sol  \\\n",
       "date                                                \n",
       "2018-06-21 12:59:59                      6.169018   \n",
       "2016-04-10 17:00:00                      8.959617   \n",
       "2017-06-02 12:59:59                      9.193169   \n",
       "2017-02-17 05:59:59                     15.306424   \n",
       "2018-03-13 07:59:59                      8.389762   \n",
       "\n",
       "                     final.output.concentrate_au  final.output.recovery  \\\n",
       "date                                                                      \n",
       "2018-06-21 12:59:59                    44.098787              81.500865   \n",
       "2016-04-10 17:00:00                    38.730452              59.758162   \n",
       "2017-06-02 12:59:59                    42.535936              44.070340   \n",
       "2017-02-17 05:59:59                    43.176355              74.102535   \n",
       "2018-03-13 07:59:59                    44.066337              81.263958   \n",
       "\n",
       "                     final.output.tail_ag  final.output.tail_pb  \\\n",
       "date                                                              \n",
       "2018-06-21 12:59:59              6.453219              2.051143   \n",
       "2016-04-10 17:00:00              7.238136              2.033523   \n",
       "2017-06-02 12:59:59              9.411649              4.341046   \n",
       "2017-02-17 05:59:59             12.166590              4.079004   \n",
       "2018-03-13 07:59:59             10.276228              1.794333   \n",
       "\n",
       "                     final.output.tail_sol  final.output.tail_au  \\\n",
       "date                                                               \n",
       "2018-06-21 12:59:59               8.153910              1.206987   \n",
       "2016-04-10 17:00:00              10.709712              3.068662   \n",
       "2017-06-02 12:59:59               9.590669              5.900609   \n",
       "2017-02-17 05:59:59               9.011324              3.577430   \n",
       "2018-03-13 07:59:59               6.439588              2.233464   \n",
       "\n",
       "                     primary_cleaner.output.concentrate_ag  \\\n",
       "date                                                         \n",
       "2018-06-21 12:59:59                               7.972211   \n",
       "2016-04-10 17:00:00                              10.029115   \n",
       "2017-06-02 12:59:59                               8.150827   \n",
       "2017-02-17 05:59:59                               9.836186   \n",
       "2018-03-13 07:59:59                               8.145487   \n",
       "\n",
       "                     primary_cleaner.output.concentrate_pb  \\\n",
       "date                                                         \n",
       "2018-06-21 12:59:59                              14.210934   \n",
       "2016-04-10 17:00:00                               7.550792   \n",
       "2017-06-02 12:59:59                              12.501033   \n",
       "2017-02-17 05:59:59                              11.787366   \n",
       "2018-03-13 07:59:59                               8.699002   \n",
       "\n",
       "                     primary_cleaner.output.concentrate_sol  \\\n",
       "date                                                          \n",
       "2018-06-21 12:59:59                                8.398902   \n",
       "2016-04-10 17:00:00                               14.535275   \n",
       "2017-06-02 12:59:59                               11.623503   \n",
       "2017-02-17 05:59:59                               11.415254   \n",
       "2018-03-13 07:59:59                                9.081538   \n",
       "\n",
       "                     primary_cleaner.output.concentrate_au  \\\n",
       "date                                                         \n",
       "2018-06-21 12:59:59                              32.689357   \n",
       "2016-04-10 17:00:00                              33.543787   \n",
       "2017-06-02 12:59:59                              33.700860   \n",
       "2017-02-17 05:59:59                              29.963957   \n",
       "2018-03-13 07:59:59                              35.072456   \n",
       "\n",
       "                     primary_cleaner.output.tail_ag  \\\n",
       "date                                                  \n",
       "2018-06-21 12:59:59                       17.267206   \n",
       "2016-04-10 17:00:00                       12.550407   \n",
       "2017-06-02 12:59:59                       15.236645   \n",
       "2017-02-17 05:59:59                       16.476741   \n",
       "2018-03-13 07:59:59                       20.990639   \n",
       "\n",
       "                     primary_cleaner.output.tail_pb  \\\n",
       "date                                                  \n",
       "2018-06-21 12:59:59                        4.175484   \n",
       "2016-04-10 17:00:00                        2.262139   \n",
       "2017-06-02 12:59:59                        4.295345   \n",
       "2017-02-17 05:59:59                        3.607105   \n",
       "2018-03-13 07:59:59                        4.828638   \n",
       "\n",
       "                     primary_cleaner.output.tail_sol  \\\n",
       "date                                                   \n",
       "2018-06-21 12:59:59                         7.407307   \n",
       "2016-04-10 17:00:00                         7.580269   \n",
       "2017-06-02 12:59:59                         9.540816   \n",
       "2017-02-17 05:59:59                         9.192347   \n",
       "2018-03-13 07:59:59                         4.997649   \n",
       "\n",
       "                     primary_cleaner.output.tail_au  \\\n",
       "date                                                  \n",
       "2018-06-21 12:59:59                        2.447848   \n",
       "2016-04-10 17:00:00                        5.400104   \n",
       "2017-06-02 12:59:59                       10.567073   \n",
       "2017-02-17 05:59:59                        4.273477   \n",
       "2018-03-13 07:59:59                        3.540759   \n",
       "\n",
       "                     rougher.calculation.sulfate_to_au_concentrate  \\\n",
       "date                                                                 \n",
       "2018-06-21 12:59:59                                   45780.942105   \n",
       "2016-04-10 17:00:00                                   46012.300683   \n",
       "2017-06-02 12:59:59                                   45138.097098   \n",
       "2017-02-17 05:59:59                                   46207.260850   \n",
       "2018-03-13 07:59:59                                   38547.281836   \n",
       "\n",
       "                     rougher.calculation.floatbank10_sulfate_to_au_feed  \\\n",
       "date                                                                      \n",
       "2018-06-21 12:59:59                                        2783.836042    \n",
       "2016-04-10 17:00:00                                        3054.409935    \n",
       "2017-06-02 12:59:59                                        7696.998972    \n",
       "2017-02-17 05:59:59                                        3008.446819    \n",
       "2018-03-13 07:59:59                                        2482.971611    \n",
       "\n",
       "                     rougher.calculation.floatbank11_sulfate_to_au_feed  \\\n",
       "date                                                                      \n",
       "2018-06-21 12:59:59                                        2783.252669    \n",
       "2016-04-10 17:00:00                                        3055.255638    \n",
       "2017-06-02 12:59:59                                        7273.585381    \n",
       "2017-02-17 05:59:59                                        3008.796773    \n",
       "2018-03-13 07:59:59                                        2482.876340    \n",
       "\n",
       "                     rougher.calculation.au_pb_ratio  \\\n",
       "date                                                   \n",
       "2018-06-21 12:59:59                         1.531995   \n",
       "2016-04-10 17:00:00                         3.168455   \n",
       "2017-06-02 12:59:59                         1.969605   \n",
       "2017-02-17 05:59:59                         2.010159   \n",
       "2018-03-13 07:59:59                         2.323324   \n",
       "\n",
       "                     rougher.output.concentrate_ag  \\\n",
       "date                                                 \n",
       "2018-06-21 12:59:59                      11.421528   \n",
       "2016-04-10 17:00:00                       9.977433   \n",
       "2017-06-02 12:59:59                      11.259115   \n",
       "2017-02-17 05:59:59                      13.045421   \n",
       "2018-03-13 07:59:59                      13.310743   \n",
       "\n",
       "                     rougher.output.concentrate_pb  \\\n",
       "date                                                 \n",
       "2018-06-21 12:59:59                      11.009844   \n",
       "2016-04-10 17:00:00                       7.577566   \n",
       "2017-06-02 12:59:59                       9.213694   \n",
       "2017-02-17 05:59:59                       9.415747   \n",
       "2018-03-13 07:59:59                       7.185605   \n",
       "\n",
       "                     rougher.output.concentrate_sol  \\\n",
       "date                                                  \n",
       "2018-06-21 12:59:59                       27.383421   \n",
       "2016-04-10 17:00:00                       24.652793   \n",
       "2017-06-02 12:59:59                       35.089271   \n",
       "2017-02-17 05:59:59                       32.463026   \n",
       "2018-03-13 07:59:59                       29.869362   \n",
       "\n",
       "                     rougher.output.concentrate_au  rougher.output.recovery  \\\n",
       "date                                                                          \n",
       "2018-06-21 12:59:59                      15.527755                90.866783   \n",
       "2016-04-10 17:00:00                      19.833298                75.642405   \n",
       "2017-06-02 12:59:59                      22.057904                82.087634   \n",
       "2017-02-17 05:59:59                      21.839638                91.142469   \n",
       "2018-03-13 07:59:59                      20.203529                92.639452   \n",
       "\n",
       "                     rougher.output.tail_ag  rougher.output.tail_pb  \\\n",
       "date                                                                  \n",
       "2018-06-21 12:59:59                3.813650                0.393441   \n",
       "2016-04-10 17:00:00                5.919197                0.854363   \n",
       "2017-06-02 12:59:59                6.917984                0.760983   \n",
       "2017-02-17 05:59:59                6.534797                0.419677   \n",
       "2018-03-13 07:59:59                5.662537                0.495874   \n",
       "\n",
       "                     rougher.output.tail_sol  rougher.output.tail_au  \\\n",
       "date                                                                   \n",
       "2018-06-21 12:59:59                20.579262                0.806611   \n",
       "2016-04-10 17:00:00                16.841871                2.246426   \n",
       "2017-06-02 12:59:59                13.540985                2.636794   \n",
       "2017-02-17 05:59:59                11.377687                1.852210   \n",
       "2018-03-13 07:59:59                18.732283                1.303305   \n",
       "\n",
       "                     secondary_cleaner.output.tail_ag  \\\n",
       "date                                                    \n",
       "2018-06-21 12:59:59                         15.229899   \n",
       "2016-04-10 17:00:00                         10.497792   \n",
       "2017-06-02 12:59:59                         13.246129   \n",
       "2017-02-17 05:59:59                         15.540268   \n",
       "2018-03-13 07:59:59                         18.611353   \n",
       "\n",
       "                     secondary_cleaner.output.tail_pb  \\\n",
       "date                                                    \n",
       "2018-06-21 12:59:59                         10.967294   \n",
       "2016-04-10 17:00:00                          4.765988   \n",
       "2017-06-02 12:59:59                          9.634909   \n",
       "2017-02-17 05:59:59                          4.390044   \n",
       "2018-03-13 07:59:59                          7.687020   \n",
       "\n",
       "                     secondary_cleaner.output.tail_sol  \\\n",
       "date                                                     \n",
       "2018-06-21 12:59:59                           0.799346   \n",
       "2016-04-10 17:00:00                           8.453420   \n",
       "2017-06-02 12:59:59                           4.768134   \n",
       "2017-02-17 05:59:59                          12.010108   \n",
       "2018-03-13 07:59:59                                NaN   \n",
       "\n",
       "                     secondary_cleaner.output.tail_au   recovery  input_feed  \\\n",
       "date                                                                           \n",
       "2018-06-21 12:59:59                          2.259752  90.866783   62.429009   \n",
       "2016-04-10 17:00:00                          3.789202  75.642405   45.729926   \n",
       "2017-06-02 12:59:59                         18.730907  82.087634   60.460249   \n",
       "2017-02-17 05:59:59                          2.961467  91.142469   53.352343   \n",
       "2018-03-13 07:59:59                          4.137337  92.639452   64.681708   \n",
       "\n",
       "                     rougher_concentrate  primary_cleaner_concentrate  \\\n",
       "date                                                                    \n",
       "2018-06-21 12:59:59            65.342548                    33.029895   \n",
       "2016-04-10 17:00:00            62.041091                    37.515286   \n",
       "2017-06-02 12:59:59            77.619984                    42.842435   \n",
       "2017-02-17 05:59:59            76.763832                    37.312284   \n",
       "2018-03-13 07:59:59            70.569238                    29.466787   \n",
       "\n",
       "                     final_concentrate  \n",
       "date                                    \n",
       "2018-06-21 12:59:59          66.708460  \n",
       "2016-04-10 17:00:00          66.066807  \n",
       "2017-06-02 12:59:59          68.349691  \n",
       "2017-02-17 05:59:59          75.875299  \n",
       "2018-03-13 07:59:59          68.218276  "
      ]
     },
     "metadata": {},
     "output_type": "display_data"
    },
    {
     "name": "stdout",
     "output_type": "stream",
     "text": [
      "<class 'pandas.core.frame.DataFrame'>\n",
      "Index: 13181 entries, 2016-01-15 00:00:00 to 2018-08-18 10:59:59\n",
      "Data columns (total 39 columns):\n",
      " #   Column                                              Non-Null Count  Dtype  \n",
      "---  ------                                              --------------  -----  \n",
      " 0   final.output.concentrate_ag                         13181 non-null  float64\n",
      " 1   final.output.concentrate_pb                         13181 non-null  float64\n",
      " 2   final.output.concentrate_sol                        13181 non-null  float64\n",
      " 3   final.output.concentrate_au                         13181 non-null  float64\n",
      " 4   final.output.recovery                               13181 non-null  float64\n",
      " 5   final.output.tail_ag                                13181 non-null  float64\n",
      " 6   final.output.tail_pb                                13165 non-null  float64\n",
      " 7   final.output.tail_sol                               13179 non-null  float64\n",
      " 8   final.output.tail_au                                13181 non-null  float64\n",
      " 9   primary_cleaner.output.concentrate_ag               13181 non-null  float64\n",
      " 10  primary_cleaner.output.concentrate_pb               13181 non-null  float64\n",
      " 11  primary_cleaner.output.concentrate_sol              13181 non-null  float64\n",
      " 12  primary_cleaner.output.concentrate_au               13181 non-null  float64\n",
      " 13  primary_cleaner.output.tail_ag                      13180 non-null  float64\n",
      " 14  primary_cleaner.output.tail_pb                      13166 non-null  float64\n",
      " 15  primary_cleaner.output.tail_sol                     13156 non-null  float64\n",
      " 16  primary_cleaner.output.tail_au                      13181 non-null  float64\n",
      " 17  rougher.calculation.sulfate_to_au_concentrate       13180 non-null  float64\n",
      " 18  rougher.calculation.floatbank10_sulfate_to_au_feed  13180 non-null  float64\n",
      " 19  rougher.calculation.floatbank11_sulfate_to_au_feed  13180 non-null  float64\n",
      " 20  rougher.calculation.au_pb_ratio                     13181 non-null  float64\n",
      " 21  rougher.output.concentrate_ag                       13181 non-null  float64\n",
      " 22  rougher.output.concentrate_pb                       13181 non-null  float64\n",
      " 23  rougher.output.concentrate_sol                      13181 non-null  float64\n",
      " 24  rougher.output.concentrate_au                       13181 non-null  float64\n",
      " 25  rougher.output.recovery                             13181 non-null  float64\n",
      " 26  rougher.output.tail_ag                              13180 non-null  float64\n",
      " 27  rougher.output.tail_pb                              13181 non-null  float64\n",
      " 28  rougher.output.tail_sol                             13181 non-null  float64\n",
      " 29  rougher.output.tail_au                              13181 non-null  float64\n",
      " 30  secondary_cleaner.output.tail_ag                    13180 non-null  float64\n",
      " 31  secondary_cleaner.output.tail_pb                    13173 non-null  float64\n",
      " 32  secondary_cleaner.output.tail_sol                   11730 non-null  float64\n",
      " 33  secondary_cleaner.output.tail_au                    13181 non-null  float64\n",
      " 34  recovery                                            13181 non-null  float64\n",
      " 35  input_feed                                          13181 non-null  float64\n",
      " 36  rougher_concentrate                                 13181 non-null  float64\n",
      " 37  primary_cleaner_concentrate                         13181 non-null  float64\n",
      " 38  final_concentrate                                   13181 non-null  float64\n",
      "dtypes: float64(39)\n",
      "memory usage: 4.0+ MB\n"
     ]
    },
    {
     "data": {
      "text/plain": [
       "None"
      ]
     },
     "metadata": {},
     "output_type": "display_data"
    },
    {
     "data": {
      "text/plain": [
       "0"
      ]
     },
     "metadata": {},
     "output_type": "display_data"
    },
    {
     "data": {
      "text/plain": [
       "final.output.concentrate_ag                              0\n",
       "final.output.concentrate_pb                              0\n",
       "final.output.concentrate_sol                             0\n",
       "final.output.concentrate_au                              0\n",
       "final.output.recovery                                    0\n",
       "final.output.tail_ag                                     0\n",
       "final.output.tail_pb                                    16\n",
       "final.output.tail_sol                                    2\n",
       "final.output.tail_au                                     0\n",
       "primary_cleaner.output.concentrate_ag                    0\n",
       "primary_cleaner.output.concentrate_pb                    0\n",
       "primary_cleaner.output.concentrate_sol                   0\n",
       "primary_cleaner.output.concentrate_au                    0\n",
       "primary_cleaner.output.tail_ag                           1\n",
       "primary_cleaner.output.tail_pb                          15\n",
       "primary_cleaner.output.tail_sol                         25\n",
       "primary_cleaner.output.tail_au                           0\n",
       "rougher.calculation.sulfate_to_au_concentrate            1\n",
       "rougher.calculation.floatbank10_sulfate_to_au_feed       1\n",
       "rougher.calculation.floatbank11_sulfate_to_au_feed       1\n",
       "rougher.calculation.au_pb_ratio                          0\n",
       "rougher.output.concentrate_ag                            0\n",
       "rougher.output.concentrate_pb                            0\n",
       "rougher.output.concentrate_sol                           0\n",
       "rougher.output.concentrate_au                            0\n",
       "rougher.output.recovery                                  0\n",
       "rougher.output.tail_ag                                   1\n",
       "rougher.output.tail_pb                                   0\n",
       "rougher.output.tail_sol                                  0\n",
       "rougher.output.tail_au                                   0\n",
       "secondary_cleaner.output.tail_ag                         1\n",
       "secondary_cleaner.output.tail_pb                         8\n",
       "secondary_cleaner.output.tail_sol                     1451\n",
       "secondary_cleaner.output.tail_au                         0\n",
       "recovery                                                 0\n",
       "input_feed                                               0\n",
       "rougher_concentrate                                      0\n",
       "primary_cleaner_concentrate                              0\n",
       "final_concentrate                                        0\n",
       "dtype: int64"
      ]
     },
     "metadata": {},
     "output_type": "display_data"
    }
   ],
   "source": [
    "info(df_train_calculation)"
   ]
  },
  {
   "cell_type": "markdown",
   "metadata": {},
   "source": [
    "Вывод: В тестовой выборке нет столбцов со значениями концентратов на каждом этапе очистки. Эти столбцы носят информативный характер. Для обучения эта информация не подходит. "
   ]
  },
  {
   "cell_type": "code",
   "execution_count": 17,
   "metadata": {},
   "outputs": [],
   "source": [
    "# заполним пропуски в подготовленных выборках для каждого столбца медианой\n",
    "df_train_features = df_train_features.fillna(df_train_features.median())\n",
    "df_test_features = df_test_features.fillna(df_test_features.median())"
   ]
  },
  {
   "cell_type": "markdown",
   "metadata": {},
   "source": [
    "## Анализ данных"
   ]
  },
  {
   "cell_type": "markdown",
   "metadata": {},
   "source": [
    "Концентрации металов на разных этапах очистки"
   ]
  },
  {
   "cell_type": "code",
   "execution_count": 18,
   "metadata": {},
   "outputs": [
    {
     "data": {
      "text/plain": [
       "<AxesSubplot:>"
      ]
     },
     "execution_count": 18,
     "metadata": {},
     "output_type": "execute_result"
    },
    {
     "data": {
      "image/png": "[encoded data removed]",
      "text/plain": [
       "<Figure size 432x288 with 1 Axes>"
      ]
     },
     "metadata": {
      "needs_background": "light"
     },
     "output_type": "display_data"
    }
   ],
   "source": [
    "# концентрация серебра\n",
    "df_full['rougher.input.feed_ag'].hist(bins=35, alpha=0.5, color='red')\n",
    "df_full['rougher.output.concentrate_ag'].hist(bins=35, alpha=0.5, color='green')\n",
    "df_full['primary_cleaner.output.concentrate_ag'].hist(bins=35, alpha=0.5, color='blue')\n",
    "df_full['final.output.concentrate_ag'].hist(bins=35, alpha=0.5, color='orange')"
   ]
  },
  {
   "cell_type": "code",
   "execution_count": 19,
   "metadata": {},
   "outputs": [
    {
     "data": {
      "text/plain": [
       "<AxesSubplot:>"
      ]
     },
     "execution_count": 19,
     "metadata": {},
     "output_type": "execute_result"
    },
    {
     "data": {
      "image/png": "[encoded data removed]",
      "text/plain": [
       "<Figure size 432x288 with 1 Axes>"
      ]
     },
     "metadata": {
      "needs_background": "light"
     },
     "output_type": "display_data"
    }
   ],
   "source": [
    "# концентрация золота\n",
    "df_full['rougher.input.feed_au'].hist(bins=35, alpha=0.5, color='red')\n",
    "df_full['rougher.output.concentrate_au'].hist(bins=35, alpha=0.5, color='green')\n",
    "df_full['primary_cleaner.output.concentrate_au'].hist(bins=35, alpha=0.5, color='blue')\n",
    "df_full['final.output.concentrate_au'].hist(bins=35, alpha=0.5, color='orange')"
   ]
  },
  {
   "cell_type": "code",
   "execution_count": 20,
   "metadata": {},
   "outputs": [
    {
     "data": {
      "text/plain": [
       "<AxesSubplot:>"
      ]
     },
     "execution_count": 20,
     "metadata": {},
     "output_type": "execute_result"
    },
    {
     "data": {
      "image/png": "[encoded data removed]",
      "text/plain": [
       "<Figure size 432x288 with 1 Axes>"
      ]
     },
     "metadata": {
      "needs_background": "light"
     },
     "output_type": "display_data"
    }
   ],
   "source": [
    "# концентрация свинца\n",
    "df_full['rougher.input.feed_pb'].hist(bins=35, alpha=0.5, color='red')\n",
    "df_full['rougher.output.concentrate_pb'].hist(bins=35, alpha=0.5, color='green')\n",
    "df_full['primary_cleaner.output.concentrate_pb'].hist(bins=35, alpha=0.5, color='blue')\n",
    "df_full['final.output.concentrate_pb'].hist(bins=35, alpha=0.5, color='orange')"
   ]
  },
  {
   "cell_type": "markdown",
   "metadata": {},
   "source": [
    "Вывод: Концентрация свинца на разных этапах почти не меняется. Концентрация серебра поэтапно падает. Концентрация золота растёт, что не удивительно, ведь добывают золото."
   ]
  },
  {
   "cell_type": "markdown",
   "metadata": {},
   "source": [
    "Сравнение размеров гранул сырья в тестовой и обучающей выборках"
   ]
  },
  {
   "cell_type": "code",
   "execution_count": 21,
   "metadata": {},
   "outputs": [
    {
     "data": {
      "text/plain": [
       "2.3820657274841597e-35"
      ]
     },
     "metadata": {},
     "output_type": "display_data"
    },
    {
     "data": {
      "text/plain": [
       "'Размеры гранул сырья в тестовой и обучающей выборках равны'"
      ]
     },
     "metadata": {},
     "output_type": "display_data"
    }
   ],
   "source": [
    "results = st.ttest_ind(\n",
    "    df_train_features['rougher.input.feed_size'], \n",
    "    df_test_features['rougher.input.feed_size'], equal_var=False)\n",
    "\n",
    "alpha = 0.05\n",
    "\n",
    "display(results.pvalue) \n",
    "if results.pvalue < alpha: \n",
    "    display(\"Размеры гранул сырья в тестовой и обучающей выборках равны\")\n",
    "else:\n",
    "    display(\"Распределения в двух выборках сильно отличаются друг от друга\")"
   ]
  },
  {
   "cell_type": "markdown",
   "metadata": {},
   "source": [
    "Вывод: Распределения размеров в тестовой и обучающей выборках равны - оценка модели будет корректной. "
   ]
  },
  {
   "cell_type": "code",
   "execution_count": 22,
   "metadata": {},
   "outputs": [
    {
     "data": {
      "image/png": "[encoded data removed]",
      "text/plain": [
       "<Figure size 720x720 with 1 Axes>"
      ]
     },
     "metadata": {
      "needs_background": "light"
     },
     "output_type": "display_data"
    }
   ],
   "source": [
    "# Строим график распределения гранул сырья для обучающей и тестовой выборок\n",
    "plt.figure(figsize=(10, 10))\n",
    "\n",
    "sns.kdeplot(df_train_features['rougher.input.feed_size']);\n",
    "sns.kdeplot(df_test_features['rougher.input.feed_size']);\n",
    "\n",
    "plt.title('График распределения гранул сырья')\n",
    "plt.legend(['train', 'test'])\n",
    "plt.ylabel('Количество')\n",
    "plt.xlabel('Размер гранул')\n",
    "plt.show()"
   ]
  },
  {
   "cell_type": "markdown",
   "metadata": {},
   "source": [
    "Исследуем суммарную концентрацию всех веществ на разных стадиях"
   ]
  },
  {
   "cell_type": "code",
   "execution_count": 23,
   "metadata": {},
   "outputs": [
    {
     "data": {
      "text/plain": [
       "<AxesSubplot:>"
      ]
     },
     "execution_count": 23,
     "metadata": {},
     "output_type": "execute_result"
    },
    {
     "data": {
      "image/png": "[encoded data removed]",
      "text/plain": [
       "<Figure size 432x288 with 1 Axes>"
      ]
     },
     "metadata": {
      "needs_background": "light"
     },
     "output_type": "display_data"
    }
   ],
   "source": [
    "df_train['input_feed'].hist(bins=35, alpha=0.5, color='red')\n",
    "df_train['rougher_concentrate'].hist(bins=35, alpha=0.5, color='green')\n",
    "df_train['primary_cleaner_concentrate'].hist(bins=35, alpha=0.5, color='blue')\n",
    "df_train['final_concentrate'].hist(bins=35, alpha=0.5, color='orange')"
   ]
  },
  {
   "cell_type": "markdown",
   "metadata": {},
   "source": [
    "Вывод: После флотации и обогащения руды концентрация веществ высокая. После очистки общая концентрация веществ падает. На финальном этапе концентрацию веществ востанавливают."
   ]
  },
  {
   "cell_type": "markdown",
   "metadata": {},
   "source": [
    "## Модель"
   ]
  },
  {
   "cell_type": "code",
   "execution_count": 24,
   "metadata": {},
   "outputs": [],
   "source": [
    "# функция для расчёта sMAPE\n",
    "def smape(actual, forecast):\n",
    "    return 2 * np.mean(np.abs(forecast - actual) / (np.abs(actual) + np.abs(forecast)) * 100)"
   ]
  },
  {
   "cell_type": "code",
   "execution_count": 25,
   "metadata": {},
   "outputs": [],
   "source": [
    "smape_final = make_scorer(smape, greater_is_better=False)"
   ]
  },
  {
   "cell_type": "code",
   "execution_count": 26,
   "metadata": {},
   "outputs": [],
   "source": [
    "# функция для итоговой sMAPE\n",
    "def smape_total(rougher, final):\n",
    "    return 0.25 * round(rougher, 4) + 0.75 * round(final, 4)"
   ]
  },
  {
   "cell_type": "markdown",
   "metadata": {},
   "source": [
    "Оцениваем качество модели Линейная Регрессия"
   ]
  },
  {
   "cell_type": "code",
   "execution_count": 27,
   "metadata": {},
   "outputs": [],
   "source": [
    "model_linear= LinearRegression()"
   ]
  },
  {
   "cell_type": "code",
   "execution_count": 28,
   "metadata": {},
   "outputs": [],
   "source": [
    "pipeline_linear = make_pipeline(StandardScaler(), model_linear)"
   ]
  },
  {
   "cell_type": "code",
   "execution_count": 29,
   "metadata": {},
   "outputs": [],
   "source": [
    "scores_rougher = cross_val_score(pipeline_linear, df_train_features, df_train_target['final.output.recovery'], scoring=smape_final, cv=10, error_score='raise')"
   ]
  },
  {
   "cell_type": "code",
   "execution_count": 30,
   "metadata": {},
   "outputs": [
    {
     "data": {
      "text/plain": [
       "9.475920027289051"
      ]
     },
     "execution_count": 30,
     "metadata": {},
     "output_type": "execute_result"
    }
   ],
   "source": [
    "scores_rougher.mean() * -1"
   ]
  },
  {
   "cell_type": "markdown",
   "metadata": {},
   "source": [
    "Оцениваем качество модели Случайный Лес"
   ]
  },
  {
   "cell_type": "code",
   "execution_count": 31,
   "metadata": {},
   "outputs": [],
   "source": [
    "model_forest = RandomForestRegressor(random_state=12345)"
   ]
  },
  {
   "cell_type": "code",
   "execution_count": 32,
   "metadata": {},
   "outputs": [],
   "source": [
    "pipeline_forest = make_pipeline(StandardScaler(), model_forest)"
   ]
  },
  {
   "cell_type": "code",
   "execution_count": 33,
   "metadata": {},
   "outputs": [],
   "source": [
    "param = {\n",
    "    'randomforestregressor__n_estimators': range(1, 5 ),\n",
    "    'randomforestregressor__max_depth': range(1, 5),\n",
    "}"
   ]
  },
  {
   "cell_type": "code",
   "execution_count": 34,
   "metadata": {},
   "outputs": [],
   "source": [
    "final_forest = GridSearchCV(\n",
    "    pipeline_forest,\n",
    "    param_grid=param,\n",
    "    scoring=smape_final,\n",
    "    cv=10,\n",
    "    n_jobs=-1\n",
    ")"
   ]
  },
  {
   "cell_type": "code",
   "execution_count": 35,
   "metadata": {},
   "outputs": [
    {
     "data": {
      "text/plain": [
       "GridSearchCV(cv=10,\n",
       "             estimator=Pipeline(steps=[('standardscaler', StandardScaler()),\n",
       "                                       ('randomforestregressor',\n",
       "                                        RandomForestRegressor(random_state=12345))]),\n",
       "             n_jobs=-1,\n",
       "             param_grid={'randomforestregressor__max_depth': range(1, 5),\n",
       "                         'randomforestregressor__n_estimators': range(1, 5)},\n",
       "             scoring=make_scorer(smape, greater_is_better=False))"
      ]
     },
     "execution_count": 35,
     "metadata": {},
     "output_type": "execute_result"
    }
   ],
   "source": [
    "final_forest.fit(df_train_features, df_train_target['final.output.recovery'])"
   ]
  },
  {
   "cell_type": "code",
   "execution_count": 36,
   "metadata": {},
   "outputs": [],
   "source": [
    "final_forest_best_score = final_forest.best_score_ * -1"
   ]
  },
  {
   "cell_type": "code",
   "execution_count": 37,
   "metadata": {},
   "outputs": [
    {
     "data": {
      "text/plain": [
       "8.312537942435586"
      ]
     },
     "execution_count": 37,
     "metadata": {},
     "output_type": "execute_result"
    }
   ],
   "source": [
    "final_forest_best_score"
   ]
  },
  {
   "cell_type": "markdown",
   "metadata": {},
   "source": [
    "Модель Случайный Лес дала лучший результат - берём её для тестирования"
   ]
  },
  {
   "cell_type": "code",
   "execution_count": 38,
   "metadata": {},
   "outputs": [],
   "source": [
    "prediction_final = final_forest.predict(df_test_features)"
   ]
  },
  {
   "cell_type": "code",
   "execution_count": 39,
   "metadata": {},
   "outputs": [],
   "source": [
    "smape_final = smape(df_test_target['final.output.recovery'], prediction_final) "
   ]
  },
  {
   "cell_type": "code",
   "execution_count": 40,
   "metadata": {},
   "outputs": [
    {
     "data": {
      "text/plain": [
       "10.042520351630042"
      ]
     },
     "execution_count": 40,
     "metadata": {},
     "output_type": "execute_result"
    }
   ],
   "source": [
    "smape_final"
   ]
  },
  {
   "cell_type": "code",
   "execution_count": 41,
   "metadata": {},
   "outputs": [
    {
     "data": {
      "text/plain": [
       "GridSearchCV(cv=10,\n",
       "             estimator=Pipeline(steps=[('standardscaler', StandardScaler()),\n",
       "                                       ('randomforestregressor',\n",
       "                                        RandomForestRegressor(random_state=12345))]),\n",
       "             n_jobs=-1,\n",
       "             param_grid={'randomforestregressor__max_depth': range(1, 5),\n",
       "                         'randomforestregressor__n_estimators': range(1, 5)},\n",
       "             scoring=make_scorer(smape, greater_is_better=False))"
      ]
     },
     "execution_count": 41,
     "metadata": {},
     "output_type": "execute_result"
    }
   ],
   "source": [
    "final_forest.fit(df_train_features, df_train_target['rougher.output.recovery'])"
   ]
  },
  {
   "cell_type": "code",
   "execution_count": 42,
   "metadata": {},
   "outputs": [],
   "source": [
    "prediction_rougher = final_forest.predict(df_test_features)"
   ]
  },
  {
   "cell_type": "code",
   "execution_count": 43,
   "metadata": {},
   "outputs": [],
   "source": [
    "smape_rougher = smape(df_test_target['rougher.output.recovery'], prediction_rougher) "
   ]
  },
  {
   "cell_type": "code",
   "execution_count": 44,
   "metadata": {},
   "outputs": [
    {
     "data": {
      "text/plain": [
       "8.064249409862668"
      ]
     },
     "execution_count": 44,
     "metadata": {},
     "output_type": "execute_result"
    }
   ],
   "source": [
    "smape_rougher"
   ]
  },
  {
   "cell_type": "code",
   "execution_count": 45,
   "metadata": {},
   "outputs": [
    {
     "data": {
      "text/plain": [
       "9.547925"
      ]
     },
     "metadata": {},
     "output_type": "display_data"
    }
   ],
   "source": [
    "display(smape_total(smape_rougher, smape_final))"
   ]
  },
  {
   "cell_type": "markdown",
   "metadata": {},
   "source": [
    "Вывод: на тесте модель продемонстрировала приемлемый результат по итоговой метреке sMAPE."
   ]
  }
 ],
 "metadata": {
  "ExecuteTimeLog": [
   {
    "duration": 408,
    "start_time": "2023-01-22T16:16:13.834Z"
   },
   {
    "duration": 2988,
    "start_time": "2023-01-22T16:16:14.243Z"
   },
   {
    "duration": 33,
    "start_time": "2023-01-22T16:16:17.234Z"
   },
   {
    "duration": 26,
    "start_time": "2023-01-22T16:17:46.663Z"
   },
   {
    "duration": 38,
    "start_time": "2023-01-22T16:18:58.858Z"
   },
   {
    "duration": 17,
    "start_time": "2023-01-22T16:19:46.177Z"
   },
   {
    "duration": 12,
    "start_time": "2023-01-22T16:19:58.025Z"
   },
   {
    "duration": 17,
    "start_time": "2023-01-22T16:45:56.004Z"
   },
   {
    "duration": 39,
    "start_time": "2023-01-22T16:48:00.786Z"
   },
   {
    "duration": 8,
    "start_time": "2023-01-22T16:50:06.867Z"
   },
   {
    "duration": 6,
    "start_time": "2023-01-22T16:52:54.729Z"
   },
   {
    "duration": 5,
    "start_time": "2023-01-22T17:07:27.858Z"
   },
   {
    "duration": 1365,
    "start_time": "2023-01-22T17:11:05.119Z"
   },
   {
    "duration": 17,
    "start_time": "2023-01-22T17:11:15.605Z"
   },
   {
    "duration": 16,
    "start_time": "2023-01-22T17:11:36.847Z"
   },
   {
    "duration": 14,
    "start_time": "2023-01-22T17:12:25.753Z"
   },
   {
    "duration": 2,
    "start_time": "2023-01-22T17:24:00.822Z"
   },
   {
    "duration": 641,
    "start_time": "2023-01-22T17:24:01.166Z"
   },
   {
    "duration": 16,
    "start_time": "2023-01-22T17:24:01.808Z"
   },
   {
    "duration": 15,
    "start_time": "2023-01-22T17:24:08.495Z"
   },
   {
    "duration": 13,
    "start_time": "2023-01-22T17:24:09.710Z"
   },
   {
    "duration": 32,
    "start_time": "2023-01-22T17:24:24.159Z"
   },
   {
    "duration": 49,
    "start_time": "2023-01-22T17:25:02.799Z"
   },
   {
    "duration": 727,
    "start_time": "2023-01-22T17:25:32.257Z"
   },
   {
    "duration": 13,
    "start_time": "2023-01-22T17:25:32.986Z"
   },
   {
    "duration": 24,
    "start_time": "2023-01-22T17:25:33.095Z"
   },
   {
    "duration": 11,
    "start_time": "2023-01-22T17:25:33.543Z"
   },
   {
    "duration": 16,
    "start_time": "2023-01-22T17:25:33.975Z"
   },
   {
    "duration": 27,
    "start_time": "2023-01-22T17:25:36.583Z"
   },
   {
    "duration": 663,
    "start_time": "2023-01-22T17:29:25.749Z"
   },
   {
    "duration": 15,
    "start_time": "2023-01-22T17:29:26.414Z"
   },
   {
    "duration": 8,
    "start_time": "2023-01-22T17:29:29.095Z"
   },
   {
    "duration": 12,
    "start_time": "2023-01-22T17:30:14.007Z"
   },
   {
    "duration": 8,
    "start_time": "2023-01-22T17:30:28.663Z"
   },
   {
    "duration": 9,
    "start_time": "2023-01-22T17:30:29.901Z"
   },
   {
    "duration": 146,
    "start_time": "2023-01-22T17:32:22.510Z"
   },
   {
    "duration": 613,
    "start_time": "2023-01-22T17:39:06.309Z"
   },
   {
    "duration": 3,
    "start_time": "2023-01-22T17:39:06.924Z"
   },
   {
    "duration": 124,
    "start_time": "2023-01-22T17:39:07.150Z"
   },
   {
    "duration": 4,
    "start_time": "2023-01-22T17:39:27.925Z"
   },
   {
    "duration": 115,
    "start_time": "2023-01-22T17:39:28.365Z"
   },
   {
    "duration": 4,
    "start_time": "2023-01-22T17:40:18.013Z"
   },
   {
    "duration": 123,
    "start_time": "2023-01-22T17:40:18.453Z"
   },
   {
    "duration": 28,
    "start_time": "2023-01-22T17:40:55.958Z"
   },
   {
    "duration": 97,
    "start_time": "2023-01-22T17:41:30.410Z"
   },
   {
    "duration": 19,
    "start_time": "2023-01-22T17:42:35.855Z"
   },
   {
    "duration": 6,
    "start_time": "2023-01-22T17:42:43.159Z"
   },
   {
    "duration": 3,
    "start_time": "2023-01-22T17:52:28.444Z"
   },
   {
    "duration": 3,
    "start_time": "2023-01-22T17:52:34.518Z"
   },
   {
    "duration": 9,
    "start_time": "2023-01-22T17:52:45.420Z"
   },
   {
    "duration": 7,
    "start_time": "2023-01-22T17:53:05.043Z"
   },
   {
    "duration": 8,
    "start_time": "2023-01-22T17:53:17.206Z"
   },
   {
    "duration": 8,
    "start_time": "2023-01-22T17:53:36.519Z"
   },
   {
    "duration": 5,
    "start_time": "2023-01-22T17:54:29.568Z"
   },
   {
    "duration": 4,
    "start_time": "2023-01-22T17:54:59.494Z"
   },
   {
    "duration": 8,
    "start_time": "2023-01-22T18:07:56.362Z"
   },
   {
    "duration": 1276,
    "start_time": "2023-01-22T18:08:04.064Z"
   },
   {
    "duration": 15,
    "start_time": "2023-01-22T18:09:08.704Z"
   },
   {
    "duration": 3,
    "start_time": "2023-01-22T18:09:43.714Z"
   },
   {
    "duration": 6,
    "start_time": "2023-01-22T18:10:04.872Z"
   },
   {
    "duration": 358,
    "start_time": "2023-01-22T18:12:52.368Z"
   },
   {
    "duration": 13,
    "start_time": "2023-01-22T18:14:09.825Z"
   },
   {
    "duration": 21,
    "start_time": "2023-01-22T18:14:37.104Z"
   },
   {
    "duration": 5,
    "start_time": "2023-01-22T18:14:55.616Z"
   },
   {
    "duration": 14,
    "start_time": "2023-01-22T18:15:12.441Z"
   },
   {
    "duration": 14,
    "start_time": "2023-01-22T18:21:05.466Z"
   },
   {
    "duration": 3,
    "start_time": "2023-01-22T18:24:10.623Z"
   },
   {
    "duration": 800,
    "start_time": "2023-01-22T18:24:10.943Z"
   },
   {
    "duration": 4,
    "start_time": "2023-01-22T18:24:11.745Z"
   },
   {
    "duration": 174,
    "start_time": "2023-01-22T18:24:11.752Z"
   },
   {
    "duration": 9,
    "start_time": "2023-01-22T18:25:47.253Z"
   },
   {
    "duration": 802,
    "start_time": "2023-01-22T18:25:47.839Z"
   },
   {
    "duration": 3,
    "start_time": "2023-01-22T18:25:48.643Z"
   },
   {
    "duration": 179,
    "start_time": "2023-01-22T18:25:48.647Z"
   },
   {
    "duration": 36,
    "start_time": "2023-01-22T18:26:34.783Z"
   },
   {
    "duration": 126,
    "start_time": "2023-01-22T18:26:40.231Z"
   },
   {
    "duration": 3,
    "start_time": "2023-01-22T18:26:41.127Z"
   },
   {
    "duration": 11,
    "start_time": "2023-01-22T18:26:41.973Z"
   },
   {
    "duration": 7,
    "start_time": "2023-01-22T18:27:31.574Z"
   },
   {
    "duration": 13,
    "start_time": "2023-01-22T18:27:32.382Z"
   },
   {
    "duration": 31,
    "start_time": "2023-01-22T18:35:16.095Z"
   },
   {
    "duration": 40,
    "start_time": "2023-01-22T18:35:26.480Z"
   },
   {
    "duration": 87,
    "start_time": "2023-01-22T18:35:33.959Z"
   },
   {
    "duration": 5819,
    "start_time": "2023-01-22T18:35:43.080Z"
   },
   {
    "duration": 367,
    "start_time": "2023-01-22T18:35:56.283Z"
   },
   {
    "duration": 739,
    "start_time": "2023-01-22T18:35:56.652Z"
   },
   {
    "duration": 3,
    "start_time": "2023-01-22T18:35:57.393Z"
   },
   {
    "duration": 144,
    "start_time": "2023-01-22T18:35:57.397Z"
   },
   {
    "duration": 39,
    "start_time": "2023-01-22T18:35:57.543Z"
   },
   {
    "duration": 122,
    "start_time": "2023-01-22T18:35:57.583Z"
   },
   {
    "duration": 75,
    "start_time": "2023-01-22T18:35:57.706Z"
   },
   {
    "duration": 0,
    "start_time": "2023-01-22T18:35:57.783Z"
   },
   {
    "duration": 0,
    "start_time": "2023-01-22T18:35:57.784Z"
   },
   {
    "duration": 3,
    "start_time": "2023-01-22T18:36:19.719Z"
   },
   {
    "duration": 7,
    "start_time": "2023-01-22T18:36:20.231Z"
   },
   {
    "duration": 6,
    "start_time": "2023-01-22T18:36:31.935Z"
   },
   {
    "duration": 95,
    "start_time": "2023-01-22T18:36:33.662Z"
   },
   {
    "duration": 7,
    "start_time": "2023-01-22T18:36:34.336Z"
   },
   {
    "duration": 1294,
    "start_time": "2023-01-22T18:58:36.712Z"
   },
   {
    "duration": 18,
    "start_time": "2023-01-22T18:59:08.295Z"
   },
   {
    "duration": 18,
    "start_time": "2023-01-22T18:59:44.813Z"
   },
   {
    "duration": 13,
    "start_time": "2023-01-22T19:00:01.178Z"
   },
   {
    "duration": 46,
    "start_time": "2023-01-22T19:00:28.073Z"
   },
   {
    "duration": 1635,
    "start_time": "2023-01-22T19:00:40.894Z"
   },
   {
    "duration": 2467,
    "start_time": "2023-01-22T19:00:53.476Z"
   },
   {
    "duration": 2562,
    "start_time": "2023-01-22T19:02:01.990Z"
   },
   {
    "duration": 244,
    "start_time": "2023-01-22T19:04:29.049Z"
   },
   {
    "duration": 1032,
    "start_time": "2023-01-22T19:25:15.706Z"
   },
   {
    "duration": 729,
    "start_time": "2023-01-22T19:25:16.740Z"
   },
   {
    "duration": 11,
    "start_time": "2023-01-22T19:25:17.471Z"
   },
   {
    "duration": 137,
    "start_time": "2023-01-22T19:25:17.484Z"
   },
   {
    "duration": 53,
    "start_time": "2023-01-22T19:25:17.623Z"
   },
   {
    "duration": 115,
    "start_time": "2023-01-22T19:25:17.677Z"
   },
   {
    "duration": 90,
    "start_time": "2023-01-22T19:25:17.794Z"
   },
   {
    "duration": 0,
    "start_time": "2023-01-22T19:25:17.886Z"
   },
   {
    "duration": 0,
    "start_time": "2023-01-22T19:25:17.888Z"
   },
   {
    "duration": 0,
    "start_time": "2023-01-22T19:25:17.889Z"
   },
   {
    "duration": 0,
    "start_time": "2023-01-22T19:25:17.890Z"
   },
   {
    "duration": 7,
    "start_time": "2023-01-22T19:25:33.115Z"
   },
   {
    "duration": 6,
    "start_time": "2023-01-22T19:26:39.587Z"
   },
   {
    "duration": 228,
    "start_time": "2023-01-22T19:26:52.947Z"
   },
   {
    "duration": 6,
    "start_time": "2023-01-22T19:30:01.340Z"
   },
   {
    "duration": 1551,
    "start_time": "2023-01-22T19:33:48.546Z"
   },
   {
    "duration": 1304,
    "start_time": "2023-01-22T19:33:57.828Z"
   },
   {
    "duration": 10,
    "start_time": "2023-01-22T20:03:29.842Z"
   },
   {
    "duration": 56,
    "start_time": "2023-01-23T10:33:29.073Z"
   },
   {
    "duration": 1059,
    "start_time": "2023-01-23T10:33:35.861Z"
   },
   {
    "duration": 1752,
    "start_time": "2023-01-23T10:33:36.923Z"
   },
   {
    "duration": 3,
    "start_time": "2023-01-23T10:33:38.677Z"
   },
   {
    "duration": 130,
    "start_time": "2023-01-23T10:33:38.682Z"
   },
   {
    "duration": 55,
    "start_time": "2023-01-23T10:33:38.814Z"
   },
   {
    "duration": 127,
    "start_time": "2023-01-23T10:33:38.871Z"
   },
   {
    "duration": 6,
    "start_time": "2023-01-23T10:33:39.000Z"
   },
   {
    "duration": 8,
    "start_time": "2023-01-23T10:33:39.008Z"
   },
   {
    "duration": 19,
    "start_time": "2023-01-23T10:33:39.018Z"
   },
   {
    "duration": 8,
    "start_time": "2023-01-23T10:33:39.039Z"
   },
   {
    "duration": 12,
    "start_time": "2023-01-23T10:33:39.048Z"
   },
   {
    "duration": 20,
    "start_time": "2023-01-23T10:33:39.061Z"
   },
   {
    "duration": 4,
    "start_time": "2023-01-23T10:33:39.082Z"
   },
   {
    "duration": 11268,
    "start_time": "2023-01-23T10:33:39.088Z"
   },
   {
    "duration": 7,
    "start_time": "2023-01-23T10:33:53.687Z"
   },
   {
    "duration": 9569,
    "start_time": "2023-01-23T10:33:54.225Z"
   },
   {
    "duration": 3,
    "start_time": "2023-01-23T10:44:21.415Z"
   },
   {
    "duration": 22,
    "start_time": "2023-01-23T10:44:23.098Z"
   },
   {
    "duration": 91,
    "start_time": "2023-01-23T10:49:10.212Z"
   },
   {
    "duration": 28,
    "start_time": "2023-01-23T10:49:10.533Z"
   },
   {
    "duration": 3,
    "start_time": "2023-01-23T10:49:19.206Z"
   },
   {
    "duration": 5,
    "start_time": "2023-01-23T10:49:19.966Z"
   },
   {
    "duration": 6,
    "start_time": "2023-01-23T10:49:30.612Z"
   },
   {
    "duration": 16,
    "start_time": "2023-01-23T10:49:31.325Z"
   },
   {
    "duration": 5,
    "start_time": "2023-01-23T10:49:32.236Z"
   },
   {
    "duration": 335,
    "start_time": "2023-01-23T10:49:33.084Z"
   },
   {
    "duration": 7,
    "start_time": "2023-01-23T10:53:43.653Z"
   },
   {
    "duration": 5,
    "start_time": "2023-01-23T10:53:43.909Z"
   },
   {
    "duration": 4,
    "start_time": "2023-01-23T10:53:59.117Z"
   },
   {
    "duration": 302,
    "start_time": "2023-01-23T10:53:59.906Z"
   },
   {
    "duration": 10,
    "start_time": "2023-01-23T10:54:14.130Z"
   },
   {
    "duration": 1088,
    "start_time": "2023-01-23T20:17:47.622Z"
   },
   {
    "duration": 1922,
    "start_time": "2023-01-23T20:17:48.712Z"
   },
   {
    "duration": 4,
    "start_time": "2023-01-23T20:17:50.636Z"
   },
   {
    "duration": 143,
    "start_time": "2023-01-23T20:17:50.642Z"
   },
   {
    "duration": 34,
    "start_time": "2023-01-23T20:17:50.787Z"
   },
   {
    "duration": 136,
    "start_time": "2023-01-23T20:17:50.822Z"
   },
   {
    "duration": 6,
    "start_time": "2023-01-23T20:17:50.960Z"
   },
   {
    "duration": 7,
    "start_time": "2023-01-23T20:17:50.968Z"
   },
   {
    "duration": 12,
    "start_time": "2023-01-23T20:17:50.976Z"
   },
   {
    "duration": 7,
    "start_time": "2023-01-23T20:17:50.990Z"
   },
   {
    "duration": 172,
    "start_time": "2023-01-23T20:17:50.999Z"
   },
   {
    "duration": 0,
    "start_time": "2023-01-23T20:17:51.173Z"
   },
   {
    "duration": 0,
    "start_time": "2023-01-23T20:17:51.174Z"
   },
   {
    "duration": 0,
    "start_time": "2023-01-23T20:17:51.175Z"
   },
   {
    "duration": 0,
    "start_time": "2023-01-23T20:17:51.177Z"
   },
   {
    "duration": 4,
    "start_time": "2023-01-23T20:18:02.705Z"
   },
   {
    "duration": 5,
    "start_time": "2023-01-23T20:18:03.473Z"
   },
   {
    "duration": 8,
    "start_time": "2023-01-23T20:18:03.889Z"
   },
   {
    "duration": 350,
    "start_time": "2023-01-23T20:18:13.584Z"
   },
   {
    "duration": 14,
    "start_time": "2023-01-23T20:18:28.980Z"
   },
   {
    "duration": 3,
    "start_time": "2023-01-23T20:18:50.866Z"
   },
   {
    "duration": 12,
    "start_time": "2023-01-23T20:18:55.536Z"
   },
   {
    "duration": 1072,
    "start_time": "2023-01-23T20:26:57.023Z"
   },
   {
    "duration": 701,
    "start_time": "2023-01-23T20:26:58.098Z"
   },
   {
    "duration": 3,
    "start_time": "2023-01-23T20:26:58.801Z"
   },
   {
    "duration": 138,
    "start_time": "2023-01-23T20:26:58.806Z"
   },
   {
    "duration": 36,
    "start_time": "2023-01-23T20:26:58.945Z"
   },
   {
    "duration": 118,
    "start_time": "2023-01-23T20:26:58.982Z"
   },
   {
    "duration": 5,
    "start_time": "2023-01-23T20:26:59.102Z"
   },
   {
    "duration": 11,
    "start_time": "2023-01-23T20:26:59.109Z"
   },
   {
    "duration": 9,
    "start_time": "2023-01-23T20:26:59.121Z"
   },
   {
    "duration": 8,
    "start_time": "2023-01-23T20:26:59.132Z"
   },
   {
    "duration": 17,
    "start_time": "2023-01-23T20:26:59.142Z"
   },
   {
    "duration": 7,
    "start_time": "2023-01-23T20:26:59.161Z"
   },
   {
    "duration": 19,
    "start_time": "2023-01-23T20:26:59.169Z"
   },
   {
    "duration": 3,
    "start_time": "2023-01-23T20:26:59.190Z"
   },
   {
    "duration": 10,
    "start_time": "2023-01-23T20:26:59.195Z"
   },
   {
    "duration": 125,
    "start_time": "2023-01-23T20:26:59.207Z"
   },
   {
    "duration": 47,
    "start_time": "2023-01-23T20:26:59.333Z"
   },
   {
    "duration": 5,
    "start_time": "2023-01-23T20:27:04.439Z"
   },
   {
    "duration": 1053,
    "start_time": "2023-01-23T20:29:54.650Z"
   },
   {
    "duration": 691,
    "start_time": "2023-01-23T20:29:55.705Z"
   },
   {
    "duration": 3,
    "start_time": "2023-01-23T20:29:56.398Z"
   },
   {
    "duration": 158,
    "start_time": "2023-01-23T20:29:56.404Z"
   },
   {
    "duration": 33,
    "start_time": "2023-01-23T20:29:56.564Z"
   },
   {
    "duration": 130,
    "start_time": "2023-01-23T20:29:56.598Z"
   },
   {
    "duration": 8,
    "start_time": "2023-01-23T20:29:56.730Z"
   },
   {
    "duration": 23,
    "start_time": "2023-01-23T20:29:56.740Z"
   },
   {
    "duration": 9,
    "start_time": "2023-01-23T20:29:56.765Z"
   },
   {
    "duration": 10,
    "start_time": "2023-01-23T20:29:56.776Z"
   },
   {
    "duration": 7,
    "start_time": "2023-01-23T20:29:56.787Z"
   },
   {
    "duration": 9,
    "start_time": "2023-01-23T20:29:56.796Z"
   },
   {
    "duration": 19,
    "start_time": "2023-01-23T20:29:56.807Z"
   },
   {
    "duration": 4,
    "start_time": "2023-01-23T20:29:56.828Z"
   },
   {
    "duration": 22,
    "start_time": "2023-01-23T20:29:56.833Z"
   },
   {
    "duration": 48,
    "start_time": "2023-01-23T20:29:56.857Z"
   },
   {
    "duration": 12,
    "start_time": "2023-01-23T20:29:56.907Z"
   },
   {
    "duration": 1052,
    "start_time": "2023-01-23T20:40:18.249Z"
   },
   {
    "duration": 713,
    "start_time": "2023-01-23T20:40:19.303Z"
   },
   {
    "duration": 3,
    "start_time": "2023-01-23T20:40:20.018Z"
   },
   {
    "duration": 152,
    "start_time": "2023-01-23T20:40:20.024Z"
   },
   {
    "duration": 33,
    "start_time": "2023-01-23T20:40:20.178Z"
   },
   {
    "duration": 140,
    "start_time": "2023-01-23T20:40:20.213Z"
   },
   {
    "duration": 7,
    "start_time": "2023-01-23T20:40:20.355Z"
   },
   {
    "duration": 9,
    "start_time": "2023-01-23T20:40:20.364Z"
   },
   {
    "duration": 11,
    "start_time": "2023-01-23T20:40:20.374Z"
   },
   {
    "duration": 8,
    "start_time": "2023-01-23T20:40:20.387Z"
   },
   {
    "duration": 5,
    "start_time": "2023-01-23T20:40:20.397Z"
   },
   {
    "duration": 8,
    "start_time": "2023-01-23T20:40:20.404Z"
   },
   {
    "duration": 45,
    "start_time": "2023-01-23T20:40:20.414Z"
   },
   {
    "duration": 5,
    "start_time": "2023-01-23T20:40:20.461Z"
   },
   {
    "duration": 16,
    "start_time": "2023-01-23T20:40:20.468Z"
   },
   {
    "duration": 59,
    "start_time": "2023-01-23T20:40:20.487Z"
   },
   {
    "duration": 37,
    "start_time": "2023-01-23T20:44:08.915Z"
   },
   {
    "duration": 677,
    "start_time": "2023-01-23T20:44:09.627Z"
   },
   {
    "duration": 3,
    "start_time": "2023-01-23T20:44:31.091Z"
   },
   {
    "duration": 689,
    "start_time": "2023-01-23T20:44:31.443Z"
   },
   {
    "duration": 3,
    "start_time": "2023-01-23T20:44:32.134Z"
   },
   {
    "duration": 152,
    "start_time": "2023-01-23T20:44:32.139Z"
   },
   {
    "duration": 36,
    "start_time": "2023-01-23T20:44:32.293Z"
   },
   {
    "duration": 105,
    "start_time": "2023-01-23T20:44:32.469Z"
   },
   {
    "duration": 7,
    "start_time": "2023-01-23T20:44:32.921Z"
   },
   {
    "duration": 9,
    "start_time": "2023-01-23T20:44:33.177Z"
   },
   {
    "duration": 7,
    "start_time": "2023-01-23T20:44:33.994Z"
   },
   {
    "duration": 6,
    "start_time": "2023-01-23T20:44:34.218Z"
   },
   {
    "duration": 5,
    "start_time": "2023-01-23T20:44:34.441Z"
   },
   {
    "duration": 7,
    "start_time": "2023-01-23T20:44:34.682Z"
   },
   {
    "duration": 11,
    "start_time": "2023-01-23T20:44:34.946Z"
   },
   {
    "duration": 3,
    "start_time": "2023-01-23T20:44:35.218Z"
   },
   {
    "duration": 6,
    "start_time": "2023-01-23T20:44:35.513Z"
   },
   {
    "duration": 42,
    "start_time": "2023-01-23T20:44:36.153Z"
   },
   {
    "duration": 71,
    "start_time": "2023-01-23T20:45:38.586Z"
   },
   {
    "duration": 4,
    "start_time": "2023-01-23T20:45:48.892Z"
   },
   {
    "duration": 251,
    "start_time": "2023-01-23T20:47:01.402Z"
   },
   {
    "duration": 100,
    "start_time": "2023-01-23T20:47:02.993Z"
   },
   {
    "duration": 1191,
    "start_time": "2023-01-23T20:47:33.144Z"
   },
   {
    "duration": 694,
    "start_time": "2023-01-23T20:47:34.337Z"
   },
   {
    "duration": 4,
    "start_time": "2023-01-23T20:47:35.032Z"
   },
   {
    "duration": 146,
    "start_time": "2023-01-23T20:47:35.038Z"
   },
   {
    "duration": 32,
    "start_time": "2023-01-23T20:47:35.186Z"
   },
   {
    "duration": 139,
    "start_time": "2023-01-23T20:47:35.220Z"
   },
   {
    "duration": 7,
    "start_time": "2023-01-23T20:47:35.361Z"
   },
   {
    "duration": 7,
    "start_time": "2023-01-23T20:47:35.370Z"
   },
   {
    "duration": 10,
    "start_time": "2023-01-23T20:47:35.379Z"
   },
   {
    "duration": 7,
    "start_time": "2023-01-23T20:47:35.392Z"
   },
   {
    "duration": 4,
    "start_time": "2023-01-23T20:47:35.402Z"
   },
   {
    "duration": 14,
    "start_time": "2023-01-23T20:47:35.408Z"
   },
   {
    "duration": 46,
    "start_time": "2023-01-23T20:47:35.423Z"
   },
   {
    "duration": 5,
    "start_time": "2023-01-23T20:47:35.470Z"
   },
   {
    "duration": 12,
    "start_time": "2023-01-23T20:47:35.477Z"
   },
   {
    "duration": 69,
    "start_time": "2023-01-23T20:47:35.491Z"
   },
   {
    "duration": 193,
    "start_time": "2023-01-23T20:47:35.561Z"
   },
   {
    "duration": 96,
    "start_time": "2023-01-23T20:47:35.757Z"
   },
   {
    "duration": 5,
    "start_time": "2023-01-23T20:47:42.283Z"
   },
   {
    "duration": 20144,
    "start_time": "2023-01-23T20:49:16.384Z"
   },
   {
    "duration": 1074,
    "start_time": "2023-01-23T21:19:18.262Z"
   },
   {
    "duration": 778,
    "start_time": "2023-01-23T21:19:19.338Z"
   },
   {
    "duration": 3,
    "start_time": "2023-01-23T21:19:20.118Z"
   },
   {
    "duration": 151,
    "start_time": "2023-01-23T21:19:20.122Z"
   },
   {
    "duration": 32,
    "start_time": "2023-01-23T21:19:20.275Z"
   },
   {
    "duration": 145,
    "start_time": "2023-01-23T21:19:20.309Z"
   },
   {
    "duration": 6,
    "start_time": "2023-01-23T21:19:20.456Z"
   },
   {
    "duration": 13,
    "start_time": "2023-01-23T21:19:20.464Z"
   },
   {
    "duration": 18,
    "start_time": "2023-01-23T21:19:20.478Z"
   },
   {
    "duration": 13,
    "start_time": "2023-01-23T21:19:20.498Z"
   },
   {
    "duration": 37,
    "start_time": "2023-01-23T21:19:20.513Z"
   },
   {
    "duration": 16,
    "start_time": "2023-01-23T21:19:20.552Z"
   },
   {
    "duration": 15,
    "start_time": "2023-01-23T21:19:20.570Z"
   },
   {
    "duration": 21,
    "start_time": "2023-01-23T21:19:20.587Z"
   },
   {
    "duration": 4,
    "start_time": "2023-01-23T21:19:20.610Z"
   },
   {
    "duration": 7,
    "start_time": "2023-01-23T21:19:20.615Z"
   },
   {
    "duration": 103,
    "start_time": "2023-01-23T21:19:20.624Z"
   },
   {
    "duration": 0,
    "start_time": "2023-01-23T21:19:20.729Z"
   },
   {
    "duration": 0,
    "start_time": "2023-01-23T21:19:20.730Z"
   },
   {
    "duration": 0,
    "start_time": "2023-01-23T21:19:20.731Z"
   },
   {
    "duration": 0,
    "start_time": "2023-01-23T21:19:20.732Z"
   },
   {
    "duration": 0,
    "start_time": "2023-01-23T21:19:20.734Z"
   },
   {
    "duration": 9,
    "start_time": "2023-01-23T21:20:37.716Z"
   },
   {
    "duration": 43,
    "start_time": "2023-01-23T21:20:38.943Z"
   },
   {
    "duration": 13,
    "start_time": "2023-01-23T21:20:39.751Z"
   },
   {
    "duration": 23,
    "start_time": "2023-01-23T21:21:44.870Z"
   },
   {
    "duration": 38,
    "start_time": "2023-01-23T21:24:23.536Z"
   },
   {
    "duration": 19,
    "start_time": "2023-01-23T21:24:23.916Z"
   },
   {
    "duration": 4,
    "start_time": "2023-01-23T21:24:25.536Z"
   },
   {
    "duration": 60,
    "start_time": "2023-01-26T17:02:55.637Z"
   },
   {
    "duration": 1031,
    "start_time": "2023-01-26T17:03:02.712Z"
   },
   {
    "duration": 1744,
    "start_time": "2023-01-26T17:03:03.744Z"
   },
   {
    "duration": 3,
    "start_time": "2023-01-26T17:03:05.490Z"
   },
   {
    "duration": 146,
    "start_time": "2023-01-26T17:03:05.494Z"
   },
   {
    "duration": 34,
    "start_time": "2023-01-26T17:03:05.642Z"
   },
   {
    "duration": 121,
    "start_time": "2023-01-26T17:03:05.678Z"
   },
   {
    "duration": 5,
    "start_time": "2023-01-26T17:03:05.801Z"
   },
   {
    "duration": 12,
    "start_time": "2023-01-26T17:03:05.808Z"
   },
   {
    "duration": 18,
    "start_time": "2023-01-26T17:03:05.821Z"
   },
   {
    "duration": 14,
    "start_time": "2023-01-26T17:03:05.841Z"
   },
   {
    "duration": 16,
    "start_time": "2023-01-26T17:03:05.857Z"
   },
   {
    "duration": 16,
    "start_time": "2023-01-26T17:03:05.874Z"
   },
   {
    "duration": 12,
    "start_time": "2023-01-26T17:03:05.892Z"
   },
   {
    "duration": 19,
    "start_time": "2023-01-26T17:03:05.906Z"
   },
   {
    "duration": 3,
    "start_time": "2023-01-26T17:03:05.926Z"
   },
   {
    "duration": 11,
    "start_time": "2023-01-26T17:03:05.931Z"
   },
   {
    "duration": 22,
    "start_time": "2023-01-26T17:03:05.944Z"
   },
   {
    "duration": 61,
    "start_time": "2023-01-26T17:03:05.967Z"
   },
   {
    "duration": 20,
    "start_time": "2023-01-26T17:03:06.030Z"
   },
   {
    "duration": 5,
    "start_time": "2023-01-26T17:03:06.051Z"
   },
   {
    "duration": 6,
    "start_time": "2023-01-26T17:03:06.058Z"
   },
   {
    "duration": 115,
    "start_time": "2023-01-26T17:03:06.065Z"
   },
   {
    "duration": 0,
    "start_time": "2023-01-26T17:03:06.181Z"
   },
   {
    "duration": 994,
    "start_time": "2023-01-26T17:04:56.646Z"
   },
   {
    "duration": 637,
    "start_time": "2023-01-26T17:04:57.642Z"
   },
   {
    "duration": 2,
    "start_time": "2023-01-26T17:04:58.281Z"
   },
   {
    "duration": 206,
    "start_time": "2023-01-26T17:04:58.285Z"
   },
   {
    "duration": 71,
    "start_time": "2023-01-26T17:04:58.493Z"
   },
   {
    "duration": 178,
    "start_time": "2023-01-26T17:04:58.566Z"
   },
   {
    "duration": 6,
    "start_time": "2023-01-26T17:04:58.746Z"
   },
   {
    "duration": 18,
    "start_time": "2023-01-26T17:04:58.753Z"
   },
   {
    "duration": 23,
    "start_time": "2023-01-26T17:04:58.773Z"
   },
   {
    "duration": 35,
    "start_time": "2023-01-26T17:04:58.798Z"
   },
   {
    "duration": 52,
    "start_time": "2023-01-26T17:04:58.834Z"
   },
   {
    "duration": 22,
    "start_time": "2023-01-26T17:04:58.888Z"
   },
   {
    "duration": 40,
    "start_time": "2023-01-26T17:04:58.912Z"
   },
   {
    "duration": 39,
    "start_time": "2023-01-26T17:04:58.955Z"
   },
   {
    "duration": 21,
    "start_time": "2023-01-26T17:04:58.996Z"
   },
   {
    "duration": 30,
    "start_time": "2023-01-26T17:04:59.019Z"
   },
   {
    "duration": 29,
    "start_time": "2023-01-26T17:04:59.051Z"
   },
   {
    "duration": 68,
    "start_time": "2023-01-26T17:04:59.082Z"
   },
   {
    "duration": 21,
    "start_time": "2023-01-26T17:04:59.151Z"
   },
   {
    "duration": 8,
    "start_time": "2023-01-26T17:04:59.173Z"
   },
   {
    "duration": 31,
    "start_time": "2023-01-26T17:04:59.182Z"
   },
   {
    "duration": 111,
    "start_time": "2023-01-26T17:04:59.215Z"
   },
   {
    "duration": 0,
    "start_time": "2023-01-26T17:04:59.328Z"
   },
   {
    "duration": 981,
    "start_time": "2023-01-26T17:07:19.464Z"
   },
   {
    "duration": 633,
    "start_time": "2023-01-26T17:07:20.447Z"
   },
   {
    "duration": 3,
    "start_time": "2023-01-26T17:07:21.082Z"
   },
   {
    "duration": 236,
    "start_time": "2023-01-26T17:07:21.086Z"
   },
   {
    "duration": 61,
    "start_time": "2023-01-26T17:07:21.323Z"
   },
   {
    "duration": 188,
    "start_time": "2023-01-26T17:07:21.386Z"
   },
   {
    "duration": 6,
    "start_time": "2023-01-26T17:07:21.575Z"
   },
   {
    "duration": 17,
    "start_time": "2023-01-26T17:07:21.582Z"
   },
   {
    "duration": 20,
    "start_time": "2023-01-26T17:07:21.600Z"
   },
   {
    "duration": 6,
    "start_time": "2023-01-26T17:07:21.622Z"
   },
   {
    "duration": 12,
    "start_time": "2023-01-26T17:07:21.629Z"
   },
   {
    "duration": 45,
    "start_time": "2023-01-26T17:07:21.642Z"
   },
   {
    "duration": 54,
    "start_time": "2023-01-26T17:07:21.688Z"
   },
   {
    "duration": 48,
    "start_time": "2023-01-26T17:07:21.744Z"
   },
   {
    "duration": 10,
    "start_time": "2023-01-26T17:07:21.794Z"
   },
   {
    "duration": 20,
    "start_time": "2023-01-26T17:07:21.805Z"
   },
   {
    "duration": 14,
    "start_time": "2023-01-26T17:07:21.826Z"
   },
   {
    "duration": 65,
    "start_time": "2023-01-26T17:07:21.841Z"
   },
   {
    "duration": 84,
    "start_time": "2023-01-26T17:07:21.908Z"
   },
   {
    "duration": 0,
    "start_time": "2023-01-26T17:07:21.993Z"
   },
   {
    "duration": 0,
    "start_time": "2023-01-26T17:07:21.994Z"
   },
   {
    "duration": 0,
    "start_time": "2023-01-26T17:07:21.995Z"
   },
   {
    "duration": 0,
    "start_time": "2023-01-26T17:07:21.996Z"
   },
   {
    "duration": 22,
    "start_time": "2023-01-26T17:08:20.266Z"
   },
   {
    "duration": 5,
    "start_time": "2023-01-26T17:08:21.682Z"
   },
   {
    "duration": 4,
    "start_time": "2023-01-26T17:08:22.571Z"
   },
   {
    "duration": 945,
    "start_time": "2023-01-26T17:30:50.487Z"
   },
   {
    "duration": 618,
    "start_time": "2023-01-26T17:30:51.434Z"
   },
   {
    "duration": 3,
    "start_time": "2023-01-26T17:30:52.053Z"
   },
   {
    "duration": 195,
    "start_time": "2023-01-26T17:30:52.058Z"
   },
   {
    "duration": 86,
    "start_time": "2023-01-26T17:30:52.255Z"
   },
   {
    "duration": 190,
    "start_time": "2023-01-26T17:30:52.342Z"
   },
   {
    "duration": 9,
    "start_time": "2023-01-26T17:30:52.533Z"
   },
   {
    "duration": 16,
    "start_time": "2023-01-26T17:30:52.543Z"
   },
   {
    "duration": 15,
    "start_time": "2023-01-26T17:30:52.560Z"
   },
   {
    "duration": 10,
    "start_time": "2023-01-26T17:30:52.578Z"
   },
   {
    "duration": 5,
    "start_time": "2023-01-26T17:30:52.590Z"
   },
   {
    "duration": 7,
    "start_time": "2023-01-26T17:30:52.596Z"
   },
   {
    "duration": 8,
    "start_time": "2023-01-26T17:30:52.604Z"
   },
   {
    "duration": 20,
    "start_time": "2023-01-26T17:30:52.614Z"
   },
   {
    "duration": 3,
    "start_time": "2023-01-26T17:30:52.635Z"
   },
   {
    "duration": 9,
    "start_time": "2023-01-26T17:30:52.639Z"
   },
   {
    "duration": 11,
    "start_time": "2023-01-26T17:30:52.649Z"
   },
   {
    "duration": 41,
    "start_time": "2023-01-26T17:30:52.662Z"
   },
   {
    "duration": 34,
    "start_time": "2023-01-26T17:30:52.704Z"
   },
   {
    "duration": 3,
    "start_time": "2023-01-26T17:30:52.740Z"
   },
   {
    "duration": 13951,
    "start_time": "2023-01-26T17:30:52.744Z"
   },
   {
    "duration": 1023,
    "start_time": "2023-01-26T17:46:13.126Z"
   },
   {
    "duration": 626,
    "start_time": "2023-01-26T17:46:14.150Z"
   },
   {
    "duration": 3,
    "start_time": "2023-01-26T17:46:14.777Z"
   },
   {
    "duration": 184,
    "start_time": "2023-01-26T17:46:14.782Z"
   },
   {
    "duration": 76,
    "start_time": "2023-01-26T17:46:14.968Z"
   },
   {
    "duration": 158,
    "start_time": "2023-01-26T17:46:15.045Z"
   },
   {
    "duration": 6,
    "start_time": "2023-01-26T17:46:15.204Z"
   },
   {
    "duration": 8,
    "start_time": "2023-01-26T17:46:15.211Z"
   },
   {
    "duration": 20,
    "start_time": "2023-01-26T17:46:15.221Z"
   },
   {
    "duration": 7,
    "start_time": "2023-01-26T17:46:15.244Z"
   },
   {
    "duration": 10,
    "start_time": "2023-01-26T17:46:15.252Z"
   },
   {
    "duration": 8,
    "start_time": "2023-01-26T17:46:15.263Z"
   },
   {
    "duration": 10,
    "start_time": "2023-01-26T17:46:15.272Z"
   },
   {
    "duration": 18,
    "start_time": "2023-01-26T17:46:15.283Z"
   },
   {
    "duration": 3,
    "start_time": "2023-01-26T17:46:15.303Z"
   },
   {
    "duration": 27,
    "start_time": "2023-01-26T17:46:15.307Z"
   },
   {
    "duration": 11,
    "start_time": "2023-01-26T17:46:15.335Z"
   },
   {
    "duration": 45,
    "start_time": "2023-01-26T17:46:15.348Z"
   },
   {
    "duration": 21,
    "start_time": "2023-01-26T17:46:15.395Z"
   },
   {
    "duration": 10,
    "start_time": "2023-01-26T17:46:15.418Z"
   },
   {
    "duration": 20,
    "start_time": "2023-01-26T17:46:15.429Z"
   },
   {
    "duration": 94,
    "start_time": "2023-01-26T17:46:15.450Z"
   },
   {
    "duration": 0,
    "start_time": "2023-01-26T17:46:15.545Z"
   },
   {
    "duration": 28,
    "start_time": "2023-01-26T17:48:48.517Z"
   },
   {
    "duration": 88,
    "start_time": "2023-01-26T17:49:14.252Z"
   },
   {
    "duration": 3,
    "start_time": "2023-01-26T17:50:21.812Z"
   },
   {
    "duration": 90,
    "start_time": "2023-01-26T17:57:00.451Z"
   },
   {
    "duration": 4,
    "start_time": "2023-01-26T17:57:04.625Z"
   },
   {
    "duration": 3,
    "start_time": "2023-01-26T17:57:17.251Z"
   },
   {
    "duration": 633,
    "start_time": "2023-01-26T17:57:17.897Z"
   },
   {
    "duration": 5,
    "start_time": "2023-01-26T17:57:18.532Z"
   },
   {
    "duration": 167,
    "start_time": "2023-01-26T17:57:18.891Z"
   },
   {
    "duration": 59,
    "start_time": "2023-01-26T17:57:22.228Z"
   },
   {
    "duration": 142,
    "start_time": "2023-01-26T17:57:22.868Z"
   },
   {
    "duration": 5,
    "start_time": "2023-01-26T17:57:23.743Z"
   },
   {
    "duration": 8,
    "start_time": "2023-01-26T17:57:24.098Z"
   },
   {
    "duration": 7,
    "start_time": "2023-01-26T17:57:25.073Z"
   },
   {
    "duration": 5,
    "start_time": "2023-01-26T17:57:25.401Z"
   },
   {
    "duration": 3,
    "start_time": "2023-01-26T17:57:25.673Z"
   },
   {
    "duration": 3,
    "start_time": "2023-01-26T17:57:25.953Z"
   },
   {
    "duration": 4,
    "start_time": "2023-01-26T17:57:26.233Z"
   },
   {
    "duration": 14,
    "start_time": "2023-01-26T17:57:26.505Z"
   },
   {
    "duration": 3,
    "start_time": "2023-01-26T17:57:26.779Z"
   },
   {
    "duration": 4,
    "start_time": "2023-01-26T17:57:27.042Z"
   },
   {
    "duration": 5,
    "start_time": "2023-01-26T17:57:27.298Z"
   },
   {
    "duration": 38,
    "start_time": "2023-01-26T17:57:27.561Z"
   },
   {
    "duration": 21,
    "start_time": "2023-01-26T17:57:27.833Z"
   },
   {
    "duration": 4,
    "start_time": "2023-01-26T17:57:28.401Z"
   },
   {
    "duration": 4,
    "start_time": "2023-01-26T17:57:29.031Z"
   },
   {
    "duration": 52,
    "start_time": "2023-01-26T17:57:35.089Z"
   },
   {
    "duration": 4,
    "start_time": "2023-01-26T17:57:35.497Z"
   },
   {
    "duration": 3,
    "start_time": "2023-01-26T17:57:59.082Z"
   },
   {
    "duration": 5,
    "start_time": "2023-01-26T17:59:09.178Z"
   },
   {
    "duration": 3,
    "start_time": "2023-01-26T18:33:28.009Z"
   },
   {
    "duration": 576,
    "start_time": "2023-01-26T18:33:28.446Z"
   },
   {
    "duration": 3,
    "start_time": "2023-01-26T18:33:29.024Z"
   },
   {
    "duration": 168,
    "start_time": "2023-01-26T18:33:29.248Z"
   },
   {
    "duration": 62,
    "start_time": "2023-01-26T18:33:29.642Z"
   },
   {
    "duration": 143,
    "start_time": "2023-01-26T18:33:30.081Z"
   },
   {
    "duration": 5,
    "start_time": "2023-01-26T18:33:30.898Z"
   },
   {
    "duration": 6,
    "start_time": "2023-01-26T18:33:31.305Z"
   },
   {
    "duration": 8,
    "start_time": "2023-01-26T18:33:32.481Z"
   },
   {
    "duration": 5,
    "start_time": "2023-01-26T18:33:32.827Z"
   },
   {
    "duration": 4,
    "start_time": "2023-01-26T18:33:33.137Z"
   },
   {
    "duration": 3,
    "start_time": "2023-01-26T18:33:33.449Z"
   },
   {
    "duration": 4,
    "start_time": "2023-01-26T18:33:33.753Z"
   },
   {
    "duration": 10,
    "start_time": "2023-01-26T18:33:34.042Z"
   },
   {
    "duration": 3,
    "start_time": "2023-01-26T18:33:34.297Z"
   },
   {
    "duration": 5,
    "start_time": "2023-01-26T18:33:34.575Z"
   },
   {
    "duration": 4,
    "start_time": "2023-01-26T18:33:34.833Z"
   },
   {
    "duration": 39,
    "start_time": "2023-01-26T18:33:35.133Z"
   },
   {
    "duration": 22,
    "start_time": "2023-01-26T18:33:35.369Z"
   },
   {
    "duration": 5,
    "start_time": "2023-01-26T18:33:35.593Z"
   },
   {
    "duration": 5,
    "start_time": "2023-01-26T18:33:35.857Z"
   },
   {
    "duration": 3,
    "start_time": "2023-01-26T18:33:38.857Z"
   },
   {
    "duration": 167,
    "start_time": "2023-01-26T18:33:41.969Z"
   },
   {
    "duration": 201,
    "start_time": "2023-01-26T18:33:46.936Z"
   },
   {
    "duration": 11,
    "start_time": "2023-01-26T18:33:47.488Z"
   },
   {
    "duration": 2,
    "start_time": "2023-01-26T18:34:11.504Z"
   },
   {
    "duration": 151,
    "start_time": "2023-01-26T18:34:11.888Z"
   },
   {
    "duration": 159,
    "start_time": "2023-01-26T18:34:12.280Z"
   },
   {
    "duration": 12,
    "start_time": "2023-01-26T18:34:12.641Z"
   },
   {
    "duration": 5,
    "start_time": "2023-01-26T18:34:14.027Z"
   },
   {
    "duration": 7,
    "start_time": "2023-01-26T18:34:40.793Z"
   },
   {
    "duration": 7,
    "start_time": "2023-01-26T18:34:50.736Z"
   },
   {
    "duration": 3,
    "start_time": "2023-01-26T18:36:34.359Z"
   },
   {
    "duration": 44,
    "start_time": "2023-01-26T18:36:34.799Z"
   },
   {
    "duration": 30,
    "start_time": "2023-01-26T18:36:35.208Z"
   },
   {
    "duration": 8,
    "start_time": "2023-01-26T18:36:36.583Z"
   },
   {
    "duration": 5,
    "start_time": "2023-01-26T18:36:37.241Z"
   },
   {
    "duration": 8,
    "start_time": "2023-01-26T18:36:38.311Z"
   },
   {
    "duration": 7,
    "start_time": "2023-01-26T18:36:39.887Z"
   },
   {
    "duration": 8,
    "start_time": "2023-01-26T18:36:43.183Z"
   },
   {
    "duration": 7,
    "start_time": "2023-01-26T18:36:44.063Z"
   },
   {
    "duration": 3,
    "start_time": "2023-01-26T18:37:06.872Z"
   },
   {
    "duration": 206,
    "start_time": "2023-01-26T18:37:07.232Z"
   },
   {
    "duration": 200,
    "start_time": "2023-01-26T18:37:07.637Z"
   },
   {
    "duration": 7,
    "start_time": "2023-01-26T18:37:08.016Z"
   },
   {
    "duration": 5,
    "start_time": "2023-01-26T18:37:08.429Z"
   },
   {
    "duration": 7,
    "start_time": "2023-01-26T18:37:09.570Z"
   },
   {
    "duration": 7,
    "start_time": "2023-01-26T18:37:10.248Z"
   },
   {
    "duration": 5,
    "start_time": "2023-01-26T18:37:28.991Z"
   },
   {
    "duration": 4,
    "start_time": "2023-01-26T18:37:34.623Z"
   },
   {
    "duration": 12,
    "start_time": "2023-01-26T18:54:38.531Z"
   },
   {
    "duration": 5,
    "start_time": "2023-01-26T18:54:39.116Z"
   },
   {
    "duration": 10,
    "start_time": "2023-01-26T18:54:43.424Z"
   },
   {
    "duration": 5,
    "start_time": "2023-01-26T18:54:43.928Z"
   },
   {
    "duration": 6,
    "start_time": "2023-01-26T18:54:44.268Z"
   },
   {
    "duration": 10,
    "start_time": "2023-01-26T18:54:44.547Z"
   },
   {
    "duration": 5,
    "start_time": "2023-01-26T18:54:44.795Z"
   },
   {
    "duration": 3,
    "start_time": "2023-01-26T19:08:15.153Z"
   },
   {
    "duration": 365,
    "start_time": "2023-01-26T19:08:15.484Z"
   },
   {
    "duration": 4993,
    "start_time": "2023-01-26T19:08:15.853Z"
   },
   {
    "duration": 4,
    "start_time": "2023-01-26T19:10:06.813Z"
   },
   {
    "duration": 777,
    "start_time": "2023-01-26T19:10:07.165Z"
   },
   {
    "duration": 5601,
    "start_time": "2023-01-26T19:10:07.944Z"
   },
   {
    "duration": 15,
    "start_time": "2023-01-26T19:10:13.551Z"
   },
   {
    "duration": 49,
    "start_time": "2023-01-26T19:10:56.956Z"
   },
   {
    "duration": 5,
    "start_time": "2023-01-26T19:11:06.372Z"
   },
   {
    "duration": 5,
    "start_time": "2023-01-26T19:21:01.308Z"
   },
   {
    "duration": 5,
    "start_time": "2023-01-26T19:21:01.713Z"
   },
   {
    "duration": 4,
    "start_time": "2023-01-26T19:28:05.336Z"
   },
   {
    "duration": 424,
    "start_time": "2023-01-26T19:28:06.925Z"
   },
   {
    "duration": 4149,
    "start_time": "2023-01-26T19:28:08.494Z"
   },
   {
    "duration": 13,
    "start_time": "2023-01-26T19:28:12.647Z"
   },
   {
    "duration": 190,
    "start_time": "2023-01-26T19:28:14.150Z"
   },
   {
    "duration": 10,
    "start_time": "2023-01-26T19:28:15.010Z"
   },
   {
    "duration": 5,
    "start_time": "2023-01-26T19:28:50.052Z"
   },
   {
    "duration": 11,
    "start_time": "2023-01-26T19:28:56.967Z"
   },
   {
    "duration": 4,
    "start_time": "2023-01-26T19:29:02.113Z"
   },
   {
    "duration": 599,
    "start_time": "2023-01-26T19:29:27.069Z"
   },
   {
    "duration": 4102,
    "start_time": "2023-01-26T19:29:27.747Z"
   },
   {
    "duration": 5,
    "start_time": "2023-01-26T19:29:31.857Z"
   },
   {
    "duration": 677,
    "start_time": "2023-01-26T19:29:31.864Z"
   },
   {
    "duration": 91,
    "start_time": "2023-01-26T19:29:32.547Z"
   },
   {
    "duration": 12,
    "start_time": "2023-01-26T19:29:32.642Z"
   },
   {
    "duration": 0,
    "start_time": "2023-01-26T19:29:32.655Z"
   },
   {
    "duration": 0,
    "start_time": "2023-01-26T19:29:32.656Z"
   },
   {
    "duration": 0,
    "start_time": "2023-01-26T19:29:32.657Z"
   },
   {
    "duration": 4,
    "start_time": "2023-01-26T19:29:32.918Z"
   },
   {
    "duration": 10,
    "start_time": "2023-01-26T19:29:48.678Z"
   },
   {
    "duration": 6,
    "start_time": "2023-01-26T19:32:29.007Z"
   },
   {
    "duration": 5,
    "start_time": "2023-01-26T19:32:36.975Z"
   },
   {
    "duration": 1013,
    "start_time": "2023-01-26T19:32:41.247Z"
   },
   {
    "duration": 758,
    "start_time": "2023-01-26T19:32:42.262Z"
   },
   {
    "duration": 3,
    "start_time": "2023-01-26T19:32:43.021Z"
   },
   {
    "duration": 225,
    "start_time": "2023-01-26T19:32:43.026Z"
   },
   {
    "duration": 66,
    "start_time": "2023-01-26T19:32:43.252Z"
   },
   {
    "duration": 174,
    "start_time": "2023-01-26T19:32:43.319Z"
   },
   {
    "duration": 7,
    "start_time": "2023-01-26T19:32:43.495Z"
   },
   {
    "duration": 26,
    "start_time": "2023-01-26T19:32:43.504Z"
   },
   {
    "duration": 45,
    "start_time": "2023-01-26T19:32:43.532Z"
   },
   {
    "duration": 33,
    "start_time": "2023-01-26T19:32:43.581Z"
   },
   {
    "duration": 16,
    "start_time": "2023-01-26T19:32:43.616Z"
   },
   {
    "duration": 46,
    "start_time": "2023-01-26T19:32:43.634Z"
   },
   {
    "duration": 42,
    "start_time": "2023-01-26T19:32:43.682Z"
   },
   {
    "duration": 28,
    "start_time": "2023-01-26T19:32:43.726Z"
   },
   {
    "duration": 24,
    "start_time": "2023-01-26T19:32:43.756Z"
   },
   {
    "duration": 18,
    "start_time": "2023-01-26T19:32:43.781Z"
   },
   {
    "duration": 42,
    "start_time": "2023-01-26T19:32:43.800Z"
   },
   {
    "duration": 69,
    "start_time": "2023-01-26T19:32:43.844Z"
   },
   {
    "duration": 27,
    "start_time": "2023-01-26T19:32:43.914Z"
   },
   {
    "duration": 5,
    "start_time": "2023-01-26T19:32:43.949Z"
   },
   {
    "duration": 17,
    "start_time": "2023-01-26T19:32:43.955Z"
   },
   {
    "duration": 20,
    "start_time": "2023-01-26T19:32:43.974Z"
   },
   {
    "duration": 360,
    "start_time": "2023-01-26T19:32:43.996Z"
   },
   {
    "duration": 4081,
    "start_time": "2023-01-26T19:32:44.361Z"
   },
   {
    "duration": 10,
    "start_time": "2023-01-26T19:32:48.450Z"
   },
   {
    "duration": 273,
    "start_time": "2023-01-26T19:32:48.465Z"
   },
   {
    "duration": 96,
    "start_time": "2023-01-26T19:32:48.744Z"
   },
   {
    "duration": 11,
    "start_time": "2023-01-26T19:32:48.847Z"
   },
   {
    "duration": 38,
    "start_time": "2023-01-26T19:32:48.860Z"
   },
   {
    "duration": 2,
    "start_time": "2023-01-26T19:42:49.575Z"
   },
   {
    "duration": 101,
    "start_time": "2023-01-26T19:42:52.055Z"
   },
   {
    "duration": 3,
    "start_time": "2023-01-26T19:43:00.823Z"
   },
   {
    "duration": 610,
    "start_time": "2023-01-26T19:43:01.135Z"
   },
   {
    "duration": 4308,
    "start_time": "2023-01-26T19:43:01.749Z"
   },
   {
    "duration": 81,
    "start_time": "2023-01-26T19:43:06.060Z"
   },
   {
    "duration": 602,
    "start_time": "2023-01-26T19:43:06.144Z"
   },
   {
    "duration": 87,
    "start_time": "2023-01-26T19:43:06.753Z"
   },
   {
    "duration": 54,
    "start_time": "2023-01-26T19:45:39.118Z"
   },
   {
    "duration": 3271,
    "start_time": "2023-01-26T19:45:45.973Z"
   },
   {
    "duration": 4,
    "start_time": "2023-01-26T19:45:53.051Z"
   },
   {
    "duration": 3439,
    "start_time": "2023-01-26T19:46:01.422Z"
   },
   {
    "duration": 5,
    "start_time": "2023-01-26T19:46:07.951Z"
   },
   {
    "duration": 3,
    "start_time": "2023-01-26T19:58:53.356Z"
   },
   {
    "duration": 224,
    "start_time": "2023-01-26T19:58:54.020Z"
   },
   {
    "duration": 718,
    "start_time": "2023-01-26T19:58:57.638Z"
   },
   {
    "duration": 4,
    "start_time": "2023-01-26T19:59:01.924Z"
   },
   {
    "duration": 43,
    "start_time": "2023-01-26T19:59:03.308Z"
   },
   {
    "duration": 7,
    "start_time": "2023-01-26T19:59:05.828Z"
   },
   {
    "duration": 6,
    "start_time": "2023-01-26T19:59:08.525Z"
   },
   {
    "duration": 4,
    "start_time": "2023-01-26T19:59:09.109Z"
   },
   {
    "duration": 4,
    "start_time": "2023-01-26T20:19:31.237Z"
   },
   {
    "duration": 596,
    "start_time": "2023-01-26T20:19:31.634Z"
   },
   {
    "duration": 10,
    "start_time": "2023-01-26T20:19:32.232Z"
   },
   {
    "duration": 192,
    "start_time": "2023-01-26T20:19:33.158Z"
   },
   {
    "duration": 84,
    "start_time": "2023-01-26T20:19:34.742Z"
   },
   {
    "duration": 7,
    "start_time": "2023-01-26T20:19:42.442Z"
   },
   {
    "duration": 617,
    "start_time": "2023-01-26T20:19:43.046Z"
   },
   {
    "duration": 3,
    "start_time": "2023-01-26T20:19:43.666Z"
   },
   {
    "duration": 188,
    "start_time": "2023-01-26T20:19:43.973Z"
   },
   {
    "duration": 89,
    "start_time": "2023-01-26T20:19:44.693Z"
   },
   {
    "duration": 157,
    "start_time": "2023-01-26T20:19:45.218Z"
   },
   {
    "duration": 7,
    "start_time": "2023-01-26T20:19:46.060Z"
   },
   {
    "duration": 14,
    "start_time": "2023-01-26T20:19:46.343Z"
   },
   {
    "duration": 7,
    "start_time": "2023-01-26T20:19:47.015Z"
   },
   {
    "duration": 5,
    "start_time": "2023-01-26T20:19:47.256Z"
   },
   {
    "duration": 3,
    "start_time": "2023-01-26T20:19:47.485Z"
   },
   {
    "duration": 3,
    "start_time": "2023-01-26T20:19:47.764Z"
   },
   {
    "duration": 5,
    "start_time": "2023-01-26T20:19:47.988Z"
   },
   {
    "duration": 17,
    "start_time": "2023-01-26T20:19:48.238Z"
   },
   {
    "duration": 4,
    "start_time": "2023-01-26T20:19:48.459Z"
   },
   {
    "duration": 4,
    "start_time": "2023-01-26T20:19:48.675Z"
   },
   {
    "duration": 5,
    "start_time": "2023-01-26T20:19:48.899Z"
   },
   {
    "duration": 52,
    "start_time": "2023-01-26T20:19:49.143Z"
   },
   {
    "duration": 5,
    "start_time": "2023-01-26T20:19:50.650Z"
   },
   {
    "duration": 6491,
    "start_time": "2023-01-26T20:19:52.331Z"
   },
   {
    "duration": 6,
    "start_time": "2023-01-26T20:20:51.243Z"
   },
   {
    "duration": 4,
    "start_time": "2023-01-26T20:21:22.566Z"
   },
   {
    "duration": 10,
    "start_time": "2023-01-26T20:21:30.637Z"
   },
   {
    "duration": 2,
    "start_time": "2023-01-26T20:21:32.124Z"
   },
   {
    "duration": 620,
    "start_time": "2023-01-26T20:21:32.729Z"
   },
   {
    "duration": 1598,
    "start_time": "2023-01-26T20:22:48.068Z"
   },
   {
    "duration": 8,
    "start_time": "2023-01-26T20:22:50.701Z"
   },
   {
    "duration": 3,
    "start_time": "2023-01-26T20:23:21.001Z"
   },
   {
    "duration": 1549,
    "start_time": "2023-01-26T20:23:56.092Z"
   },
   {
    "duration": 6,
    "start_time": "2023-01-26T20:23:57.646Z"
   },
   {
    "duration": 1374,
    "start_time": "2023-01-26T20:26:09.068Z"
   },
   {
    "duration": 4,
    "start_time": "2023-01-26T20:26:10.444Z"
   },
   {
    "duration": 3,
    "start_time": "2023-01-26T20:26:10.580Z"
   },
   {
    "duration": 1770,
    "start_time": "2023-01-26T20:26:31.285Z"
   },
   {
    "duration": 9,
    "start_time": "2023-01-26T20:26:33.149Z"
   },
   {
    "duration": 4,
    "start_time": "2023-01-26T20:26:34.628Z"
   },
   {
    "duration": 4,
    "start_time": "2023-01-26T20:50:31.122Z"
   },
   {
    "duration": 655,
    "start_time": "2023-01-26T20:50:31.851Z"
   },
   {
    "duration": 3,
    "start_time": "2023-01-26T20:50:32.570Z"
   },
   {
    "duration": 185,
    "start_time": "2023-01-26T20:50:32.972Z"
   },
   {
    "duration": 60,
    "start_time": "2023-01-26T20:50:33.370Z"
   },
   {
    "duration": 146,
    "start_time": "2023-01-26T20:50:34.052Z"
   },
   {
    "duration": 5,
    "start_time": "2023-01-26T20:50:36.466Z"
   },
   {
    "duration": 8,
    "start_time": "2023-01-26T20:50:37.044Z"
   },
   {
    "duration": 7,
    "start_time": "2023-01-26T20:50:38.451Z"
   },
   {
    "duration": 3,
    "start_time": "2023-01-26T20:50:39.010Z"
   },
   {
    "duration": 3,
    "start_time": "2023-01-26T20:50:39.303Z"
   },
   {
    "duration": 12,
    "start_time": "2023-01-26T20:50:39.581Z"
   },
   {
    "duration": 4,
    "start_time": "2023-01-26T20:50:40.806Z"
   },
   {
    "duration": 7,
    "start_time": "2023-01-26T20:50:41.738Z"
   },
   {
    "duration": 2,
    "start_time": "2023-01-26T20:50:42.074Z"
   },
   {
    "duration": 26,
    "start_time": "2023-01-26T20:50:44.418Z"
   },
   {
    "duration": 34,
    "start_time": "2023-01-26T20:51:18.385Z"
   },
   {
    "duration": 11,
    "start_time": "2023-01-26T20:51:18.633Z"
   },
   {
    "duration": 14,
    "start_time": "2023-01-26T20:51:28.457Z"
   },
   {
    "duration": 13,
    "start_time": "2023-01-26T20:52:14.490Z"
   },
   {
    "duration": 6,
    "start_time": "2023-01-26T21:06:50.347Z"
   },
   {
    "duration": 575,
    "start_time": "2023-01-26T21:06:50.758Z"
   },
   {
    "duration": 3,
    "start_time": "2023-01-26T21:06:52.252Z"
   },
   {
    "duration": 165,
    "start_time": "2023-01-26T21:06:52.870Z"
   },
   {
    "duration": 70,
    "start_time": "2023-01-26T21:06:53.878Z"
   },
   {
    "duration": 150,
    "start_time": "2023-01-26T21:06:54.462Z"
   },
   {
    "duration": 6,
    "start_time": "2023-01-26T21:06:55.660Z"
   },
   {
    "duration": 7,
    "start_time": "2023-01-26T21:06:56.020Z"
   },
   {
    "duration": 6,
    "start_time": "2023-01-26T21:06:57.772Z"
   },
   {
    "duration": 10,
    "start_time": "2023-01-26T21:06:58.156Z"
   },
   {
    "duration": 13,
    "start_time": "2023-01-26T21:07:23.247Z"
   },
   {
    "duration": 12,
    "start_time": "2023-01-26T21:09:35.592Z"
   },
   {
    "duration": 8,
    "start_time": "2023-01-26T21:09:35.606Z"
   },
   {
    "duration": 1003,
    "start_time": "2023-01-26T21:09:38.733Z"
   },
   {
    "duration": 616,
    "start_time": "2023-01-26T21:09:39.738Z"
   },
   {
    "duration": 3,
    "start_time": "2023-01-26T21:09:40.355Z"
   },
   {
    "duration": 210,
    "start_time": "2023-01-26T21:09:40.360Z"
   },
   {
    "duration": 85,
    "start_time": "2023-01-26T21:09:40.571Z"
   },
   {
    "duration": 157,
    "start_time": "2023-01-26T21:09:40.658Z"
   },
   {
    "duration": 5,
    "start_time": "2023-01-26T21:09:40.817Z"
   },
   {
    "duration": 23,
    "start_time": "2023-01-26T21:09:40.823Z"
   },
   {
    "duration": 23,
    "start_time": "2023-01-26T21:09:40.847Z"
   },
   {
    "duration": 44,
    "start_time": "2023-01-26T21:09:40.872Z"
   },
   {
    "duration": 18,
    "start_time": "2023-01-26T21:09:40.917Z"
   },
   {
    "duration": 13,
    "start_time": "2023-01-26T21:09:40.936Z"
   },
   {
    "duration": 62,
    "start_time": "2023-01-26T21:09:40.950Z"
   },
   {
    "duration": 2,
    "start_time": "2023-01-26T21:09:41.013Z"
   },
   {
    "duration": 33,
    "start_time": "2023-01-26T21:09:41.016Z"
   },
   {
    "duration": 23,
    "start_time": "2023-01-26T21:09:41.050Z"
   },
   {
    "duration": 14,
    "start_time": "2023-01-26T21:09:41.074Z"
   },
   {
    "duration": 109,
    "start_time": "2023-01-26T21:09:41.089Z"
   },
   {
    "duration": 0,
    "start_time": "2023-01-26T21:09:41.200Z"
   },
   {
    "duration": 0,
    "start_time": "2023-01-26T21:09:41.201Z"
   },
   {
    "duration": 0,
    "start_time": "2023-01-26T21:09:41.202Z"
   },
   {
    "duration": 0,
    "start_time": "2023-01-26T21:09:41.203Z"
   },
   {
    "duration": 0,
    "start_time": "2023-01-26T21:09:41.204Z"
   },
   {
    "duration": 0,
    "start_time": "2023-01-26T21:09:41.204Z"
   },
   {
    "duration": 1310,
    "start_time": "2023-01-26T21:10:08.330Z"
   },
   {
    "duration": 4,
    "start_time": "2023-01-26T21:10:09.818Z"
   },
   {
    "duration": 4,
    "start_time": "2023-01-26T21:10:12.034Z"
   },
   {
    "duration": 4,
    "start_time": "2023-01-26T21:14:03.435Z"
   },
   {
    "duration": 3,
    "start_time": "2023-01-26T21:14:03.851Z"
   },
   {
    "duration": 2,
    "start_time": "2023-01-26T21:14:04.459Z"
   },
   {
    "duration": 189,
    "start_time": "2023-01-26T21:14:04.950Z"
   },
   {
    "duration": 4,
    "start_time": "2023-01-26T21:14:08.986Z"
   },
   {
    "duration": 8,
    "start_time": "2023-01-26T21:14:09.882Z"
   },
   {
    "duration": 2865,
    "start_time": "2023-01-26T21:24:47.079Z"
   },
   {
    "duration": 5,
    "start_time": "2023-01-26T21:24:50.036Z"
   },
   {
    "duration": 3,
    "start_time": "2023-01-26T21:24:52.641Z"
   },
   {
    "duration": 9,
    "start_time": "2023-01-26T21:26:47.838Z"
   },
   {
    "duration": 127,
    "start_time": "2023-01-26T21:26:55.518Z"
   },
   {
    "duration": 6,
    "start_time": "2023-01-26T21:26:57.342Z"
   },
   {
    "duration": 3,
    "start_time": "2023-01-26T21:34:48.773Z"
   },
   {
    "duration": 2,
    "start_time": "2023-01-26T21:34:49.114Z"
   },
   {
    "duration": 47,
    "start_time": "2023-01-26T21:34:49.436Z"
   },
   {
    "duration": 8,
    "start_time": "2023-01-26T21:34:57.228Z"
   },
   {
    "duration": 2974,
    "start_time": "2023-01-26T21:43:39.666Z"
   },
   {
    "duration": 3,
    "start_time": "2023-01-26T21:51:07.327Z"
   },
   {
    "duration": 2,
    "start_time": "2023-01-26T21:51:07.665Z"
   },
   {
    "duration": 3,
    "start_time": "2023-01-26T21:51:08.024Z"
   },
   {
    "duration": 2575,
    "start_time": "2023-01-26T21:51:08.362Z"
   },
   {
    "duration": 100,
    "start_time": "2023-01-26T21:51:10.939Z"
   },
   {
    "duration": 3,
    "start_time": "2023-01-26T22:07:40.333Z"
   },
   {
    "duration": 3,
    "start_time": "2023-01-26T22:07:52.064Z"
   },
   {
    "duration": 4,
    "start_time": "2023-01-26T22:08:03.560Z"
   },
   {
    "duration": 4,
    "start_time": "2023-01-26T22:08:11.615Z"
   },
   {
    "duration": 3,
    "start_time": "2023-01-26T22:09:30.680Z"
   },
   {
    "duration": 3320,
    "start_time": "2023-01-26T22:09:33.517Z"
   },
   {
    "duration": 4,
    "start_time": "2023-01-26T22:09:36.840Z"
   },
   {
    "duration": 2,
    "start_time": "2023-01-26T22:09:38.833Z"
   },
   {
    "duration": 3,
    "start_time": "2023-01-26T22:17:11.255Z"
   },
   {
    "duration": 8,
    "start_time": "2023-01-26T22:17:11.679Z"
   },
   {
    "duration": 3,
    "start_time": "2023-01-26T22:17:37.678Z"
   },
   {
    "duration": 639,
    "start_time": "2023-01-26T22:17:38.214Z"
   },
   {
    "duration": 3,
    "start_time": "2023-01-26T22:17:39.070Z"
   },
   {
    "duration": 160,
    "start_time": "2023-01-26T22:17:39.391Z"
   },
   {
    "duration": 61,
    "start_time": "2023-01-26T22:17:39.784Z"
   },
   {
    "duration": 143,
    "start_time": "2023-01-26T22:17:40.063Z"
   },
   {
    "duration": 6,
    "start_time": "2023-01-26T22:17:40.615Z"
   },
   {
    "duration": 7,
    "start_time": "2023-01-26T22:17:40.839Z"
   },
   {
    "duration": 7,
    "start_time": "2023-01-26T22:17:41.471Z"
   },
   {
    "duration": 14,
    "start_time": "2023-01-26T22:17:41.671Z"
   },
   {
    "duration": 3,
    "start_time": "2023-01-26T22:17:41.871Z"
   },
   {
    "duration": 4,
    "start_time": "2023-01-26T22:17:42.080Z"
   },
   {
    "duration": 38,
    "start_time": "2023-01-26T22:17:42.287Z"
   },
   {
    "duration": 2,
    "start_time": "2023-01-26T22:17:42.487Z"
   },
   {
    "duration": 3,
    "start_time": "2023-01-26T22:17:44.312Z"
   },
   {
    "duration": 2,
    "start_time": "2023-01-26T22:17:44.983Z"
   },
   {
    "duration": 63,
    "start_time": "2023-01-26T22:17:53.031Z"
   },
   {
    "duration": 3094,
    "start_time": "2023-01-26T22:18:03.343Z"
   },
   {
    "duration": 3,
    "start_time": "2023-01-26T22:18:12.646Z"
   },
   {
    "duration": 319,
    "start_time": "2023-01-26T22:19:23.430Z"
   },
   {
    "duration": 4,
    "start_time": "2023-01-26T22:19:23.846Z"
   },
   {
    "duration": 2426,
    "start_time": "2023-01-26T22:19:47.513Z"
   },
   {
    "duration": 4,
    "start_time": "2023-01-26T22:19:49.941Z"
   },
   {
    "duration": 3,
    "start_time": "2023-01-26T22:28:38.112Z"
   },
   {
    "duration": 3,
    "start_time": "2023-01-26T22:28:38.379Z"
   },
   {
    "duration": 2,
    "start_time": "2023-01-26T22:28:38.646Z"
   },
   {
    "duration": 2820,
    "start_time": "2023-01-26T22:28:38.917Z"
   },
   {
    "duration": 4,
    "start_time": "2023-01-26T22:28:41.739Z"
   },
   {
    "duration": 968,
    "start_time": "2023-01-26T22:51:06.374Z"
   },
   {
    "duration": 618,
    "start_time": "2023-01-26T22:51:07.344Z"
   },
   {
    "duration": 3,
    "start_time": "2023-01-26T22:51:07.964Z"
   },
   {
    "duration": 183,
    "start_time": "2023-01-26T22:51:07.969Z"
   },
   {
    "duration": 57,
    "start_time": "2023-01-26T22:51:08.153Z"
   },
   {
    "duration": 171,
    "start_time": "2023-01-26T22:51:08.212Z"
   },
   {
    "duration": 5,
    "start_time": "2023-01-26T22:51:08.384Z"
   },
   {
    "duration": 32,
    "start_time": "2023-01-26T22:51:08.391Z"
   },
   {
    "duration": 16,
    "start_time": "2023-01-26T22:51:08.424Z"
   },
   {
    "duration": 39,
    "start_time": "2023-01-26T22:51:08.442Z"
   },
   {
    "duration": 31,
    "start_time": "2023-01-26T22:51:08.482Z"
   },
   {
    "duration": 40,
    "start_time": "2023-01-26T22:51:08.514Z"
   },
   {
    "duration": 48,
    "start_time": "2023-01-26T22:51:08.555Z"
   },
   {
    "duration": 2,
    "start_time": "2023-01-26T22:51:08.605Z"
   },
   {
    "duration": 17,
    "start_time": "2023-01-26T22:51:08.608Z"
   },
   {
    "duration": 17,
    "start_time": "2023-01-26T22:51:08.626Z"
   },
   {
    "duration": 14,
    "start_time": "2023-01-26T22:51:08.644Z"
   },
   {
    "duration": 15,
    "start_time": "2023-01-26T22:51:08.660Z"
   },
   {
    "duration": 2560,
    "start_time": "2023-01-26T22:51:08.677Z"
   },
   {
    "duration": 4,
    "start_time": "2023-01-26T22:51:11.239Z"
   },
   {
    "duration": 100,
    "start_time": "2023-01-26T22:51:11.244Z"
   },
   {
    "duration": 5,
    "start_time": "2023-01-26T22:51:11.346Z"
   },
   {
    "duration": 6,
    "start_time": "2023-01-26T22:51:11.353Z"
   },
   {
    "duration": 5,
    "start_time": "2023-01-26T22:51:11.360Z"
   },
   {
    "duration": 4,
    "start_time": "2023-01-26T22:51:11.367Z"
   },
   {
    "duration": 166,
    "start_time": "2023-01-26T22:51:11.372Z"
   },
   {
    "duration": 101,
    "start_time": "2023-01-26T22:51:11.540Z"
   },
   {
    "duration": 2,
    "start_time": "2023-01-26T22:52:44.547Z"
   },
   {
    "duration": 2,
    "start_time": "2023-01-26T22:52:44.816Z"
   },
   {
    "duration": 3,
    "start_time": "2023-01-26T22:52:45.370Z"
   },
   {
    "duration": 3,
    "start_time": "2023-01-26T22:52:45.712Z"
   },
   {
    "duration": 2925,
    "start_time": "2023-01-26T22:52:46.112Z"
   },
   {
    "duration": 4,
    "start_time": "2023-01-26T22:52:49.039Z"
   },
   {
    "duration": 28,
    "start_time": "2023-01-26T22:52:49.044Z"
   },
   {
    "duration": 65,
    "start_time": "2023-01-26T22:52:49.073Z"
   },
   {
    "duration": 4,
    "start_time": "2023-01-26T22:52:49.779Z"
   },
   {
    "duration": 3,
    "start_time": "2023-01-26T22:52:50.600Z"
   },
   {
    "duration": 2,
    "start_time": "2023-01-26T22:54:16.489Z"
   },
   {
    "duration": 3,
    "start_time": "2023-01-26T22:54:16.840Z"
   },
   {
    "duration": 3,
    "start_time": "2023-01-26T22:54:17.217Z"
   },
   {
    "duration": 3,
    "start_time": "2023-01-26T22:54:17.618Z"
   },
   {
    "duration": 1020,
    "start_time": "2023-01-26T22:55:12.625Z"
   },
   {
    "duration": 601,
    "start_time": "2023-01-26T22:55:13.647Z"
   },
   {
    "duration": 3,
    "start_time": "2023-01-26T22:55:14.249Z"
   },
   {
    "duration": 188,
    "start_time": "2023-01-26T22:55:14.253Z"
   },
   {
    "duration": 58,
    "start_time": "2023-01-26T22:55:14.442Z"
   },
   {
    "duration": 166,
    "start_time": "2023-01-26T22:55:14.501Z"
   },
   {
    "duration": 5,
    "start_time": "2023-01-26T22:55:14.668Z"
   },
   {
    "duration": 16,
    "start_time": "2023-01-26T22:55:14.674Z"
   },
   {
    "duration": 18,
    "start_time": "2023-01-26T22:55:14.691Z"
   },
   {
    "duration": 21,
    "start_time": "2023-01-26T22:55:14.711Z"
   },
   {
    "duration": 11,
    "start_time": "2023-01-26T22:55:14.733Z"
   },
   {
    "duration": 28,
    "start_time": "2023-01-26T22:55:14.746Z"
   },
   {
    "duration": 38,
    "start_time": "2023-01-26T22:55:14.775Z"
   },
   {
    "duration": 2,
    "start_time": "2023-01-26T22:55:14.815Z"
   },
   {
    "duration": 15,
    "start_time": "2023-01-26T22:55:14.818Z"
   },
   {
    "duration": 32,
    "start_time": "2023-01-26T22:55:14.834Z"
   },
   {
    "duration": 19,
    "start_time": "2023-01-26T22:55:14.867Z"
   },
   {
    "duration": 23,
    "start_time": "2023-01-26T22:55:14.888Z"
   },
   {
    "duration": 2628,
    "start_time": "2023-01-26T22:55:14.912Z"
   },
   {
    "duration": 4,
    "start_time": "2023-01-26T22:55:17.541Z"
   },
   {
    "duration": 190,
    "start_time": "2023-01-26T22:55:17.547Z"
   },
   {
    "duration": 13,
    "start_time": "2023-01-26T22:55:17.739Z"
   },
   {
    "duration": 9,
    "start_time": "2023-01-26T22:55:17.753Z"
   },
   {
    "duration": 10,
    "start_time": "2023-01-26T22:55:17.763Z"
   },
   {
    "duration": 1079,
    "start_time": "2023-01-26T23:05:25.723Z"
   },
   {
    "duration": 671,
    "start_time": "2023-01-26T23:05:26.804Z"
   },
   {
    "duration": 4,
    "start_time": "2023-01-26T23:05:27.477Z"
   },
   {
    "duration": 224,
    "start_time": "2023-01-26T23:05:27.483Z"
   },
   {
    "duration": 77,
    "start_time": "2023-01-26T23:05:27.710Z"
   },
   {
    "duration": 172,
    "start_time": "2023-01-26T23:05:27.789Z"
   },
   {
    "duration": 7,
    "start_time": "2023-01-26T23:05:27.962Z"
   },
   {
    "duration": 45,
    "start_time": "2023-01-26T23:05:27.970Z"
   },
   {
    "duration": 33,
    "start_time": "2023-01-26T23:05:28.016Z"
   },
   {
    "duration": 53,
    "start_time": "2023-01-26T23:05:28.051Z"
   },
   {
    "duration": 24,
    "start_time": "2023-01-26T23:05:28.106Z"
   },
   {
    "duration": 32,
    "start_time": "2023-01-26T23:05:28.131Z"
   },
   {
    "duration": 72,
    "start_time": "2023-01-26T23:05:28.165Z"
   },
   {
    "duration": 1,
    "start_time": "2023-01-26T23:05:28.240Z"
   },
   {
    "duration": 19,
    "start_time": "2023-01-26T23:05:28.243Z"
   },
   {
    "duration": 19,
    "start_time": "2023-01-26T23:05:28.264Z"
   },
   {
    "duration": 11,
    "start_time": "2023-01-26T23:05:28.284Z"
   },
   {
    "duration": 20,
    "start_time": "2023-01-26T23:05:28.296Z"
   },
   {
    "duration": 2724,
    "start_time": "2023-01-26T23:05:28.317Z"
   },
   {
    "duration": 4,
    "start_time": "2023-01-26T23:05:31.043Z"
   },
   {
    "duration": 111,
    "start_time": "2023-01-26T23:05:31.138Z"
   },
   {
    "duration": 26,
    "start_time": "2023-01-26T23:05:31.250Z"
   },
   {
    "duration": 22,
    "start_time": "2023-01-26T23:05:31.278Z"
   },
   {
    "duration": 26,
    "start_time": "2023-01-26T23:05:31.302Z"
   },
   {
    "duration": 984,
    "start_time": "2023-01-26T23:06:40.567Z"
   },
   {
    "duration": 615,
    "start_time": "2023-01-26T23:06:41.552Z"
   },
   {
    "duration": 3,
    "start_time": "2023-01-26T23:06:42.168Z"
   },
   {
    "duration": 192,
    "start_time": "2023-01-26T23:06:42.173Z"
   },
   {
    "duration": 88,
    "start_time": "2023-01-26T23:06:42.367Z"
   },
   {
    "duration": 155,
    "start_time": "2023-01-26T23:06:42.457Z"
   },
   {
    "duration": 5,
    "start_time": "2023-01-26T23:06:42.614Z"
   },
   {
    "duration": 23,
    "start_time": "2023-01-26T23:06:42.620Z"
   },
   {
    "duration": 9,
    "start_time": "2023-01-26T23:06:42.645Z"
   },
   {
    "duration": 28,
    "start_time": "2023-01-26T23:06:42.656Z"
   },
   {
    "duration": 14,
    "start_time": "2023-01-26T23:06:42.686Z"
   },
   {
    "duration": 20,
    "start_time": "2023-01-26T23:06:42.702Z"
   },
   {
    "duration": 61,
    "start_time": "2023-01-26T23:06:42.723Z"
   },
   {
    "duration": 2,
    "start_time": "2023-01-26T23:06:42.786Z"
   },
   {
    "duration": 24,
    "start_time": "2023-01-26T23:06:42.789Z"
   },
   {
    "duration": 18,
    "start_time": "2023-01-26T23:06:42.814Z"
   },
   {
    "duration": 13,
    "start_time": "2023-01-26T23:06:42.833Z"
   },
   {
    "duration": 23,
    "start_time": "2023-01-26T23:06:42.847Z"
   },
   {
    "duration": 2866,
    "start_time": "2023-01-26T23:06:42.871Z"
   },
   {
    "duration": 7,
    "start_time": "2023-01-26T23:06:45.739Z"
   },
   {
    "duration": 95,
    "start_time": "2023-01-26T23:06:45.747Z"
   },
   {
    "duration": 11,
    "start_time": "2023-01-26T23:06:45.844Z"
   },
   {
    "duration": 17,
    "start_time": "2023-01-26T23:06:45.856Z"
   },
   {
    "duration": 10,
    "start_time": "2023-01-26T23:06:45.874Z"
   },
   {
    "duration": 41,
    "start_time": "2023-01-26T23:09:17.342Z"
   },
   {
    "duration": 1007,
    "start_time": "2023-01-26T23:11:18.040Z"
   },
   {
    "duration": 611,
    "start_time": "2023-01-26T23:11:19.918Z"
   },
   {
    "duration": 2,
    "start_time": "2023-01-26T23:11:21.088Z"
   },
   {
    "duration": 179,
    "start_time": "2023-01-26T23:11:22.135Z"
   },
   {
    "duration": 60,
    "start_time": "2023-01-26T23:11:22.931Z"
   },
   {
    "duration": 148,
    "start_time": "2023-01-26T23:11:23.263Z"
   },
   {
    "duration": 6,
    "start_time": "2023-01-26T23:11:23.967Z"
   },
   {
    "duration": 7,
    "start_time": "2023-01-26T23:11:24.381Z"
   },
   {
    "duration": 6,
    "start_time": "2023-01-26T23:11:25.590Z"
   },
   {
    "duration": 18,
    "start_time": "2023-01-26T23:11:25.934Z"
   },
   {
    "duration": 3,
    "start_time": "2023-01-26T23:11:26.246Z"
   },
   {
    "duration": 5,
    "start_time": "2023-01-26T23:11:26.558Z"
   },
   {
    "duration": 44,
    "start_time": "2023-01-26T23:11:26.870Z"
   },
   {
    "duration": 2,
    "start_time": "2023-01-26T23:11:27.304Z"
   },
   {
    "duration": 4,
    "start_time": "2023-01-26T23:11:32.437Z"
   },
   {
    "duration": 2,
    "start_time": "2023-01-26T23:11:32.870Z"
   },
   {
    "duration": 3,
    "start_time": "2023-01-26T23:11:34.226Z"
   },
   {
    "duration": 3,
    "start_time": "2023-01-26T23:11:34.828Z"
   },
   {
    "duration": 2290,
    "start_time": "2023-01-26T23:11:35.254Z"
   },
   {
    "duration": 6,
    "start_time": "2023-01-26T23:11:37.636Z"
   },
   {
    "duration": 2,
    "start_time": "2023-01-26T23:12:20.983Z"
   },
   {
    "duration": 2,
    "start_time": "2023-01-26T23:12:22.543Z"
   },
   {
    "duration": 2,
    "start_time": "2023-01-26T23:12:23.775Z"
   },
   {
    "duration": 2,
    "start_time": "2023-01-26T23:12:24.983Z"
   },
   {
    "duration": 150463,
    "start_time": "2023-01-26T23:12:25.817Z"
   },
   {
    "duration": 2,
    "start_time": "2023-01-26T23:15:04.649Z"
   },
   {
    "duration": 3,
    "start_time": "2023-01-26T23:15:05.046Z"
   },
   {
    "duration": 3,
    "start_time": "2023-01-26T23:15:05.486Z"
   },
   {
    "duration": 58,
    "start_time": "2023-01-26T23:15:06.158Z"
   },
   {
    "duration": 2,
    "start_time": "2023-01-26T23:15:29.567Z"
   },
   {
    "duration": 997,
    "start_time": "2023-01-26T23:15:40.549Z"
   },
   {
    "duration": 594,
    "start_time": "2023-01-26T23:15:41.548Z"
   },
   {
    "duration": 3,
    "start_time": "2023-01-26T23:15:42.143Z"
   },
   {
    "duration": 214,
    "start_time": "2023-01-26T23:15:42.148Z"
   },
   {
    "duration": 91,
    "start_time": "2023-01-26T23:15:42.363Z"
   },
   {
    "duration": 156,
    "start_time": "2023-01-26T23:15:42.458Z"
   },
   {
    "duration": 6,
    "start_time": "2023-01-26T23:15:42.615Z"
   },
   {
    "duration": 33,
    "start_time": "2023-01-26T23:15:42.622Z"
   },
   {
    "duration": 46,
    "start_time": "2023-01-26T23:15:42.656Z"
   },
   {
    "duration": 38,
    "start_time": "2023-01-26T23:15:42.704Z"
   },
   {
    "duration": 24,
    "start_time": "2023-01-26T23:15:42.744Z"
   },
   {
    "duration": 26,
    "start_time": "2023-01-26T23:15:42.770Z"
   },
   {
    "duration": 63,
    "start_time": "2023-01-26T23:15:42.797Z"
   },
   {
    "duration": 6,
    "start_time": "2023-01-26T23:15:42.862Z"
   },
   {
    "duration": 17,
    "start_time": "2023-01-26T23:15:42.869Z"
   },
   {
    "duration": 32,
    "start_time": "2023-01-26T23:15:42.887Z"
   },
   {
    "duration": 31,
    "start_time": "2023-01-26T23:15:42.920Z"
   },
   {
    "duration": 35,
    "start_time": "2023-01-26T23:15:42.953Z"
   },
   {
    "duration": 2849,
    "start_time": "2023-01-26T23:15:42.989Z"
   },
   {
    "duration": 4,
    "start_time": "2023-01-26T23:15:45.839Z"
   },
   {
    "duration": 93,
    "start_time": "2023-01-26T23:15:45.845Z"
   },
   {
    "duration": 48,
    "start_time": "2023-01-26T23:15:45.940Z"
   },
   {
    "duration": 49,
    "start_time": "2023-01-26T23:15:45.990Z"
   },
   {
    "duration": 65,
    "start_time": "2023-01-26T23:15:46.040Z"
   },
   {
    "duration": 993,
    "start_time": "2023-01-26T23:24:20.342Z"
   },
   {
    "duration": 602,
    "start_time": "2023-01-26T23:24:21.337Z"
   },
   {
    "duration": 3,
    "start_time": "2023-01-26T23:24:21.940Z"
   },
   {
    "duration": 184,
    "start_time": "2023-01-26T23:24:21.945Z"
   },
   {
    "duration": 60,
    "start_time": "2023-01-26T23:24:22.130Z"
   },
   {
    "duration": 167,
    "start_time": "2023-01-26T23:24:22.191Z"
   },
   {
    "duration": 5,
    "start_time": "2023-01-26T23:24:22.360Z"
   },
   {
    "duration": 10,
    "start_time": "2023-01-26T23:24:22.366Z"
   },
   {
    "duration": 10,
    "start_time": "2023-01-26T23:24:22.377Z"
   },
   {
    "duration": 32,
    "start_time": "2023-01-26T23:24:22.390Z"
   },
   {
    "duration": 4,
    "start_time": "2023-01-26T23:24:22.424Z"
   },
   {
    "duration": 15,
    "start_time": "2023-01-26T23:24:22.429Z"
   },
   {
    "duration": 43,
    "start_time": "2023-01-26T23:24:22.447Z"
   },
   {
    "duration": 2,
    "start_time": "2023-01-26T23:24:22.492Z"
   },
   {
    "duration": 6,
    "start_time": "2023-01-26T23:24:22.496Z"
   },
   {
    "duration": 12,
    "start_time": "2023-01-26T23:24:22.503Z"
   },
   {
    "duration": 13,
    "start_time": "2023-01-26T23:24:22.516Z"
   },
   {
    "duration": 11,
    "start_time": "2023-01-26T23:24:22.531Z"
   },
   {
    "duration": 2794,
    "start_time": "2023-01-26T23:24:22.543Z"
   },
   {
    "duration": 4,
    "start_time": "2023-01-26T23:24:25.339Z"
   },
   {
    "duration": 22,
    "start_time": "2023-01-26T23:24:25.346Z"
   },
   {
    "duration": 2,
    "start_time": "2023-01-26T23:24:25.438Z"
   },
   {
    "duration": 5,
    "start_time": "2023-01-26T23:24:25.441Z"
   },
   {
    "duration": 15,
    "start_time": "2023-01-26T23:24:25.447Z"
   },
   {
    "duration": 37029,
    "start_time": "2023-01-26T23:24:25.463Z"
   },
   {
    "duration": 2,
    "start_time": "2023-01-26T23:25:02.494Z"
   },
   {
    "duration": 29,
    "start_time": "2023-01-26T23:25:02.497Z"
   },
   {
    "duration": 15,
    "start_time": "2023-01-26T23:25:02.529Z"
   },
   {
    "duration": 193,
    "start_time": "2023-01-26T23:25:02.545Z"
   },
   {
    "duration": 12,
    "start_time": "2023-01-26T23:25:02.740Z"
   },
   {
    "duration": 6,
    "start_time": "2023-01-26T23:32:38.560Z"
   },
   {
    "duration": 986,
    "start_time": "2023-01-26T23:41:29.280Z"
   },
   {
    "duration": 621,
    "start_time": "2023-01-26T23:41:30.268Z"
   },
   {
    "duration": 2,
    "start_time": "2023-01-26T23:41:30.891Z"
   },
   {
    "duration": 234,
    "start_time": "2023-01-26T23:41:30.895Z"
   },
   {
    "duration": 66,
    "start_time": "2023-01-26T23:41:31.130Z"
   },
   {
    "duration": 169,
    "start_time": "2023-01-26T23:41:31.198Z"
   },
   {
    "duration": 5,
    "start_time": "2023-01-26T23:41:31.368Z"
   },
   {
    "duration": 51,
    "start_time": "2023-01-26T23:41:31.375Z"
   },
   {
    "duration": 43,
    "start_time": "2023-01-26T23:41:31.427Z"
   },
   {
    "duration": 56,
    "start_time": "2023-01-26T23:41:31.473Z"
   },
   {
    "duration": 12,
    "start_time": "2023-01-26T23:41:31.530Z"
   },
   {
    "duration": 37,
    "start_time": "2023-01-26T23:41:31.543Z"
   },
   {
    "duration": 49,
    "start_time": "2023-01-26T23:41:31.582Z"
   },
   {
    "duration": 2,
    "start_time": "2023-01-26T23:41:31.633Z"
   },
   {
    "duration": 34,
    "start_time": "2023-01-26T23:41:31.636Z"
   },
   {
    "duration": 31,
    "start_time": "2023-01-26T23:41:31.672Z"
   },
   {
    "duration": 24,
    "start_time": "2023-01-26T23:41:31.704Z"
   },
   {
    "duration": 44,
    "start_time": "2023-01-26T23:41:31.729Z"
   },
   {
    "duration": 2966,
    "start_time": "2023-01-26T23:41:31.774Z"
   },
   {
    "duration": 4,
    "start_time": "2023-01-26T23:41:34.742Z"
   },
   {
    "duration": 90,
    "start_time": "2023-01-26T23:41:34.747Z"
   },
   {
    "duration": 18,
    "start_time": "2023-01-26T23:41:34.839Z"
   },
   {
    "duration": 78,
    "start_time": "2023-01-26T23:41:34.859Z"
   },
   {
    "duration": 8,
    "start_time": "2023-01-26T23:41:34.938Z"
   },
   {
    "duration": 36587,
    "start_time": "2023-01-26T23:41:34.947Z"
   },
   {
    "duration": 2,
    "start_time": "2023-01-26T23:42:11.535Z"
   },
   {
    "duration": 16,
    "start_time": "2023-01-26T23:42:11.538Z"
   },
   {
    "duration": 22,
    "start_time": "2023-01-26T23:42:11.556Z"
   },
   {
    "duration": 96,
    "start_time": "2023-01-26T23:42:11.579Z"
   },
   {
    "duration": 0,
    "start_time": "2023-01-26T23:42:11.676Z"
   },
   {
    "duration": 0,
    "start_time": "2023-01-26T23:42:11.678Z"
   },
   {
    "duration": 0,
    "start_time": "2023-01-26T23:42:11.678Z"
   },
   {
    "duration": 0,
    "start_time": "2023-01-26T23:42:11.679Z"
   },
   {
    "duration": 0,
    "start_time": "2023-01-26T23:42:11.680Z"
   },
   {
    "duration": 0,
    "start_time": "2023-01-26T23:42:11.681Z"
   },
   {
    "duration": 176,
    "start_time": "2023-01-26T23:42:36.437Z"
   },
   {
    "duration": 4,
    "start_time": "2023-01-26T23:43:23.640Z"
   },
   {
    "duration": 7,
    "start_time": "2023-01-26T23:43:39.632Z"
   },
   {
    "duration": 4,
    "start_time": "2023-01-26T23:45:03.625Z"
   },
   {
    "duration": 2,
    "start_time": "2023-01-26T23:45:29.943Z"
   },
   {
    "duration": 13,
    "start_time": "2023-01-26T23:45:32.382Z"
   },
   {
    "duration": 3,
    "start_time": "2023-01-26T23:46:55.647Z"
   },
   {
    "duration": 10,
    "start_time": "2023-01-26T23:46:58.228Z"
   },
   {
    "duration": 3,
    "start_time": "2023-01-26T23:54:09.438Z"
   },
   {
    "duration": 2,
    "start_time": "2023-01-26T23:54:09.676Z"
   },
   {
    "duration": 3,
    "start_time": "2023-01-26T23:54:25.772Z"
   },
   {
    "duration": 35994,
    "start_time": "2023-01-26T23:54:27.026Z"
   },
   {
    "duration": 6,
    "start_time": "2023-01-26T23:55:07.581Z"
   },
   {
    "duration": 5,
    "start_time": "2023-01-26T23:55:09.428Z"
   },
   {
    "duration": 7,
    "start_time": "2023-01-26T23:55:11.276Z"
   },
   {
    "duration": 3,
    "start_time": "2023-01-26T23:56:40.116Z"
   },
   {
    "duration": 8,
    "start_time": "2023-01-26T23:56:57.892Z"
   },
   {
    "duration": 7,
    "start_time": "2023-01-26T23:58:04.911Z"
   },
   {
    "duration": 8,
    "start_time": "2023-01-27T00:03:58.127Z"
   },
   {
    "duration": 8,
    "start_time": "2023-01-27T00:13:44.489Z"
   },
   {
    "duration": 4,
    "start_time": "2023-01-27T00:13:45.089Z"
   },
   {
    "duration": 3,
    "start_time": "2023-01-27T00:13:45.754Z"
   },
   {
    "duration": 11,
    "start_time": "2023-01-27T00:13:50.162Z"
   },
   {
    "duration": 10,
    "start_time": "2023-01-27T00:14:01.624Z"
   },
   {
    "duration": 1018,
    "start_time": "2023-01-27T00:14:10.929Z"
   },
   {
    "duration": 629,
    "start_time": "2023-01-27T00:14:11.949Z"
   },
   {
    "duration": 3,
    "start_time": "2023-01-27T00:14:12.579Z"
   },
   {
    "duration": 175,
    "start_time": "2023-01-27T00:14:12.583Z"
   },
   {
    "duration": 56,
    "start_time": "2023-01-27T00:14:12.760Z"
   },
   {
    "duration": 166,
    "start_time": "2023-01-27T00:14:12.818Z"
   },
   {
    "duration": 5,
    "start_time": "2023-01-27T00:14:12.985Z"
   },
   {
    "duration": 18,
    "start_time": "2023-01-27T00:14:12.991Z"
   },
   {
    "duration": 21,
    "start_time": "2023-01-27T00:14:13.010Z"
   },
   {
    "duration": 28,
    "start_time": "2023-01-27T00:14:13.033Z"
   },
   {
    "duration": 4,
    "start_time": "2023-01-27T00:14:13.062Z"
   },
   {
    "duration": 17,
    "start_time": "2023-01-27T00:14:13.067Z"
   },
   {
    "duration": 59,
    "start_time": "2023-01-27T00:14:13.086Z"
   },
   {
    "duration": 2,
    "start_time": "2023-01-27T00:14:13.148Z"
   },
   {
    "duration": 19,
    "start_time": "2023-01-27T00:14:13.152Z"
   },
   {
    "duration": 26,
    "start_time": "2023-01-27T00:14:13.172Z"
   },
   {
    "duration": 16,
    "start_time": "2023-01-27T00:14:13.199Z"
   },
   {
    "duration": 23,
    "start_time": "2023-01-27T00:14:13.216Z"
   },
   {
    "duration": 2800,
    "start_time": "2023-01-27T00:14:13.240Z"
   },
   {
    "duration": 4,
    "start_time": "2023-01-27T00:14:16.041Z"
   },
   {
    "duration": 112,
    "start_time": "2023-01-27T00:14:16.046Z"
   },
   {
    "duration": 21,
    "start_time": "2023-01-27T00:14:16.159Z"
   },
   {
    "duration": 19,
    "start_time": "2023-01-27T00:14:16.181Z"
   },
   {
    "duration": 23,
    "start_time": "2023-01-27T00:14:16.201Z"
   },
   {
    "duration": 36885,
    "start_time": "2023-01-27T00:14:16.225Z"
   },
   {
    "duration": 3,
    "start_time": "2023-01-27T00:14:53.111Z"
   },
   {
    "duration": 29,
    "start_time": "2023-01-27T00:14:53.115Z"
   },
   {
    "duration": 23,
    "start_time": "2023-01-27T00:14:53.145Z"
   },
   {
    "duration": 8,
    "start_time": "2023-01-27T00:14:53.169Z"
   },
   {
    "duration": 31,
    "start_time": "2023-01-27T00:14:53.178Z"
   },
   {
    "duration": 100,
    "start_time": "2023-01-27T00:14:53.211Z"
   },
   {
    "duration": 0,
    "start_time": "2023-01-27T00:14:53.313Z"
   },
   {
    "duration": 0,
    "start_time": "2023-01-27T00:14:53.314Z"
   },
   {
    "duration": 0,
    "start_time": "2023-01-27T00:14:53.315Z"
   },
   {
    "duration": 1,
    "start_time": "2023-01-27T00:14:53.315Z"
   },
   {
    "duration": 3,
    "start_time": "2023-01-27T00:16:23.464Z"
   },
   {
    "duration": 12,
    "start_time": "2023-01-27T00:16:24.330Z"
   },
   {
    "duration": 11,
    "start_time": "2023-01-27T00:16:32.850Z"
   },
   {
    "duration": 8,
    "start_time": "2023-01-27T00:16:33.296Z"
   },
   {
    "duration": 8,
    "start_time": "2023-01-27T00:16:36.993Z"
   },
   {
    "duration": 2,
    "start_time": "2023-01-27T00:17:09.032Z"
   },
   {
    "duration": 9,
    "start_time": "2023-01-27T00:17:09.472Z"
   },
   {
    "duration": 36207,
    "start_time": "2023-01-27T00:24:30.953Z"
   },
   {
    "duration": 13,
    "start_time": "2023-01-27T00:25:33.008Z"
   },
   {
    "duration": 8,
    "start_time": "2023-01-27T00:25:42.120Z"
   },
   {
    "duration": 4,
    "start_time": "2023-01-27T00:25:44.080Z"
   },
   {
    "duration": 2,
    "start_time": "2023-01-27T00:25:45.833Z"
   },
   {
    "duration": 3,
    "start_time": "2023-01-27T00:25:47.632Z"
   },
   {
    "duration": 1016,
    "start_time": "2023-01-27T00:26:31.462Z"
   },
   {
    "duration": 629,
    "start_time": "2023-01-27T00:26:32.479Z"
   },
   {
    "duration": 4,
    "start_time": "2023-01-27T00:26:33.109Z"
   },
   {
    "duration": 186,
    "start_time": "2023-01-27T00:26:33.115Z"
   },
   {
    "duration": 69,
    "start_time": "2023-01-27T00:26:33.303Z"
   },
   {
    "duration": 177,
    "start_time": "2023-01-27T00:26:33.374Z"
   },
   {
    "duration": 7,
    "start_time": "2023-01-27T00:26:33.552Z"
   },
   {
    "duration": 20,
    "start_time": "2023-01-27T00:26:33.560Z"
   },
   {
    "duration": 21,
    "start_time": "2023-01-27T00:26:33.581Z"
   },
   {
    "duration": 50,
    "start_time": "2023-01-27T00:26:33.605Z"
   },
   {
    "duration": 20,
    "start_time": "2023-01-27T00:26:33.657Z"
   },
   {
    "duration": 25,
    "start_time": "2023-01-27T00:26:33.679Z"
   },
   {
    "duration": 61,
    "start_time": "2023-01-27T00:26:33.705Z"
   },
   {
    "duration": 2,
    "start_time": "2023-01-27T00:26:33.768Z"
   },
   {
    "duration": 21,
    "start_time": "2023-01-27T00:26:33.772Z"
   },
   {
    "duration": 21,
    "start_time": "2023-01-27T00:26:33.795Z"
   },
   {
    "duration": 28,
    "start_time": "2023-01-27T00:26:33.817Z"
   },
   {
    "duration": 29,
    "start_time": "2023-01-27T00:26:33.846Z"
   },
   {
    "duration": 2762,
    "start_time": "2023-01-27T00:26:33.877Z"
   },
   {
    "duration": 3,
    "start_time": "2023-01-27T00:26:36.641Z"
   },
   {
    "duration": 31,
    "start_time": "2023-01-27T00:26:36.646Z"
   },
   {
    "duration": 22,
    "start_time": "2023-01-27T00:26:36.679Z"
   },
   {
    "duration": 31,
    "start_time": "2023-01-27T00:26:36.703Z"
   },
   {
    "duration": 48,
    "start_time": "2023-01-27T00:26:36.735Z"
   },
   {
    "duration": 36194,
    "start_time": "2023-01-27T00:26:36.785Z"
   },
   {
    "duration": 3,
    "start_time": "2023-01-27T00:27:12.980Z"
   },
   {
    "duration": 10,
    "start_time": "2023-01-27T00:27:12.984Z"
   },
   {
    "duration": 8,
    "start_time": "2023-01-27T00:27:12.997Z"
   },
   {
    "duration": 4,
    "start_time": "2023-01-27T00:27:13.006Z"
   },
   {
    "duration": 6,
    "start_time": "2023-01-27T00:27:13.011Z"
   },
   {
    "duration": 5,
    "start_time": "2023-01-27T00:27:13.018Z"
   },
   {
    "duration": 35972,
    "start_time": "2023-01-27T00:27:13.037Z"
   },
   {
    "duration": 6,
    "start_time": "2023-01-27T00:27:49.011Z"
   },
   {
    "duration": 30,
    "start_time": "2023-01-27T00:27:49.018Z"
   },
   {
    "duration": 14,
    "start_time": "2023-01-27T00:27:49.049Z"
   },
   {
    "duration": 28,
    "start_time": "2023-01-27T00:27:49.064Z"
   },
   {
    "duration": 29,
    "start_time": "2023-01-27T00:27:49.094Z"
   },
   {
    "duration": 51,
    "start_time": "2023-01-27T13:18:11.150Z"
   },
   {
    "duration": 1362,
    "start_time": "2023-01-27T13:18:17.493Z"
   },
   {
    "duration": 2177,
    "start_time": "2023-01-27T13:18:18.859Z"
   },
   {
    "duration": 15,
    "start_time": "2023-01-27T13:18:21.038Z"
   },
   {
    "duration": 232,
    "start_time": "2023-01-27T13:18:21.055Z"
   },
   {
    "duration": 110,
    "start_time": "2023-01-27T13:18:21.289Z"
   },
   {
    "duration": 209,
    "start_time": "2023-01-27T13:18:21.401Z"
   },
   {
    "duration": 8,
    "start_time": "2023-01-27T13:18:23.510Z"
   },
   {
    "duration": 9,
    "start_time": "2023-01-27T13:18:23.936Z"
   },
   {
    "duration": 14,
    "start_time": "2023-01-27T13:18:24.936Z"
   },
   {
    "duration": 19,
    "start_time": "2023-01-27T13:18:26.920Z"
   },
   {
    "duration": 4,
    "start_time": "2023-01-27T13:18:27.255Z"
   },
   {
    "duration": 6,
    "start_time": "2023-01-27T13:18:27.558Z"
   },
   {
    "duration": 53,
    "start_time": "2023-01-27T13:18:27.907Z"
   },
   {
    "duration": 736,
    "start_time": "2023-01-27T13:18:28.837Z"
   },
   {
    "duration": 250,
    "start_time": "2023-01-27T13:19:41.169Z"
   },
   {
    "duration": 366,
    "start_time": "2023-01-27T13:20:40.884Z"
   },
   {
    "duration": 316,
    "start_time": "2023-01-27T13:24:02.903Z"
   },
   {
    "duration": 363,
    "start_time": "2023-01-27T13:25:17.630Z"
   },
   {
    "duration": 6,
    "start_time": "2023-01-27T14:06:45.765Z"
   },
   {
    "duration": 820,
    "start_time": "2023-01-27T14:06:46.100Z"
   },
   {
    "duration": 4,
    "start_time": "2023-01-27T14:06:46.922Z"
   },
   {
    "duration": 230,
    "start_time": "2023-01-27T14:06:46.927Z"
   },
   {
    "duration": 102,
    "start_time": "2023-01-27T14:06:47.159Z"
   },
   {
    "duration": 178,
    "start_time": "2023-01-27T14:06:47.470Z"
   },
   {
    "duration": 6,
    "start_time": "2023-01-27T14:06:48.188Z"
   },
   {
    "duration": 9,
    "start_time": "2023-01-27T14:06:48.523Z"
   },
   {
    "duration": 7,
    "start_time": "2023-01-27T14:06:49.500Z"
   },
   {
    "duration": 12,
    "start_time": "2023-01-27T14:06:49.803Z"
   },
   {
    "duration": 4,
    "start_time": "2023-01-27T14:06:50.108Z"
   },
   {
    "duration": 6,
    "start_time": "2023-01-27T14:06:50.365Z"
   },
   {
    "duration": 44,
    "start_time": "2023-01-27T14:06:50.579Z"
   },
   {
    "duration": 273,
    "start_time": "2023-01-27T14:06:51.644Z"
   },
   {
    "duration": 260,
    "start_time": "2023-01-27T14:06:52.060Z"
   },
   {
    "duration": 359,
    "start_time": "2023-01-27T14:06:53.267Z"
   },
   {
    "duration": 79,
    "start_time": "2023-01-27T14:06:58.076Z"
   },
   {
    "duration": 7,
    "start_time": "2023-01-27T14:07:24.419Z"
   },
   {
    "duration": 17,
    "start_time": "2023-01-27T14:24:55.840Z"
   },
   {
    "duration": 7,
    "start_time": "2023-01-27T14:25:27.305Z"
   },
   {
    "duration": 46,
    "start_time": "2023-01-27T14:27:46.663Z"
   },
   {
    "duration": 6,
    "start_time": "2023-01-27T14:28:47.253Z"
   },
   {
    "duration": 6,
    "start_time": "2023-01-27T14:30:27.808Z"
   },
   {
    "duration": 5,
    "start_time": "2023-01-27T14:31:37.672Z"
   },
   {
    "duration": 5,
    "start_time": "2023-01-27T14:31:38.032Z"
   },
   {
    "duration": 5,
    "start_time": "2023-01-27T14:31:38.408Z"
   },
   {
    "duration": 865,
    "start_time": "2023-01-27T14:31:40.272Z"
   },
   {
    "duration": 265,
    "start_time": "2023-01-27T14:31:58.497Z"
   },
   {
    "duration": 46,
    "start_time": "2023-01-27T14:36:57.038Z"
   },
   {
    "duration": 7053,
    "start_time": "2023-01-28T09:45:55.416Z"
   },
   {
    "duration": 82,
    "start_time": "2023-01-28T09:46:10.713Z"
   },
   {
    "duration": 4,
    "start_time": "2023-01-28T09:54:06.408Z"
   },
   {
    "duration": 11,
    "start_time": "2023-01-28T09:57:47.396Z"
   },
   {
    "duration": 994,
    "start_time": "2023-01-28T13:13:19.899Z"
   },
   {
    "duration": 2640,
    "start_time": "2023-01-28T13:13:20.895Z"
   },
   {
    "duration": 3,
    "start_time": "2023-01-28T13:13:23.536Z"
   },
   {
    "duration": 196,
    "start_time": "2023-01-28T13:13:23.541Z"
   },
   {
    "duration": 67,
    "start_time": "2023-01-28T13:13:23.738Z"
   },
   {
    "duration": 185,
    "start_time": "2023-01-28T13:13:23.807Z"
   },
   {
    "duration": 6,
    "start_time": "2023-01-28T13:13:23.993Z"
   },
   {
    "duration": 7,
    "start_time": "2023-01-28T13:13:29.885Z"
   },
   {
    "duration": 7,
    "start_time": "2023-01-28T13:13:31.747Z"
   },
   {
    "duration": 16,
    "start_time": "2023-01-28T13:13:34.131Z"
   },
   {
    "duration": 3,
    "start_time": "2023-01-28T13:13:34.702Z"
   },
   {
    "duration": 4,
    "start_time": "2023-01-28T13:14:04.364Z"
   },
   {
    "duration": 97,
    "start_time": "2023-01-28T13:14:05.124Z"
   },
   {
    "duration": 12,
    "start_time": "2023-01-28T13:15:14.636Z"
   },
   {
    "duration": 7,
    "start_time": "2023-01-28T13:17:04.971Z"
   },
   {
    "duration": 4,
    "start_time": "2023-01-28T13:17:05.614Z"
   },
   {
    "duration": 100,
    "start_time": "2023-01-28T13:17:07.466Z"
   },
   {
    "duration": 7,
    "start_time": "2023-01-28T13:25:32.345Z"
   },
   {
    "duration": 786,
    "start_time": "2023-01-28T13:26:42.098Z"
   },
   {
    "duration": 356,
    "start_time": "2023-01-28T13:27:41.352Z"
   },
   {
    "duration": 274,
    "start_time": "2023-01-28T13:27:58.738Z"
   },
   {
    "duration": 8,
    "start_time": "2023-01-28T13:32:32.075Z"
   },
   {
    "duration": 5,
    "start_time": "2023-01-28T13:32:35.353Z"
   },
   {
    "duration": 4,
    "start_time": "2023-01-28T13:32:35.653Z"
   },
   {
    "duration": 5,
    "start_time": "2023-01-28T13:32:35.897Z"
   },
   {
    "duration": 6,
    "start_time": "2023-01-28T13:32:36.153Z"
   },
   {
    "duration": 307,
    "start_time": "2023-01-28T13:32:36.953Z"
   },
   {
    "duration": 13,
    "start_time": "2023-01-28T13:59:32.176Z"
   },
   {
    "duration": 12,
    "start_time": "2023-01-28T13:59:32.627Z"
   },
   {
    "duration": 21,
    "start_time": "2023-01-28T13:59:33.354Z"
   },
   {
    "duration": 60,
    "start_time": "2023-01-28T15:01:51.563Z"
   },
   {
    "duration": 1281,
    "start_time": "2023-01-28T15:01:55.928Z"
   },
   {
    "duration": 3697,
    "start_time": "2023-01-28T15:01:57.213Z"
   },
   {
    "duration": 4,
    "start_time": "2023-01-28T15:02:00.912Z"
   },
   {
    "duration": 356,
    "start_time": "2023-01-28T15:02:00.919Z"
   },
   {
    "duration": 77,
    "start_time": "2023-01-28T15:02:01.277Z"
   },
   {
    "duration": 256,
    "start_time": "2023-01-28T15:02:01.356Z"
   },
   {
    "duration": 7,
    "start_time": "2023-01-28T15:02:01.614Z"
   },
   {
    "duration": 66,
    "start_time": "2023-01-28T15:02:01.624Z"
   },
   {
    "duration": 75,
    "start_time": "2023-01-28T15:02:01.692Z"
   },
   {
    "duration": 87,
    "start_time": "2023-01-28T15:02:01.770Z"
   },
   {
    "duration": 32,
    "start_time": "2023-01-28T15:02:01.860Z"
   },
   {
    "duration": 66,
    "start_time": "2023-01-28T15:02:01.894Z"
   },
   {
    "duration": 56,
    "start_time": "2023-01-28T15:02:01.962Z"
   },
   {
    "duration": 111,
    "start_time": "2023-01-28T15:02:02.020Z"
   },
   {
    "duration": 85,
    "start_time": "2023-01-28T15:02:02.133Z"
   },
   {
    "duration": 190,
    "start_time": "2023-01-28T15:02:02.221Z"
   },
   {
    "duration": 10,
    "start_time": "2023-01-28T15:02:02.413Z"
   },
   {
    "duration": 849,
    "start_time": "2023-01-28T15:02:02.425Z"
   },
   {
    "duration": 442,
    "start_time": "2023-01-28T15:02:03.276Z"
   },
   {
    "duration": 480,
    "start_time": "2023-01-28T15:02:03.720Z"
   },
   {
    "duration": 11,
    "start_time": "2023-01-28T15:02:04.201Z"
   },
   {
    "duration": 1285,
    "start_time": "2023-01-28T15:02:04.214Z"
   },
   {
    "duration": 0,
    "start_time": "2023-01-28T15:02:05.502Z"
   },
   {
    "duration": 0,
    "start_time": "2023-01-28T15:02:05.504Z"
   },
   {
    "duration": 0,
    "start_time": "2023-01-28T15:02:05.505Z"
   },
   {
    "duration": 0,
    "start_time": "2023-01-28T15:02:05.507Z"
   },
   {
    "duration": 0,
    "start_time": "2023-01-28T15:02:05.508Z"
   },
   {
    "duration": 0,
    "start_time": "2023-01-28T15:02:05.510Z"
   },
   {
    "duration": 0,
    "start_time": "2023-01-28T15:02:05.512Z"
   },
   {
    "duration": 1,
    "start_time": "2023-01-28T15:02:05.513Z"
   },
   {
    "duration": 0,
    "start_time": "2023-01-28T15:02:05.516Z"
   },
   {
    "duration": 0,
    "start_time": "2023-01-28T15:02:05.518Z"
   },
   {
    "duration": 0,
    "start_time": "2023-01-28T15:02:05.519Z"
   },
   {
    "duration": 0,
    "start_time": "2023-01-28T15:02:05.520Z"
   },
   {
    "duration": 0,
    "start_time": "2023-01-28T15:02:05.522Z"
   },
   {
    "duration": 0,
    "start_time": "2023-01-28T15:02:05.524Z"
   },
   {
    "duration": 0,
    "start_time": "2023-01-28T15:02:05.525Z"
   },
   {
    "duration": 0,
    "start_time": "2023-01-28T15:02:05.526Z"
   },
   {
    "duration": 0,
    "start_time": "2023-01-28T15:02:05.527Z"
   },
   {
    "duration": 0,
    "start_time": "2023-01-28T15:02:05.529Z"
   },
   {
    "duration": 0,
    "start_time": "2023-01-28T15:02:05.530Z"
   },
   {
    "duration": 0,
    "start_time": "2023-01-28T15:02:05.533Z"
   },
   {
    "duration": 0,
    "start_time": "2023-01-28T15:02:05.534Z"
   },
   {
    "duration": 0,
    "start_time": "2023-01-28T15:02:05.536Z"
   },
   {
    "duration": 0,
    "start_time": "2023-01-28T15:02:05.538Z"
   },
   {
    "duration": 343,
    "start_time": "2023-01-28T15:04:24.500Z"
   },
   {
    "duration": 1130,
    "start_time": "2023-01-28T15:11:13.177Z"
   },
   {
    "duration": 662,
    "start_time": "2023-01-28T15:11:14.309Z"
   },
   {
    "duration": 3,
    "start_time": "2023-01-28T15:11:14.973Z"
   },
   {
    "duration": 223,
    "start_time": "2023-01-28T15:11:14.981Z"
   },
   {
    "duration": 93,
    "start_time": "2023-01-28T15:11:15.206Z"
   },
   {
    "duration": 191,
    "start_time": "2023-01-28T15:11:15.300Z"
   },
   {
    "duration": 7,
    "start_time": "2023-01-28T15:11:15.493Z"
   },
   {
    "duration": 8,
    "start_time": "2023-01-28T15:11:15.502Z"
   },
   {
    "duration": 16,
    "start_time": "2023-01-28T15:11:15.512Z"
   },
   {
    "duration": 45,
    "start_time": "2023-01-28T15:11:15.530Z"
   },
   {
    "duration": 24,
    "start_time": "2023-01-28T15:11:15.577Z"
   },
   {
    "duration": 37,
    "start_time": "2023-01-28T15:11:15.603Z"
   },
   {
    "duration": 7,
    "start_time": "2023-01-28T15:11:15.642Z"
   },
   {
    "duration": 20,
    "start_time": "2023-01-28T15:11:15.652Z"
   },
   {
    "duration": 15,
    "start_time": "2023-01-28T15:11:15.674Z"
   },
   {
    "duration": 112,
    "start_time": "2023-01-28T15:11:15.691Z"
   },
   {
    "duration": 7,
    "start_time": "2023-01-28T15:11:15.805Z"
   },
   {
    "duration": 634,
    "start_time": "2023-01-28T15:11:15.814Z"
   },
   {
    "duration": 353,
    "start_time": "2023-01-28T15:11:16.450Z"
   },
   {
    "duration": 416,
    "start_time": "2023-01-28T15:11:16.805Z"
   },
   {
    "duration": 9,
    "start_time": "2023-01-28T15:11:17.223Z"
   },
   {
    "duration": 351,
    "start_time": "2023-01-28T15:11:17.233Z"
   },
   {
    "duration": 3,
    "start_time": "2023-01-28T15:11:17.586Z"
   },
   {
    "duration": 17,
    "start_time": "2023-01-28T15:11:17.591Z"
   },
   {
    "duration": 9,
    "start_time": "2023-01-28T15:11:17.610Z"
   },
   {
    "duration": 7,
    "start_time": "2023-01-28T15:11:17.621Z"
   },
   {
    "duration": 7,
    "start_time": "2023-01-28T15:11:17.630Z"
   },
   {
    "duration": 156,
    "start_time": "2023-01-28T15:11:17.638Z"
   },
   {
    "duration": 0,
    "start_time": "2023-01-28T15:11:17.796Z"
   },
   {
    "duration": 0,
    "start_time": "2023-01-28T15:11:17.798Z"
   },
   {
    "duration": 0,
    "start_time": "2023-01-28T15:11:17.799Z"
   },
   {
    "duration": 0,
    "start_time": "2023-01-28T15:11:17.801Z"
   },
   {
    "duration": 0,
    "start_time": "2023-01-28T15:11:17.802Z"
   },
   {
    "duration": 0,
    "start_time": "2023-01-28T15:11:17.803Z"
   },
   {
    "duration": 0,
    "start_time": "2023-01-28T15:11:17.805Z"
   },
   {
    "duration": 0,
    "start_time": "2023-01-28T15:11:17.806Z"
   },
   {
    "duration": 0,
    "start_time": "2023-01-28T15:11:17.809Z"
   },
   {
    "duration": 0,
    "start_time": "2023-01-28T15:11:17.810Z"
   },
   {
    "duration": 0,
    "start_time": "2023-01-28T15:11:17.812Z"
   },
   {
    "duration": 0,
    "start_time": "2023-01-28T15:11:17.813Z"
   },
   {
    "duration": 0,
    "start_time": "2023-01-28T15:11:17.815Z"
   },
   {
    "duration": 0,
    "start_time": "2023-01-28T15:11:17.816Z"
   },
   {
    "duration": 0,
    "start_time": "2023-01-28T15:11:17.818Z"
   },
   {
    "duration": 0,
    "start_time": "2023-01-28T15:11:17.820Z"
   },
   {
    "duration": 4,
    "start_time": "2023-01-28T15:13:23.354Z"
   },
   {
    "duration": 7,
    "start_time": "2023-01-28T15:13:27.490Z"
   },
   {
    "duration": 1121,
    "start_time": "2023-01-28T15:16:18.524Z"
   },
   {
    "duration": 721,
    "start_time": "2023-01-28T15:16:19.647Z"
   },
   {
    "duration": 3,
    "start_time": "2023-01-28T15:16:20.370Z"
   },
   {
    "duration": 268,
    "start_time": "2023-01-28T15:16:20.380Z"
   },
   {
    "duration": 99,
    "start_time": "2023-01-28T15:16:20.650Z"
   },
   {
    "duration": 207,
    "start_time": "2023-01-28T15:16:20.752Z"
   },
   {
    "duration": 21,
    "start_time": "2023-01-28T15:16:20.961Z"
   },
   {
    "duration": 8,
    "start_time": "2023-01-28T15:16:20.984Z"
   },
   {
    "duration": 11,
    "start_time": "2023-01-28T15:16:20.994Z"
   },
   {
    "duration": 24,
    "start_time": "2023-01-28T15:16:21.008Z"
   },
   {
    "duration": 12,
    "start_time": "2023-01-28T15:16:21.034Z"
   },
   {
    "duration": 40,
    "start_time": "2023-01-28T15:16:21.048Z"
   },
   {
    "duration": 4,
    "start_time": "2023-01-28T15:16:21.090Z"
   },
   {
    "duration": 14,
    "start_time": "2023-01-28T15:16:21.096Z"
   },
   {
    "duration": 9,
    "start_time": "2023-01-28T15:16:21.112Z"
   },
   {
    "duration": 118,
    "start_time": "2023-01-28T15:16:21.124Z"
   },
   {
    "duration": 65,
    "start_time": "2023-01-28T15:16:21.244Z"
   },
   {
    "duration": 584,
    "start_time": "2023-01-28T15:16:21.311Z"
   },
   {
    "duration": 297,
    "start_time": "2023-01-28T15:16:21.897Z"
   },
   {
    "duration": 390,
    "start_time": "2023-01-28T15:16:22.196Z"
   },
   {
    "duration": 7,
    "start_time": "2023-01-28T15:16:22.588Z"
   },
   {
    "duration": 329,
    "start_time": "2023-01-28T15:16:22.597Z"
   },
   {
    "duration": 3,
    "start_time": "2023-01-28T15:16:22.929Z"
   },
   {
    "duration": 9,
    "start_time": "2023-01-28T15:16:22.934Z"
   },
   {
    "duration": 6,
    "start_time": "2023-01-28T15:16:22.944Z"
   },
   {
    "duration": 7,
    "start_time": "2023-01-28T15:16:22.951Z"
   },
   {
    "duration": 22,
    "start_time": "2023-01-28T15:16:22.960Z"
   },
   {
    "duration": 3326,
    "start_time": "2023-01-28T15:16:22.985Z"
   },
   {
    "duration": 14,
    "start_time": "2023-01-28T15:16:26.384Z"
   },
   {
    "duration": 11,
    "start_time": "2023-01-28T15:16:26.400Z"
   },
   {
    "duration": 10,
    "start_time": "2023-01-28T15:16:26.414Z"
   },
   {
    "duration": 29,
    "start_time": "2023-01-28T15:16:26.426Z"
   },
   {
    "duration": 23,
    "start_time": "2023-01-28T15:16:26.458Z"
   },
   {
    "duration": 40318,
    "start_time": "2023-01-28T15:16:26.483Z"
   },
   {
    "duration": 2,
    "start_time": "2023-01-28T15:17:06.803Z"
   },
   {
    "duration": 10,
    "start_time": "2023-01-28T15:17:06.807Z"
   },
   {
    "duration": 10,
    "start_time": "2023-01-28T15:17:06.818Z"
   },
   {
    "duration": 6,
    "start_time": "2023-01-28T15:17:06.829Z"
   },
   {
    "duration": 6,
    "start_time": "2023-01-28T15:17:06.836Z"
   },
   {
    "duration": 40038,
    "start_time": "2023-01-28T15:17:06.844Z"
   },
   {
    "duration": 8,
    "start_time": "2023-01-28T15:17:46.884Z"
   },
   {
    "duration": 21,
    "start_time": "2023-01-28T15:17:46.894Z"
   },
   {
    "duration": 6,
    "start_time": "2023-01-28T15:17:46.918Z"
   },
   {
    "duration": 5,
    "start_time": "2023-01-28T15:17:46.926Z"
   },
   {
    "duration": 4,
    "start_time": "2023-01-28T15:21:17.856Z"
   },
   {
    "duration": 3,
    "start_time": "2023-01-28T15:30:37.080Z"
   },
   {
    "duration": 6,
    "start_time": "2023-01-28T15:30:38.185Z"
   },
   {
    "duration": 4,
    "start_time": "2023-01-28T15:30:39.761Z"
   },
   {
    "duration": 5,
    "start_time": "2023-01-28T15:30:41.453Z"
   },
   {
    "duration": 8,
    "start_time": "2023-01-28T15:30:42.262Z"
   },
   {
    "duration": 3,
    "start_time": "2023-01-28T15:30:43.987Z"
   },
   {
    "duration": 9,
    "start_time": "2023-01-28T15:30:43.992Z"
   },
   {
    "duration": 5,
    "start_time": "2023-01-28T15:30:44.633Z"
   },
   {
    "duration": 3,
    "start_time": "2023-01-28T15:32:12.896Z"
   },
   {
    "duration": 6,
    "start_time": "2023-01-28T15:32:13.118Z"
   },
   {
    "duration": 3,
    "start_time": "2023-01-28T15:32:13.327Z"
   },
   {
    "duration": 7,
    "start_time": "2023-01-28T15:32:13.574Z"
   },
   {
    "duration": 7,
    "start_time": "2023-01-28T15:32:13.799Z"
   },
   {
    "duration": 3,
    "start_time": "2023-01-28T15:32:14.039Z"
   },
   {
    "duration": 4,
    "start_time": "2023-01-28T15:32:14.296Z"
   },
   {
    "duration": 5,
    "start_time": "2023-01-28T15:32:14.698Z"
   },
   {
    "duration": 1116,
    "start_time": "2023-01-28T19:42:22.158Z"
   },
   {
    "duration": 3258,
    "start_time": "2023-01-28T19:42:23.276Z"
   },
   {
    "duration": 4,
    "start_time": "2023-01-28T19:42:26.537Z"
   },
   {
    "duration": 238,
    "start_time": "2023-01-28T19:42:26.544Z"
   },
   {
    "duration": 66,
    "start_time": "2023-01-28T19:42:26.784Z"
   },
   {
    "duration": 185,
    "start_time": "2023-01-28T19:42:26.851Z"
   },
   {
    "duration": 6,
    "start_time": "2023-01-28T19:42:27.037Z"
   },
   {
    "duration": 23,
    "start_time": "2023-01-28T19:42:27.044Z"
   },
   {
    "duration": 15,
    "start_time": "2023-01-28T19:42:27.069Z"
   },
   {
    "duration": 27,
    "start_time": "2023-01-28T19:42:27.087Z"
   },
   {
    "duration": 19,
    "start_time": "2023-01-28T19:42:27.115Z"
   },
   {
    "duration": 17,
    "start_time": "2023-01-28T19:42:27.136Z"
   },
   {
    "duration": 4,
    "start_time": "2023-01-28T19:42:27.155Z"
   },
   {
    "duration": 7,
    "start_time": "2023-01-28T19:42:27.161Z"
   },
   {
    "duration": 13,
    "start_time": "2023-01-28T19:42:27.169Z"
   },
   {
    "duration": 115,
    "start_time": "2023-01-28T19:42:27.183Z"
   },
   {
    "duration": 40,
    "start_time": "2023-01-28T19:42:27.300Z"
   },
   {
    "duration": 689,
    "start_time": "2023-01-28T19:42:27.341Z"
   },
   {
    "duration": 370,
    "start_time": "2023-01-28T19:42:28.032Z"
   },
   {
    "duration": 298,
    "start_time": "2023-01-28T19:42:28.405Z"
   },
   {
    "duration": 7,
    "start_time": "2023-01-28T19:42:28.704Z"
   },
   {
    "duration": 299,
    "start_time": "2023-01-28T19:42:28.713Z"
   },
   {
    "duration": 3,
    "start_time": "2023-01-28T19:42:29.013Z"
   },
   {
    "duration": 6,
    "start_time": "2023-01-28T19:42:29.017Z"
   },
   {
    "duration": 5,
    "start_time": "2023-01-28T19:42:29.025Z"
   },
   {
    "duration": 4,
    "start_time": "2023-01-28T19:42:29.032Z"
   },
   {
    "duration": 8,
    "start_time": "2023-01-28T19:42:29.037Z"
   },
   {
    "duration": 3237,
    "start_time": "2023-01-28T19:42:29.048Z"
   },
   {
    "duration": 4,
    "start_time": "2023-01-28T19:42:32.381Z"
   },
   {
    "duration": 33,
    "start_time": "2023-01-28T19:42:32.387Z"
   },
   {
    "duration": 9,
    "start_time": "2023-01-28T19:42:32.422Z"
   },
   {
    "duration": 21,
    "start_time": "2023-01-28T19:42:32.432Z"
   },
   {
    "duration": 35,
    "start_time": "2023-01-28T19:42:32.455Z"
   },
   {
    "duration": 38041,
    "start_time": "2023-01-28T19:42:32.491Z"
   },
   {
    "duration": 3,
    "start_time": "2023-01-28T19:43:10.534Z"
   },
   {
    "duration": 10,
    "start_time": "2023-01-28T19:43:10.538Z"
   },
   {
    "duration": 10,
    "start_time": "2023-01-28T19:43:10.550Z"
   },
   {
    "duration": 7,
    "start_time": "2023-01-28T19:43:10.562Z"
   },
   {
    "duration": 3,
    "start_time": "2023-01-28T19:43:10.582Z"
   },
   {
    "duration": 38259,
    "start_time": "2023-01-28T19:43:10.587Z"
   },
   {
    "duration": 6,
    "start_time": "2023-01-28T19:43:48.848Z"
   },
   {
    "duration": 7,
    "start_time": "2023-01-28T19:43:48.855Z"
   },
   {
    "duration": 6,
    "start_time": "2023-01-28T19:43:48.863Z"
   },
   {
    "duration": 3,
    "start_time": "2023-01-28T19:43:48.881Z"
   },
   {
    "duration": 5,
    "start_time": "2023-01-28T19:43:48.885Z"
   },
   {
    "duration": 9,
    "start_time": "2023-01-28T19:43:48.892Z"
   },
   {
    "duration": 3,
    "start_time": "2023-01-28T19:43:48.903Z"
   },
   {
    "duration": 5,
    "start_time": "2023-01-28T19:43:48.908Z"
   },
   {
    "duration": 7,
    "start_time": "2023-01-28T19:43:48.914Z"
   },
   {
    "duration": 3,
    "start_time": "2023-01-28T19:43:48.923Z"
   },
   {
    "duration": 5,
    "start_time": "2023-01-28T19:43:48.928Z"
   },
   {
    "duration": 5,
    "start_time": "2023-01-28T19:43:48.935Z"
   },
   {
    "duration": 54,
    "start_time": "2023-01-28T19:44:20.909Z"
   },
   {
    "duration": 386,
    "start_time": "2023-01-28T19:45:43.260Z"
   },
   {
    "duration": 469,
    "start_time": "2023-01-28T19:46:15.932Z"
   },
   {
    "duration": 518,
    "start_time": "2023-01-28T19:48:53.209Z"
   },
   {
    "duration": 369,
    "start_time": "2023-01-28T19:48:59.869Z"
   },
   {
    "duration": 382,
    "start_time": "2023-01-28T19:49:40.636Z"
   },
   {
    "duration": 151,
    "start_time": "2023-01-28T19:50:35.443Z"
   },
   {
    "duration": 387,
    "start_time": "2023-01-28T19:51:03.164Z"
   },
   {
    "duration": 16,
    "start_time": "2023-01-28T19:51:36.357Z"
   },
   {
    "duration": 398,
    "start_time": "2023-01-28T19:53:47.905Z"
   },
   {
    "duration": 444,
    "start_time": "2023-01-28T19:54:17.170Z"
   },
   {
    "duration": 80,
    "start_time": "2023-01-28T19:59:39.691Z"
   },
   {
    "duration": 334,
    "start_time": "2023-01-28T20:00:10.650Z"
   },
   {
    "duration": 706,
    "start_time": "2023-01-28T20:00:32.813Z"
   },
   {
    "duration": 72,
    "start_time": "2023-01-28T20:03:11.176Z"
   },
   {
    "duration": 339,
    "start_time": "2023-01-28T20:03:19.866Z"
   },
   {
    "duration": 352,
    "start_time": "2023-01-28T20:03:31.145Z"
   },
   {
    "duration": 338,
    "start_time": "2023-01-28T20:03:48.057Z"
   },
   {
    "duration": 5,
    "start_time": "2023-01-28T20:07:34.944Z"
   },
   {
    "duration": 386,
    "start_time": "2023-01-28T20:09:32.343Z"
   },
   {
    "duration": 349,
    "start_time": "2023-01-28T20:12:23.759Z"
   },
   {
    "duration": 135,
    "start_time": "2023-01-28T20:12:53.398Z"
   },
   {
    "duration": 421,
    "start_time": "2023-01-28T20:13:07.887Z"
   },
   {
    "duration": 373,
    "start_time": "2023-01-28T20:13:23.575Z"
   },
   {
    "duration": 391,
    "start_time": "2023-01-28T20:13:39.023Z"
   },
   {
    "duration": 131,
    "start_time": "2023-01-28T20:14:37.374Z"
   },
   {
    "duration": 358,
    "start_time": "2023-01-28T20:15:46.350Z"
   },
   {
    "duration": 287,
    "start_time": "2023-01-28T20:17:50.015Z"
   },
   {
    "duration": 505,
    "start_time": "2023-01-28T20:20:34.910Z"
   },
   {
    "duration": 363,
    "start_time": "2023-01-28T20:21:09.644Z"
   },
   {
    "duration": 379,
    "start_time": "2023-01-28T20:21:20.855Z"
   },
   {
    "duration": 352,
    "start_time": "2023-01-28T20:22:04.692Z"
   },
   {
    "duration": 367,
    "start_time": "2023-01-28T20:22:14.116Z"
   },
   {
    "duration": 410,
    "start_time": "2023-01-28T20:23:25.324Z"
   },
   {
    "duration": 405,
    "start_time": "2023-01-28T20:24:11.644Z"
   },
   {
    "duration": 582,
    "start_time": "2023-01-28T20:24:59.892Z"
   },
   {
    "duration": 494,
    "start_time": "2023-01-28T20:25:13.229Z"
   },
   {
    "duration": 428,
    "start_time": "2023-01-28T20:27:36.940Z"
   },
   {
    "duration": 1425,
    "start_time": "2023-01-28T20:28:51.230Z"
   },
   {
    "duration": 663,
    "start_time": "2023-01-28T20:28:52.657Z"
   },
   {
    "duration": 3,
    "start_time": "2023-01-28T20:28:53.322Z"
   },
   {
    "duration": 199,
    "start_time": "2023-01-28T20:28:53.326Z"
   },
   {
    "duration": 90,
    "start_time": "2023-01-28T20:28:53.526Z"
   },
   {
    "duration": 186,
    "start_time": "2023-01-28T20:28:53.618Z"
   },
   {
    "duration": 6,
    "start_time": "2023-01-28T20:28:53.806Z"
   },
   {
    "duration": 7,
    "start_time": "2023-01-28T20:28:53.814Z"
   },
   {
    "duration": 14,
    "start_time": "2023-01-28T20:28:53.823Z"
   },
   {
    "duration": 22,
    "start_time": "2023-01-28T20:28:53.839Z"
   },
   {
    "duration": 24,
    "start_time": "2023-01-28T20:28:53.862Z"
   },
   {
    "duration": 18,
    "start_time": "2023-01-28T20:28:53.888Z"
   },
   {
    "duration": 4,
    "start_time": "2023-01-28T20:28:53.908Z"
   },
   {
    "duration": 8,
    "start_time": "2023-01-28T20:28:53.913Z"
   },
   {
    "duration": 12,
    "start_time": "2023-01-28T20:28:53.923Z"
   },
   {
    "duration": 109,
    "start_time": "2023-01-28T20:28:53.937Z"
   },
   {
    "duration": 54,
    "start_time": "2023-01-28T20:28:54.048Z"
   },
   {
    "duration": 307,
    "start_time": "2023-01-28T20:28:54.104Z"
   },
   {
    "duration": 365,
    "start_time": "2023-01-28T20:28:54.412Z"
   },
   {
    "duration": 304,
    "start_time": "2023-01-28T20:28:54.778Z"
   },
   {
    "duration": 8,
    "start_time": "2023-01-28T20:28:55.083Z"
   },
   {
    "duration": 375,
    "start_time": "2023-01-28T20:28:55.092Z"
   },
   {
    "duration": 291,
    "start_time": "2023-01-28T20:28:55.469Z"
   },
   {
    "duration": 4,
    "start_time": "2023-01-28T20:28:55.761Z"
   },
   {
    "duration": 18,
    "start_time": "2023-01-28T20:28:55.766Z"
   },
   {
    "duration": 26,
    "start_time": "2023-01-28T20:28:55.785Z"
   },
   {
    "duration": 10,
    "start_time": "2023-01-28T20:28:55.812Z"
   },
   {
    "duration": 18,
    "start_time": "2023-01-28T20:28:55.827Z"
   },
   {
    "duration": 3033,
    "start_time": "2023-01-28T20:28:55.848Z"
   },
   {
    "duration": 5,
    "start_time": "2023-01-28T20:28:58.884Z"
   },
   {
    "duration": 91,
    "start_time": "2023-01-28T20:28:58.891Z"
   },
   {
    "duration": 18,
    "start_time": "2023-01-28T20:28:58.984Z"
   },
   {
    "duration": 19,
    "start_time": "2023-01-28T20:28:59.003Z"
   },
   {
    "duration": 13,
    "start_time": "2023-01-28T20:28:59.024Z"
   },
   {
    "duration": 38014,
    "start_time": "2023-01-28T20:28:59.038Z"
   },
   {
    "duration": 2,
    "start_time": "2023-01-28T20:29:37.054Z"
   },
   {
    "duration": 20,
    "start_time": "2023-01-28T20:29:37.058Z"
   },
   {
    "duration": 15,
    "start_time": "2023-01-28T20:29:37.080Z"
   },
   {
    "duration": 11,
    "start_time": "2023-01-28T20:29:37.097Z"
   },
   {
    "duration": 9,
    "start_time": "2023-01-28T20:29:37.110Z"
   },
   {
    "duration": 38009,
    "start_time": "2023-01-28T20:29:37.121Z"
   },
   {
    "duration": 8,
    "start_time": "2023-01-28T20:30:15.132Z"
   },
   {
    "duration": 20,
    "start_time": "2023-01-28T20:30:15.142Z"
   },
   {
    "duration": 18,
    "start_time": "2023-01-28T20:30:15.164Z"
   },
   {
    "duration": 22,
    "start_time": "2023-01-28T20:30:15.183Z"
   },
   {
    "duration": 13,
    "start_time": "2023-01-28T20:30:15.206Z"
   },
   {
    "duration": 23,
    "start_time": "2023-01-28T20:30:15.221Z"
   },
   {
    "duration": 7,
    "start_time": "2023-01-28T20:30:15.246Z"
   },
   {
    "duration": 6,
    "start_time": "2023-01-28T20:30:15.255Z"
   },
   {
    "duration": 11,
    "start_time": "2023-01-28T20:30:15.263Z"
   },
   {
    "duration": 12,
    "start_time": "2023-01-28T20:30:15.276Z"
   },
   {
    "duration": 18,
    "start_time": "2023-01-28T20:30:15.290Z"
   },
   {
    "duration": 11,
    "start_time": "2023-01-28T20:30:15.310Z"
   },
   {
    "duration": 1590,
    "start_time": "2023-01-29T19:08:53.600Z"
   },
   {
    "duration": 0,
    "start_time": "2023-01-29T19:08:55.193Z"
   },
   {
    "duration": 0,
    "start_time": "2023-01-29T19:08:55.195Z"
   },
   {
    "duration": 0,
    "start_time": "2023-01-29T19:08:55.196Z"
   },
   {
    "duration": 0,
    "start_time": "2023-01-29T19:08:55.197Z"
   },
   {
    "duration": 0,
    "start_time": "2023-01-29T19:08:55.199Z"
   },
   {
    "duration": 0,
    "start_time": "2023-01-29T19:08:55.200Z"
   },
   {
    "duration": 0,
    "start_time": "2023-01-29T19:08:55.202Z"
   },
   {
    "duration": 0,
    "start_time": "2023-01-29T19:08:55.203Z"
   },
   {
    "duration": 0,
    "start_time": "2023-01-29T19:08:55.204Z"
   },
   {
    "duration": 0,
    "start_time": "2023-01-29T19:08:55.206Z"
   },
   {
    "duration": 0,
    "start_time": "2023-01-29T19:08:55.207Z"
   },
   {
    "duration": 0,
    "start_time": "2023-01-29T19:08:55.209Z"
   },
   {
    "duration": 0,
    "start_time": "2023-01-29T19:08:55.210Z"
   },
   {
    "duration": 0,
    "start_time": "2023-01-29T19:08:55.211Z"
   },
   {
    "duration": 0,
    "start_time": "2023-01-29T19:08:55.213Z"
   },
   {
    "duration": 0,
    "start_time": "2023-01-29T19:08:55.214Z"
   },
   {
    "duration": 0,
    "start_time": "2023-01-29T19:08:55.216Z"
   },
   {
    "duration": 0,
    "start_time": "2023-01-29T19:08:55.217Z"
   },
   {
    "duration": 0,
    "start_time": "2023-01-29T19:08:55.219Z"
   },
   {
    "duration": 0,
    "start_time": "2023-01-29T19:08:55.220Z"
   },
   {
    "duration": 0,
    "start_time": "2023-01-29T19:08:55.222Z"
   },
   {
    "duration": 0,
    "start_time": "2023-01-29T19:08:55.223Z"
   },
   {
    "duration": 0,
    "start_time": "2023-01-29T19:08:55.224Z"
   },
   {
    "duration": 0,
    "start_time": "2023-01-29T19:08:55.226Z"
   },
   {
    "duration": 0,
    "start_time": "2023-01-29T19:08:55.227Z"
   },
   {
    "duration": 0,
    "start_time": "2023-01-29T19:08:55.228Z"
   },
   {
    "duration": 0,
    "start_time": "2023-01-29T19:08:55.230Z"
   },
   {
    "duration": 0,
    "start_time": "2023-01-29T19:08:55.231Z"
   },
   {
    "duration": 0,
    "start_time": "2023-01-29T19:08:55.291Z"
   },
   {
    "duration": 0,
    "start_time": "2023-01-29T19:08:55.293Z"
   },
   {
    "duration": 0,
    "start_time": "2023-01-29T19:08:55.294Z"
   },
   {
    "duration": 0,
    "start_time": "2023-01-29T19:08:55.295Z"
   },
   {
    "duration": 0,
    "start_time": "2023-01-29T19:08:55.296Z"
   },
   {
    "duration": 0,
    "start_time": "2023-01-29T19:08:55.297Z"
   },
   {
    "duration": 0,
    "start_time": "2023-01-29T19:08:55.298Z"
   },
   {
    "duration": 0,
    "start_time": "2023-01-29T19:08:55.298Z"
   },
   {
    "duration": 0,
    "start_time": "2023-01-29T19:08:55.300Z"
   },
   {
    "duration": 0,
    "start_time": "2023-01-29T19:08:55.301Z"
   },
   {
    "duration": 0,
    "start_time": "2023-01-29T19:08:55.302Z"
   },
   {
    "duration": 0,
    "start_time": "2023-01-29T19:08:55.303Z"
   },
   {
    "duration": 0,
    "start_time": "2023-01-29T19:08:55.304Z"
   },
   {
    "duration": 0,
    "start_time": "2023-01-29T19:08:55.305Z"
   },
   {
    "duration": 0,
    "start_time": "2023-01-29T19:08:55.306Z"
   },
   {
    "duration": 0,
    "start_time": "2023-01-29T19:08:55.307Z"
   },
   {
    "duration": 0,
    "start_time": "2023-01-29T19:08:55.308Z"
   },
   {
    "duration": 0,
    "start_time": "2023-01-29T19:08:55.309Z"
   },
   {
    "duration": 0,
    "start_time": "2023-01-29T19:08:55.310Z"
   },
   {
    "duration": 0,
    "start_time": "2023-01-29T19:08:55.311Z"
   },
   {
    "duration": 0,
    "start_time": "2023-01-29T19:08:55.312Z"
   },
   {
    "duration": 0,
    "start_time": "2023-01-29T19:08:55.314Z"
   },
   {
    "duration": 0,
    "start_time": "2023-01-29T19:08:55.314Z"
   },
   {
    "duration": 0,
    "start_time": "2023-01-29T19:08:55.315Z"
   },
   {
    "duration": 0,
    "start_time": "2023-01-29T19:08:55.316Z"
   },
   {
    "duration": 1374,
    "start_time": "2023-01-29T19:11:25.573Z"
   },
   {
    "duration": 3031,
    "start_time": "2023-01-29T19:11:26.948Z"
   },
   {
    "duration": 3,
    "start_time": "2023-01-29T19:11:29.981Z"
   },
   {
    "duration": 192,
    "start_time": "2023-01-29T19:11:29.986Z"
   },
   {
    "duration": 64,
    "start_time": "2023-01-29T19:11:30.180Z"
   },
   {
    "duration": 177,
    "start_time": "2023-01-29T19:11:30.245Z"
   },
   {
    "duration": 7,
    "start_time": "2023-01-29T19:11:30.424Z"
   },
   {
    "duration": 23,
    "start_time": "2023-01-29T19:11:30.432Z"
   },
   {
    "duration": 16,
    "start_time": "2023-01-29T19:11:30.456Z"
   },
   {
    "duration": 25,
    "start_time": "2023-01-29T19:11:30.475Z"
   },
   {
    "duration": 8,
    "start_time": "2023-01-29T19:11:30.502Z"
   },
   {
    "duration": 34,
    "start_time": "2023-01-29T19:11:30.512Z"
   },
   {
    "duration": 46,
    "start_time": "2023-01-29T19:11:30.547Z"
   },
   {
    "duration": 20,
    "start_time": "2023-01-29T19:11:30.595Z"
   },
   {
    "duration": 26,
    "start_time": "2023-01-29T19:11:30.616Z"
   },
   {
    "duration": 108,
    "start_time": "2023-01-29T19:11:30.644Z"
   },
   {
    "duration": 46,
    "start_time": "2023-01-29T19:11:30.754Z"
   },
   {
    "duration": 278,
    "start_time": "2023-01-29T19:11:30.802Z"
   },
   {
    "duration": 333,
    "start_time": "2023-01-29T19:11:31.081Z"
   },
   {
    "duration": 266,
    "start_time": "2023-01-29T19:11:31.415Z"
   },
   {
    "duration": 11,
    "start_time": "2023-01-29T19:11:31.683Z"
   },
   {
    "duration": 394,
    "start_time": "2023-01-29T19:11:31.695Z"
   },
   {
    "duration": 265,
    "start_time": "2023-01-29T19:11:32.091Z"
   },
   {
    "duration": 3,
    "start_time": "2023-01-29T19:11:32.357Z"
   },
   {
    "duration": 9,
    "start_time": "2023-01-29T19:11:32.362Z"
   },
   {
    "duration": 8,
    "start_time": "2023-01-29T19:11:32.372Z"
   },
   {
    "duration": 10,
    "start_time": "2023-01-29T19:11:32.381Z"
   },
   {
    "duration": 12,
    "start_time": "2023-01-29T19:11:32.394Z"
   },
   {
    "duration": 3285,
    "start_time": "2023-01-29T19:11:32.407Z"
   },
   {
    "duration": 5,
    "start_time": "2023-01-29T19:11:35.694Z"
   },
   {
    "duration": 104,
    "start_time": "2023-01-29T19:11:35.701Z"
   },
   {
    "duration": 15,
    "start_time": "2023-01-29T19:11:35.806Z"
   },
   {
    "duration": 17,
    "start_time": "2023-01-29T19:11:35.823Z"
   },
   {
    "duration": 12,
    "start_time": "2023-01-29T19:11:35.841Z"
   },
   {
    "duration": 38720,
    "start_time": "2023-01-29T19:11:35.854Z"
   },
   {
    "duration": 3,
    "start_time": "2023-01-29T19:12:14.575Z"
   },
   {
    "duration": 4,
    "start_time": "2023-01-29T19:12:14.591Z"
   },
   {
    "duration": 12,
    "start_time": "2023-01-29T19:12:14.596Z"
   },
   {
    "duration": 4,
    "start_time": "2023-01-29T19:12:14.610Z"
   },
   {
    "duration": 11,
    "start_time": "2023-01-29T19:12:14.616Z"
   },
   {
    "duration": 37530,
    "start_time": "2023-01-29T19:12:14.628Z"
   },
   {
    "duration": 7,
    "start_time": "2023-01-29T19:12:52.159Z"
   },
   {
    "duration": 12,
    "start_time": "2023-01-29T19:12:52.167Z"
   },
   {
    "duration": 13,
    "start_time": "2023-01-29T19:12:52.181Z"
   },
   {
    "duration": 4,
    "start_time": "2023-01-29T19:12:52.195Z"
   },
   {
    "duration": 95,
    "start_time": "2023-01-29T19:12:52.200Z"
   },
   {
    "duration": 0,
    "start_time": "2023-01-29T19:12:52.296Z"
   },
   {
    "duration": 1,
    "start_time": "2023-01-29T19:12:52.297Z"
   },
   {
    "duration": 0,
    "start_time": "2023-01-29T19:12:52.299Z"
   },
   {
    "duration": 0,
    "start_time": "2023-01-29T19:12:52.300Z"
   },
   {
    "duration": 0,
    "start_time": "2023-01-29T19:12:52.301Z"
   },
   {
    "duration": 0,
    "start_time": "2023-01-29T19:12:52.302Z"
   },
   {
    "duration": 0,
    "start_time": "2023-01-29T19:12:52.303Z"
   },
   {
    "duration": 0,
    "start_time": "2023-01-29T19:12:52.304Z"
   },
   {
    "duration": 3,
    "start_time": "2023-01-29T19:13:22.276Z"
   },
   {
    "duration": 3,
    "start_time": "2023-01-29T19:13:24.432Z"
   },
   {
    "duration": 21,
    "start_time": "2023-01-29T19:13:25.736Z"
   },
   {
    "duration": 7,
    "start_time": "2023-01-29T19:13:28.711Z"
   },
   {
    "duration": 6,
    "start_time": "2023-01-29T19:13:30.193Z"
   },
   {
    "duration": 19,
    "start_time": "2023-01-29T19:13:31.096Z"
   },
   {
    "duration": 6,
    "start_time": "2023-01-29T19:13:32.023Z"
   },
   {
    "duration": 5,
    "start_time": "2023-01-29T19:13:34.072Z"
   },
   {
    "duration": 4,
    "start_time": "2023-01-29T19:13:34.769Z"
   },
   {
    "duration": 1433,
    "start_time": "2023-01-29T19:14:29.564Z"
   },
   {
    "duration": 708,
    "start_time": "2023-01-29T19:14:30.998Z"
   },
   {
    "duration": 3,
    "start_time": "2023-01-29T19:14:31.708Z"
   },
   {
    "duration": 215,
    "start_time": "2023-01-29T19:14:31.712Z"
   },
   {
    "duration": 84,
    "start_time": "2023-01-29T19:14:31.929Z"
   },
   {
    "duration": 176,
    "start_time": "2023-01-29T19:14:32.015Z"
   },
   {
    "duration": 6,
    "start_time": "2023-01-29T19:14:32.193Z"
   },
   {
    "duration": 14,
    "start_time": "2023-01-29T19:14:32.200Z"
   },
   {
    "duration": 10,
    "start_time": "2023-01-29T19:14:32.215Z"
   },
   {
    "duration": 20,
    "start_time": "2023-01-29T19:14:32.226Z"
   },
   {
    "duration": 9,
    "start_time": "2023-01-29T19:14:32.248Z"
   },
   {
    "duration": 18,
    "start_time": "2023-01-29T19:14:32.259Z"
   },
   {
    "duration": 3,
    "start_time": "2023-01-29T19:14:32.291Z"
   },
   {
    "duration": 8,
    "start_time": "2023-01-29T19:14:32.298Z"
   },
   {
    "duration": 18,
    "start_time": "2023-01-29T19:14:32.308Z"
   },
   {
    "duration": 91,
    "start_time": "2023-01-29T19:14:32.327Z"
   },
   {
    "duration": 37,
    "start_time": "2023-01-29T19:14:32.419Z"
   },
   {
    "duration": 286,
    "start_time": "2023-01-29T19:14:32.458Z"
   },
   {
    "duration": 341,
    "start_time": "2023-01-29T19:14:32.746Z"
   },
   {
    "duration": 293,
    "start_time": "2023-01-29T19:14:33.091Z"
   },
   {
    "duration": 9,
    "start_time": "2023-01-29T19:14:33.386Z"
   },
   {
    "duration": 394,
    "start_time": "2023-01-29T19:14:33.396Z"
   },
   {
    "duration": 275,
    "start_time": "2023-01-29T19:14:33.791Z"
   },
   {
    "duration": 4,
    "start_time": "2023-01-29T19:14:34.067Z"
   },
   {
    "duration": 7,
    "start_time": "2023-01-29T19:14:34.072Z"
   },
   {
    "duration": 13,
    "start_time": "2023-01-29T19:14:34.080Z"
   },
   {
    "duration": 13,
    "start_time": "2023-01-29T19:14:34.094Z"
   },
   {
    "duration": 6,
    "start_time": "2023-01-29T19:14:34.108Z"
   },
   {
    "duration": 2785,
    "start_time": "2023-01-29T19:14:34.115Z"
   },
   {
    "duration": 4,
    "start_time": "2023-01-29T19:14:36.992Z"
   },
   {
    "duration": 101,
    "start_time": "2023-01-29T19:14:36.998Z"
   },
   {
    "duration": 11,
    "start_time": "2023-01-29T19:14:37.101Z"
   },
   {
    "duration": 5,
    "start_time": "2023-01-29T19:14:37.114Z"
   },
   {
    "duration": 4,
    "start_time": "2023-01-29T19:14:37.121Z"
   },
   {
    "duration": 39872,
    "start_time": "2023-01-29T19:14:37.126Z"
   },
   {
    "duration": 2,
    "start_time": "2023-01-29T19:15:17.000Z"
   },
   {
    "duration": 9,
    "start_time": "2023-01-29T19:15:17.003Z"
   },
   {
    "duration": 9,
    "start_time": "2023-01-29T19:15:17.013Z"
   },
   {
    "duration": 5,
    "start_time": "2023-01-29T19:15:17.023Z"
   },
   {
    "duration": 5,
    "start_time": "2023-01-29T19:15:17.029Z"
   },
   {
    "duration": 38528,
    "start_time": "2023-01-29T19:15:17.037Z"
   },
   {
    "duration": 6,
    "start_time": "2023-01-29T19:15:55.566Z"
   },
   {
    "duration": 5,
    "start_time": "2023-01-29T19:15:55.574Z"
   },
   {
    "duration": 3,
    "start_time": "2023-01-29T19:15:55.591Z"
   },
   {
    "duration": 8,
    "start_time": "2023-01-29T19:15:55.595Z"
   },
   {
    "duration": 9,
    "start_time": "2023-01-29T19:15:55.604Z"
   },
   {
    "duration": 8,
    "start_time": "2023-01-29T19:15:55.614Z"
   },
   {
    "duration": 21,
    "start_time": "2023-01-29T19:15:55.623Z"
   },
   {
    "duration": 5,
    "start_time": "2023-01-29T19:15:55.645Z"
   },
   {
    "duration": 6,
    "start_time": "2023-01-29T19:15:55.651Z"
   },
   {
    "duration": 18,
    "start_time": "2023-01-29T19:15:55.658Z"
   },
   {
    "duration": 5,
    "start_time": "2023-01-29T19:15:55.691Z"
   },
   {
    "duration": 10,
    "start_time": "2023-01-29T19:15:55.697Z"
   },
   {
    "duration": 8,
    "start_time": "2023-01-29T19:15:55.708Z"
   }
  ],
  "kernelspec": {
   "display_name": "Python 3 (ipykernel)",
   "language": "python",
   "name": "python3"
  },
  "language_info": {
   "codemirror_mode": {
    "name": "ipython",
    "version": 3
   },
   "file_extension": ".py",
   "mimetype": "text/x-python",
   "name": "python",
   "nbconvert_exporter": "python",
   "pygments_lexer": "ipython3",
   "version": "3.9.13"
  },
  "toc": {
   "base_numbering": 1,
   "nav_menu": {},
   "number_sections": true,
   "sideBar": true,
   "skip_h1_title": true,
   "title_cell": "Содержание",
   "title_sidebar": "Contents",
   "toc_cell": true,
   "toc_position": {
    "height": "calc(100% - 180px)",
    "left": "10px",
    "top": "150px",
    "width": "165px"
   },
   "toc_section_display": true,
   "toc_window_display": true
  }
 },
 "nbformat": 4,
 "nbformat_minor": 2
}
